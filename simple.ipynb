{
 "cells": [
  {
   "cell_type": "markdown",
   "id": "8a77807f92f26ee",
   "metadata": {},
   "source": [
    "## Introduction\n",
    "\n",
    "This tutorial demonstrates how to create an interactive dashboard for visualizing relationships between economic development, population growth, CO2 emissions, and climate change. The dashboard combines multiple visualization techniques to tell a compelling data story through an intuitive, interactive interface.\n",
    "\n",
    "By the end of this tutorial, you'll learn:\n",
    "- How to implement and combine different visualization types\n",
    "- When to use each visualization technique for effective data storytelling\n",
    "- How to create interactive elements using Dash and Plotly\n",
    "- Best practices for dashboard design and implementation"
   ]
  },
  {
   "cell_type": "code",
   "execution_count": 1,
   "id": "1a984493cbb8d7b",
   "metadata": {
    "ExecuteTime": {
     "end_time": "2025-03-22T16:28:12.595048Z",
     "start_time": "2025-03-22T16:28:10.644982Z"
    }
   },
   "outputs": [],
   "source": [
    "import pandas as pd\n",
    "import plotly.express as px\n",
    "import plotly.graph_objects as go\n",
    "import dash\n",
    "import glob\n",
    "from dash import dcc, html, Input, Output\n",
    "import dash_bootstrap_components as dbc\n",
    "import os\n",
    "# Set the data directory\n",
    "DATA_DIR = \"Data\""
   ]
  },
  {
   "cell_type": "markdown",
   "id": "92511062aa5334ec",
   "metadata": {},
   "source": [
    "## Step 1: Loading and Processing GDP and Population Data\n",
    "\n",
    "**Purpose:**\n",
    "Load and prepare economic and population data sourced from the World Bank for further analysis.\n",
    "\n",
    "**Processing Steps:**\n",
    "\n",
    "- **Import Data:**\n",
    "  - Read World Bank CSV data from the `Data` directory.\n",
    "\n",
    "- **Transform Data:**\n",
    "  - Convert the data from wide format (years as columns) to long format using `pandas.melt()`.\n",
    "  - Extract numerical year values and ensure they're integers.\n",
    "  - Convert non-numeric entries to numeric values, marking invalid entries as `NaN`.\n",
    "\n",
    "- **Pivot Data:**\n",
    "  - Pivot the data into a clear structure with individual economic metrics as separate columns.\n",
    "\n",
    "**Example Code:**\n",
    "```python\n",
    "df_long = pd.melt(\n",
    "    df,\n",
    "    id_vars=['Country Name', 'Country Code', 'Series Name', 'Series Code'],\n",
    "    var_name='Year',\n",
    "    value_name='Value'\n",
    ")\n",
    "\n",
    "df_long['Year'] = df_long['Year'].str.extract(r'(\\d{4})').astype(int)\n",
    "df_long['Value'] = pd.to_numeric(df_long['Value'], errors='coerce')\n",
    "\n",
    "df_pivot = df_long.pivot_table(\n",
    "    index=['Country Name', 'Country Code', 'Year'],\n",
    "    columns='Series Name',\n",
    "    values='Value'\n",
    ").reset_index()"
   ]
  },
  {
   "cell_type": "code",
   "execution_count": 2,
   "id": "7df9140457caed5e",
   "metadata": {
    "ExecuteTime": {
     "end_time": "2025-03-22T16:28:16.668745Z",
     "start_time": "2025-03-22T16:28:16.663693Z"
    }
   },
   "outputs": [],
   "source": [
    "# Load GDP and Population data\n",
    "def load_worldbank_data():\n",
    "    # Look for World Bank data files in the Data directory\n",
    "    wb_files = glob.glob(os.path.join(DATA_DIR, \"9e282781-6439-45eb-9429-239b07b477e9_Data.csv\"))\n",
    "\n",
    "    if not wb_files:\n",
    "        print(\"No World Bank data files found in Data directory.\")\n",
    "        return None\n",
    "\n",
    "    # Use the first file found\n",
    "    file_path = wb_files[0]\n",
    "    print(f\"Loading World Bank data from: {file_path}\")\n",
    "\n",
    "    # Read the file based on extension\n",
    "    if file_path.endswith('.xlsx'):\n",
    "        df = pd.read_excel(file_path)\n",
    "    else:\n",
    "        df = pd.read_csv(file_path)\n",
    "\n",
    "    # Melt the data from wide to long format\n",
    "    id_vars = ['Country Name', 'Country Code', 'Series Name', 'Series Code']\n",
    "    year_cols = [col for col in df.columns if str(col).startswith('19') or str(col).startswith('20')]\n",
    "\n",
    "    print(f\"Processing years: {year_cols}\")\n",
    "\n",
    "    df_long = pd.melt(\n",
    "        df,\n",
    "        id_vars=id_vars,\n",
    "        value_vars=year_cols,\n",
    "        var_name='Year',\n",
    "        value_name='Value'\n",
    "    )\n",
    "\n",
    "    # Clean up year column - extract numeric year\n",
    "    df_long['Year'] = df_long['Year'].str.extract(r'(\\d{4})').astype(int) if df_long['Year'].dtype == 'object' else df_long['Year']\n",
    "\n",
    "    # Convert Value column to numeric, replacing non-numeric values with NaN\n",
    "    df_long['Value'] = pd.to_numeric(df_long['Value'], errors='coerce')\n",
    "\n",
    "    # Pivot to have series as columns\n",
    "    df_pivot = df_long.pivot_table(\n",
    "        index=['Country Name', 'Country Code', 'Year'],\n",
    "        columns='Series Name',\n",
    "        values='Value',\n",
    "        aggfunc='first'  # Use 'first' instead of default 'mean'\n",
    "    ).reset_index()\n",
    "\n",
    "    # Rename columns for clarity\n",
    "    df_pivot.columns.name = None\n",
    "\n",
    "    return df_pivot"
   ]
  },
  {
   "cell_type": "markdown",
   "id": "dc596a5eadd3fb51",
   "metadata": {},
   "source": [
    "## Step 2: Loading and Processing CO₂ Emissions Data\n",
    "**Purpose:**\n",
    "Integrate CO₂ emissions data from global databases such as Our World in Data or the Global Carbon Project.\n",
    "\n",
    "**Processing Steps:**\n",
    "\n",
    "- **Import Data:**\n",
    "   - Load CO₂ emissions data CSV from the Data directory.\n",
    "\n",
    "- **Data Cleaning:**\n",
    "\n",
    "  - Identify essential columns (Country Name, Country Code, Year, CO₂ Emissions).\n",
    "\n",
    "  - Standardize column names for consistency.\n",
    "\n",
    "  - Adapt to variations in dataset formats from different sources.\n",
    "\n",
    "**Example Code:**\n",
    "\n",
    "```python\n",
    "df = pd.read_csv(file_path)\n",
    "\n",
    "# Standardize columns\n",
    "df = df.rename(columns={\n",
    "    'Entity': 'Country Name',\n",
    "    'Code': 'Country Code',\n",
    "    'Year': 'Year',\n",
    "    co2_column: 'CO2 Emissions (kt)'\n",
    "})\n",
    "\n",
    "df = df[['Country Name', 'Country Code', 'Year', 'CO2 Emissions (kt)']]"
   ]
  },
  {
   "cell_type": "code",
   "execution_count": 3,
   "id": "9bd30ec8527b523f",
   "metadata": {
    "ExecuteTime": {
     "end_time": "2025-03-22T16:28:19.760309Z",
     "start_time": "2025-03-22T16:28:19.756002Z"
    }
   },
   "outputs": [],
   "source": [
    "# Function to load CO2 emissions data\n",
    "def load_co2_data():\n",
    "    # Look for CO2 data files in the Data directory\n",
    "    co2_files = glob.glob(os.path.join(DATA_DIR, \"*co2*.csv\")) or \\\n",
    "                glob.glob(os.path.join(DATA_DIR, \"*carbon*.csv\")) or \\\n",
    "                glob.glob(os.path.join(DATA_DIR, \"*emission*.csv\"))\n",
    "\n",
    "    if not co2_files:\n",
    "        print(\"No CO2 data files found in Data directory.\")\n",
    "        return None\n",
    "\n",
    "    # Use the first file found\n",
    "    file_path = co2_files[0]\n",
    "    print(f\"Loading CO2 data from: {file_path}\")\n",
    "\n",
    "    # Read the data\n",
    "    df = pd.read_csv(file_path)\n",
    "\n",
    "    # Different CO2 data sources have different formats\n",
    "    # Check for Our World in Data format\n",
    "    if 'Entity' in df.columns and 'Code' in df.columns:\n",
    "        # Our World in Data format\n",
    "        co2_column = next((col for col in df.columns if \"co2\" in col.lower() or \"emission\" in col.lower()), None)\n",
    "\n",
    "        if co2_column:\n",
    "            df = df.rename(columns={\n",
    "                'Entity': 'Country Name',\n",
    "                'Code': 'Country Code',\n",
    "                'Year': 'Year',\n",
    "                co2_column: 'CO2 Emissions (kt)'\n",
    "            })\n",
    "            df = df[['Country Name', 'Country Code', 'Year', 'CO2 Emissions (kt)']]\n",
    "\n",
    "    # Check for Global Carbon Project format\n",
    "    elif 'country' in df.columns and 'year' in df.columns:\n",
    "        emission_col = next((col for col in df.columns if \"co2\" in col.lower() or \"emission\" in col.lower()), None)\n",
    "\n",
    "        if emission_col:\n",
    "            df = df.rename(columns={\n",
    "                'country': 'Country Name',\n",
    "                'iso_code': 'Country Code' if 'iso_code' in df.columns else None,\n",
    "                'year': 'Year',\n",
    "                emission_col: 'CO2 Emissions (kt)'\n",
    "            })\n",
    "            cols = ['Country Name', 'Year', 'CO2 Emissions (kt)']\n",
    "            if 'Country Code' in df.columns:\n",
    "                cols.insert(1, 'Country Code')\n",
    "            df = df[cols]\n",
    "\n",
    "    return df"
   ]
  },
  {
   "cell_type": "code",
   "execution_count": 4,
   "id": "669f26e67d7cf602",
   "metadata": {
    "ExecuteTime": {
     "end_time": "2025-03-22T16:28:22.713968Z",
     "start_time": "2025-03-22T16:28:22.709252Z"
    }
   },
   "outputs": [],
   "source": [
    "def load_temperature_data():\n",
    "    # Look for temperature data files in the Data directory\n",
    "    temp_files = glob.glob(os.path.join(DATA_DIR, \"*temp*.csv\")) or \\\n",
    "                 glob.glob(os.path.join(DATA_DIR, \"*climate*.csv\")) or \\\n",
    "                 glob.glob(os.path.join(DATA_DIR, \"*berkeley*.csv\"))\n",
    "\n",
    "    if not temp_files:\n",
    "        print(\"No temperature data files found in Data directory.\")\n",
    "        return None\n",
    "\n",
    "    # Use the first file found\n",
    "    file_path = temp_files[0]\n",
    "    print(f\"Loading temperature data from: {file_path}\")\n",
    "\n",
    "    # Read the data\n",
    "    df = pd.read_csv(file_path)\n",
    "\n",
    "    # Print column names to help diagnose the issue\n",
    "    print(f\"Temperature data columns: {df.columns.tolist()}\")\n",
    "\n",
    "    # Check for date/time column variations\n",
    "    date_cols = [col for col in df.columns if any(date_term in col.lower()\n",
    "                                                  for date_term in ['year', 'date', 'time', 'dt'])]\n",
    "\n",
    "    if date_cols:\n",
    "        print(f\"Found potential date columns: {date_cols}\")\n",
    "        date_col = date_cols[0]  # Use the first date-like column\n",
    "\n",
    "        # Check if it's a datetime column and convert to datetime if needed\n",
    "        if pd.api.types.is_object_dtype(df[date_col]):\n",
    "            try:\n",
    "                df['Year'] = pd.to_datetime(df[date_col]).dt.year\n",
    "                print(f\"Extracted years from {date_col} column\")\n",
    "            except Exception as e:\n",
    "                print(f\"Error extracting year from {date_col}: {e}\")\n",
    "                return None\n",
    "        else:\n",
    "            # Just rename the column\n",
    "            df = df.rename(columns={date_col: 'Year'})\n",
    "\n",
    "        # Look for temperature column\n",
    "        temp_cols = [col for col in df.columns if any(temp_term in col.lower()\n",
    "                                                      for temp_term in ['temp', 'anomaly', 'land', 'ocean'])]\n",
    "\n",
    "        if temp_cols:\n",
    "            # Prefer LandAndOceanAverageTemperature if available\n",
    "            if 'LandAndOceanAverageTemperature' in temp_cols:\n",
    "                temp_col = 'LandAndOceanAverageTemperature'\n",
    "            else:\n",
    "                temp_col = temp_cols[0]\n",
    "\n",
    "            print(f\"Using temperature column: {temp_col}\")\n",
    "\n",
    "            # Create a new dataframe with just the columns we need\n",
    "            new_df = df[['Year', temp_col]].copy()\n",
    "            new_df = new_df.rename(columns={temp_col: 'Temperature Anomaly'})\n",
    "\n",
    "            # Drop rows with missing temperature data\n",
    "            new_df = new_df.dropna()\n",
    "\n",
    "            # Group by year to get annual averages if data is monthly\n",
    "            if len(new_df) > 500:  # Likely monthly data\n",
    "                print(\"Converting monthly temperature data to annual averages\")\n",
    "                new_df = new_df.groupby('Year')['Temperature Anomaly'].mean().reset_index()\n",
    "\n",
    "            return new_df\n",
    "\n",
    "    print(\"Warning: Could not identify year and temperature columns in the data.\")\n",
    "    return None"
   ]
  },
  {
   "cell_type": "code",
   "execution_count": 5,
   "id": "initial_id",
   "metadata": {
    "ExecuteTime": {
     "end_time": "2025-03-22T16:28:25.164158Z",
     "start_time": "2025-03-22T16:28:25.160247Z"
    },
    "collapsed": true
   },
   "outputs": [],
   "source": [
    "def create_merged_dataset(gdp_pop_df=None, co2_df=None, temp_df=None):\n",
    "    # Start with GDP/Population data if available\n",
    "    if gdp_pop_df is not None:\n",
    "        merged_df = gdp_pop_df.copy()\n",
    "\n",
    "        # Merge with CO2 data if available\n",
    "        if co2_df is not None:\n",
    "            # Ensure consistent 'Year' type for merging\n",
    "            merged_df['Year'] = merged_df['Year'].astype(int)\n",
    "            co2_df['Year'] = co2_df['Year'].astype(int)\n",
    "\n",
    "            # Check if 'Country Code' is available for merging\n",
    "            if 'Country Code' in co2_df.columns:\n",
    "                merged_df = pd.merge(\n",
    "                    merged_df,\n",
    "                    co2_df,\n",
    "                    on=['Country Name', 'Country Code', 'Year'],\n",
    "                    how='outer'\n",
    "                )\n",
    "            else:\n",
    "                # Merge on Country Name and Year only\n",
    "                merged_df = pd.merge(\n",
    "                    merged_df,\n",
    "                    co2_df,\n",
    "                    on=['Country Name', 'Year'],\n",
    "                    how='outer'\n",
    "                )\n",
    "    else:\n",
    "        # Start with CO2 data if GDP/Population not available\n",
    "        if co2_df is not None:\n",
    "            merged_df = co2_df.copy()\n",
    "        else:\n",
    "            print(\"No GDP/Population or CO2 data available for merging.\")\n",
    "            return None\n",
    "\n",
    "    # Merge with temperature data if available\n",
    "    if temp_df is not None and 'Year' in temp_df.columns:\n",
    "        # Ensure consistent 'Year' type for merging\n",
    "        merged_df['Year'] = merged_df['Year'].astype(int)\n",
    "        # No need to convert temp_df['Year'] since it's already an int from the load_temperature_data function\n",
    "\n",
    "        # Temperature data is typically global, so merge on Year only\n",
    "        merged_df = pd.merge(\n",
    "            merged_df,\n",
    "            temp_df,\n",
    "            on='Year',\n",
    "            how='left'\n",
    "        )\n",
    "\n",
    "    # Calculate derived metrics\n",
    "    if all(col in merged_df.columns for col in ['GDP (Current US$)', 'Population, total']):\n",
    "        # GDP per capita\n",
    "        merged_df['GDP per capita'] = merged_df['GDP (Current US$)'] / merged_df['Population, total']\n",
    "\n",
    "    if all(col in merged_df.columns for col in ['CO2 Emissions (kt)', 'Population, total']):\n",
    "        # CO2 per capita (tonnes per person)\n",
    "        merged_df['CO2 per capita'] = merged_df['CO2 Emissions (kt)'] / merged_df['Population, total'] * 1000\n",
    "\n",
    "    if all(col in merged_df.columns for col in ['CO2 Emissions (kt)', 'GDP (Current US$)']):\n",
    "        # CO2 intensity (kg per $ of GDP)\n",
    "        merged_df['CO2 intensity'] = merged_df['CO2 Emissions (kt)'] * 1000000 / merged_df['GDP (Current US$)']\n",
    "\n",
    "    return merged_df"
   ]
  },
  {
   "cell_type": "code",
   "execution_count": 6,
   "id": "755546e78ff3437d",
   "metadata": {
    "ExecuteTime": {
     "end_time": "2025-03-22T16:28:27.387703Z",
     "start_time": "2025-03-22T16:28:27.236293Z"
    }
   },
   "outputs": [
    {
     "name": "stdout",
     "output_type": "stream",
     "text": [
      "Loading World Bank data from: Data\\9e282781-6439-45eb-9429-239b07b477e9_Data.csv\n",
      "Processing years: ['1960 [YR1960]', '1961 [YR1961]', '1962 [YR1962]', '1963 [YR1963]', '1964 [YR1964]', '1965 [YR1965]', '1966 [YR1966]', '1967 [YR1967]', '1968 [YR1968]', '1969 [YR1969]', '1970 [YR1970]', '1971 [YR1971]', '1972 [YR1972]', '1973 [YR1973]', '1974 [YR1974]', '1975 [YR1975]', '1976 [YR1976]', '1977 [YR1977]', '1978 [YR1978]', '1979 [YR1979]', '1980 [YR1980]', '1981 [YR1981]', '1982 [YR1982]', '1983 [YR1983]', '1984 [YR1984]', '1985 [YR1985]', '1986 [YR1986]', '1987 [YR1987]', '1988 [YR1988]', '1989 [YR1989]', '1990 [YR1990]', '1991 [YR1991]', '1992 [YR1992]', '1993 [YR1993]', '1994 [YR1994]', '1995 [YR1995]', '1996 [YR1996]', '1997 [YR1997]', '1998 [YR1998]', '1999 [YR1999]', '2000 [YR2000]', '2001 [YR2001]', '2002 [YR2002]', '2003 [YR2003]', '2004 [YR2004]', '2005 [YR2005]', '2006 [YR2006]', '2007 [YR2007]', '2008 [YR2008]', '2009 [YR2009]', '2010 [YR2010]', '2011 [YR2011]', '2012 [YR2012]', '2013 [YR2013]', '2014 [YR2014]', '2015 [YR2015]', '2016 [YR2016]', '2017 [YR2017]', '2018 [YR2018]', '2019 [YR2019]', '2020 [YR2020]', '2021 [YR2021]', '2022 [YR2022]', '2023 [YR2023]']\n",
      "Loading CO2 data from: Data\\annual-co2-emissions-per-country.csv\n",
      "Loading temperature data from: Data\\GlobalTemperatures.csv\n",
      "Temperature data columns: ['dt', 'LandAverageTemperature', 'LandAverageTemperatureUncertainty', 'LandMaxTemperature', 'LandMaxTemperatureUncertainty', 'LandMinTemperature', 'LandMinTemperatureUncertainty', 'LandAndOceanAverageTemperature', 'LandAndOceanAverageTemperatureUncertainty']\n",
      "Found potential date columns: ['dt']\n",
      "Error extracting year from dt: time data \"1/1/1900\" doesn't match format \"%Y-%m-%d\", at position 1800. You might want to try:\n",
      "    - passing `format` if your strings have a consistent format;\n",
      "    - passing `format='ISO8601'` if your strings are all ISO8601 but not necessarily in exactly the same format;\n",
      "    - passing `format='mixed'`, and the format will be inferred for each element individually. You might want to use `dayfirst` alongside this.\n"
     ]
    }
   ],
   "source": [
    "gdp_pop_df = load_worldbank_data()\n",
    "co2_df = load_co2_data()\n",
    "temp_df = load_temperature_data()\n",
    "df = create_merged_dataset(gdp_pop_df, co2_df, temp_df)\n",
    "\n",
    "# Initialize the Dash app\n",
    "app = dash.Dash(__name__, external_stylesheets=[dbc.themes.BOOTSTRAP])\n",
    "\n",
    "# Define available metrics for visualization\n",
    "metrics = {\n",
    "    'GDP (Current US$)': 'GDP (Current US$)',\n",
    "    'Population, total': 'Population',\n",
    "    'CO2 Emissions (kt)': 'CO2 Emissions',\n",
    "    'GDP per capita': 'GDP per Capita',\n",
    "    'CO2 per capita': 'CO2 per Capita',\n",
    "    'CO2 intensity': 'CO2 Intensity',\n",
    "    'Temperature Anomaly': 'Temperature Anomaly'\n",
    "}\n",
    "\n",
    "# Get list of countries and years\n",
    "countries = sorted(df['Country Name'].unique())\n",
    "years = sorted(df['Year'].unique())"
   ]
  },
  {
   "cell_type": "code",
   "execution_count": 7,
   "id": "39241caab9b64545",
   "metadata": {
    "ExecuteTime": {
     "end_time": "2025-03-22T16:28:29.486444Z",
     "start_time": "2025-03-22T16:28:29.469617Z"
    }
   },
   "outputs": [
    {
     "data": {
      "text/html": [
       "<div>\n",
       "<style scoped>\n",
       "    .dataframe tbody tr th:only-of-type {\n",
       "        vertical-align: middle;\n",
       "    }\n",
       "\n",
       "    .dataframe tbody tr th {\n",
       "        vertical-align: top;\n",
       "    }\n",
       "\n",
       "    .dataframe thead th {\n",
       "        text-align: right;\n",
       "    }\n",
       "</style>\n",
       "<table border=\"1\" class=\"dataframe\">\n",
       "  <thead>\n",
       "    <tr style=\"text-align: right;\">\n",
       "      <th></th>\n",
       "      <th>Country Name</th>\n",
       "      <th>Country Code</th>\n",
       "      <th>Year</th>\n",
       "      <th>GDP (current US$)</th>\n",
       "      <th>Population, total</th>\n",
       "      <th>CO2 Emissions (kt)</th>\n",
       "      <th>CO2 per capita</th>\n",
       "    </tr>\n",
       "  </thead>\n",
       "  <tbody>\n",
       "    <tr>\n",
       "      <th>0</th>\n",
       "      <td>Afghanistan</td>\n",
       "      <td>AFG</td>\n",
       "      <td>1949</td>\n",
       "      <td>NaN</td>\n",
       "      <td>NaN</td>\n",
       "      <td>14656.0</td>\n",
       "      <td>NaN</td>\n",
       "    </tr>\n",
       "    <tr>\n",
       "      <th>1</th>\n",
       "      <td>Afghanistan</td>\n",
       "      <td>AFG</td>\n",
       "      <td>1950</td>\n",
       "      <td>NaN</td>\n",
       "      <td>NaN</td>\n",
       "      <td>84272.0</td>\n",
       "      <td>NaN</td>\n",
       "    </tr>\n",
       "    <tr>\n",
       "      <th>2</th>\n",
       "      <td>Afghanistan</td>\n",
       "      <td>AFG</td>\n",
       "      <td>1951</td>\n",
       "      <td>NaN</td>\n",
       "      <td>NaN</td>\n",
       "      <td>91600.0</td>\n",
       "      <td>NaN</td>\n",
       "    </tr>\n",
       "    <tr>\n",
       "      <th>3</th>\n",
       "      <td>Afghanistan</td>\n",
       "      <td>AFG</td>\n",
       "      <td>1952</td>\n",
       "      <td>NaN</td>\n",
       "      <td>NaN</td>\n",
       "      <td>91600.0</td>\n",
       "      <td>NaN</td>\n",
       "    </tr>\n",
       "    <tr>\n",
       "      <th>4</th>\n",
       "      <td>Afghanistan</td>\n",
       "      <td>AFG</td>\n",
       "      <td>1953</td>\n",
       "      <td>NaN</td>\n",
       "      <td>NaN</td>\n",
       "      <td>106256.0</td>\n",
       "      <td>NaN</td>\n",
       "    </tr>\n",
       "  </tbody>\n",
       "</table>\n",
       "</div>"
      ],
      "text/plain": [
       "  Country Name Country Code  Year  GDP (current US$)  Population, total  \\\n",
       "0  Afghanistan          AFG  1949                NaN                NaN   \n",
       "1  Afghanistan          AFG  1950                NaN                NaN   \n",
       "2  Afghanistan          AFG  1951                NaN                NaN   \n",
       "3  Afghanistan          AFG  1952                NaN                NaN   \n",
       "4  Afghanistan          AFG  1953                NaN                NaN   \n",
       "\n",
       "   CO2 Emissions (kt)  CO2 per capita  \n",
       "0             14656.0             NaN  \n",
       "1             84272.0             NaN  \n",
       "2             91600.0             NaN  \n",
       "3             91600.0             NaN  \n",
       "4            106256.0             NaN  "
      ]
     },
     "execution_count": 7,
     "metadata": {},
     "output_type": "execute_result"
    }
   ],
   "source": [
    "df.head()"
   ]
  },
  {
   "cell_type": "markdown",
   "id": "6041aad6d6b6c3cc",
   "metadata": {},
   "source": [
    "### Multiple Chart Types Working Together\n",
    "\n",
    "Our dashboard leverages four complementary visualization types to provide multiple perspectives on the climate and economic development data:\n",
    "\n",
    "#### 1. Choropleth Map\n",
    "The choropleth map provides a geographic view of our data, color-coding countries based on the selected metric. This visualization gives users an immediate global perspective on the distribution of values across different regions.\n",
    "\n",
    "**Best Use Cases:**\n",
    "- Showing geographic patterns and regional variations\n",
    "- Identifying outlier countries or regions\n",
    "- Providing context for country-specific analyses"
   ]
  },
  {
   "cell_type": "code",
   "execution_count": 8,
   "id": "5334b398352ceba2",
   "metadata": {
    "ExecuteTime": {
     "end_time": "2025-03-22T16:28:34.027070Z",
     "start_time": "2025-03-22T16:28:33.281232Z"
    }
   },
   "outputs": [
    {
     "data": {
      "application/vnd.plotly.v1+json": {
       "config": {
        "plotlyServerURL": "https://plot.ly"
       },
       "data": [
        {
         "coloraxis": "coloraxis",
         "geo": "geo",
         "hovertemplate": "<b>%{hovertext}</b><br><br>Country Code=%{location}<br>CO2 Emissions (kt)=%{z}<extra></extra>",
         "hovertext": [
          "Afghanistan",
          "Africa",
          "Africa (GCP)",
          "Albania",
          "Algeria",
          "Andorra",
          "Angola",
          "Anguilla",
          "Antarctica",
          "Antigua and Barbuda",
          "Argentina",
          "Armenia",
          "Aruba",
          "Asia",
          "Asia (GCP)",
          "Asia (excl. China and India)",
          "Australia",
          "Austria",
          "Azerbaijan",
          "Bahamas",
          "Bahrain",
          "Bangladesh",
          "Barbados",
          "Belarus",
          "Belgium",
          "Belize",
          "Benin",
          "Bermuda",
          "Bhutan",
          "Bolivia",
          "Bonaire Sint Eustatius and Saba",
          "Bosnia and Herzegovina",
          "Botswana",
          "Brazil",
          "British Virgin Islands",
          "Brunei",
          "Bulgaria",
          "Burkina Faso",
          "Burundi",
          "Cambodia",
          "Cameroon",
          "Canada",
          "Cape Verde",
          "Central African Republic",
          "Central America (GCP)",
          "Chad",
          "Chile",
          "China",
          "Christmas Island",
          "Colombia",
          "Comoros",
          "Congo",
          "Cook Islands",
          "Costa Rica",
          "Cote d'Ivoire",
          "Croatia",
          "Cuba",
          "Curacao",
          "Cyprus",
          "Czechia",
          "Democratic Republic of Congo",
          "Denmark",
          "Djibouti",
          "Dominica",
          "Dominican Republic",
          "East Timor",
          "Ecuador",
          "Egypt",
          "El Salvador",
          "Equatorial Guinea",
          "Eritrea",
          "Estonia",
          "Eswatini",
          "Ethiopia",
          "Europe",
          "Europe (GCP)",
          "Europe (excl. EU-27)",
          "Europe (excl. EU-28)",
          "European Union (27)",
          "European Union (28)",
          "Faroe Islands",
          "Fiji",
          "Finland",
          "France",
          "French Polynesia",
          "Gabon",
          "Gambia",
          "Georgia",
          "Germany",
          "Ghana",
          "Greece",
          "Greenland",
          "Grenada",
          "Guatemala",
          "Guinea",
          "Guinea-Bissau",
          "Guyana",
          "Haiti",
          "High-income countries",
          "Honduras",
          "Hong Kong",
          "Hungary",
          "Iceland",
          "India",
          "Indonesia",
          "International aviation",
          "International shipping",
          "Iran",
          "Iraq",
          "Ireland",
          "Israel",
          "Italy",
          "Jamaica",
          "Japan",
          "Jordan",
          "Kazakhstan",
          "Kenya",
          "Kiribati",
          "Kosovo",
          "Kuwait",
          "Kuwaiti Oil Fires (GCP)",
          "Kyrgyzstan",
          "Laos",
          "Latvia",
          "Lebanon",
          "Lesotho",
          "Liberia",
          "Libya",
          "Liechtenstein",
          "Lithuania",
          "Low-income countries",
          "Lower-middle-income countries",
          "Luxembourg",
          "Macao",
          "Madagascar",
          "Malawi",
          "Malaysia",
          "Maldives",
          "Mali",
          "Malta",
          "Marshall Islands",
          "Mauritania",
          "Mauritius",
          "Mexico",
          "Micronesia (country)",
          "Middle East (GCP)",
          "Moldova",
          "Mongolia",
          "Montenegro",
          "Montserrat",
          "Morocco",
          "Mozambique",
          "Myanmar",
          "Namibia",
          "Nauru",
          "Nepal",
          "Netherlands",
          "New Caledonia",
          "New Zealand",
          "Nicaragua",
          "Niger",
          "Nigeria",
          "Niue",
          "Non-OECD (GCP)",
          "North America",
          "North America (GCP)",
          "North America (excl. USA)",
          "North Korea",
          "North Macedonia",
          "Norway",
          "OECD (GCP)",
          "Oceania",
          "Oceania (GCP)",
          "Oman",
          "Pakistan",
          "Palau",
          "Palestine",
          "Panama",
          "Papua New Guinea",
          "Paraguay",
          "Peru",
          "Philippines",
          "Poland",
          "Portugal",
          "Qatar",
          "Romania",
          "Russia",
          "Rwanda",
          "Ryukyu Islands (GCP)",
          "Saint Helena",
          "Saint Kitts and Nevis",
          "Saint Lucia",
          "Saint Pierre and Miquelon",
          "Saint Vincent and the Grenadines",
          "Samoa",
          "Sao Tome and Principe",
          "Saudi Arabia",
          "Senegal",
          "Serbia",
          "Seychelles",
          "Sierra Leone",
          "Singapore",
          "Sint Maarten (Dutch part)",
          "Slovakia",
          "Slovenia",
          "Solomon Islands",
          "Somalia",
          "South Africa",
          "South America",
          "South America (GCP)",
          "South Korea",
          "South Sudan",
          "Spain",
          "Sri Lanka",
          "Sudan",
          "Suriname",
          "Sweden",
          "Switzerland",
          "Syria",
          "Taiwan",
          "Tajikistan",
          "Tanzania",
          "Thailand",
          "Togo",
          "Tonga",
          "Trinidad and Tobago",
          "Tunisia",
          "Turkey",
          "Turkmenistan",
          "Turks and Caicos Islands",
          "Tuvalu",
          "Uganda",
          "Ukraine",
          "United Arab Emirates",
          "United Kingdom",
          "United States",
          "Upper-middle-income countries",
          "Uruguay",
          "Uzbekistan",
          "Vanuatu",
          "Venezuela",
          "Vietnam",
          "Wallis and Futuna",
          "World",
          "Yemen",
          "Zambia",
          "Zimbabwe"
         ],
         "locations": [
          "AFG",
          null,
          null,
          "ALB",
          "DZA",
          "AND",
          "AGO",
          "AIA",
          "ATA",
          "ATG",
          "ARG",
          "ARM",
          "ABW",
          null,
          null,
          null,
          "AUS",
          "AUT",
          "AZE",
          "BHS",
          "BHR",
          "BGD",
          "BRB",
          "BLR",
          "BEL",
          "BLZ",
          "BEN",
          "BMU",
          "BTN",
          "BOL",
          "BES",
          "BIH",
          "BWA",
          "BRA",
          "VGB",
          "BRN",
          "BGR",
          "BFA",
          "BDI",
          "KHM",
          "CMR",
          "CAN",
          "CPV",
          "CAF",
          null,
          "TCD",
          "CHL",
          "CHN",
          "CXR",
          "COL",
          "COM",
          "COG",
          "COK",
          "CRI",
          "CIV",
          "HRV",
          "CUB",
          "CUW",
          "CYP",
          "CZE",
          "COD",
          "DNK",
          "DJI",
          "DMA",
          "DOM",
          "TLS",
          "ECU",
          "EGY",
          "SLV",
          "GNQ",
          "ERI",
          "EST",
          "SWZ",
          "ETH",
          null,
          null,
          null,
          null,
          null,
          null,
          "FRO",
          "FJI",
          "FIN",
          "FRA",
          "PYF",
          "GAB",
          "GMB",
          "GEO",
          "DEU",
          "GHA",
          "GRC",
          "GRL",
          "GRD",
          "GTM",
          "GIN",
          "GNB",
          "GUY",
          "HTI",
          null,
          "HND",
          "HKG",
          "HUN",
          "ISL",
          "IND",
          "IDN",
          null,
          null,
          "IRN",
          "IRQ",
          "IRL",
          "ISR",
          "ITA",
          "JAM",
          "JPN",
          "JOR",
          "KAZ",
          "KEN",
          "KIR",
          "OWID_KOS",
          "KWT",
          null,
          "KGZ",
          "LAO",
          "LVA",
          "LBN",
          "LSO",
          "LBR",
          "LBY",
          "LIE",
          "LTU",
          null,
          null,
          "LUX",
          "MAC",
          "MDG",
          "MWI",
          "MYS",
          "MDV",
          "MLI",
          "MLT",
          "MHL",
          "MRT",
          "MUS",
          "MEX",
          "FSM",
          null,
          "MDA",
          "MNG",
          "MNE",
          "MSR",
          "MAR",
          "MOZ",
          "MMR",
          "NAM",
          "NRU",
          "NPL",
          "NLD",
          "NCL",
          "NZL",
          "NIC",
          "NER",
          "NGA",
          "NIU",
          null,
          null,
          null,
          null,
          "PRK",
          "MKD",
          "NOR",
          null,
          null,
          null,
          "OMN",
          "PAK",
          "PLW",
          "PSE",
          "PAN",
          "PNG",
          "PRY",
          "PER",
          "PHL",
          "POL",
          "PRT",
          "QAT",
          "ROU",
          "RUS",
          "RWA",
          null,
          "SHN",
          "KNA",
          "LCA",
          "SPM",
          "VCT",
          "WSM",
          "STP",
          "SAU",
          "SEN",
          "SRB",
          "SYC",
          "SLE",
          "SGP",
          "SXM",
          "SVK",
          "SVN",
          "SLB",
          "SOM",
          "ZAF",
          null,
          null,
          "KOR",
          "SSD",
          "ESP",
          "LKA",
          "SDN",
          "SUR",
          "SWE",
          "CHE",
          "SYR",
          "TWN",
          "TJK",
          "TZA",
          "THA",
          "TGO",
          "TON",
          "TTO",
          "TUN",
          "TUR",
          "TKM",
          "TCA",
          "TUV",
          "UGA",
          "UKR",
          "ARE",
          "GBR",
          "USA",
          null,
          "URY",
          "UZB",
          "VUT",
          "VEN",
          "VNM",
          "WLF",
          "OWID_WRL",
          "YEM",
          "ZMB",
          "ZWE"
         ],
         "name": "",
         "type": "choropleth",
         "z": {
          "bdata": "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",
          "dtype": "f8"
         }
        }
       ],
       "layout": {
        "coloraxis": {
         "colorbar": {
          "title": {
           "text": "CO2 Emissions"
          }
         },
         "colorscale": [
          [
           0,
           "#0d0887"
          ],
          [
           0.1111111111111111,
           "#46039f"
          ],
          [
           0.2222222222222222,
           "#7201a8"
          ],
          [
           0.3333333333333333,
           "#9c179e"
          ],
          [
           0.4444444444444444,
           "#bd3786"
          ],
          [
           0.5555555555555556,
           "#d8576b"
          ],
          [
           0.6666666666666666,
           "#ed7953"
          ],
          [
           0.7777777777777778,
           "#fb9f3a"
          ],
          [
           0.8888888888888888,
           "#fdca26"
          ],
          [
           1,
           "#f0f921"
          ]
         ]
        },
        "geo": {
         "center": {},
         "domain": {
          "x": [
           0,
           1
          ],
          "y": [
           0,
           1
          ]
         },
         "projection": {
          "type": "equirectangular"
         },
         "showcoastlines": true,
         "showframe": false
        },
        "legend": {
         "tracegroupgap": 0
        },
        "template": {
         "data": {
          "bar": [
           {
            "error_x": {
             "color": "#2a3f5f"
            },
            "error_y": {
             "color": "#2a3f5f"
            },
            "marker": {
             "line": {
              "color": "#E5ECF6",
              "width": 0.5
             },
             "pattern": {
              "fillmode": "overlay",
              "size": 10,
              "solidity": 0.2
             }
            },
            "type": "bar"
           }
          ],
          "barpolar": [
           {
            "marker": {
             "line": {
              "color": "#E5ECF6",
              "width": 0.5
             },
             "pattern": {
              "fillmode": "overlay",
              "size": 10,
              "solidity": 0.2
             }
            },
            "type": "barpolar"
           }
          ],
          "carpet": [
           {
            "aaxis": {
             "endlinecolor": "#2a3f5f",
             "gridcolor": "white",
             "linecolor": "white",
             "minorgridcolor": "white",
             "startlinecolor": "#2a3f5f"
            },
            "baxis": {
             "endlinecolor": "#2a3f5f",
             "gridcolor": "white",
             "linecolor": "white",
             "minorgridcolor": "white",
             "startlinecolor": "#2a3f5f"
            },
            "type": "carpet"
           }
          ],
          "choropleth": [
           {
            "colorbar": {
             "outlinewidth": 0,
             "ticks": ""
            },
            "type": "choropleth"
           }
          ],
          "contour": [
           {
            "colorbar": {
             "outlinewidth": 0,
             "ticks": ""
            },
            "colorscale": [
             [
              0,
              "#0d0887"
             ],
             [
              0.1111111111111111,
              "#46039f"
             ],
             [
              0.2222222222222222,
              "#7201a8"
             ],
             [
              0.3333333333333333,
              "#9c179e"
             ],
             [
              0.4444444444444444,
              "#bd3786"
             ],
             [
              0.5555555555555556,
              "#d8576b"
             ],
             [
              0.6666666666666666,
              "#ed7953"
             ],
             [
              0.7777777777777778,
              "#fb9f3a"
             ],
             [
              0.8888888888888888,
              "#fdca26"
             ],
             [
              1,
              "#f0f921"
             ]
            ],
            "type": "contour"
           }
          ],
          "contourcarpet": [
           {
            "colorbar": {
             "outlinewidth": 0,
             "ticks": ""
            },
            "type": "contourcarpet"
           }
          ],
          "heatmap": [
           {
            "colorbar": {
             "outlinewidth": 0,
             "ticks": ""
            },
            "colorscale": [
             [
              0,
              "#0d0887"
             ],
             [
              0.1111111111111111,
              "#46039f"
             ],
             [
              0.2222222222222222,
              "#7201a8"
             ],
             [
              0.3333333333333333,
              "#9c179e"
             ],
             [
              0.4444444444444444,
              "#bd3786"
             ],
             [
              0.5555555555555556,
              "#d8576b"
             ],
             [
              0.6666666666666666,
              "#ed7953"
             ],
             [
              0.7777777777777778,
              "#fb9f3a"
             ],
             [
              0.8888888888888888,
              "#fdca26"
             ],
             [
              1,
              "#f0f921"
             ]
            ],
            "type": "heatmap"
           }
          ],
          "histogram": [
           {
            "marker": {
             "pattern": {
              "fillmode": "overlay",
              "size": 10,
              "solidity": 0.2
             }
            },
            "type": "histogram"
           }
          ],
          "histogram2d": [
           {
            "colorbar": {
             "outlinewidth": 0,
             "ticks": ""
            },
            "colorscale": [
             [
              0,
              "#0d0887"
             ],
             [
              0.1111111111111111,
              "#46039f"
             ],
             [
              0.2222222222222222,
              "#7201a8"
             ],
             [
              0.3333333333333333,
              "#9c179e"
             ],
             [
              0.4444444444444444,
              "#bd3786"
             ],
             [
              0.5555555555555556,
              "#d8576b"
             ],
             [
              0.6666666666666666,
              "#ed7953"
             ],
             [
              0.7777777777777778,
              "#fb9f3a"
             ],
             [
              0.8888888888888888,
              "#fdca26"
             ],
             [
              1,
              "#f0f921"
             ]
            ],
            "type": "histogram2d"
           }
          ],
          "histogram2dcontour": [
           {
            "colorbar": {
             "outlinewidth": 0,
             "ticks": ""
            },
            "colorscale": [
             [
              0,
              "#0d0887"
             ],
             [
              0.1111111111111111,
              "#46039f"
             ],
             [
              0.2222222222222222,
              "#7201a8"
             ],
             [
              0.3333333333333333,
              "#9c179e"
             ],
             [
              0.4444444444444444,
              "#bd3786"
             ],
             [
              0.5555555555555556,
              "#d8576b"
             ],
             [
              0.6666666666666666,
              "#ed7953"
             ],
             [
              0.7777777777777778,
              "#fb9f3a"
             ],
             [
              0.8888888888888888,
              "#fdca26"
             ],
             [
              1,
              "#f0f921"
             ]
            ],
            "type": "histogram2dcontour"
           }
          ],
          "mesh3d": [
           {
            "colorbar": {
             "outlinewidth": 0,
             "ticks": ""
            },
            "type": "mesh3d"
           }
          ],
          "parcoords": [
           {
            "line": {
             "colorbar": {
              "outlinewidth": 0,
              "ticks": ""
             }
            },
            "type": "parcoords"
           }
          ],
          "pie": [
           {
            "automargin": true,
            "type": "pie"
           }
          ],
          "scatter": [
           {
            "fillpattern": {
             "fillmode": "overlay",
             "size": 10,
             "solidity": 0.2
            },
            "type": "scatter"
           }
          ],
          "scatter3d": [
           {
            "line": {
             "colorbar": {
              "outlinewidth": 0,
              "ticks": ""
             }
            },
            "marker": {
             "colorbar": {
              "outlinewidth": 0,
              "ticks": ""
             }
            },
            "type": "scatter3d"
           }
          ],
          "scattercarpet": [
           {
            "marker": {
             "colorbar": {
              "outlinewidth": 0,
              "ticks": ""
             }
            },
            "type": "scattercarpet"
           }
          ],
          "scattergeo": [
           {
            "marker": {
             "colorbar": {
              "outlinewidth": 0,
              "ticks": ""
             }
            },
            "type": "scattergeo"
           }
          ],
          "scattergl": [
           {
            "marker": {
             "colorbar": {
              "outlinewidth": 0,
              "ticks": ""
             }
            },
            "type": "scattergl"
           }
          ],
          "scattermap": [
           {
            "marker": {
             "colorbar": {
              "outlinewidth": 0,
              "ticks": ""
             }
            },
            "type": "scattermap"
           }
          ],
          "scattermapbox": [
           {
            "marker": {
             "colorbar": {
              "outlinewidth": 0,
              "ticks": ""
             }
            },
            "type": "scattermapbox"
           }
          ],
          "scatterpolar": [
           {
            "marker": {
             "colorbar": {
              "outlinewidth": 0,
              "ticks": ""
             }
            },
            "type": "scatterpolar"
           }
          ],
          "scatterpolargl": [
           {
            "marker": {
             "colorbar": {
              "outlinewidth": 0,
              "ticks": ""
             }
            },
            "type": "scatterpolargl"
           }
          ],
          "scatterternary": [
           {
            "marker": {
             "colorbar": {
              "outlinewidth": 0,
              "ticks": ""
             }
            },
            "type": "scatterternary"
           }
          ],
          "surface": [
           {
            "colorbar": {
             "outlinewidth": 0,
             "ticks": ""
            },
            "colorscale": [
             [
              0,
              "#0d0887"
             ],
             [
              0.1111111111111111,
              "#46039f"
             ],
             [
              0.2222222222222222,
              "#7201a8"
             ],
             [
              0.3333333333333333,
              "#9c179e"
             ],
             [
              0.4444444444444444,
              "#bd3786"
             ],
             [
              0.5555555555555556,
              "#d8576b"
             ],
             [
              0.6666666666666666,
              "#ed7953"
             ],
             [
              0.7777777777777778,
              "#fb9f3a"
             ],
             [
              0.8888888888888888,
              "#fdca26"
             ],
             [
              1,
              "#f0f921"
             ]
            ],
            "type": "surface"
           }
          ],
          "table": [
           {
            "cells": {
             "fill": {
              "color": "#EBF0F8"
             },
             "line": {
              "color": "white"
             }
            },
            "header": {
             "fill": {
              "color": "#C8D4E3"
             },
             "line": {
              "color": "white"
             }
            },
            "type": "table"
           }
          ]
         },
         "layout": {
          "annotationdefaults": {
           "arrowcolor": "#2a3f5f",
           "arrowhead": 0,
           "arrowwidth": 1
          },
          "autotypenumbers": "strict",
          "coloraxis": {
           "colorbar": {
            "outlinewidth": 0,
            "ticks": ""
           }
          },
          "colorscale": {
           "diverging": [
            [
             0,
             "#8e0152"
            ],
            [
             0.1,
             "#c51b7d"
            ],
            [
             0.2,
             "#de77ae"
            ],
            [
             0.3,
             "#f1b6da"
            ],
            [
             0.4,
             "#fde0ef"
            ],
            [
             0.5,
             "#f7f7f7"
            ],
            [
             0.6,
             "#e6f5d0"
            ],
            [
             0.7,
             "#b8e186"
            ],
            [
             0.8,
             "#7fbc41"
            ],
            [
             0.9,
             "#4d9221"
            ],
            [
             1,
             "#276419"
            ]
           ],
           "sequential": [
            [
             0,
             "#0d0887"
            ],
            [
             0.1111111111111111,
             "#46039f"
            ],
            [
             0.2222222222222222,
             "#7201a8"
            ],
            [
             0.3333333333333333,
             "#9c179e"
            ],
            [
             0.4444444444444444,
             "#bd3786"
            ],
            [
             0.5555555555555556,
             "#d8576b"
            ],
            [
             0.6666666666666666,
             "#ed7953"
            ],
            [
             0.7777777777777778,
             "#fb9f3a"
            ],
            [
             0.8888888888888888,
             "#fdca26"
            ],
            [
             1,
             "#f0f921"
            ]
           ],
           "sequentialminus": [
            [
             0,
             "#0d0887"
            ],
            [
             0.1111111111111111,
             "#46039f"
            ],
            [
             0.2222222222222222,
             "#7201a8"
            ],
            [
             0.3333333333333333,
             "#9c179e"
            ],
            [
             0.4444444444444444,
             "#bd3786"
            ],
            [
             0.5555555555555556,
             "#d8576b"
            ],
            [
             0.6666666666666666,
             "#ed7953"
            ],
            [
             0.7777777777777778,
             "#fb9f3a"
            ],
            [
             0.8888888888888888,
             "#fdca26"
            ],
            [
             1,
             "#f0f921"
            ]
           ]
          },
          "colorway": [
           "#636efa",
           "#EF553B",
           "#00cc96",
           "#ab63fa",
           "#FFA15A",
           "#19d3f3",
           "#FF6692",
           "#B6E880",
           "#FF97FF",
           "#FECB52"
          ],
          "font": {
           "color": "#2a3f5f"
          },
          "geo": {
           "bgcolor": "white",
           "lakecolor": "white",
           "landcolor": "#E5ECF6",
           "showlakes": true,
           "showland": true,
           "subunitcolor": "white"
          },
          "hoverlabel": {
           "align": "left"
          },
          "hovermode": "closest",
          "mapbox": {
           "style": "light"
          },
          "paper_bgcolor": "white",
          "plot_bgcolor": "#E5ECF6",
          "polar": {
           "angularaxis": {
            "gridcolor": "white",
            "linecolor": "white",
            "ticks": ""
           },
           "bgcolor": "#E5ECF6",
           "radialaxis": {
            "gridcolor": "white",
            "linecolor": "white",
            "ticks": ""
           }
          },
          "scene": {
           "xaxis": {
            "backgroundcolor": "#E5ECF6",
            "gridcolor": "white",
            "gridwidth": 2,
            "linecolor": "white",
            "showbackground": true,
            "ticks": "",
            "zerolinecolor": "white"
           },
           "yaxis": {
            "backgroundcolor": "#E5ECF6",
            "gridcolor": "white",
            "gridwidth": 2,
            "linecolor": "white",
            "showbackground": true,
            "ticks": "",
            "zerolinecolor": "white"
           },
           "zaxis": {
            "backgroundcolor": "#E5ECF6",
            "gridcolor": "white",
            "gridwidth": 2,
            "linecolor": "white",
            "showbackground": true,
            "ticks": "",
            "zerolinecolor": "white"
           }
          },
          "shapedefaults": {
           "line": {
            "color": "#2a3f5f"
           }
          },
          "ternary": {
           "aaxis": {
            "gridcolor": "white",
            "linecolor": "white",
            "ticks": ""
           },
           "baxis": {
            "gridcolor": "white",
            "linecolor": "white",
            "ticks": ""
           },
           "bgcolor": "#E5ECF6",
           "caxis": {
            "gridcolor": "white",
            "linecolor": "white",
            "ticks": ""
           }
          },
          "title": {
           "x": 0.05
          },
          "xaxis": {
           "automargin": true,
           "gridcolor": "white",
           "linecolor": "white",
           "ticks": "",
           "title": {
            "standoff": 15
           },
           "zerolinecolor": "white",
           "zerolinewidth": 2
          },
          "yaxis": {
           "automargin": true,
           "gridcolor": "white",
           "linecolor": "white",
           "ticks": "",
           "title": {
            "standoff": 15
           },
           "zerolinecolor": "white",
           "zerolinewidth": 2
          }
         }
        },
        "title": {
         "text": "CO2 Emissions by Country (2015)"
        }
       }
      }
     },
     "metadata": {},
     "output_type": "display_data"
    }
   ],
   "source": [
    "# Cell 2: Choropleth Map Function\n",
    "def create_choropleth_map(df, selected_year, selected_metric, metrics):\n",
    "    \"\"\"Create a choropleth map for the selected year and metric.\"\"\"\n",
    "    # Filter data for the selected year\n",
    "    filtered_df = df[df['Year'] == selected_year].dropna(subset=[selected_metric])\n",
    "\n",
    "    # Create choropleth map\n",
    "    fig = px.choropleth(\n",
    "        filtered_df,\n",
    "        locations='Country Code',\n",
    "        color=selected_metric,\n",
    "        hover_name='Country Name',\n",
    "        color_continuous_scale=px.colors.sequential.Plasma,\n",
    "        title=f'{metrics[selected_metric]} by Country ({selected_year})'\n",
    "    )\n",
    "\n",
    "    fig.update_layout(\n",
    "        coloraxis_colorbar=dict(title=metrics[selected_metric]),\n",
    "        geo=dict(\n",
    "            showframe=False,\n",
    "            showcoastlines=True,\n",
    "            projection_type='equirectangular'\n",
    "        )\n",
    "    )\n",
    "\n",
    "    return fig\n",
    "\n",
    "# Test the function with sample data - using yearly totals\n",
    "sample_year = 2015  # Use an available year in your data\n",
    "sample_metric = 'CO2 Emissions (kt)'  # Use total emissions instead of per capita\n",
    "\n",
    "choropleth_fig = create_choropleth_map(df, sample_year, sample_metric, metrics)\n",
    "choropleth_fig.show()  # Display the figure in Jupyter"
   ]
  },
  {
   "cell_type": "markdown",
   "id": "627e6325540a9989",
   "metadata": {},
   "source": [
    "#### 2. Scatter Plot\n",
    "Our scatter plot reveals relationships between two variables (such as GDP and CO2 emissions), with point size representing a third variable (population). This allows users to identify correlations, outliers, and clusters.\n",
    "\n",
    "**Best Use Cases:**\n",
    "- Analyzing relationships between different metrics\n",
    "- Identifying countries that deviate from general trends\n",
    "- Visualizing multiple dimensions simultaneously"
   ]
  },
  {
   "cell_type": "code",
   "execution_count": 9,
   "id": "523a579244651b01",
   "metadata": {
    "ExecuteTime": {
     "end_time": "2025-03-22T16:28:37.941634Z",
     "start_time": "2025-03-22T16:28:37.829207Z"
    }
   },
   "outputs": [
    {
     "data": {
      "application/vnd.plotly.v1+json": {
       "config": {
        "plotlyServerURL": "https://plot.ly"
       },
       "data": [
        {
         "hovertemplate": "<b>%{hovertext}</b><br><br>Selected=False<br>GDP (current US$)=%{x}<br>CO2 Emissions (kt)=%{y}<br>Population, total=%{marker.size}<extra></extra>",
         "hovertext": [
          "Afghanistan",
          "Albania",
          "Algeria",
          "Andorra",
          "Angola",
          "Antigua and Barbuda",
          "Argentina",
          "Armenia",
          "Aruba",
          "Australia",
          "Austria",
          "Azerbaijan",
          "Bahrain",
          "Bangladesh",
          "Barbados",
          "Belarus",
          "Belgium",
          "Belize",
          "Benin",
          "Bermuda",
          "Bhutan",
          "Bolivia",
          "Bosnia and Herzegovina",
          "Botswana",
          "Bulgaria",
          "Burkina Faso",
          "Burundi",
          "Cambodia",
          "Cameroon",
          "Canada",
          "Central African Republic",
          "Chad",
          "Chile",
          "Colombia",
          "Comoros",
          "Costa Rica",
          "Cote d'Ivoire",
          "Croatia",
          "Cuba",
          "Curacao",
          "Cyprus",
          "Czechia",
          "Denmark",
          "Djibouti",
          "Dominica",
          "Dominican Republic",
          "Ecuador",
          "El Salvador",
          "Equatorial Guinea",
          "Estonia",
          "Eswatini",
          "Ethiopia",
          "Faroe Islands",
          "Fiji",
          "Finland",
          "France",
          "French Polynesia",
          "Gabon",
          "Georgia",
          "Ghana",
          "Greece",
          "Greenland",
          "Grenada",
          "Guatemala",
          "Guinea",
          "Guinea-Bissau",
          "Guyana",
          "Haiti",
          "Honduras",
          "Hungary",
          "Iceland",
          "Indonesia",
          "Iraq",
          "Ireland",
          "Israel",
          "Italy",
          "Jamaica",
          "Japan",
          "Jordan",
          "Kazakhstan",
          "Kenya",
          "Kiribati",
          "Kuwait",
          "Latvia",
          "Lebanon",
          "Lesotho",
          "Liberia",
          "Libya",
          "Liechtenstein",
          "Lithuania",
          "Luxembourg",
          "Madagascar",
          "Malawi",
          "Malaysia",
          "Maldives",
          "Mali",
          "Malta",
          "Marshall Islands",
          "Mauritania",
          "Mauritius",
          "Mexico",
          "Moldova",
          "Mongolia",
          "Montenegro",
          "Morocco",
          "Mozambique",
          "Myanmar",
          "Namibia",
          "Nauru",
          "Nepal",
          "Netherlands",
          "New Caledonia",
          "New Zealand",
          "Nicaragua",
          "Niger",
          "Nigeria",
          "North Macedonia",
          "Norway",
          "Oman",
          "Pakistan",
          "Palau",
          "Panama",
          "Papua New Guinea",
          "Paraguay",
          "Peru",
          "Philippines",
          "Poland",
          "Portugal",
          "Qatar",
          "Romania",
          "Rwanda",
          "Samoa",
          "Sao Tome and Principe",
          "Saudi Arabia",
          "Senegal",
          "Serbia",
          "Seychelles",
          "Sierra Leone",
          "Singapore",
          "Sint Maarten (Dutch part)",
          "Slovenia",
          "Solomon Islands",
          "Somalia",
          "South Africa",
          "South Sudan",
          "Spain",
          "Sri Lanka",
          "Sudan",
          "Suriname",
          "Sweden",
          "Switzerland",
          "Tajikistan",
          "Tanzania",
          "Thailand",
          "Togo",
          "Tonga",
          "Trinidad and Tobago",
          "Tunisia",
          "Turkmenistan",
          "Turks and Caicos Islands",
          "Tuvalu",
          "Uganda",
          "Ukraine",
          "United Arab Emirates",
          "United Kingdom",
          "Uruguay",
          "Uzbekistan",
          "Vanuatu",
          "Zambia",
          "Zimbabwe"
         ],
         "legendgroup": "False",
         "marker": {
          "color": "blue",
          "size": {
           "bdata": "AAAAoNohgEEAAACAX/pFQQAAAEgyFYNBAAAAAOCe8UAAAABgdtp6QQAAAAAQ1PVAAAAAoEC7hEEAAAAAXOxGQQAAAAAgWPpAAAAAsHO2dkEAAABgEXxgQQAAAKCXZ2JBAAAAANLoNEEAAAAW/f+iQQAAAAA4BxFBAAAAgKoLYkEAAACA+oBlQQAAAAC0vxVBAAAAIDWrZUEAAAAAAP3uQAAAAAAUmiZBAAAAIEYCZUEAAACAJthKQQAAAIBEz0BBAAAAwMFhW0EAAADwWOhxQQAAAIBTEmVBAAAAYIrMbUEAAABgebV1QQAAAJB1BoFBAAAAANKoUUEAAACgKPBrQQAAAJAoNnFBAAAAoKJlhkEAAAAANC0mQQAAAIAdYVJBAAAAYKgTeEEAAACA1qxPQQAAACBngWVBAAAAAOBIA0EAAAAArpsyQQAAAGBxHWRBAAAAwEauVUEAAAAAMiMvQQAAAACgMPFAAAAAoCHnY0EAAAAgfgZvQQAAAAC/lldBAAAAAGMvNkEAAAAATxI0QQAAAAAdcDFBAAAA/IvDmEEAAAAAoODnQAAAAABkCCxBAAAAwBrnVEEAAACAkbuPQQAAAACo9RBBAAAAAJ0kP0EAAAAA7mtMQQAAAEDgXXtBAAAAYKKjZEEAAAAAQGbrQAAAAABA//tAAAAA4LN2bkEAAADAo3FmQQAAAABZQjtBAAAAAPonJ0EAAABATRJkQQAAACBnnmFBAAAAgCrGYkEAAAAA/DAUQQAAAKJ6Na9BAAAAuAbpgUEAAABAwe9RQQAAAACx919BAAAAsGb1jEEAAAAAs2FFQQAAACASUJ5BAAAAIIM0YkEAAACQFD9xQQAAAHAcdIZBAAAAAPCE/EAAAAAAZ0FNQQAAAAC3LD5BAAAAQMWwWEEAAACAkQ5AQQAAAMA5xlFBAAAAwLrqWEEAAAAAwE7iQAAAAACnKUZBAAAAAAhiIUEAAADgsD94QQAAADBJS3BBAAAA4DHJfUEAAAAA6CEaQQAAAOBPu3FBAAAAAPQpG0EAAAAAANTnQAAAAIADQk5BAAAAAB9FM0EAAADIqt2cQQAAAAAFo0VBAAAAANgXR0EAAAAAnvwiQQAAACCPgIBBAAAAQFdReUEAAAAAdVyIQQAAAABOHUJBAAAAAABlxUAAAADQ4Ih6QQAAADC5J3BBAAAAAIBIEUEAAAAAXpVRQQAAAEBKdVdBAAAAoAoEc0EAAAAM2LqmQQAAAABuLj1BAAAAwP/KU0EAAACAn+1PQQAAAAYx56lBAAAAAIBa0UAAAACAcTZOQQAAAMAprWBBAAAAwL9+V0EAAAAA8At9QQAAAIDLG5lBAAAAYAMdgkEAAACAp8FjQQAAAIA240FBAAAAAMzlckEAAADAmjNmQQAAAACwoQhBAAAAABhzCEEAAADgY298QQAAAGCm1WtBAAAAwBURW0EAAAAAsM72QAAAAMC12FpBAAAAgEYdVUEAAAAA4EviQAAAAACrfD9BAAAAAG6DI0EAAABgrlVqQQAAAIhCDItBAAAAIJ0vZUEAAAAAiSWGQQAAAACh/3NBAAAAeMsVg0EAAAAA9r8hQQAAAEDCsGJBAAAAAEeYX0EAAAAAoHxgQQAAABA3zohBAAAA7HfRkEEAAADAljtdQQAAAADw5vlAAAAAACOYNEEAAAAAg79lQQAAAIAWtldBAAAAAKDf4UAAAAAAgGnFQAAAALB55YFBAAAAAPrUhUEAAACg8jhgQQAAANjBDI9BAAAAgCiySUEAAAAgKlN9QQAAAADUPRBBAAAAIF5Hb0EAAACgxHZrQQ==",
           "dtype": "f8"
          },
          "sizemode": "area",
          "sizeref": 383294.44444444444,
          "symbol": "circle"
         },
         "mode": "markers",
         "name": "False",
         "orientation": "v",
         "showlegend": true,
         "type": "scatter",
         "x": {
          "bdata": "FO4yNfTREUK1Jsi3rDUFQimsvJjA00VCqB1QtUbJ5EGAmJrKARI1QkyO4yiabNVByaaEPDpPYULfT3M1OagDQgw80g9ME+ZB9uThpPipc0KDKKV1rRdWQvR9tSgutyhCklxBkShKHkLFEKl40rdGQgAAYLkVs/NBtTd1ffJJKkL8Ic42GtZaQgAAADLpVuBBB98oX0w2BUIAAIDMQ8r4QfiIem/tTOBBTYSgQdy7HkKzjDv+M44OQj0KZL32MwlCrVpRDEOpJ0LVCZ1iAwoGQqJ6SLtqIOdBkksERJKDFkLe0/GahP8dQj2SNXtypnZCKleMzA9F2UFoogfOjWUEQtvpOWuVOUxCoErEimAVUUJ0XW6QOMrMQe8JabpmSCpCu4fi/5JVJUJhYzsyS8AnQgAAAASFSTRCHxE8iijK5kEUbkPrvYoSQqL1wD3ZA0ZCxWiY746QUUILDC4NKRDiQaG9hAZ/HcBBMofUFMGRMEIAAPAjJKI2QgAAAKQc1BVCoyOIuVWPCELywRtF+rUVQkOtcdgH5exByzBN4aUTLkI0v2EGVi3jQR3VgJKPcfFBACDhsTgmS0IAFFfeesWBQmH9nHUf1/NBxY+VdWbKCkKAt6aNRVsMQliIjMWnASdCrAy3QY+mRkLRItoHrp7iQeoltBeQts1BHHydFij1LELLxHb0ZmEAQuT3sin/K9FBFYw2uCXj70Hs0eTj2qgLQvypFd34iRNCO1/LNfYkPUJkXVyubVAQQvq20STdDWlCDo2/cUFqQ0I9Am/B+5lRQsPd+EjrnlFCmnE8VcHaekJyefP3z20KQrjw3AyqK5BC1qU+Ve73IUJgBfHiM3dFQv7VsBuBUzBC379ZzO3VpkF/6nbT1K06QpGP07EIiRhCvqHZdwpAJ0KsOZHIvpThQQAAgI4oC+hBQ5wSJ5SvJkJiysI8H1r3QWZoglURWCNCZkawQxf5K0LiaeqsPBcFQtGFWh4wLAFCnDzlHIuKUUJ9IuQEaMTuQaab0q7WaAhCtnMOZbYfBUIAAABAFOalQQP9igEu+fZB8jAtxYVdBkIUTqjF36dxQqWxy1dvDP1BhI1168ukBUJCeLKryDXuQY2XYT8ttTlChetM9QsxDkJVME8kvsErQn4M3KcGHQVCeVWUcloelEEiDhtQEbAWQn3XdKO9k2ZCZSoTLrNGAELFcDhe67tEQhG2cpfcwgdC5YqzyKAJAkJSKOyJq7JcQiWG1BgjvwJC7GGtBweYVkKu+BVkh1MyQnmx4UnOdVFCAABATYeesEEAAChhCvgpQo9kSF9FOxRCtzFAsL3cIEI7zw7KkRhGQvStIzpm1lFCfdctIl3xW0LL0XdrzytHQiV2vO451EJCUij02GO1REIcTtnT9tP/QRGnU/HEj8hBPUMYNo/+rkFYVZXmC3xjQh+0oKnVjRBCzuqV9Ag7I0K/SAhmL1jVQWtg2k58x/hBeVldNYntUUL7XMXy0CDVQZ2g5Yhd4yNC71Xjv0d900HiBoCFJev2QQikvuNgLlRCKcvBSf9YBkLsEaVeUI1xQtXZ/ODL0jNCEIkpZk8WKEISiOPcwhjzQW8qkf7iM11CGXSxX5UzZEKLMtFzQND+QX0/kgAuFCZCYAWlqcdbV0KMFbba1XD1QTigPQocFLpB2ttj8a0rGULn2zNJV1ElQrlt25OoqyBCAAAAeGwTzEEb4KgApY2BQZtmyNG0KR5CWxLtVd4xNUKgCj7SiI1VQtel8dOoTYVCelZ96gfcKkJ9TzOfshE0QlTIewkayMVB1Bp7Vq/KE0IAAGAvlJcSQg==",
          "dtype": "f8"
         },
         "xaxis": "x",
         "y": {
          "bdata": "AAAAoMRxYkEAAAAAtPlRQQAAAEh7FaNBAAAAAMBmHEEAAABgkDt6QQAAAABgxyFBAAAAwI7bpkEAAADAIt1UQQAAAAAgZStBAAAAGFrut0EAAACgRqSPQQAAADDCiYBBAAAAQLj0fkEAAAAQnliSQQAAAABI3jRBAAAA8JkJjEEAAAAwViWYQQAAAABgkSNBAAAAAI9XVEEAAAAA4G8gQQAAAACKqTZBAAAA4Bv3ckEAAADA9JpxQQAAAACRqlRBAAAAAEL8hkEAAAAADpBMQQAAAABAsRVBAAAAgH49X0EAAADg5MliQQAAAKKF28BBAAAAAIDqBUEAAAAAKfFBQQAAAECWf5NBAAAAeFVhl0EAAAAAgOoFQQAAAEBxQFxBAAAAIGc5YkEAAADgb/pwQQAAAOBfvntBAAAAANT3W0EAAACAbZlaQQAAAGC/CJlBAAAA4PW8gEHsUbgeZNEeQQAAAAAAeAVBAAAAwPtndkEAAADgiq6DQQAAAAB/b1lBAAAAwKPUWkEAAADg5BhuQQAAAAAggCpBAAAAQMo4aEEAAAAAwI8iQQAAAADw8zJBAAAAAIgShUEAAACYI8KzQQAAAABg1ClBAAAAgMmzWEEAAABAw5tiQQAAAOBWyWtBAAAAECndkUEAAAAAIAsgQQAAAACAwQ9BAAAA4AFtbkEAAAAAiLNCQQAAAAAA/xBBAAAAAIiRPkEAAACAmExEQQAAAGC5vGNBAAAAYHA0hkEAAACAXgRLQQAAAOFhEcBBAAAAABbtoEEAAACwEnaCQQAAACAAA45BAAAAxE2ItUEAAAAAb4NeQQAAAKoiOtJBAAAAoMRdeEEAAACgCJywQQAAACAGNnBBAAAAAADW6kAAAAAYSYiWQQAAAMA3tFtBAAAAgNmKeEEAAAAAoBtBQQAAAACCTSVBAAAAYPPejUEAAAAA8IADQQAAAMDP9mhBAAAAIB7TYUEAAAAAnspIQQAAAAAFhjBBAAAAaEIgrEEAAAAAEIMzQQAAAIDW7klBAAAAAB3uOUEAAAAAgHEBQQAAAAA76EZBAAAAAEQPUEEAAAAClJO8QQAAAACwPVJBAAAAICY0dkEAAAAAeBRBQQAAAGCG5ItBAAAAgNCsWUEAAACAit90QQAAAACE/01BAAAAAADW6kAAAABA1FZaQQAAACQMhaNBAAAAQJuaUkEAAADAYhKBQQAAAECqt1RBAAAAALbUQEEAAABgvp2bQQAAAIAyxllBAAAAgHexhUEAAABgYh2QQQAAAICi86FBAAAAAAAMCUEAAAAAy5NkQQAAAMBAH1hBAAAAgDEVV0EAAABgQ3mHQQAAABjmqppBAAAAJEikskEAAACgGuiIQQAAAKAOvpVBAAAACAONkkEAAAAAjpstQQAAAAAAuwtBAAAAAICMAEEAAADCXaDCQQAAAABVx2JBAAAAoOrfhEEAAAAAAGoeQQAAAACAjDBBAAAAAEaOh0EAAAAA4LImQQAAAODVBmpBAAAAAADkEUEAAAAAgDsjQQAAAOC/mrpBAAAAACAvPUEAAAD8KiOwQQAAAMB9xnJBAAAAoEwsa0EAAAAAhbNEQQAAAAARtIRBAAAA0G92gkEAAACAAjpUQQAAAOD5n2hBAAAA4DCEsEEAAAAArW48QQAAAAAAoPxAAAAAAHy5hUEAAADAa/Z9QQAAAMDmq45BAAAAAEACE0EAAAAAAHjFQAAAAICAQ1FBAAAAZHStqkEAAABcUeeqQQAAAIA9LrlBAAAAgG60WUEAAADAGLmYQQAAAACAjABBAAAAwENSU0EAAABAk+tmQQ==",
          "dtype": "f8"
         },
         "yaxis": "y"
        },
        {
         "hovertemplate": "<b>%{hovertext}</b><br><br>Selected=True<br>GDP (current US$)=%{x}<br>CO2 Emissions (kt)=%{y}<br>Population, total=%{marker.size}<extra></extra>",
         "hovertext": [
          "Brazil",
          "China",
          "Germany",
          "India",
          "United States"
         ],
         "legendgroup": "True",
         "marker": {
          "color": "red",
          "size": {
           "bdata": "AAAAGKYKqEEAAACIv4/UQQAAAEzBeZNBAACA7ALK00EAAACyFh6zQQ==",
           "dtype": "f8"
          },
          "sizemode": "area",
          "sizeref": 383294.44444444444,
          "symbol": "circle"
         },
         "mode": "markers",
         "name": "True",
         "orientation": "v",
         "showlegend": true,
         "type": "scatter",
         "x": {
          "bdata": "4YqTfsM5ekJmpZI28h6kQj1orKbk6IhCCs/2MHqcfkIAwNAbpKOwQg==",
          "dtype": "f8"
         },
         "xaxis": "x",
         "y": {
          "bdata": "AAAAPEmNv0EAAEBHQ18CQgAAAGr13cdBAACAfW+l4EEAAIB6Zwf0QQ==",
          "dtype": "f8"
         },
         "yaxis": "y"
        }
       ],
       "layout": {
        "legend": {
         "itemsizing": "constant",
         "title": {
          "text": "Selected Countries"
         },
         "tracegroupgap": 0
        },
        "template": {
         "data": {
          "bar": [
           {
            "error_x": {
             "color": "#2a3f5f"
            },
            "error_y": {
             "color": "#2a3f5f"
            },
            "marker": {
             "line": {
              "color": "#E5ECF6",
              "width": 0.5
             },
             "pattern": {
              "fillmode": "overlay",
              "size": 10,
              "solidity": 0.2
             }
            },
            "type": "bar"
           }
          ],
          "barpolar": [
           {
            "marker": {
             "line": {
              "color": "#E5ECF6",
              "width": 0.5
             },
             "pattern": {
              "fillmode": "overlay",
              "size": 10,
              "solidity": 0.2
             }
            },
            "type": "barpolar"
           }
          ],
          "carpet": [
           {
            "aaxis": {
             "endlinecolor": "#2a3f5f",
             "gridcolor": "white",
             "linecolor": "white",
             "minorgridcolor": "white",
             "startlinecolor": "#2a3f5f"
            },
            "baxis": {
             "endlinecolor": "#2a3f5f",
             "gridcolor": "white",
             "linecolor": "white",
             "minorgridcolor": "white",
             "startlinecolor": "#2a3f5f"
            },
            "type": "carpet"
           }
          ],
          "choropleth": [
           {
            "colorbar": {
             "outlinewidth": 0,
             "ticks": ""
            },
            "type": "choropleth"
           }
          ],
          "contour": [
           {
            "colorbar": {
             "outlinewidth": 0,
             "ticks": ""
            },
            "colorscale": [
             [
              0,
              "#0d0887"
             ],
             [
              0.1111111111111111,
              "#46039f"
             ],
             [
              0.2222222222222222,
              "#7201a8"
             ],
             [
              0.3333333333333333,
              "#9c179e"
             ],
             [
              0.4444444444444444,
              "#bd3786"
             ],
             [
              0.5555555555555556,
              "#d8576b"
             ],
             [
              0.6666666666666666,
              "#ed7953"
             ],
             [
              0.7777777777777778,
              "#fb9f3a"
             ],
             [
              0.8888888888888888,
              "#fdca26"
             ],
             [
              1,
              "#f0f921"
             ]
            ],
            "type": "contour"
           }
          ],
          "contourcarpet": [
           {
            "colorbar": {
             "outlinewidth": 0,
             "ticks": ""
            },
            "type": "contourcarpet"
           }
          ],
          "heatmap": [
           {
            "colorbar": {
             "outlinewidth": 0,
             "ticks": ""
            },
            "colorscale": [
             [
              0,
              "#0d0887"
             ],
             [
              0.1111111111111111,
              "#46039f"
             ],
             [
              0.2222222222222222,
              "#7201a8"
             ],
             [
              0.3333333333333333,
              "#9c179e"
             ],
             [
              0.4444444444444444,
              "#bd3786"
             ],
             [
              0.5555555555555556,
              "#d8576b"
             ],
             [
              0.6666666666666666,
              "#ed7953"
             ],
             [
              0.7777777777777778,
              "#fb9f3a"
             ],
             [
              0.8888888888888888,
              "#fdca26"
             ],
             [
              1,
              "#f0f921"
             ]
            ],
            "type": "heatmap"
           }
          ],
          "histogram": [
           {
            "marker": {
             "pattern": {
              "fillmode": "overlay",
              "size": 10,
              "solidity": 0.2
             }
            },
            "type": "histogram"
           }
          ],
          "histogram2d": [
           {
            "colorbar": {
             "outlinewidth": 0,
             "ticks": ""
            },
            "colorscale": [
             [
              0,
              "#0d0887"
             ],
             [
              0.1111111111111111,
              "#46039f"
             ],
             [
              0.2222222222222222,
              "#7201a8"
             ],
             [
              0.3333333333333333,
              "#9c179e"
             ],
             [
              0.4444444444444444,
              "#bd3786"
             ],
             [
              0.5555555555555556,
              "#d8576b"
             ],
             [
              0.6666666666666666,
              "#ed7953"
             ],
             [
              0.7777777777777778,
              "#fb9f3a"
             ],
             [
              0.8888888888888888,
              "#fdca26"
             ],
             [
              1,
              "#f0f921"
             ]
            ],
            "type": "histogram2d"
           }
          ],
          "histogram2dcontour": [
           {
            "colorbar": {
             "outlinewidth": 0,
             "ticks": ""
            },
            "colorscale": [
             [
              0,
              "#0d0887"
             ],
             [
              0.1111111111111111,
              "#46039f"
             ],
             [
              0.2222222222222222,
              "#7201a8"
             ],
             [
              0.3333333333333333,
              "#9c179e"
             ],
             [
              0.4444444444444444,
              "#bd3786"
             ],
             [
              0.5555555555555556,
              "#d8576b"
             ],
             [
              0.6666666666666666,
              "#ed7953"
             ],
             [
              0.7777777777777778,
              "#fb9f3a"
             ],
             [
              0.8888888888888888,
              "#fdca26"
             ],
             [
              1,
              "#f0f921"
             ]
            ],
            "type": "histogram2dcontour"
           }
          ],
          "mesh3d": [
           {
            "colorbar": {
             "outlinewidth": 0,
             "ticks": ""
            },
            "type": "mesh3d"
           }
          ],
          "parcoords": [
           {
            "line": {
             "colorbar": {
              "outlinewidth": 0,
              "ticks": ""
             }
            },
            "type": "parcoords"
           }
          ],
          "pie": [
           {
            "automargin": true,
            "type": "pie"
           }
          ],
          "scatter": [
           {
            "fillpattern": {
             "fillmode": "overlay",
             "size": 10,
             "solidity": 0.2
            },
            "type": "scatter"
           }
          ],
          "scatter3d": [
           {
            "line": {
             "colorbar": {
              "outlinewidth": 0,
              "ticks": ""
             }
            },
            "marker": {
             "colorbar": {
              "outlinewidth": 0,
              "ticks": ""
             }
            },
            "type": "scatter3d"
           }
          ],
          "scattercarpet": [
           {
            "marker": {
             "colorbar": {
              "outlinewidth": 0,
              "ticks": ""
             }
            },
            "type": "scattercarpet"
           }
          ],
          "scattergeo": [
           {
            "marker": {
             "colorbar": {
              "outlinewidth": 0,
              "ticks": ""
             }
            },
            "type": "scattergeo"
           }
          ],
          "scattergl": [
           {
            "marker": {
             "colorbar": {
              "outlinewidth": 0,
              "ticks": ""
             }
            },
            "type": "scattergl"
           }
          ],
          "scattermap": [
           {
            "marker": {
             "colorbar": {
              "outlinewidth": 0,
              "ticks": ""
             }
            },
            "type": "scattermap"
           }
          ],
          "scattermapbox": [
           {
            "marker": {
             "colorbar": {
              "outlinewidth": 0,
              "ticks": ""
             }
            },
            "type": "scattermapbox"
           }
          ],
          "scatterpolar": [
           {
            "marker": {
             "colorbar": {
              "outlinewidth": 0,
              "ticks": ""
             }
            },
            "type": "scatterpolar"
           }
          ],
          "scatterpolargl": [
           {
            "marker": {
             "colorbar": {
              "outlinewidth": 0,
              "ticks": ""
             }
            },
            "type": "scatterpolargl"
           }
          ],
          "scatterternary": [
           {
            "marker": {
             "colorbar": {
              "outlinewidth": 0,
              "ticks": ""
             }
            },
            "type": "scatterternary"
           }
          ],
          "surface": [
           {
            "colorbar": {
             "outlinewidth": 0,
             "ticks": ""
            },
            "colorscale": [
             [
              0,
              "#0d0887"
             ],
             [
              0.1111111111111111,
              "#46039f"
             ],
             [
              0.2222222222222222,
              "#7201a8"
             ],
             [
              0.3333333333333333,
              "#9c179e"
             ],
             [
              0.4444444444444444,
              "#bd3786"
             ],
             [
              0.5555555555555556,
              "#d8576b"
             ],
             [
              0.6666666666666666,
              "#ed7953"
             ],
             [
              0.7777777777777778,
              "#fb9f3a"
             ],
             [
              0.8888888888888888,
              "#fdca26"
             ],
             [
              1,
              "#f0f921"
             ]
            ],
            "type": "surface"
           }
          ],
          "table": [
           {
            "cells": {
             "fill": {
              "color": "#EBF0F8"
             },
             "line": {
              "color": "white"
             }
            },
            "header": {
             "fill": {
              "color": "#C8D4E3"
             },
             "line": {
              "color": "white"
             }
            },
            "type": "table"
           }
          ]
         },
         "layout": {
          "annotationdefaults": {
           "arrowcolor": "#2a3f5f",
           "arrowhead": 0,
           "arrowwidth": 1
          },
          "autotypenumbers": "strict",
          "coloraxis": {
           "colorbar": {
            "outlinewidth": 0,
            "ticks": ""
           }
          },
          "colorscale": {
           "diverging": [
            [
             0,
             "#8e0152"
            ],
            [
             0.1,
             "#c51b7d"
            ],
            [
             0.2,
             "#de77ae"
            ],
            [
             0.3,
             "#f1b6da"
            ],
            [
             0.4,
             "#fde0ef"
            ],
            [
             0.5,
             "#f7f7f7"
            ],
            [
             0.6,
             "#e6f5d0"
            ],
            [
             0.7,
             "#b8e186"
            ],
            [
             0.8,
             "#7fbc41"
            ],
            [
             0.9,
             "#4d9221"
            ],
            [
             1,
             "#276419"
            ]
           ],
           "sequential": [
            [
             0,
             "#0d0887"
            ],
            [
             0.1111111111111111,
             "#46039f"
            ],
            [
             0.2222222222222222,
             "#7201a8"
            ],
            [
             0.3333333333333333,
             "#9c179e"
            ],
            [
             0.4444444444444444,
             "#bd3786"
            ],
            [
             0.5555555555555556,
             "#d8576b"
            ],
            [
             0.6666666666666666,
             "#ed7953"
            ],
            [
             0.7777777777777778,
             "#fb9f3a"
            ],
            [
             0.8888888888888888,
             "#fdca26"
            ],
            [
             1,
             "#f0f921"
            ]
           ],
           "sequentialminus": [
            [
             0,
             "#0d0887"
            ],
            [
             0.1111111111111111,
             "#46039f"
            ],
            [
             0.2222222222222222,
             "#7201a8"
            ],
            [
             0.3333333333333333,
             "#9c179e"
            ],
            [
             0.4444444444444444,
             "#bd3786"
            ],
            [
             0.5555555555555556,
             "#d8576b"
            ],
            [
             0.6666666666666666,
             "#ed7953"
            ],
            [
             0.7777777777777778,
             "#fb9f3a"
            ],
            [
             0.8888888888888888,
             "#fdca26"
            ],
            [
             1,
             "#f0f921"
            ]
           ]
          },
          "colorway": [
           "#636efa",
           "#EF553B",
           "#00cc96",
           "#ab63fa",
           "#FFA15A",
           "#19d3f3",
           "#FF6692",
           "#B6E880",
           "#FF97FF",
           "#FECB52"
          ],
          "font": {
           "color": "#2a3f5f"
          },
          "geo": {
           "bgcolor": "white",
           "lakecolor": "white",
           "landcolor": "#E5ECF6",
           "showlakes": true,
           "showland": true,
           "subunitcolor": "white"
          },
          "hoverlabel": {
           "align": "left"
          },
          "hovermode": "closest",
          "mapbox": {
           "style": "light"
          },
          "paper_bgcolor": "white",
          "plot_bgcolor": "#E5ECF6",
          "polar": {
           "angularaxis": {
            "gridcolor": "white",
            "linecolor": "white",
            "ticks": ""
           },
           "bgcolor": "#E5ECF6",
           "radialaxis": {
            "gridcolor": "white",
            "linecolor": "white",
            "ticks": ""
           }
          },
          "scene": {
           "xaxis": {
            "backgroundcolor": "#E5ECF6",
            "gridcolor": "white",
            "gridwidth": 2,
            "linecolor": "white",
            "showbackground": true,
            "ticks": "",
            "zerolinecolor": "white"
           },
           "yaxis": {
            "backgroundcolor": "#E5ECF6",
            "gridcolor": "white",
            "gridwidth": 2,
            "linecolor": "white",
            "showbackground": true,
            "ticks": "",
            "zerolinecolor": "white"
           },
           "zaxis": {
            "backgroundcolor": "#E5ECF6",
            "gridcolor": "white",
            "gridwidth": 2,
            "linecolor": "white",
            "showbackground": true,
            "ticks": "",
            "zerolinecolor": "white"
           }
          },
          "shapedefaults": {
           "line": {
            "color": "#2a3f5f"
           }
          },
          "ternary": {
           "aaxis": {
            "gridcolor": "white",
            "linecolor": "white",
            "ticks": ""
           },
           "baxis": {
            "gridcolor": "white",
            "linecolor": "white",
            "ticks": ""
           },
           "bgcolor": "#E5ECF6",
           "caxis": {
            "gridcolor": "white",
            "linecolor": "white",
            "ticks": ""
           }
          },
          "title": {
           "x": 0.05
          },
          "xaxis": {
           "automargin": true,
           "gridcolor": "white",
           "linecolor": "white",
           "ticks": "",
           "title": {
            "standoff": 15
           },
           "zerolinecolor": "white",
           "zerolinewidth": 2
          },
          "yaxis": {
           "automargin": true,
           "gridcolor": "white",
           "linecolor": "white",
           "ticks": "",
           "title": {
            "standoff": 15
           },
           "zerolinecolor": "white",
           "zerolinewidth": 2
          }
         }
        },
        "title": {
         "text": "GDP vs CO2 Emissions (2015)"
        },
        "xaxis": {
         "anchor": "y",
         "domain": [
          0,
          1
         ],
         "title": {
          "text": "GDP (Current US$, log scale)"
         },
         "type": "log"
        },
        "yaxis": {
         "anchor": "x",
         "domain": [
          0,
          1
         ],
         "title": {
          "text": "CO2 Emissions (kt, log scale)"
         },
         "type": "log"
        }
       }
      }
     },
     "metadata": {},
     "output_type": "display_data"
    }
   ],
   "source": [
    "# Cell 3: Scatter Plot Function - Using yearly totals\n",
    "def create_scatter_plot(df, selected_year, selected_countries):\n",
    "    \"\"\"Create a scatter plot of GDP vs CO2 emissions with population as size.\"\"\"\n",
    "    # Filter data for the selected year\n",
    "    filtered_df = df[df['Year'] == selected_year].dropna(\n",
    "        subset=['GDP (current US$)', 'CO2 Emissions (kt)', 'Population, total']\n",
    "    )\n",
    "\n",
    "    # Highlight selected countries\n",
    "    filtered_df['Selected'] = filtered_df['Country Name'].isin(selected_countries)\n",
    "\n",
    "    # Create scatter plot with yearly totals\n",
    "    fig = px.scatter(\n",
    "        filtered_df,\n",
    "        x='GDP (current US$)',\n",
    "        y='CO2 Emissions (kt)',\n",
    "        size='Population, total',\n",
    "        color='Selected',\n",
    "        hover_name='Country Name',\n",
    "        log_x=True,  # Log scale for GDP\n",
    "        log_y=True,  # Log scale for emissions\n",
    "        size_max=60,\n",
    "        color_discrete_map={True: 'red', False: 'blue'},\n",
    "        title=f'GDP vs CO2 Emissions ({selected_year})'\n",
    "    )\n",
    "\n",
    "    fig.update_layout(\n",
    "        xaxis_title='GDP (Current US$, log scale)',\n",
    "        yaxis_title='CO2 Emissions (kt, log scale)',\n",
    "        legend_title='Selected Countries'\n",
    "    )\n",
    "\n",
    "    return fig\n",
    "\n",
    "# Test the function with sample data\n",
    "sample_countries = ['United States', 'China', 'India', 'Germany', 'Brazil']  # Use available countries\n",
    "\n",
    "scatter_fig = create_scatter_plot(df, sample_year, sample_countries)\n",
    "scatter_fig.show()  # Display the figure in Jupyter"
   ]
  },
  {
   "cell_type": "markdown",
   "id": "e513d75c291b9237",
   "metadata": {},
   "source": [
    "#### 3. Time Series Line Chart\n",
    "The time series chart tracks how metrics change over time for selected countries, which is crucial for understanding trends and making comparisons of historical patterns.\n",
    "\n",
    "**Best Use Cases:**\n",
    "- Tracking changes over time\n",
    "- Comparing rates of change across countries\n",
    "- Identifying key turning points or policy impacts"
   ]
  },
  {
   "cell_type": "code",
   "execution_count": 10,
   "id": "b9667af23dc94536",
   "metadata": {
    "ExecuteTime": {
     "end_time": "2025-03-22T16:32:18.431084Z",
     "start_time": "2025-03-22T16:32:18.377266Z"
    }
   },
   "outputs": [
    {
     "data": {
      "application/vnd.plotly.v1+json": {
       "config": {
        "plotlyServerURL": "https://plot.ly"
       },
       "data": [
        {
         "hovertemplate": "Country Name=Brazil<br>Year=%{x}<br>CO2 Emissions (kt)=%{y}<extra></extra>",
         "legendgroup": "Brazil",
         "line": {
          "color": "#636efa",
          "dash": "solid"
         },
         "marker": {
          "symbol": "circle"
         },
         "mode": "lines",
         "name": "Brazil",
         "orientation": "v",
         "showlegend": true,
         "type": "scatter",
         "x": {
          "bdata": "QAdBB0IHQwdEB0UHRgdHB0gHSQdKB0sHTAdNB04HTwdQB1EHUgdTB1QHVQdWB1cHWAdZB1oHWwdcB10HXgdfB2AHYQdiB2MHZAdlB2YHZwdoB2kHagdrB2wHbQduB28HcAdxB3IHcwd0B3UHdgd3B3gHeQd6B3sHfAd9B34HfweAB4EHggeDB4QHhQeGB4cHiAeJB4oHiweMB40HjgePB5AHkQeSB5MHlAeVB5YHlweYB5kHmgebB5wHnQeeB58HoAehB6IHowekB6UHpgenB6gHqQeqB6sHrAetB64HrwewB7EHsgezB7QHtQe2B7cHuAe5B7oHuwe8B70Hvge/B8AHwQfCB8MHxAfFB8YHxwfIB8kHygfLB8wHzQfOB88H0AfRB9IH0wfUB9UH1gfXB9gH2QfaB9sH3AfdB94H3wfgB+EH4gfjB+QH5QfmB+cH",
          "dtype": "i2"
         },
         "xaxis": "x",
         "y": {
          "bdata": "AAAAAMi7C0EAAAAA4GsQQQAAAAAMXhFBAAAAAKi/FkEAAAAASIsaQQAAAABQBxlBAAAAAPyvFUEAAAAAtP8ZQQAAAACARR1BAAAAAPJzIUEAAAAADLcjQQAAAACY7SBBAAAAAMT2JkEAAAAA6HYiQQAAAABuTiVBAAAAABzHKUEAAAAAGDIqQQAAAAAmZy9BAAAAAGxlLkEAAAAAzK0sQQAAAAByuilBAAAAALrOKkEAAAAApPksQQAAAAC8qChBAAAAADguLEEAAAAABHcvQQAAAABO7yxBAAAAAE7bMUEAAAAAN5IzQQAAAADoizJBAAAAAD/cMkEAAAAA7RI0QQAAAAB+lDNBAAAAADFjPEEAAAAAfSU6QQAAAADUnT9BAAAAAKxeQEEAAAAA5A0+QQAAAABVnEFBAAAAgKSxQEEAAAAAkvRDQQAAAAB73ERBAAAAgOt0REEAAAAAdu9DQQAAAADtVUFBAAAAgFepQUEAAAAAQn1DQQAAAIDyoUJBAAAAgMAiREEAAACA4OhFQQAAAAD+x0hBAAAAAI5lTEEAAACAbXRMQQAAAIBmME1BAAAAgFV9UUEAAAAAyYlUQQAAAABm5VRBAAAAgBVMV0EAAABAx8RRQQAAAID0gEhBAAAAgPfdREEAAACAIatFQQAAAADIRERBAAAAAMKkRkEAAAAAMz5OQQAAAIDhBUZBAAAAAP24TkEAAADAkUhSQQAAAIBzSlRBAAAAAGVgVEEAAAAAaN1UQQAAAABFCVdBAAAAQJg0V0EAAAAAuCxYQQAAAEDiE1ZBAAAAgMA0UkEAAADAUjxSQQAAAMAfwFNBAAAAwC6tU0EAAACALYRUQQAAAICmbVVBAAAAwHytWUEAAACAEmNbQQAAAIAma1VBAAAAgOORVUEAAACAd/VXQQAAAMAyYVZBAAAAwCqzWEEAAADAln1WQQAAAAAAB1pBAAAAQGR1XEEAAABg4RBhQQAAAECK711BAAAAACQaXEEAAAAAlL9yQQAAAEDtp3RBAAAAYHrHd0EAAACA2Ax4QQAAAKAGTXxBAAAAYEg5gEEAAABAznSBQQAAAABeJ4FBAAAAUFOfgkEAAADA05qCQQAAAGA3V4ZBAAAAkA1uh0EAAAAQlpCJQQAAAAC3eYpBAAAAYGQAi0EAAADABdaKQQAAAMBTmI5BAAAAYJ18j0EAAABYY2mSQQAAAJBZDJRBAAAAIBFKlkEAAABoKGaYQQAAACAoL5tBAAAAoFl8n0EAAAAofgyhQQAAAGia66FBAAAACDtuokEAAADA71qjQQAAAPgvHaVBAAAAHM9ipkEAAADEFjKmQQAAABxobKRBAAAAaMFxpEEAAAAc3MajQQAAAMjA+aNBAAAAKIt4pUEAAAAAPYOnQQAAAICijahBAAAAOFvCqEEAAAAo5UepQQAAAKDpEKpBAAAAoIxYq0EAAADQ79irQQAAAKCgH61BAAAAoIZHrkEAAABwswOwQQAAABiJPrFBAAAAiKtLskEAAACYg+qyQQAAAMCHgbNBAAAA2MdGtEEAAADcEqK0QQAAABx5urRBAAAAiN2KtEEAAACQC4u1QQAAADjct7VBAAAAWIb8tUEAAADIq0e3QQAAADBbmLhBAAAAmH47t0EAAADc+D26QQAAACBpkrtBAAAAiJezvUEAAADkDby/QQAAAGRyoMBBAAAAPEmNv0EAAADgvF69QQAAAD7xsr1BAAAAXHyDvEEAAADoWje8QQAAACRWibpBAAAAXCKvvUEAAABE0ta8QQAAAMDx/rxB",
          "dtype": "f8"
         },
         "yaxis": "y"
        },
        {
         "hovertemplate": "Country Name=China<br>Year=%{x}<br>CO2 Emissions (kt)=%{y}<extra></extra>",
         "legendgroup": "China",
         "line": {
          "color": "#EF553B",
          "dash": "solid"
         },
         "marker": {
          "symbol": "circle"
         },
         "mode": "lines",
         "name": "China",
         "orientation": "v",
         "showlegend": true,
         "type": "scatter",
         "x": {
          "bdata": "cwd0B3UHdgd3B3gHeQd6B3sHfAd9B34HfweAB4EHggeDB4QHhQeGB4cHiAeJB4oHiweMB40HjgePB5AHkQeSB5MHlAeVB5YHlweYB5kHmgebB5wHnQeeB58HoAehB6IHowekB6UHpgenB6gHqQeqB6sHrAetB64HrwewB7EHsgezB7QHtQe2B7cHuAe5B7oHuwe8B70Hvge/B8AHwQfCB8MHxAfFB8YHxwfIB8kHygfLB8wHzQfOB88H0AfRB9IH0wfUB9UH1gfXB9gH2QfaB9sH3AfdB94H3wfgB+EH4gfjB+QH5QfmB+cH",
          "dtype": "i2"
         },
         "xaxis": "x",
         "y": {
          "bdata": "AAAAAOf4ckEAAADgvq51QQAAAIDLIHdBAAAA4NHZd0EAAACgTn13QQAAACCCPXBBAAAAgMsgd0EAAAAADXt5QQAAACAyPnhBAAAAICC8fEEAAACAOYp+QQAAAOCxkYBBAAAAgFcegkEAAADAzTSDQQAAAGDHe4JBAAAAIFYPg0EAAACgaS6GQQAAACCoSodBAAAAwLjphUEAAAAgnNGEQQAAACDe14VBAAAAoICxhkEAAAAgxwWHQQAAAMCdoYdBAAAAoATAiEEAAADwXviHQQAAAGBezYlBAAAAIBG/jUEAAABI9VGRQQAAAAjE/pFBAAAAKJXrkEEAAACA6EKNQQAAALipvpFBAAAACGqllUEAAAAosyybQQAAACDnbJ5BAAAAsH/8mUEAAADI1o6YQQAAAJDHpopBAAAAUJk3gUEAAABA8/KDQQAAAECDT4JBAAAAYEKajUEAAABoucuSQQAAACieWJhBAAAAiHWEnkEAAACAdeWfQQAAALCWLaNBAAAA6EC2pkEAAADYbLqpQQAAAADwfa5BAAAAZAVFv0EAAAD/UXbFQQAAACJczsdBAAAAHJABwUEAAAAgN2W7QQAAAMTmObtBAAAArMN0u0EAAACiw9G9QQAAAJ4KYMBBAAAAbH1uu0EAAACA1Ii9QQAAAHJBHMJBAAAAgDAUyEEAAAAyuBjLQQAAAOEt3sxBAAAAfKkMzkEAAACAx6POQQAAAGabodFBAAAA9GxG0kEAAABf3frTQQAAAOt+PtZBAAAAhO+71kEAAACnDEXWQQAAAJ5aANZBAAAAqqLw10EAAACY7D7ZQQAAANh1fdtBAAAA7hTG3UEAAADm71rfQQAAgGBL0uBBAAAAXAYT4kEAAABADFviQQAAAAJ8g+JBAACA3Ltq40EAAABikFjkQQAAAGebxOVBAAAAj+kf50EAAABR0AvpQQAAACOKJOpBAAAAu3Yx6kEAAID9cBHpQQAAAH32gOpBAACA4Fgw60EAAIBgkcfrQQAAAKDwke5BAADAvtkI8kEAAIBVp2/zQQAAACKd6fVBAAAA4nkx+EEAAICgBwT6QQAAQD388ftBAAAAt4Rl/UEAAABonA4AQgAAAL9ewQFCAAAAOyE3AkIAAEAxjIsCQgAAQMu5mwJCAABAR0NfAkIAAICMOS8CQgAAwGplowJCAABAryc/A0IAAABg0/QDQgAAQFo9UARCAABAUcpSBUIAAIC4WyQFQgAAwEKOKwZC",
          "dtype": "f8"
         },
         "yaxis": "y"
        },
        {
         "hovertemplate": "Country Name=Germany<br>Year=%{x}<br>CO2 Emissions (kt)=%{y}<extra></extra>",
         "legendgroup": "Germany",
         "line": {
          "color": "#00cc96",
          "dash": "solid"
         },
         "marker": {
          "symbol": "circle"
         },
         "mode": "lines",
         "name": "Germany",
         "orientation": "v",
         "showlegend": true,
         "type": "scatter",
         "x": {
          "bdata": "AAcBBwIHAwcEBwUHBgcHBwgHCQcKBwsHDAcNBw4HDwcQBxEHEgcTBxQHFQcWBxcHGAcZBxoHGwccBx0HHgcfByAHIQciByMHJAclByYHJwcoBykHKgcrBywHLQcuBy8HMAcxBzIHMwc0BzUHNgc3BzgHOQc6BzsHPAc9Bz4HPwdAB0EHQgdDB0QHRQdGB0cHSAdJB0oHSwdMB00HTgdPB1AHUQdSB1MHVAdVB1YHVwdYB1kHWgdbB1wHXQdeB18HYAdhB2IHYwdkB2UHZgdnB2gHaQdqB2sHbAdtB24HbwdwB3EHcgdzB3QHdQd2B3cHeAd5B3oHewd8B30Hfgd/B4AHgQeCB4MHhAeFB4YHhweIB4kHigeLB4wHjQeOB48HkAeRB5IHkweUB5UHlgeXB5gHmQeaB5sHnAedB54HnwegB6EHogejB6QHpQemB6cHqAepB6oHqwesB60HrgevB7AHsQeyB7MHtAe1B7YHtwe4B7kHuge7B7wHvQe+B78HwAfBB8IHwwfEB8UHxgfHB8gHyQfKB8sHzAfNB84HzwfQB9EH0gfTB9QH1QfWB9cH2AfZB9oH2wfcB90H3gffB+AH4QfiB+MH5AflB+YH5wc=",
          "dtype": "i2"
         },
         "xaxis": "x",
         "y": {
          "bdata": "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",
          "dtype": "f8"
         },
         "yaxis": "y"
        },
        {
         "hovertemplate": "Country Name=India<br>Year=%{x}<br>CO2 Emissions (kt)=%{y}<extra></extra>",
         "legendgroup": "India",
         "line": {
          "color": "#ab63fa",
          "dash": "solid"
         },
         "marker": {
          "symbol": "circle"
         },
         "mode": "lines",
         "name": "India",
         "orientation": "v",
         "showlegend": true,
         "type": "scatter",
         "x": {
          "bdata": "QgdDB0QHRQdGB0cHSAdJB0oHVgdXB1gHWQdaB1sHXAddB14HXwdgB2EHYgdjB2QHZQdmB2cHaAdpB2oHawdsB20HbgdvB3AHcQdyB3MHdAd1B3YHdwd4B3kHegd7B3wHfQd+B38HgAeBB4IHgweEB4UHhgeHB4gHiQeKB4sHjAeNB44HjweQB5EHkgeTB5QHlQeWB5cHmAeZB5oHmwecB50HngefB6AHoQeiB6MHpAelB6YHpweoB6kHqgerB6wHrQeuB68HsAexB7IHswe0B7UHtge3B7gHuQe6B7sHvAe9B74HvwfAB8EHwgfDB8QHxQfGB8cHyAfJB8oHywfMB80HzgfPB9AH0QfSB9MH1AfVB9YH1wfYB9kH2gfbB9wH3QfeB98H4AfhB+IH4wfkB+UH5gfnBw==",
          "dtype": "i2"
         },
         "xaxis": "x",
         "y": {
          "bdata": "AAAAAOATGEEAAAAAimwjQQAAAABWoCNBAAAAAJhZHkEAAAAALMsgQQAAAABanSJBAAAAAFyaIUEAAAAAqkwhQQAAAABwhiNBAAAAAPz1OkEAAAAAnrM5QQAAAAA1yjxBAAAAAOUQPEEAAACAosFAQQAAAABln0JBAAAAAA7UREEAAACAhMNCQQAAAIAuJkVBAAAAgE9kR0EAAAAASANKQZqZmZkhr05BAAAAQM3nUEEAAADAkDRSQQAAAIBOBFRBAAAAQEUlVUEAAAAAEG1VQQAAAIDT1VpBAAAAgLYFXUEAAABA73tfQQAAACCoZ2FBAAAAwGktY0EAAAAg+8BmQQAAAKBjI2lBAAAAwJuva0EAAAAgmTtsQQAAAOBtlm9BAAAAAHolcEEAAACAzqRyQQAAAACHw3RBAAAAIB3Bd0EAAACgMwZ3QQAAAEA1ZnZBAAAA4Gaid0EAAABgPjN7QQAAAIBQAn5BAAAAAM46fkEAAACAPZt/QQAAACD89n9BAAAA0N+ygEEAAABwmsSCQQAAAEDxfYRBAAAAQFiggEEAAACAT+KBQQAAAFDOmIFBAAAAkD0bgkEAAABwd1+DQQAAABAuHYNBAAAAoM0Lg0EAAABgxPiDQQAAAAC4G4NBAAAAIEvjg0EAAABAuDeEQQAAAICOhoJBAAAAIFY6gUEAAABggumAQQAAALBU44JBAAAAgOG8g0EAAAAAXmaDQQAAAKBgfYVBAAAAQNwFiEEAAAAAj4OHQQAAANBw8YhBAAAAYKmMiUEAAAAAXoaJQQAAAEDmPYZBAAAAoEO+hkEAAACgWTaJQQAAAEAf54hBAAAAwLtbiUEAAACAo16JQQAAAADeyopBAAAAAM8ijUEAAAAgM4eOQQAAAHBdE5BBAAAA4GhhkEEAAADgxkORQQAAAHDSyJJBAAAAyOh3k0EAAABY+tiVQQAAAKAh2JZBAAAAYNkvmEEAAADovYqaQQAAALjktJxBAAAAoCKcn0EAAADYDPugQQAAABzYoKBBAAAAaJxSokEAAACcsP+iQQAAANhBBaNBAAAApCzApEEAAADgOSalQQAAACC8qaVBAAAAQETipkEAAACYKjSoQQAAAAAT7ahBAAAA+FC7qUEAAADAfuurQQAAAIgoLa1BAAAAhOLerkEAAAAEsF6vQQAAAETFd7BBAAAAfChjsUEAAACkAMayQQAAAKDnZLNBAAAAwiD+tEEAAACk9Yy1QQAAACTGsrdBAAAABPdouUEAAADA+yO7QQAAAICgTr1BAAAALtccwEEAAABwwjnBQQAAAMTcVsJBAAAAAKqIw0EAAAAeYi/EQQAAAL7fR8VBAAAAn9ypxkEAAAAuuovIQQAAACAbkslBAAAA35wZykEAAAAeCqLMQQAAAM75Zc1BAAAAtmnRzUEAAAAMmsLOQQAAAMAv0s9BAAAAhDXl0EEAAAAkAs3RQQAAAP5vQtNBAAAAJP2/1EEAAAC2wDHWQQAAAPsdBthBAAAAnIj+2EEAAAD010vaQQAAAB32sdxBAAAA/bG63UEAAAD/owHgQQAAgH1vpeBBAAAAWieL4UEAAACaYhTiQQAAAIHdUeNBAAAAOLB340EAAABwvgriQQAAAF2s7ONBAAAAXwUY5UEAAICi69DmQQ==",
          "dtype": "f8"
         },
         "yaxis": "y"
        },
        {
         "hovertemplate": "Country Name=United States<br>Year=%{x}<br>CO2 Emissions (kt)=%{y}<extra></extra>",
         "legendgroup": "United States",
         "line": {
          "color": "#FFA15A",
          "dash": "solid"
         },
         "marker": {
          "symbol": "circle"
         },
         "mode": "lines",
         "name": "United States",
         "orientation": "v",
         "showlegend": true,
         "type": "scatter",
         "x": {
          "bdata": "CAcJBwoHCwcMBw0HDgcPBxAHEQcSBxMHFAcVBxYHFwcYBxkHGgcbBxwHHQceBx8HIAchByIHIwckByUHJgcnBygHKQcqBysHLActBy4HLwcwBzEHMgczBzQHNQc2BzcHOAc5BzoHOwc8Bz0HPgc/B0AHQQdCB0MHRAdFB0YHRwdIB0kHSgdLB0wHTQdOB08HUAdRB1IHUwdUB1UHVgdXB1gHWQdaB1sHXAddB14HXwdgB2EHYgdjB2QHZQdmB2cHaAdpB2oHawdsB20HbgdvB3AHcQdyB3MHdAd1B3YHdwd4B3kHegd7B3wHfQd+B38HgAeBB4IHgweEB4UHhgeHB4gHiQeKB4sHjAeNB44HjweQB5EHkgeTB5QHlQeWB5cHmAeZB5oHmwecB50HngefB6AHoQeiB6MHpAelB6YHpweoB6kHqgerB6wHrQeuB68HsAexB7IHswe0B7UHtge3B7gHuQe6B7sHvAe9B74HvwfAB8EHwgfDB8QHxQfGB8cHyAfJB8oHywfMB80HzgfPB9AH0QfSB9MH1AfVB9YH1wfYB9kH2gfbB9wH3QfeB98H4AfhB+IH4wfkB+UH5gfnBw==",
          "dtype": "i2"
         },
         "xaxis": "x",
         "y": {
          "bdata": "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",
          "dtype": "f8"
         },
         "yaxis": "y"
        }
       ],
       "layout": {
        "legend": {
         "title": {
          "text": "Country"
         },
         "tracegroupgap": 0
        },
        "template": {
         "data": {
          "bar": [
           {
            "error_x": {
             "color": "#2a3f5f"
            },
            "error_y": {
             "color": "#2a3f5f"
            },
            "marker": {
             "line": {
              "color": "#E5ECF6",
              "width": 0.5
             },
             "pattern": {
              "fillmode": "overlay",
              "size": 10,
              "solidity": 0.2
             }
            },
            "type": "bar"
           }
          ],
          "barpolar": [
           {
            "marker": {
             "line": {
              "color": "#E5ECF6",
              "width": 0.5
             },
             "pattern": {
              "fillmode": "overlay",
              "size": 10,
              "solidity": 0.2
             }
            },
            "type": "barpolar"
           }
          ],
          "carpet": [
           {
            "aaxis": {
             "endlinecolor": "#2a3f5f",
             "gridcolor": "white",
             "linecolor": "white",
             "minorgridcolor": "white",
             "startlinecolor": "#2a3f5f"
            },
            "baxis": {
             "endlinecolor": "#2a3f5f",
             "gridcolor": "white",
             "linecolor": "white",
             "minorgridcolor": "white",
             "startlinecolor": "#2a3f5f"
            },
            "type": "carpet"
           }
          ],
          "choropleth": [
           {
            "colorbar": {
             "outlinewidth": 0,
             "ticks": ""
            },
            "type": "choropleth"
           }
          ],
          "contour": [
           {
            "colorbar": {
             "outlinewidth": 0,
             "ticks": ""
            },
            "colorscale": [
             [
              0,
              "#0d0887"
             ],
             [
              0.1111111111111111,
              "#46039f"
             ],
             [
              0.2222222222222222,
              "#7201a8"
             ],
             [
              0.3333333333333333,
              "#9c179e"
             ],
             [
              0.4444444444444444,
              "#bd3786"
             ],
             [
              0.5555555555555556,
              "#d8576b"
             ],
             [
              0.6666666666666666,
              "#ed7953"
             ],
             [
              0.7777777777777778,
              "#fb9f3a"
             ],
             [
              0.8888888888888888,
              "#fdca26"
             ],
             [
              1,
              "#f0f921"
             ]
            ],
            "type": "contour"
           }
          ],
          "contourcarpet": [
           {
            "colorbar": {
             "outlinewidth": 0,
             "ticks": ""
            },
            "type": "contourcarpet"
           }
          ],
          "heatmap": [
           {
            "colorbar": {
             "outlinewidth": 0,
             "ticks": ""
            },
            "colorscale": [
             [
              0,
              "#0d0887"
             ],
             [
              0.1111111111111111,
              "#46039f"
             ],
             [
              0.2222222222222222,
              "#7201a8"
             ],
             [
              0.3333333333333333,
              "#9c179e"
             ],
             [
              0.4444444444444444,
              "#bd3786"
             ],
             [
              0.5555555555555556,
              "#d8576b"
             ],
             [
              0.6666666666666666,
              "#ed7953"
             ],
             [
              0.7777777777777778,
              "#fb9f3a"
             ],
             [
              0.8888888888888888,
              "#fdca26"
             ],
             [
              1,
              "#f0f921"
             ]
            ],
            "type": "heatmap"
           }
          ],
          "histogram": [
           {
            "marker": {
             "pattern": {
              "fillmode": "overlay",
              "size": 10,
              "solidity": 0.2
             }
            },
            "type": "histogram"
           }
          ],
          "histogram2d": [
           {
            "colorbar": {
             "outlinewidth": 0,
             "ticks": ""
            },
            "colorscale": [
             [
              0,
              "#0d0887"
             ],
             [
              0.1111111111111111,
              "#46039f"
             ],
             [
              0.2222222222222222,
              "#7201a8"
             ],
             [
              0.3333333333333333,
              "#9c179e"
             ],
             [
              0.4444444444444444,
              "#bd3786"
             ],
             [
              0.5555555555555556,
              "#d8576b"
             ],
             [
              0.6666666666666666,
              "#ed7953"
             ],
             [
              0.7777777777777778,
              "#fb9f3a"
             ],
             [
              0.8888888888888888,
              "#fdca26"
             ],
             [
              1,
              "#f0f921"
             ]
            ],
            "type": "histogram2d"
           }
          ],
          "histogram2dcontour": [
           {
            "colorbar": {
             "outlinewidth": 0,
             "ticks": ""
            },
            "colorscale": [
             [
              0,
              "#0d0887"
             ],
             [
              0.1111111111111111,
              "#46039f"
             ],
             [
              0.2222222222222222,
              "#7201a8"
             ],
             [
              0.3333333333333333,
              "#9c179e"
             ],
             [
              0.4444444444444444,
              "#bd3786"
             ],
             [
              0.5555555555555556,
              "#d8576b"
             ],
             [
              0.6666666666666666,
              "#ed7953"
             ],
             [
              0.7777777777777778,
              "#fb9f3a"
             ],
             [
              0.8888888888888888,
              "#fdca26"
             ],
             [
              1,
              "#f0f921"
             ]
            ],
            "type": "histogram2dcontour"
           }
          ],
          "mesh3d": [
           {
            "colorbar": {
             "outlinewidth": 0,
             "ticks": ""
            },
            "type": "mesh3d"
           }
          ],
          "parcoords": [
           {
            "line": {
             "colorbar": {
              "outlinewidth": 0,
              "ticks": ""
             }
            },
            "type": "parcoords"
           }
          ],
          "pie": [
           {
            "automargin": true,
            "type": "pie"
           }
          ],
          "scatter": [
           {
            "fillpattern": {
             "fillmode": "overlay",
             "size": 10,
             "solidity": 0.2
            },
            "type": "scatter"
           }
          ],
          "scatter3d": [
           {
            "line": {
             "colorbar": {
              "outlinewidth": 0,
              "ticks": ""
             }
            },
            "marker": {
             "colorbar": {
              "outlinewidth": 0,
              "ticks": ""
             }
            },
            "type": "scatter3d"
           }
          ],
          "scattercarpet": [
           {
            "marker": {
             "colorbar": {
              "outlinewidth": 0,
              "ticks": ""
             }
            },
            "type": "scattercarpet"
           }
          ],
          "scattergeo": [
           {
            "marker": {
             "colorbar": {
              "outlinewidth": 0,
              "ticks": ""
             }
            },
            "type": "scattergeo"
           }
          ],
          "scattergl": [
           {
            "marker": {
             "colorbar": {
              "outlinewidth": 0,
              "ticks": ""
             }
            },
            "type": "scattergl"
           }
          ],
          "scattermap": [
           {
            "marker": {
             "colorbar": {
              "outlinewidth": 0,
              "ticks": ""
             }
            },
            "type": "scattermap"
           }
          ],
          "scattermapbox": [
           {
            "marker": {
             "colorbar": {
              "outlinewidth": 0,
              "ticks": ""
             }
            },
            "type": "scattermapbox"
           }
          ],
          "scatterpolar": [
           {
            "marker": {
             "colorbar": {
              "outlinewidth": 0,
              "ticks": ""
             }
            },
            "type": "scatterpolar"
           }
          ],
          "scatterpolargl": [
           {
            "marker": {
             "colorbar": {
              "outlinewidth": 0,
              "ticks": ""
             }
            },
            "type": "scatterpolargl"
           }
          ],
          "scatterternary": [
           {
            "marker": {
             "colorbar": {
              "outlinewidth": 0,
              "ticks": ""
             }
            },
            "type": "scatterternary"
           }
          ],
          "surface": [
           {
            "colorbar": {
             "outlinewidth": 0,
             "ticks": ""
            },
            "colorscale": [
             [
              0,
              "#0d0887"
             ],
             [
              0.1111111111111111,
              "#46039f"
             ],
             [
              0.2222222222222222,
              "#7201a8"
             ],
             [
              0.3333333333333333,
              "#9c179e"
             ],
             [
              0.4444444444444444,
              "#bd3786"
             ],
             [
              0.5555555555555556,
              "#d8576b"
             ],
             [
              0.6666666666666666,
              "#ed7953"
             ],
             [
              0.7777777777777778,
              "#fb9f3a"
             ],
             [
              0.8888888888888888,
              "#fdca26"
             ],
             [
              1,
              "#f0f921"
             ]
            ],
            "type": "surface"
           }
          ],
          "table": [
           {
            "cells": {
             "fill": {
              "color": "#EBF0F8"
             },
             "line": {
              "color": "white"
             }
            },
            "header": {
             "fill": {
              "color": "#C8D4E3"
             },
             "line": {
              "color": "white"
             }
            },
            "type": "table"
           }
          ]
         },
         "layout": {
          "annotationdefaults": {
           "arrowcolor": "#2a3f5f",
           "arrowhead": 0,
           "arrowwidth": 1
          },
          "autotypenumbers": "strict",
          "coloraxis": {
           "colorbar": {
            "outlinewidth": 0,
            "ticks": ""
           }
          },
          "colorscale": {
           "diverging": [
            [
             0,
             "#8e0152"
            ],
            [
             0.1,
             "#c51b7d"
            ],
            [
             0.2,
             "#de77ae"
            ],
            [
             0.3,
             "#f1b6da"
            ],
            [
             0.4,
             "#fde0ef"
            ],
            [
             0.5,
             "#f7f7f7"
            ],
            [
             0.6,
             "#e6f5d0"
            ],
            [
             0.7,
             "#b8e186"
            ],
            [
             0.8,
             "#7fbc41"
            ],
            [
             0.9,
             "#4d9221"
            ],
            [
             1,
             "#276419"
            ]
           ],
           "sequential": [
            [
             0,
             "#0d0887"
            ],
            [
             0.1111111111111111,
             "#46039f"
            ],
            [
             0.2222222222222222,
             "#7201a8"
            ],
            [
             0.3333333333333333,
             "#9c179e"
            ],
            [
             0.4444444444444444,
             "#bd3786"
            ],
            [
             0.5555555555555556,
             "#d8576b"
            ],
            [
             0.6666666666666666,
             "#ed7953"
            ],
            [
             0.7777777777777778,
             "#fb9f3a"
            ],
            [
             0.8888888888888888,
             "#fdca26"
            ],
            [
             1,
             "#f0f921"
            ]
           ],
           "sequentialminus": [
            [
             0,
             "#0d0887"
            ],
            [
             0.1111111111111111,
             "#46039f"
            ],
            [
             0.2222222222222222,
             "#7201a8"
            ],
            [
             0.3333333333333333,
             "#9c179e"
            ],
            [
             0.4444444444444444,
             "#bd3786"
            ],
            [
             0.5555555555555556,
             "#d8576b"
            ],
            [
             0.6666666666666666,
             "#ed7953"
            ],
            [
             0.7777777777777778,
             "#fb9f3a"
            ],
            [
             0.8888888888888888,
             "#fdca26"
            ],
            [
             1,
             "#f0f921"
            ]
           ]
          },
          "colorway": [
           "#636efa",
           "#EF553B",
           "#00cc96",
           "#ab63fa",
           "#FFA15A",
           "#19d3f3",
           "#FF6692",
           "#B6E880",
           "#FF97FF",
           "#FECB52"
          ],
          "font": {
           "color": "#2a3f5f"
          },
          "geo": {
           "bgcolor": "white",
           "lakecolor": "white",
           "landcolor": "#E5ECF6",
           "showlakes": true,
           "showland": true,
           "subunitcolor": "white"
          },
          "hoverlabel": {
           "align": "left"
          },
          "hovermode": "closest",
          "mapbox": {
           "style": "light"
          },
          "paper_bgcolor": "white",
          "plot_bgcolor": "#E5ECF6",
          "polar": {
           "angularaxis": {
            "gridcolor": "white",
            "linecolor": "white",
            "ticks": ""
           },
           "bgcolor": "#E5ECF6",
           "radialaxis": {
            "gridcolor": "white",
            "linecolor": "white",
            "ticks": ""
           }
          },
          "scene": {
           "xaxis": {
            "backgroundcolor": "#E5ECF6",
            "gridcolor": "white",
            "gridwidth": 2,
            "linecolor": "white",
            "showbackground": true,
            "ticks": "",
            "zerolinecolor": "white"
           },
           "yaxis": {
            "backgroundcolor": "#E5ECF6",
            "gridcolor": "white",
            "gridwidth": 2,
            "linecolor": "white",
            "showbackground": true,
            "ticks": "",
            "zerolinecolor": "white"
           },
           "zaxis": {
            "backgroundcolor": "#E5ECF6",
            "gridcolor": "white",
            "gridwidth": 2,
            "linecolor": "white",
            "showbackground": true,
            "ticks": "",
            "zerolinecolor": "white"
           }
          },
          "shapedefaults": {
           "line": {
            "color": "#2a3f5f"
           }
          },
          "ternary": {
           "aaxis": {
            "gridcolor": "white",
            "linecolor": "white",
            "ticks": ""
           },
           "baxis": {
            "gridcolor": "white",
            "linecolor": "white",
            "ticks": ""
           },
           "bgcolor": "#E5ECF6",
           "caxis": {
            "gridcolor": "white",
            "linecolor": "white",
            "ticks": ""
           }
          },
          "title": {
           "x": 0.05
          },
          "xaxis": {
           "automargin": true,
           "gridcolor": "white",
           "linecolor": "white",
           "ticks": "",
           "title": {
            "standoff": 15
           },
           "zerolinecolor": "white",
           "zerolinewidth": 2
          },
          "yaxis": {
           "automargin": true,
           "gridcolor": "white",
           "linecolor": "white",
           "ticks": "",
           "title": {
            "standoff": 15
           },
           "zerolinecolor": "white",
           "zerolinewidth": 2
          }
         }
        },
        "title": {
         "text": "CO2 Emissions Over Time"
        },
        "xaxis": {
         "anchor": "y",
         "domain": [
          0,
          1
         ],
         "title": {
          "text": "Year"
         }
        },
        "yaxis": {
         "anchor": "x",
         "domain": [
          0,
          1
         ],
         "title": {
          "text": "CO2 Emissions"
         }
        }
       }
      }
     },
     "metadata": {},
     "output_type": "display_data"
    }
   ],
   "source": [
    "# Cell 4: Time Series Function\n",
    "def create_time_series(df, selected_countries, selected_metric, metrics):\n",
    "    \"\"\"Create a time series plot for selected countries and metric.\"\"\"\n",
    "    # Filter data for selected countries\n",
    "    filtered_df = df[df['Country Name'].isin(selected_countries)].dropna(subset=[selected_metric])\n",
    "\n",
    "    # Create time series plot\n",
    "    fig = px.line(\n",
    "        filtered_df,\n",
    "        x='Year',\n",
    "        y=selected_metric,\n",
    "        color='Country Name',\n",
    "        title=f'{metrics[selected_metric]} Over Time'\n",
    "    )\n",
    "\n",
    "    fig.update_layout(\n",
    "        xaxis_title='Year',\n",
    "        yaxis_title=metrics[selected_metric],\n",
    "        legend_title='Country'\n",
    "    )\n",
    "\n",
    "    return fig\n",
    "\n",
    "# Test the function with sample data - using yearly totals\n",
    "time_series_fig = create_time_series(df, sample_countries, 'CO2 Emissions (kt)', metrics)\n",
    "time_series_fig.show()  # Display the figure in Jupyter"
   ]
  },
  {
   "cell_type": "markdown",
   "id": "c1a215eaf75538f2",
   "metadata": {},
   "source": [
    "#### 4. Bar Chart\n",
    "Our bar chart provides direct comparisons between selected countries for a given year and metric, making differences immediately apparent.\n",
    "\n",
    "**Best Use Cases:**\n",
    "- Direct comparison between a small number of entities\n",
    "- Ranking countries by a specific metric\n",
    "- Highlighting specific differences"
   ]
  },
  {
   "cell_type": "code",
   "execution_count": 11,
   "id": "5e7731366f4e3bf8",
   "metadata": {
    "ExecuteTime": {
     "end_time": "2025-03-22T16:32:45.830062Z",
     "start_time": "2025-03-22T16:32:45.753306Z"
    }
   },
   "outputs": [
    {
     "data": {
      "application/vnd.plotly.v1+json": {
       "config": {
        "plotlyServerURL": "https://plot.ly"
       },
       "data": [
        {
         "hovertemplate": "Country Name=%{x}<br>CO2 Emissions (kt)=%{y}<extra></extra>",
         "legendgroup": "",
         "marker": {
          "color": "#636efa",
          "pattern": {
           "shape": ""
          }
         },
         "name": "",
         "orientation": "v",
         "showlegend": false,
         "textposition": "auto",
         "type": "bar",
         "x": [
          "Brazil",
          "Germany",
          "India",
          "United States",
          "China"
         ],
         "xaxis": "x",
         "y": {
          "bdata": "AAAAPEmNv0EAAABq9d3HQQAAgH1vpeBBAACAemcH9EEAAEBHQ18CQg==",
          "dtype": "f8"
         },
         "yaxis": "y"
        }
       ],
       "layout": {
        "barmode": "relative",
        "legend": {
         "tracegroupgap": 0
        },
        "template": {
         "data": {
          "bar": [
           {
            "error_x": {
             "color": "#2a3f5f"
            },
            "error_y": {
             "color": "#2a3f5f"
            },
            "marker": {
             "line": {
              "color": "#E5ECF6",
              "width": 0.5
             },
             "pattern": {
              "fillmode": "overlay",
              "size": 10,
              "solidity": 0.2
             }
            },
            "type": "bar"
           }
          ],
          "barpolar": [
           {
            "marker": {
             "line": {
              "color": "#E5ECF6",
              "width": 0.5
             },
             "pattern": {
              "fillmode": "overlay",
              "size": 10,
              "solidity": 0.2
             }
            },
            "type": "barpolar"
           }
          ],
          "carpet": [
           {
            "aaxis": {
             "endlinecolor": "#2a3f5f",
             "gridcolor": "white",
             "linecolor": "white",
             "minorgridcolor": "white",
             "startlinecolor": "#2a3f5f"
            },
            "baxis": {
             "endlinecolor": "#2a3f5f",
             "gridcolor": "white",
             "linecolor": "white",
             "minorgridcolor": "white",
             "startlinecolor": "#2a3f5f"
            },
            "type": "carpet"
           }
          ],
          "choropleth": [
           {
            "colorbar": {
             "outlinewidth": 0,
             "ticks": ""
            },
            "type": "choropleth"
           }
          ],
          "contour": [
           {
            "colorbar": {
             "outlinewidth": 0,
             "ticks": ""
            },
            "colorscale": [
             [
              0,
              "#0d0887"
             ],
             [
              0.1111111111111111,
              "#46039f"
             ],
             [
              0.2222222222222222,
              "#7201a8"
             ],
             [
              0.3333333333333333,
              "#9c179e"
             ],
             [
              0.4444444444444444,
              "#bd3786"
             ],
             [
              0.5555555555555556,
              "#d8576b"
             ],
             [
              0.6666666666666666,
              "#ed7953"
             ],
             [
              0.7777777777777778,
              "#fb9f3a"
             ],
             [
              0.8888888888888888,
              "#fdca26"
             ],
             [
              1,
              "#f0f921"
             ]
            ],
            "type": "contour"
           }
          ],
          "contourcarpet": [
           {
            "colorbar": {
             "outlinewidth": 0,
             "ticks": ""
            },
            "type": "contourcarpet"
           }
          ],
          "heatmap": [
           {
            "colorbar": {
             "outlinewidth": 0,
             "ticks": ""
            },
            "colorscale": [
             [
              0,
              "#0d0887"
             ],
             [
              0.1111111111111111,
              "#46039f"
             ],
             [
              0.2222222222222222,
              "#7201a8"
             ],
             [
              0.3333333333333333,
              "#9c179e"
             ],
             [
              0.4444444444444444,
              "#bd3786"
             ],
             [
              0.5555555555555556,
              "#d8576b"
             ],
             [
              0.6666666666666666,
              "#ed7953"
             ],
             [
              0.7777777777777778,
              "#fb9f3a"
             ],
             [
              0.8888888888888888,
              "#fdca26"
             ],
             [
              1,
              "#f0f921"
             ]
            ],
            "type": "heatmap"
           }
          ],
          "histogram": [
           {
            "marker": {
             "pattern": {
              "fillmode": "overlay",
              "size": 10,
              "solidity": 0.2
             }
            },
            "type": "histogram"
           }
          ],
          "histogram2d": [
           {
            "colorbar": {
             "outlinewidth": 0,
             "ticks": ""
            },
            "colorscale": [
             [
              0,
              "#0d0887"
             ],
             [
              0.1111111111111111,
              "#46039f"
             ],
             [
              0.2222222222222222,
              "#7201a8"
             ],
             [
              0.3333333333333333,
              "#9c179e"
             ],
             [
              0.4444444444444444,
              "#bd3786"
             ],
             [
              0.5555555555555556,
              "#d8576b"
             ],
             [
              0.6666666666666666,
              "#ed7953"
             ],
             [
              0.7777777777777778,
              "#fb9f3a"
             ],
             [
              0.8888888888888888,
              "#fdca26"
             ],
             [
              1,
              "#f0f921"
             ]
            ],
            "type": "histogram2d"
           }
          ],
          "histogram2dcontour": [
           {
            "colorbar": {
             "outlinewidth": 0,
             "ticks": ""
            },
            "colorscale": [
             [
              0,
              "#0d0887"
             ],
             [
              0.1111111111111111,
              "#46039f"
             ],
             [
              0.2222222222222222,
              "#7201a8"
             ],
             [
              0.3333333333333333,
              "#9c179e"
             ],
             [
              0.4444444444444444,
              "#bd3786"
             ],
             [
              0.5555555555555556,
              "#d8576b"
             ],
             [
              0.6666666666666666,
              "#ed7953"
             ],
             [
              0.7777777777777778,
              "#fb9f3a"
             ],
             [
              0.8888888888888888,
              "#fdca26"
             ],
             [
              1,
              "#f0f921"
             ]
            ],
            "type": "histogram2dcontour"
           }
          ],
          "mesh3d": [
           {
            "colorbar": {
             "outlinewidth": 0,
             "ticks": ""
            },
            "type": "mesh3d"
           }
          ],
          "parcoords": [
           {
            "line": {
             "colorbar": {
              "outlinewidth": 0,
              "ticks": ""
             }
            },
            "type": "parcoords"
           }
          ],
          "pie": [
           {
            "automargin": true,
            "type": "pie"
           }
          ],
          "scatter": [
           {
            "fillpattern": {
             "fillmode": "overlay",
             "size": 10,
             "solidity": 0.2
            },
            "type": "scatter"
           }
          ],
          "scatter3d": [
           {
            "line": {
             "colorbar": {
              "outlinewidth": 0,
              "ticks": ""
             }
            },
            "marker": {
             "colorbar": {
              "outlinewidth": 0,
              "ticks": ""
             }
            },
            "type": "scatter3d"
           }
          ],
          "scattercarpet": [
           {
            "marker": {
             "colorbar": {
              "outlinewidth": 0,
              "ticks": ""
             }
            },
            "type": "scattercarpet"
           }
          ],
          "scattergeo": [
           {
            "marker": {
             "colorbar": {
              "outlinewidth": 0,
              "ticks": ""
             }
            },
            "type": "scattergeo"
           }
          ],
          "scattergl": [
           {
            "marker": {
             "colorbar": {
              "outlinewidth": 0,
              "ticks": ""
             }
            },
            "type": "scattergl"
           }
          ],
          "scattermap": [
           {
            "marker": {
             "colorbar": {
              "outlinewidth": 0,
              "ticks": ""
             }
            },
            "type": "scattermap"
           }
          ],
          "scattermapbox": [
           {
            "marker": {
             "colorbar": {
              "outlinewidth": 0,
              "ticks": ""
             }
            },
            "type": "scattermapbox"
           }
          ],
          "scatterpolar": [
           {
            "marker": {
             "colorbar": {
              "outlinewidth": 0,
              "ticks": ""
             }
            },
            "type": "scatterpolar"
           }
          ],
          "scatterpolargl": [
           {
            "marker": {
             "colorbar": {
              "outlinewidth": 0,
              "ticks": ""
             }
            },
            "type": "scatterpolargl"
           }
          ],
          "scatterternary": [
           {
            "marker": {
             "colorbar": {
              "outlinewidth": 0,
              "ticks": ""
             }
            },
            "type": "scatterternary"
           }
          ],
          "surface": [
           {
            "colorbar": {
             "outlinewidth": 0,
             "ticks": ""
            },
            "colorscale": [
             [
              0,
              "#0d0887"
             ],
             [
              0.1111111111111111,
              "#46039f"
             ],
             [
              0.2222222222222222,
              "#7201a8"
             ],
             [
              0.3333333333333333,
              "#9c179e"
             ],
             [
              0.4444444444444444,
              "#bd3786"
             ],
             [
              0.5555555555555556,
              "#d8576b"
             ],
             [
              0.6666666666666666,
              "#ed7953"
             ],
             [
              0.7777777777777778,
              "#fb9f3a"
             ],
             [
              0.8888888888888888,
              "#fdca26"
             ],
             [
              1,
              "#f0f921"
             ]
            ],
            "type": "surface"
           }
          ],
          "table": [
           {
            "cells": {
             "fill": {
              "color": "#EBF0F8"
             },
             "line": {
              "color": "white"
             }
            },
            "header": {
             "fill": {
              "color": "#C8D4E3"
             },
             "line": {
              "color": "white"
             }
            },
            "type": "table"
           }
          ]
         },
         "layout": {
          "annotationdefaults": {
           "arrowcolor": "#2a3f5f",
           "arrowhead": 0,
           "arrowwidth": 1
          },
          "autotypenumbers": "strict",
          "coloraxis": {
           "colorbar": {
            "outlinewidth": 0,
            "ticks": ""
           }
          },
          "colorscale": {
           "diverging": [
            [
             0,
             "#8e0152"
            ],
            [
             0.1,
             "#c51b7d"
            ],
            [
             0.2,
             "#de77ae"
            ],
            [
             0.3,
             "#f1b6da"
            ],
            [
             0.4,
             "#fde0ef"
            ],
            [
             0.5,
             "#f7f7f7"
            ],
            [
             0.6,
             "#e6f5d0"
            ],
            [
             0.7,
             "#b8e186"
            ],
            [
             0.8,
             "#7fbc41"
            ],
            [
             0.9,
             "#4d9221"
            ],
            [
             1,
             "#276419"
            ]
           ],
           "sequential": [
            [
             0,
             "#0d0887"
            ],
            [
             0.1111111111111111,
             "#46039f"
            ],
            [
             0.2222222222222222,
             "#7201a8"
            ],
            [
             0.3333333333333333,
             "#9c179e"
            ],
            [
             0.4444444444444444,
             "#bd3786"
            ],
            [
             0.5555555555555556,
             "#d8576b"
            ],
            [
             0.6666666666666666,
             "#ed7953"
            ],
            [
             0.7777777777777778,
             "#fb9f3a"
            ],
            [
             0.8888888888888888,
             "#fdca26"
            ],
            [
             1,
             "#f0f921"
            ]
           ],
           "sequentialminus": [
            [
             0,
             "#0d0887"
            ],
            [
             0.1111111111111111,
             "#46039f"
            ],
            [
             0.2222222222222222,
             "#7201a8"
            ],
            [
             0.3333333333333333,
             "#9c179e"
            ],
            [
             0.4444444444444444,
             "#bd3786"
            ],
            [
             0.5555555555555556,
             "#d8576b"
            ],
            [
             0.6666666666666666,
             "#ed7953"
            ],
            [
             0.7777777777777778,
             "#fb9f3a"
            ],
            [
             0.8888888888888888,
             "#fdca26"
            ],
            [
             1,
             "#f0f921"
            ]
           ]
          },
          "colorway": [
           "#636efa",
           "#EF553B",
           "#00cc96",
           "#ab63fa",
           "#FFA15A",
           "#19d3f3",
           "#FF6692",
           "#B6E880",
           "#FF97FF",
           "#FECB52"
          ],
          "font": {
           "color": "#2a3f5f"
          },
          "geo": {
           "bgcolor": "white",
           "lakecolor": "white",
           "landcolor": "#E5ECF6",
           "showlakes": true,
           "showland": true,
           "subunitcolor": "white"
          },
          "hoverlabel": {
           "align": "left"
          },
          "hovermode": "closest",
          "mapbox": {
           "style": "light"
          },
          "paper_bgcolor": "white",
          "plot_bgcolor": "#E5ECF6",
          "polar": {
           "angularaxis": {
            "gridcolor": "white",
            "linecolor": "white",
            "ticks": ""
           },
           "bgcolor": "#E5ECF6",
           "radialaxis": {
            "gridcolor": "white",
            "linecolor": "white",
            "ticks": ""
           }
          },
          "scene": {
           "xaxis": {
            "backgroundcolor": "#E5ECF6",
            "gridcolor": "white",
            "gridwidth": 2,
            "linecolor": "white",
            "showbackground": true,
            "ticks": "",
            "zerolinecolor": "white"
           },
           "yaxis": {
            "backgroundcolor": "#E5ECF6",
            "gridcolor": "white",
            "gridwidth": 2,
            "linecolor": "white",
            "showbackground": true,
            "ticks": "",
            "zerolinecolor": "white"
           },
           "zaxis": {
            "backgroundcolor": "#E5ECF6",
            "gridcolor": "white",
            "gridwidth": 2,
            "linecolor": "white",
            "showbackground": true,
            "ticks": "",
            "zerolinecolor": "white"
           }
          },
          "shapedefaults": {
           "line": {
            "color": "#2a3f5f"
           }
          },
          "ternary": {
           "aaxis": {
            "gridcolor": "white",
            "linecolor": "white",
            "ticks": ""
           },
           "baxis": {
            "gridcolor": "white",
            "linecolor": "white",
            "ticks": ""
           },
           "bgcolor": "#E5ECF6",
           "caxis": {
            "gridcolor": "white",
            "linecolor": "white",
            "ticks": ""
           }
          },
          "title": {
           "x": 0.05
          },
          "xaxis": {
           "automargin": true,
           "gridcolor": "white",
           "linecolor": "white",
           "ticks": "",
           "title": {
            "standoff": 15
           },
           "zerolinecolor": "white",
           "zerolinewidth": 2
          },
          "yaxis": {
           "automargin": true,
           "gridcolor": "white",
           "linecolor": "white",
           "ticks": "",
           "title": {
            "standoff": 15
           },
           "zerolinecolor": "white",
           "zerolinewidth": 2
          }
         }
        },
        "title": {
         "text": "CO2 Emissions by Country (2015)"
        },
        "xaxis": {
         "anchor": "y",
         "domain": [
          0,
          1
         ],
         "title": {
          "text": "Country"
         }
        },
        "yaxis": {
         "anchor": "x",
         "domain": [
          0,
          1
         ],
         "title": {
          "text": "CO2 Emissions"
         }
        }
       }
      }
     },
     "metadata": {},
     "output_type": "display_data"
    }
   ],
   "source": [
    "# Cell 5: Bar Chart Function\n",
    "def create_bar_chart(df, selected_year, selected_countries, selected_metric, metrics):\n",
    "    \"\"\"Create a bar chart comparing countries for the selected metric and year.\"\"\"\n",
    "    # Filter data for selected countries and year\n",
    "    filtered_df = df[(df['Country Name'].isin(selected_countries)) &\n",
    "                     (df['Year'] == selected_year)].dropna(subset=[selected_metric])\n",
    "\n",
    "    # Sort countries by the selected metric\n",
    "    filtered_df = filtered_df.sort_values(by=selected_metric)\n",
    "\n",
    "    # Create bar chart\n",
    "    fig = px.bar(\n",
    "        filtered_df,\n",
    "        x='Country Name',\n",
    "        y=selected_metric,\n",
    "        title=f'{metrics[selected_metric]} by Country ({selected_year})'\n",
    "    )\n",
    "\n",
    "    fig.update_layout(\n",
    "        xaxis_title='Country',\n",
    "        yaxis_title=metrics[selected_metric]\n",
    "    )\n",
    "\n",
    "    return fig\n",
    "\n",
    "# Test the function with sample data - using yearly totals\n",
    "bar_fig = create_bar_chart(df, sample_year, sample_countries, 'CO2 Emissions (kt)', metrics)\n",
    "bar_fig.show()  # Display the figure in Jupyter"
   ]
  },
  {
   "cell_type": "code",
   "execution_count": 12,
   "id": "a7dee78a2e0ed3e9",
   "metadata": {
    "ExecuteTime": {
     "end_time": "2025-03-22T16:33:18.466417Z",
     "start_time": "2025-03-22T16:33:17.995270Z"
    }
   },
   "outputs": [
    {
     "data": {
      "application/vnd.plotly.v1+json": {
       "config": {
        "plotlyServerURL": "https://plot.ly"
       },
       "data": [
        {
         "hovertemplate": "<b>%{hovertext}</b><br><br>Country Name=Brazil<br>Year=1960<br>GDP (current US$)=%{x}<br>CO2 Emissions (kt)=%{y}<br>Population, total=%{marker.size}<extra></extra>",
         "hovertext": [
          "Brazil"
         ],
         "legendgroup": "Brazil",
         "marker": {
          "color": "#636efa",
          "size": {
           "bdata": "AAAAeDhCkUE=",
           "dtype": "f8"
          },
          "sizemode": "area",
          "sizeref": 399463.7766666667,
          "symbol": "circle"
         },
         "mode": "markers",
         "name": "Brazil",
         "orientation": "v",
         "showlegend": true,
         "type": "scatter",
         "x": {
          "bdata": "8x8bQMK4D0I=",
          "dtype": "f8"
         },
         "xaxis": "x",
         "y": {
          "bdata": "AAAAYDdXhkE=",
          "dtype": "f8"
         },
         "yaxis": "y"
        },
        {
         "hovertemplate": "<b>%{hovertext}</b><br><br>Country Name=China<br>Year=1960<br>GDP (current US$)=%{x}<br>CO2 Emissions (kt)=%{y}<br>Population, total=%{marker.size}<extra></extra>",
         "hovertext": [
          "China"
         ],
         "legendgroup": "China",
         "marker": {
          "color": "#EF553B",
          "size": {
           "bdata": "AAAAGFfhw0E=",
           "dtype": "f8"
          },
          "sizemode": "area",
          "sizeref": 399463.7766666667,
          "symbol": "circle"
         },
         "mode": "markers",
         "name": "China",
         "orientation": "v",
         "showlegend": true,
         "type": "scatter",
         "x": {
          "bdata": "yvK9TbvOK0I=",
          "dtype": "f8"
         },
         "xaxis": "x",
         "y": {
          "bdata": "AAAAIlzOx0E=",
          "dtype": "f8"
         },
         "yaxis": "y"
        },
        {
         "hovertemplate": "<b>%{hovertext}</b><br><br>Country Name=Germany<br>Year=1960<br>GDP (current US$)=%{x}<br>CO2 Emissions (kt)=%{y}<br>Population, total=%{marker.size}<extra></extra>",
         "hovertext": [
          "Germany"
         ],
         "legendgroup": "Germany",
         "marker": {
          "color": "#00cc96",
          "size": {
           "bdata": "AAAA0ERckUE=",
           "dtype": "f8"
          },
          "sizemode": "area",
          "sizeref": 399463.7766666667,
          "symbol": "circle"
         },
         "mode": "markers",
         "name": "Germany",
         "orientation": "v",
         "showlegend": true,
         "type": "scatter",
         "x": {
          "bdata": "xEL5YLyzM0I=",
          "dtype": "f8"
         },
         "xaxis": "x",
         "y": {
          "bdata": "AAAAfPJByEE=",
          "dtype": "f8"
         },
         "yaxis": "y"
        },
        {
         "hovertemplate": "<b>%{hovertext}</b><br><br>Country Name=India<br>Year=1960<br>GDP (current US$)=%{x}<br>CO2 Emissions (kt)=%{y}<br>Population, total=%{marker.size}<extra></extra>",
         "hovertext": [
          "India"
         ],
         "legendgroup": "India",
         "marker": {
          "color": "#ab63fa",
          "size": {
           "bdata": "AAAAQq/8uUE=",
           "dtype": "f8"
          },
          "sizemode": "area",
          "sizeref": 399463.7766666667,
          "symbol": "circle"
         },
         "mode": "markers",
         "name": "India",
         "orientation": "v",
         "showlegend": true,
         "type": "scatter",
         "x": {
          "bdata": "KF7IX04+IUI=",
          "dtype": "f8"
         },
         "xaxis": "x",
         "y": {
          "bdata": "AAAA6L2KmkE=",
          "dtype": "f8"
         },
         "yaxis": "y"
        },
        {
         "hovertemplate": "<b>%{hovertext}</b><br><br>Country Name=United States<br>Year=1960<br>GDP (current US$)=%{x}<br>CO2 Emissions (kt)=%{y}<br>Population, total=%{marker.size}<extra></extra>",
         "hovertext": [
          "United States"
         ],
         "legendgroup": "United States",
         "marker": {
          "color": "#FFA15A",
          "size": {
           "bdata": "AAAAMKSJpUE=",
           "dtype": "f8"
          },
          "sizemode": "area",
          "sizeref": 399463.7766666667,
          "symbol": "circle"
         },
         "mode": "markers",
         "name": "United States",
         "orientation": "v",
         "showlegend": true,
         "type": "scatter",
         "x": {
          "bdata": "aLm3YEKMX0I=",
          "dtype": "f8"
         },
         "xaxis": "x",
         "y": {
          "bdata": "AAAAlzCW5UE=",
          "dtype": "f8"
         },
         "yaxis": "y"
        }
       ],
       "frames": [
        {
         "data": [
          {
           "hovertemplate": "<b>%{hovertext}</b><br><br>Country Name=Brazil<br>Year=1960<br>GDP (current US$)=%{x}<br>CO2 Emissions (kt)=%{y}<br>Population, total=%{marker.size}<extra></extra>",
           "hovertext": [
            "Brazil"
           ],
           "legendgroup": "Brazil",
           "marker": {
            "color": "#636efa",
            "size": {
             "bdata": "AAAAeDhCkUE=",
             "dtype": "f8"
            },
            "sizemode": "area",
            "sizeref": 399463.7766666667,
            "symbol": "circle"
           },
           "mode": "markers",
           "name": "Brazil",
           "orientation": "v",
           "showlegend": true,
           "type": "scatter",
           "x": {
            "bdata": "8x8bQMK4D0I=",
            "dtype": "f8"
           },
           "xaxis": "x",
           "y": {
            "bdata": "AAAAYDdXhkE=",
            "dtype": "f8"
           },
           "yaxis": "y"
          },
          {
           "hovertemplate": "<b>%{hovertext}</b><br><br>Country Name=China<br>Year=1960<br>GDP (current US$)=%{x}<br>CO2 Emissions (kt)=%{y}<br>Population, total=%{marker.size}<extra></extra>",
           "hovertext": [
            "China"
           ],
           "legendgroup": "China",
           "marker": {
            "color": "#EF553B",
            "size": {
             "bdata": "AAAAGFfhw0E=",
             "dtype": "f8"
            },
            "sizemode": "area",
            "sizeref": 399463.7766666667,
            "symbol": "circle"
           },
           "mode": "markers",
           "name": "China",
           "orientation": "v",
           "showlegend": true,
           "type": "scatter",
           "x": {
            "bdata": "yvK9TbvOK0I=",
            "dtype": "f8"
           },
           "xaxis": "x",
           "y": {
            "bdata": "AAAAIlzOx0E=",
            "dtype": "f8"
           },
           "yaxis": "y"
          },
          {
           "hovertemplate": "<b>%{hovertext}</b><br><br>Country Name=Germany<br>Year=1960<br>GDP (current US$)=%{x}<br>CO2 Emissions (kt)=%{y}<br>Population, total=%{marker.size}<extra></extra>",
           "hovertext": [
            "Germany"
           ],
           "legendgroup": "Germany",
           "marker": {
            "color": "#00cc96",
            "size": {
             "bdata": "AAAA0ERckUE=",
             "dtype": "f8"
            },
            "sizemode": "area",
            "sizeref": 399463.7766666667,
            "symbol": "circle"
           },
           "mode": "markers",
           "name": "Germany",
           "orientation": "v",
           "showlegend": true,
           "type": "scatter",
           "x": {
            "bdata": "xEL5YLyzM0I=",
            "dtype": "f8"
           },
           "xaxis": "x",
           "y": {
            "bdata": "AAAAfPJByEE=",
            "dtype": "f8"
           },
           "yaxis": "y"
          },
          {
           "hovertemplate": "<b>%{hovertext}</b><br><br>Country Name=India<br>Year=1960<br>GDP (current US$)=%{x}<br>CO2 Emissions (kt)=%{y}<br>Population, total=%{marker.size}<extra></extra>",
           "hovertext": [
            "India"
           ],
           "legendgroup": "India",
           "marker": {
            "color": "#ab63fa",
            "size": {
             "bdata": "AAAAQq/8uUE=",
             "dtype": "f8"
            },
            "sizemode": "area",
            "sizeref": 399463.7766666667,
            "symbol": "circle"
           },
           "mode": "markers",
           "name": "India",
           "orientation": "v",
           "showlegend": true,
           "type": "scatter",
           "x": {
            "bdata": "KF7IX04+IUI=",
            "dtype": "f8"
           },
           "xaxis": "x",
           "y": {
            "bdata": "AAAA6L2KmkE=",
            "dtype": "f8"
           },
           "yaxis": "y"
          },
          {
           "hovertemplate": "<b>%{hovertext}</b><br><br>Country Name=United States<br>Year=1960<br>GDP (current US$)=%{x}<br>CO2 Emissions (kt)=%{y}<br>Population, total=%{marker.size}<extra></extra>",
           "hovertext": [
            "United States"
           ],
           "legendgroup": "United States",
           "marker": {
            "color": "#FFA15A",
            "size": {
             "bdata": "AAAAMKSJpUE=",
             "dtype": "f8"
            },
            "sizemode": "area",
            "sizeref": 399463.7766666667,
            "symbol": "circle"
           },
           "mode": "markers",
           "name": "United States",
           "orientation": "v",
           "showlegend": true,
           "type": "scatter",
           "x": {
            "bdata": "aLm3YEKMX0I=",
            "dtype": "f8"
           },
           "xaxis": "x",
           "y": {
            "bdata": "AAAAlzCW5UE=",
            "dtype": "f8"
           },
           "yaxis": "y"
          }
         ],
         "name": "1960"
        },
        {
         "data": [
          {
           "hovertemplate": "<b>%{hovertext}</b><br><br>Country Name=Brazil<br>Year=1961<br>GDP (current US$)=%{x}<br>CO2 Emissions (kt)=%{y}<br>Population, total=%{marker.size}<extra></extra>",
           "hovertext": [
            "Brazil"
           ],
           "legendgroup": "Brazil",
           "marker": {
            "color": "#636efa",
            "size": {
             "bdata": "AAAAHI7JkUE=",
             "dtype": "f8"
            },
            "sizemode": "area",
            "sizeref": 399463.7766666667,
            "symbol": "circle"
           },
           "mode": "markers",
           "name": "Brazil",
           "orientation": "v",
           "showlegend": true,
           "type": "scatter",
           "x": {
            "bdata": "6YiFuecWEEI=",
            "dtype": "f8"
           },
           "xaxis": "x",
           "y": {
            "bdata": "AAAAkA1uh0E=",
            "dtype": "f8"
           },
           "yaxis": "y"
          },
          {
           "hovertemplate": "<b>%{hovertext}</b><br><br>Country Name=China<br>Year=1961<br>GDP (current US$)=%{x}<br>CO2 Emissions (kt)=%{y}<br>Population, total=%{marker.size}<extra></extra>",
           "hovertext": [
            "China"
           ],
           "legendgroup": "China",
           "marker": {
            "color": "#EF553B",
            "size": {
             "bdata": "AAAACOutw0E=",
             "dtype": "f8"
            },
            "sizemode": "area",
            "sizeref": 399463.7766666667,
            "symbol": "circle"
           },
           "mode": "markers",
           "name": "China",
           "orientation": "v",
           "showlegend": true,
           "type": "scatter",
           "x": {
            "bdata": "z7cK0zhPJ0I=",
            "dtype": "f8"
           },
           "xaxis": "x",
           "y": {
            "bdata": "AAAAHJABwUE=",
            "dtype": "f8"
           },
           "yaxis": "y"
          },
          {
           "hovertemplate": "<b>%{hovertext}</b><br><br>Country Name=Germany<br>Year=1961<br>GDP (current US$)=%{x}<br>CO2 Emissions (kt)=%{y}<br>Population, total=%{marker.size}<extra></extra>",
           "hovertext": [
            "Germany"
           ],
           "legendgroup": "Germany",
           "marker": {
            "color": "#00cc96",
            "size": {
             "bdata": "AAAAgJ1+kUE=",
             "dtype": "f8"
            },
            "sizemode": "area",
            "sizeref": 399463.7766666667,
            "symbol": "circle"
           },
           "mode": "markers",
           "name": "Germany",
           "orientation": "v",
           "showlegend": true,
           "type": "scatter",
           "x": {
            "bdata": "URqLRFF7NkI=",
            "dtype": "f8"
           },
           "xaxis": "x",
           "y": {
            "bdata": "AAAAGFLhyEE=",
            "dtype": "f8"
           },
           "yaxis": "y"
          },
          {
           "hovertemplate": "<b>%{hovertext}</b><br><br>Country Name=India<br>Year=1961<br>GDP (current US$)=%{x}<br>CO2 Emissions (kt)=%{y}<br>Population, total=%{marker.size}<extra></extra>",
           "hovertext": [
            "India"
           ],
           "legendgroup": "India",
           "marker": {
            "color": "#ab63fa",
            "size": {
             "bdata": "AAAAeQmeukE=",
             "dtype": "f8"
            },
            "sizemode": "area",
            "sizeref": 399463.7766666667,
            "symbol": "circle"
           },
           "mode": "markers",
           "name": "India",
           "orientation": "v",
           "showlegend": true,
           "type": "scatter",
           "x": {
            "bdata": "VBKQ7N5EIkI=",
            "dtype": "f8"
           },
           "xaxis": "x",
           "y": {
            "bdata": "AAAAuOS0nEE=",
            "dtype": "f8"
           },
           "yaxis": "y"
          },
          {
           "hovertemplate": "<b>%{hovertext}</b><br><br>Country Name=United States<br>Year=1961<br>GDP (current US$)=%{x}<br>CO2 Emissions (kt)=%{y}<br>Population, total=%{marker.size}<extra></extra>",
           "hovertext": [
            "United States"
           ],
           "legendgroup": "United States",
           "marker": {
            "color": "#FFA15A",
            "size": {
             "bdata": "AAAA8M3lpUE=",
             "dtype": "f8"
            },
            "sizemode": "area",
            "sizeref": 399463.7766666667,
            "symbol": "circle"
           },
           "mode": "markers",
           "name": "United States",
           "orientation": "v",
           "showlegend": true,
           "type": "scatter",
           "x": {
            "bdata": "fxopFchaYEI=",
            "dtype": "f8"
           },
           "xaxis": "x",
           "y": {
            "bdata": "AAAA3EWC5UE=",
            "dtype": "f8"
           },
           "yaxis": "y"
          }
         ],
         "name": "1961"
        },
        {
         "data": [
          {
           "hovertemplate": "<b>%{hovertext}</b><br><br>Country Name=Brazil<br>Year=1962<br>GDP (current US$)=%{x}<br>CO2 Emissions (kt)=%{y}<br>Population, total=%{marker.size}<extra></extra>",
           "hovertext": [
            "Brazil"
           ],
           "legendgroup": "Brazil",
           "marker": {
            "color": "#636efa",
            "size": {
             "bdata": "AAAArHxTkkE=",
             "dtype": "f8"
            },
            "sizemode": "area",
            "sizeref": 399463.7766666667,
            "symbol": "circle"
           },
           "mode": "markers",
           "name": "Brazil",
           "orientation": "v",
           "showlegend": true,
           "type": "scatter",
           "x": {
            "bdata": "/yEuvDTpEUI=",
            "dtype": "f8"
           },
           "xaxis": "x",
           "y": {
            "bdata": "AAAAEJaQiUE=",
            "dtype": "f8"
           },
           "yaxis": "y"
          },
          {
           "hovertemplate": "<b>%{hovertext}</b><br><br>Country Name=China<br>Year=1962<br>GDP (current US$)=%{x}<br>CO2 Emissions (kt)=%{y}<br>Population, total=%{marker.size}<extra></extra>",
           "hovertext": [
            "China"
           ],
           "legendgroup": "China",
           "marker": {
            "color": "#EF553B",
            "size": {
             "bdata": "AAAACGzXw0E=",
             "dtype": "f8"
            },
            "sizemode": "area",
            "sizeref": 399463.7766666667,
            "symbol": "circle"
           },
           "mode": "markers",
           "name": "China",
           "orientation": "v",
           "showlegend": true,
           "type": "scatter",
           "x": {
            "bdata": "BLbeCMb7JUI=",
            "dtype": "f8"
           },
           "xaxis": "x",
           "y": {
            "bdata": "AAAAIDdlu0E=",
            "dtype": "f8"
           },
           "yaxis": "y"
          },
          {
           "hovertemplate": "<b>%{hovertext}</b><br><br>Country Name=Germany<br>Year=1962<br>GDP (current US$)=%{x}<br>CO2 Emissions (kt)=%{y}<br>Population, total=%{marker.size}<extra></extra>",
           "hovertext": [
            "Germany"
           ],
           "legendgroup": "Germany",
           "marker": {
            "color": "#00cc96",
            "size": {
             "bdata": "AAAA4CymkUE=",
             "dtype": "f8"
            },
            "sizemode": "area",
            "sizeref": 399463.7766666667,
            "symbol": "circle"
           },
           "mode": "markers",
           "name": "Germany",
           "orientation": "v",
           "showlegend": true,
           "type": "scatter",
           "x": {
            "bdata": "z1fiG9ynOEI=",
            "dtype": "f8"
           },
           "xaxis": "x",
           "y": {
            "bdata": "AAAArApSykE=",
            "dtype": "f8"
           },
           "yaxis": "y"
          },
          {
           "hovertemplate": "<b>%{hovertext}</b><br><br>Country Name=India<br>Year=1962<br>GDP (current US$)=%{x}<br>CO2 Emissions (kt)=%{y}<br>Population, total=%{marker.size}<extra></extra>",
           "hovertext": [
            "India"
           ],
           "legendgroup": "India",
           "marker": {
            "color": "#ab63fa",
            "size": {
             "bdata": "AAAAEpZBu0E=",
             "dtype": "f8"
            },
            "sizemode": "area",
            "sizeref": 399463.7766666667,
            "symbol": "circle"
           },
           "mode": "markers",
           "name": "India",
           "orientation": "v",
           "showlegend": true,
           "type": "scatter",
           "x": {
            "bdata": "7ykEUQqiI0I=",
            "dtype": "f8"
           },
           "xaxis": "x",
           "y": {
            "bdata": "AAAAoCKcn0E=",
            "dtype": "f8"
           },
           "yaxis": "y"
          },
          {
           "hovertemplate": "<b>%{hovertext}</b><br><br>Country Name=United States<br>Year=1962<br>GDP (current US$)=%{x}<br>CO2 Emissions (kt)=%{y}<br>Population, total=%{marker.size}<extra></extra>",
           "hovertext": [
            "United States"
           ],
           "legendgroup": "United States",
           "marker": {
            "color": "#FFA15A",
            "size": {
             "bdata": "AAAAILA8pkE=",
             "dtype": "f8"
            },
            "sizemode": "area",
            "sizeref": 399463.7766666667,
            "symbol": "circle"
           },
           "mode": "markers",
           "name": "United States",
           "orientation": "v",
           "showlegend": true,
           "type": "scatter",
           "x": {
            "bdata": "TCOEz3aRYUI=",
            "dtype": "f8"
           },
           "xaxis": "x",
           "y": {
            "bdata": "AAAANmpO5kE=",
            "dtype": "f8"
           },
           "yaxis": "y"
          }
         ],
         "name": "1962"
        },
        {
         "data": [
          {
           "hovertemplate": "<b>%{hovertext}</b><br><br>Country Name=Brazil<br>Year=1963<br>GDP (current US$)=%{x}<br>CO2 Emissions (kt)=%{y}<br>Population, total=%{marker.size}<extra></extra>",
           "hovertext": [
            "Brazil"
           ],
           "legendgroup": "Brazil",
           "marker": {
            "color": "#636efa",
            "size": {
             "bdata": "AAAALM3fkkE=",
             "dtype": "f8"
            },
            "sizemode": "area",
            "sizeref": 399463.7766666667,
            "symbol": "circle"
           },
           "mode": "markers",
           "name": "Brazil",
           "orientation": "v",
           "showlegend": true,
           "type": "scatter",
           "x": {
            "bdata": "Ac24MTmwFUI=",
            "dtype": "f8"
           },
           "xaxis": "x",
           "y": {
            "bdata": "AAAAALd5ikE=",
            "dtype": "f8"
           },
           "yaxis": "y"
          },
          {
           "hovertemplate": "<b>%{hovertext}</b><br><br>Country Name=China<br>Year=1963<br>GDP (current US$)=%{x}<br>CO2 Emissions (kt)=%{y}<br>Population, total=%{marker.size}<extra></extra>",
           "hovertext": [
            "China"
           ],
           "legendgroup": "China",
           "marker": {
            "color": "#EF553B",
            "size": {
             "bdata": "AAAAjM1VxEE=",
             "dtype": "f8"
            },
            "sizemode": "area",
            "sizeref": 399463.7766666667,
            "symbol": "circle"
           },
           "mode": "markers",
           "name": "China",
           "orientation": "v",
           "showlegend": true,
           "type": "scatter",
           "x": {
            "bdata": "Xkv8EbOcJ0I=",
            "dtype": "f8"
           },
           "xaxis": "x",
           "y": {
            "bdata": "AAAAxOY5u0E=",
            "dtype": "f8"
           },
           "yaxis": "y"
          },
          {
           "hovertemplate": "<b>%{hovertext}</b><br><br>Country Name=Germany<br>Year=1963<br>GDP (current US$)=%{x}<br>CO2 Emissions (kt)=%{y}<br>Population, total=%{marker.size}<extra></extra>",
           "hovertext": [
            "Germany"
           ],
           "legendgroup": "Germany",
           "marker": {
            "color": "#00cc96",
            "size": {
             "bdata": "AAAAxDPQkUE=",
             "dtype": "f8"
            },
            "sizemode": "area",
            "sizeref": 399463.7766666667,
            "symbol": "circle"
           },
           "mode": "markers",
           "name": "Germany",
           "orientation": "v",
           "showlegend": true,
           "type": "scatter",
           "x": {
            "bdata": "mhnAGZQhOkI=",
            "dtype": "f8"
           },
           "xaxis": "x",
           "y": {
            "bdata": "AAAAyJMtzEE=",
            "dtype": "f8"
           },
           "yaxis": "y"
          },
          {
           "hovertemplate": "<b>%{hovertext}</b><br><br>Country Name=India<br>Year=1963<br>GDP (current US$)=%{x}<br>CO2 Emissions (kt)=%{y}<br>Population, total=%{marker.size}<extra></extra>",
           "hovertext": [
            "India"
           ],
           "legendgroup": "India",
           "marker": {
            "color": "#ab63fa",
            "size": {
             "bdata": "AAAATzrnu0E=",
             "dtype": "f8"
            },
            "sizemode": "area",
            "sizeref": 399463.7766666667,
            "symbol": "circle"
           },
           "mode": "markers",
           "name": "India",
           "orientation": "v",
           "showlegend": true,
           "type": "scatter",
           "x": {
            "bdata": "Oz8G1VeMJkI=",
            "dtype": "f8"
           },
           "xaxis": "x",
           "y": {
            "bdata": "AAAA2Az7oEE=",
            "dtype": "f8"
           },
           "yaxis": "y"
          },
          {
           "hovertemplate": "<b>%{hovertext}</b><br><br>Country Name=United States<br>Year=1963<br>GDP (current US$)=%{x}<br>CO2 Emissions (kt)=%{y}<br>Population, total=%{marker.size}<extra></extra>",
           "hovertext": [
            "United States"
           ],
           "legendgroup": "United States",
           "marker": {
            "color": "#FFA15A",
            "size": {
             "bdata": "AAAAIDWPpkE=",
             "dtype": "f8"
            },
            "sizemode": "area",
            "sizeref": 399463.7766666667,
            "symbol": "circle"
           },
           "mode": "markers",
           "name": "United States",
           "orientation": "v",
           "showlegend": true,
           "type": "scatter",
           "x": {
            "bdata": "aoT1wXSKYkI=",
            "dtype": "f8"
           },
           "xaxis": "x",
           "y": {
            "bdata": "AAAARk1L50E=",
            "dtype": "f8"
           },
           "yaxis": "y"
          }
         ],
         "name": "1963"
        },
        {
         "data": [
          {
           "hovertemplate": "<b>%{hovertext}</b><br><br>Country Name=Brazil<br>Year=1964<br>GDP (current US$)=%{x}<br>CO2 Emissions (kt)=%{y}<br>Population, total=%{marker.size}<extra></extra>",
           "hovertext": [
            "Brazil"
           ],
           "legendgroup": "Brazil",
           "marker": {
            "color": "#636efa",
            "size": {
             "bdata": "AAAATKttk0E=",
             "dtype": "f8"
            },
            "sizemode": "area",
            "sizeref": 399463.7766666667,
            "symbol": "circle"
           },
           "mode": "markers",
           "name": "Brazil",
           "orientation": "v",
           "showlegend": true,
           "type": "scatter",
           "x": {
            "bdata": "TOb7wiSGE0I=",
            "dtype": "f8"
           },
           "xaxis": "x",
           "y": {
            "bdata": "AAAAYGQAi0E=",
            "dtype": "f8"
           },
           "yaxis": "y"
          },
          {
           "hovertemplate": "<b>%{hovertext}</b><br><br>Country Name=China<br>Year=1964<br>GDP (current US$)=%{x}<br>CO2 Emissions (kt)=%{y}<br>Population, total=%{marker.size}<extra></extra>",
           "hovertext": [
            "China"
           ],
           "legendgroup": "China",
           "marker": {
            "color": "#EF553B",
            "size": {
             "bdata": "AAAAnAbQxEE=",
             "dtype": "f8"
            },
            "sizemode": "area",
            "sizeref": 399463.7766666667,
            "symbol": "circle"
           },
           "mode": "markers",
           "name": "China",
           "orientation": "v",
           "showlegend": true,
           "type": "scatter",
           "x": {
            "bdata": "hronYMPNK0I=",
            "dtype": "f8"
           },
           "xaxis": "x",
           "y": {
            "bdata": "AAAArMN0u0E=",
            "dtype": "f8"
           },
           "yaxis": "y"
          },
          {
           "hovertemplate": "<b>%{hovertext}</b><br><br>Country Name=Germany<br>Year=1964<br>GDP (current US$)=%{x}<br>CO2 Emissions (kt)=%{y}<br>Population, total=%{marker.size}<extra></extra>",
           "hovertext": [
            "Germany"
           ],
           "legendgroup": "Germany",
           "marker": {
            "color": "#00cc96",
            "size": {
             "bdata": "AAAABBH1kUE=",
             "dtype": "f8"
            },
            "sizemode": "area",
            "sizeref": 399463.7766666667,
            "symbol": "circle"
           },
           "mode": "markers",
           "name": "Germany",
           "orientation": "v",
           "showlegend": true,
           "type": "scatter",
           "x": {
            "bdata": "BBY5oRC3PEI=",
            "dtype": "f8"
           },
           "xaxis": "x",
           "y": {
            "bdata": "AAAA/kDgzEE=",
            "dtype": "f8"
           },
           "yaxis": "y"
          },
          {
           "hovertemplate": "<b>%{hovertext}</b><br><br>Country Name=India<br>Year=1964<br>GDP (current US$)=%{x}<br>CO2 Emissions (kt)=%{y}<br>Population, total=%{marker.size}<extra></extra>",
           "hovertext": [
            "India"
           ],
           "legendgroup": "India",
           "marker": {
            "color": "#ab63fa",
            "size": {
             "bdata": "AAAAnnaQvEE=",
             "dtype": "f8"
            },
            "sizemode": "area",
            "sizeref": 399463.7766666667,
            "symbol": "circle"
           },
           "mode": "markers",
           "name": "India",
           "orientation": "v",
           "showlegend": true,
           "type": "scatter",
           "x": {
            "bdata": "1PopqflMKkI=",
            "dtype": "f8"
           },
           "xaxis": "x",
           "y": {
            "bdata": "AAAAHNigoEE=",
            "dtype": "f8"
           },
           "yaxis": "y"
          },
          {
           "hovertemplate": "<b>%{hovertext}</b><br><br>Country Name=United States<br>Year=1964<br>GDP (current US$)=%{x}<br>CO2 Emissions (kt)=%{y}<br>Population, total=%{marker.size}<extra></extra>",
           "hovertext": [
            "United States"
           ],
           "legendgroup": "United States",
           "marker": {
            "color": "#FFA15A",
            "size": {
             "bdata": "AAAA0PzfpkE=",
             "dtype": "f8"
            },
            "sizemode": "area",
            "sizeref": 399463.7766666667,
            "symbol": "circle"
           },
           "mode": "markers",
           "name": "United States",
           "orientation": "v",
           "showlegend": true,
           "type": "scatter",
           "x": {
            "bdata": "9jSSTkbpY0I=",
            "dtype": "f8"
           },
           "xaxis": "x",
           "y": {
            "bdata": "AAAAIC9S6EE=",
            "dtype": "f8"
           },
           "yaxis": "y"
          }
         ],
         "name": "1964"
        },
        {
         "data": [
          {
           "hovertemplate": "<b>%{hovertext}</b><br><br>Country Name=Brazil<br>Year=1965<br>GDP (current US$)=%{x}<br>CO2 Emissions (kt)=%{y}<br>Population, total=%{marker.size}<extra></extra>",
           "hovertext": [
            "Brazil"
           ],
           "legendgroup": "Brazil",
           "marker": {
            "color": "#636efa",
            "size": {
             "bdata": "AAAAvNH7k0E=",
             "dtype": "f8"
            },
            "sizemode": "area",
            "sizeref": 399463.7766666667,
            "symbol": "circle"
           },
           "mode": "markers",
           "name": "Brazil",
           "orientation": "v",
           "showlegend": true,
           "type": "scatter",
           "x": {
            "bdata": "LGUQszLsFEI=",
            "dtype": "f8"
           },
           "xaxis": "x",
           "y": {
            "bdata": "AAAAwAXWikE=",
            "dtype": "f8"
           },
           "yaxis": "y"
          },
          {
           "hovertemplate": "<b>%{hovertext}</b><br><br>Country Name=China<br>Year=1965<br>GDP (current US$)=%{x}<br>CO2 Emissions (kt)=%{y}<br>Population, total=%{marker.size}<extra></extra>",
           "hovertext": [
            "China"
           ],
           "legendgroup": "China",
           "marker": {
            "color": "#EF553B",
            "size": {
             "bdata": "AAAAtG1QxUE=",
             "dtype": "f8"
            },
            "sizemode": "area",
            "sizeref": 399463.7766666667,
            "symbol": "circle"
           },
           "mode": "markers",
           "name": "China",
           "orientation": "v",
           "showlegend": true,
           "type": "scatter",
           "x": {
            "bdata": "02zCMlBmMEI=",
            "dtype": "f8"
           },
           "xaxis": "x",
           "y": {
            "bdata": "AAAAosPRvUE=",
            "dtype": "f8"
           },
           "yaxis": "y"
          },
          {
           "hovertemplate": "<b>%{hovertext}</b><br><br>Country Name=Germany<br>Year=1965<br>GDP (current US$)=%{x}<br>CO2 Emissions (kt)=%{y}<br>Population, total=%{marker.size}<extra></extra>",
           "hovertext": [
            "Germany"
           ],
           "legendgroup": "Germany",
           "marker": {
            "color": "#00cc96",
            "size": {
             "bdata": "AAAAvHQckkE=",
             "dtype": "f8"
            },
            "sizemode": "area",
            "sizeref": 399463.7766666667,
            "symbol": "circle"
           },
           "mode": "markers",
           "name": "Germany",
           "orientation": "v",
           "showlegend": true,
           "type": "scatter",
           "x": {
            "bdata": "Nym/iTJhP0I=",
            "dtype": "f8"
           },
           "xaxis": "x",
           "y": {
            "bdata": "AAAAnP+czEE=",
            "dtype": "f8"
           },
           "yaxis": "y"
          },
          {
           "hovertemplate": "<b>%{hovertext}</b><br><br>Country Name=India<br>Year=1965<br>GDP (current US$)=%{x}<br>CO2 Emissions (kt)=%{y}<br>Population, total=%{marker.size}<extra></extra>",
           "hovertext": [
            "India"
           ],
           "legendgroup": "India",
           "marker": {
            "color": "#ab63fa",
            "size": {
             "bdata": "AAAA8vE2vUE=",
             "dtype": "f8"
            },
            "sizemode": "area",
            "sizeref": 399463.7766666667,
            "symbol": "circle"
           },
           "mode": "markers",
           "name": "India",
           "orientation": "v",
           "showlegend": true,
           "type": "scatter",
           "x": {
            "bdata": "qgIaGKS7K0I=",
            "dtype": "f8"
           },
           "xaxis": "x",
           "y": {
            "bdata": "AAAAaJxSokE=",
            "dtype": "f8"
           },
           "yaxis": "y"
          },
          {
           "hovertemplate": "<b>%{hovertext}</b><br><br>Country Name=United States<br>Year=1965<br>GDP (current US$)=%{x}<br>CO2 Emissions (kt)=%{y}<br>Population, total=%{marker.size}<extra></extra>",
           "hovertext": [
            "United States"
           ],
           "legendgroup": "United States",
           "marker": {
            "color": "#FFA15A",
            "size": {
             "bdata": "AAAAMKgpp0E=",
             "dtype": "f8"
            },
            "sizemode": "area",
            "sizeref": 399463.7766666667,
            "symbol": "circle"
           },
           "mode": "markers",
           "name": "United States",
           "orientation": "v",
           "showlegend": true,
           "type": "scatter",
           "x": {
            "bdata": "4Z5uOZ+XZUI=",
            "dtype": "f8"
           },
           "xaxis": "x",
           "y": {
            "bdata": "AAAADx9U6UE=",
            "dtype": "f8"
           },
           "yaxis": "y"
          }
         ],
         "name": "1965"
        },
        {
         "data": [
          {
           "hovertemplate": "<b>%{hovertext}</b><br><br>Country Name=Brazil<br>Year=1966<br>GDP (current US$)=%{x}<br>CO2 Emissions (kt)=%{y}<br>Population, total=%{marker.size}<extra></extra>",
           "hovertext": [
            "Brazil"
           ],
           "legendgroup": "Brazil",
           "marker": {
            "color": "#636efa",
            "size": {
             "bdata": "AAAAfIeJlEE=",
             "dtype": "f8"
            },
            "sizemode": "area",
            "sizeref": 399463.7766666667,
            "symbol": "circle"
           },
           "mode": "markers",
           "name": "Brazil",
           "orientation": "v",
           "showlegend": true,
           "type": "scatter",
           "x": {
            "bdata": "E3JUFUVXGkI=",
            "dtype": "f8"
           },
           "xaxis": "x",
           "y": {
            "bdata": "AAAAwFOYjkE=",
            "dtype": "f8"
           },
           "yaxis": "y"
          },
          {
           "hovertemplate": "<b>%{hovertext}</b><br><br>Country Name=China<br>Year=1966<br>GDP (current US$)=%{x}<br>CO2 Emissions (kt)=%{y}<br>Population, total=%{marker.size}<extra></extra>",
           "hovertext": [
            "China"
           ],
           "legendgroup": "China",
           "marker": {
            "color": "#EF553B",
            "size": {
             "bdata": "AAAAIKjqxUE=",
             "dtype": "f8"
            },
            "sizemode": "area",
            "sizeref": 399463.7766666667,
            "symbol": "circle"
           },
           "mode": "markers",
           "name": "China",
           "orientation": "v",
           "showlegend": true,
           "type": "scatter",
           "x": {
            "bdata": "euVzYd7cMUI=",
            "dtype": "f8"
           },
           "xaxis": "x",
           "y": {
            "bdata": "AAAAngpgwEE=",
            "dtype": "f8"
           },
           "yaxis": "y"
          },
          {
           "hovertemplate": "<b>%{hovertext}</b><br><br>Country Name=Germany<br>Year=1966<br>GDP (current US$)=%{x}<br>CO2 Emissions (kt)=%{y}<br>Population, total=%{marker.size}<extra></extra>",
           "hovertext": [
            "Germany"
           ],
           "legendgroup": "Germany",
           "marker": {
            "color": "#00cc96",
            "size": {
             "bdata": "AAAA3E9DkkE=",
             "dtype": "f8"
            },
            "sizemode": "area",
            "sizeref": 399463.7766666667,
            "symbol": "circle"
           },
           "mode": "markers",
           "name": "Germany",
           "orientation": "v",
           "showlegend": true,
           "type": "scatter",
           "x": {
            "bdata": "UP1x28yuQEI=",
            "dtype": "f8"
           },
           "xaxis": "x",
           "y": {
            "bdata": "AAAAGMZazEE=",
            "dtype": "f8"
           },
           "yaxis": "y"
          },
          {
           "hovertemplate": "<b>%{hovertext}</b><br><br>Country Name=India<br>Year=1966<br>GDP (current US$)=%{x}<br>CO2 Emissions (kt)=%{y}<br>Population, total=%{marker.size}<extra></extra>",
           "hovertext": [
            "India"
           ],
           "legendgroup": "India",
           "marker": {
            "color": "#ab63fa",
            "size": {
             "bdata": "AAAAl7DYvUE=",
             "dtype": "f8"
            },
            "sizemode": "area",
            "sizeref": 399463.7766666667,
            "symbol": "circle"
           },
           "mode": "markers",
           "name": "India",
           "orientation": "v",
           "showlegend": true,
           "type": "scatter",
           "x": {
            "bdata": "WiRQw7Q5JUI=",
            "dtype": "f8"
           },
           "xaxis": "x",
           "y": {
            "bdata": "AAAAnLD/okE=",
            "dtype": "f8"
           },
           "yaxis": "y"
          },
          {
           "hovertemplate": "<b>%{hovertext}</b><br><br>Country Name=United States<br>Year=1966<br>GDP (current US$)=%{x}<br>CO2 Emissions (kt)=%{y}<br>Population, total=%{marker.size}<extra></extra>",
           "hovertext": [
            "United States"
           ],
           "legendgroup": "United States",
           "marker": {
            "color": "#FFA15A",
            "size": {
             "bdata": "AAAAAIlup0E=",
             "dtype": "f8"
            },
            "sizemode": "area",
            "sizeref": 399463.7766666667,
            "symbol": "circle"
           },
           "mode": "markers",
           "name": "United States",
           "orientation": "v",
           "showlegend": true,
           "type": "scatter",
           "x": {
            "bdata": "FJar65CpZ0I=",
            "dtype": "f8"
           },
           "xaxis": "x",
           "y": {
            "bdata": "AAAAG/Kb6kE=",
            "dtype": "f8"
           },
           "yaxis": "y"
          }
         ],
         "name": "1966"
        },
        {
         "data": [
          {
           "hovertemplate": "<b>%{hovertext}</b><br><br>Country Name=Brazil<br>Year=1967<br>GDP (current US$)=%{x}<br>CO2 Emissions (kt)=%{y}<br>Population, total=%{marker.size}<extra></extra>",
           "hovertext": [
            "Brazil"
           ],
           "legendgroup": "Brazil",
           "marker": {
            "color": "#636efa",
            "size": {
             "bdata": "AAAAsFIWlUE=",
             "dtype": "f8"
            },
            "sizemode": "area",
            "sizeref": 399463.7766666667,
            "symbol": "circle"
           },
           "mode": "markers",
           "name": "Brazil",
           "orientation": "v",
           "showlegend": true,
           "type": "scatter",
           "x": {
            "bdata": "ENgrn5LzHEI=",
            "dtype": "f8"
           },
           "xaxis": "x",
           "y": {
            "bdata": "AAAAYJ18j0E=",
            "dtype": "f8"
           },
           "yaxis": "y"
          },
          {
           "hovertemplate": "<b>%{hovertext}</b><br><br>Country Name=China<br>Year=1967<br>GDP (current US$)=%{x}<br>CO2 Emissions (kt)=%{y}<br>Population, total=%{marker.size}<extra></extra>",
           "hovertext": [
            "China"
           ],
           "legendgroup": "China",
           "marker": {
            "color": "#EF553B",
            "size": {
             "bdata": "AAAAeMJ8xkE=",
             "dtype": "f8"
            },
            "sizemode": "area",
            "sizeref": 399463.7766666667,
            "symbol": "circle"
           },
           "mode": "markers",
           "name": "China",
           "orientation": "v",
           "showlegend": true,
           "type": "scatter",
           "x": {
            "bdata": "rH2SXxH4MEI=",
            "dtype": "f8"
           },
           "xaxis": "x",
           "y": {
            "bdata": "AAAAbH1uu0E=",
            "dtype": "f8"
           },
           "yaxis": "y"
          },
          {
           "hovertemplate": "<b>%{hovertext}</b><br><br>Country Name=Germany<br>Year=1967<br>GDP (current US$)=%{x}<br>CO2 Emissions (kt)=%{y}<br>Population, total=%{marker.size}<extra></extra>",
           "hovertext": [
            "Germany"
           ],
           "legendgroup": "Germany",
           "marker": {
            "color": "#00cc96",
            "size": {
             "bdata": "AAAAoLxYkkE=",
             "dtype": "f8"
            },
            "sizemode": "area",
            "sizeref": 399463.7766666667,
            "symbol": "circle"
           },
           "mode": "markers",
           "name": "Germany",
           "orientation": "v",
           "showlegend": true,
           "type": "scatter",
           "x": {
            "bdata": "Uli+PVbkQEI=",
            "dtype": "f8"
           },
           "xaxis": "x",
           "y": {
            "bdata": "AAAAIN3my0E=",
            "dtype": "f8"
           },
           "yaxis": "y"
          },
          {
           "hovertemplate": "<b>%{hovertext}</b><br><br>Country Name=India<br>Year=1967<br>GDP (current US$)=%{x}<br>CO2 Emissions (kt)=%{y}<br>Population, total=%{marker.size}<extra></extra>",
           "hovertext": [
            "India"
           ],
           "legendgroup": "India",
           "marker": {
            "color": "#ab63fa",
            "size": {
             "bdata": "AAAAZH5+vkE=",
             "dtype": "f8"
            },
            "sizemode": "area",
            "sizeref": 399463.7766666667,
            "symbol": "circle"
           },
           "mode": "markers",
           "name": "India",
           "orientation": "v",
           "showlegend": true,
           "type": "scatter",
           "x": {
            "bdata": "AAD4A41YJ0I=",
            "dtype": "f8"
           },
           "xaxis": "x",
           "y": {
            "bdata": "AAAA2EEFo0E=",
            "dtype": "f8"
           },
           "yaxis": "y"
          },
          {
           "hovertemplate": "<b>%{hovertext}</b><br><br>Country Name=United States<br>Year=1967<br>GDP (current US$)=%{x}<br>CO2 Emissions (kt)=%{y}<br>Population, total=%{marker.size}<extra></extra>",
           "hovertext": [
            "United States"
           ],
           "legendgroup": "United States",
           "marker": {
            "color": "#FFA15A",
            "size": {
             "bdata": "AAAAgDWwp0E=",
             "dtype": "f8"
            },
            "sizemode": "area",
            "sizeref": 399463.7766666667,
            "symbol": "circle"
           },
           "mode": "markers",
           "name": "United States",
           "orientation": "v",
           "showlegend": true,
           "type": "scatter",
           "x": {
            "bdata": "Slj2GKsEaUI=",
            "dtype": "f8"
           },
           "xaxis": "x",
           "y": {
            "bdata": "AAAAIZub60E=",
            "dtype": "f8"
           },
           "yaxis": "y"
          }
         ],
         "name": "1967"
        },
        {
         "data": [
          {
           "hovertemplate": "<b>%{hovertext}</b><br><br>Country Name=Brazil<br>Year=1968<br>GDP (current US$)=%{x}<br>CO2 Emissions (kt)=%{y}<br>Population, total=%{marker.size}<extra></extra>",
           "hovertext": [
            "Brazil"
           ],
           "legendgroup": "Brazil",
           "marker": {
            "color": "#636efa",
            "size": {
             "bdata": "AAAA4GeilUE=",
             "dtype": "f8"
            },
            "sizemode": "area",
            "sizeref": 399463.7766666667,
            "symbol": "circle"
           },
           "mode": "markers",
           "name": "Brazil",
           "orientation": "v",
           "showlegend": true,
           "type": "scatter",
           "x": {
            "bdata": "kgtFxaaZH0I=",
            "dtype": "f8"
           },
           "xaxis": "x",
           "y": {
            "bdata": "AAAAWGNpkkE=",
            "dtype": "f8"
           },
           "yaxis": "y"
          },
          {
           "hovertemplate": "<b>%{hovertext}</b><br><br>Country Name=China<br>Year=1968<br>GDP (current US$)=%{x}<br>CO2 Emissions (kt)=%{y}<br>Population, total=%{marker.size}<extra></extra>",
           "hovertext": [
            "China"
           ],
           "legendgroup": "China",
           "marker": {
            "color": "#EF553B",
            "size": {
             "bdata": "AAAA2AoVx0E=",
             "dtype": "f8"
            },
            "sizemode": "area",
            "sizeref": 399463.7766666667,
            "symbol": "circle"
           },
           "mode": "markers",
           "name": "China",
           "orientation": "v",
           "showlegend": true,
           "type": "scatter",
           "x": {
            "bdata": "A3nTYcR+MEI=",
            "dtype": "f8"
           },
           "xaxis": "x",
           "y": {
            "bdata": "AAAAgNSIvUE=",
            "dtype": "f8"
           },
           "yaxis": "y"
          },
          {
           "hovertemplate": "<b>%{hovertext}</b><br><br>Country Name=Germany<br>Year=1968<br>GDP (current US$)=%{x}<br>CO2 Emissions (kt)=%{y}<br>Population, total=%{marker.size}<extra></extra>",
           "hovertext": [
            "Germany"
           ],
           "legendgroup": "Germany",
           "marker": {
            "color": "#00cc96",
            "size": {
             "bdata": "AAAAqKttkkE=",
             "dtype": "f8"
            },
            "sizemode": "area",
            "sizeref": 399463.7766666667,
            "symbol": "circle"
           },
           "mode": "markers",
           "name": "Germany",
           "orientation": "v",
           "showlegend": true,
           "type": "scatter",
           "x": {
            "bdata": "GZR2eOA4QkI=",
            "dtype": "f8"
           },
           "xaxis": "x",
           "y": {
            "bdata": "AAAAoVtZzUE=",
            "dtype": "f8"
           },
           "yaxis": "y"
          },
          {
           "hovertemplate": "<b>%{hovertext}</b><br><br>Country Name=India<br>Year=1968<br>GDP (current US$)=%{x}<br>CO2 Emissions (kt)=%{y}<br>Population, total=%{marker.size}<extra></extra>",
           "hovertext": [
            "India"
           ],
           "legendgroup": "India",
           "marker": {
            "color": "#ab63fa",
            "size": {
             "bdata": "AAAA2QYov0E=",
             "dtype": "f8"
            },
            "sizemode": "area",
            "sizeref": 399463.7766666667,
            "symbol": "circle"
           },
           "mode": "markers",
           "name": "India",
           "orientation": "v",
           "showlegend": true,
           "type": "scatter",
           "x": {
            "bdata": "WlX9i0e4KEI=",
            "dtype": "f8"
           },
           "xaxis": "x",
           "y": {
            "bdata": "AAAApCzApEE=",
            "dtype": "f8"
           },
           "yaxis": "y"
          },
          {
           "hovertemplate": "<b>%{hovertext}</b><br><br>Country Name=United States<br>Year=1968<br>GDP (current US$)=%{x}<br>CO2 Emissions (kt)=%{y}<br>Population, total=%{marker.size}<extra></extra>",
           "hovertext": [
            "United States"
           ],
           "legendgroup": "United States",
           "marker": {
            "color": "#FFA15A",
            "size": {
             "bdata": "AAAAoA/tp0E=",
             "dtype": "f8"
            },
            "sizemode": "area",
            "sizeref": 399463.7766666667,
            "symbol": "circle"
           },
           "mode": "markers",
           "name": "United States",
           "orientation": "v",
           "showlegend": true,
           "type": "scatter",
           "x": {
            "bdata": "AABI3jhda0I=",
            "dtype": "f8"
           },
           "xaxis": "x",
           "y": {
            "bdata": "AAAABvmd7EE=",
            "dtype": "f8"
           },
           "yaxis": "y"
          }
         ],
         "name": "1968"
        },
        {
         "data": [
          {
           "hovertemplate": "<b>%{hovertext}</b><br><br>Country Name=Brazil<br>Year=1969<br>GDP (current US$)=%{x}<br>CO2 Emissions (kt)=%{y}<br>Population, total=%{marker.size}<extra></extra>",
           "hovertext": [
            "Brazil"
           ],
           "legendgroup": "Brazil",
           "marker": {
            "color": "#636efa",
            "size": {
             "bdata": "AAAARBAvlkE=",
             "dtype": "f8"
            },
            "sizemode": "area",
            "sizeref": 399463.7766666667,
            "symbol": "circle"
           },
           "mode": "markers",
           "name": "Brazil",
           "orientation": "v",
           "showlegend": true,
           "type": "scatter",
           "x": {
            "bdata": "MCzlczRPIUI=",
            "dtype": "f8"
           },
           "xaxis": "x",
           "y": {
            "bdata": "AAAAkFkMlEE=",
            "dtype": "f8"
           },
           "yaxis": "y"
          },
          {
           "hovertemplate": "<b>%{hovertext}</b><br><br>Country Name=China<br>Year=1969<br>GDP (current US$)=%{x}<br>CO2 Emissions (kt)=%{y}<br>Population, total=%{marker.size}<extra></extra>",
           "hovertext": [
            "China"
           ],
           "legendgroup": "China",
           "marker": {
            "color": "#EF553B",
            "size": {
             "bdata": "AAAAVDC5x0E=",
             "dtype": "f8"
            },
            "sizemode": "area",
            "sizeref": 399463.7766666667,
            "symbol": "circle"
           },
           "mode": "markers",
           "name": "China",
           "orientation": "v",
           "showlegend": true,
           "type": "scatter",
           "x": {
            "bdata": "dMQGKtOOMkI=",
            "dtype": "f8"
           },
           "xaxis": "x",
           "y": {
            "bdata": "AAAAckEcwkE=",
            "dtype": "f8"
           },
           "yaxis": "y"
          },
          {
           "hovertemplate": "<b>%{hovertext}</b><br><br>Country Name=Germany<br>Year=1969<br>GDP (current US$)=%{x}<br>CO2 Emissions (kt)=%{y}<br>Population, total=%{marker.size}<extra></extra>",
           "hovertext": [
            "Germany"
           ],
           "legendgroup": "Germany",
           "marker": {
            "color": "#00cc96",
            "size": {
             "bdata": "AAAAyDqTkkE=",
             "dtype": "f8"
            },
            "sizemode": "area",
            "sizeref": 399463.7766666667,
            "symbol": "circle"
           },
           "mode": "markers",
           "name": "Germany",
           "orientation": "v",
           "showlegend": true,
           "type": "scatter",
           "x": {
            "bdata": "rgd7496wREI=",
            "dtype": "f8"
           },
           "xaxis": "x",
           "y": {
            "bdata": "AAAAHyFaz0E=",
            "dtype": "f8"
           },
           "yaxis": "y"
          },
          {
           "hovertemplate": "<b>%{hovertext}</b><br><br>Country Name=India<br>Year=1969<br>GDP (current US$)=%{x}<br>CO2 Emissions (kt)=%{y}<br>Population, total=%{marker.size}<extra></extra>",
           "hovertext": [
            "India"
           ],
           "legendgroup": "India",
           "marker": {
            "color": "#ab63fa",
            "size": {
             "bdata": "AAAA4F7Sv0E=",
             "dtype": "f8"
            },
            "sizemode": "area",
            "sizeref": 399463.7766666667,
            "symbol": "circle"
           },
           "mode": "markers",
           "name": "India",
           "orientation": "v",
           "showlegend": true,
           "type": "scatter",
           "x": {
            "bdata": "pqoSQYs3K0I=",
            "dtype": "f8"
           },
           "xaxis": "x",
           "y": {
            "bdata": "AAAA4DkmpUE=",
            "dtype": "f8"
           },
           "yaxis": "y"
          },
          {
           "hovertemplate": "<b>%{hovertext}</b><br><br>Country Name=United States<br>Year=1969<br>GDP (current US$)=%{x}<br>CO2 Emissions (kt)=%{y}<br>Population, total=%{marker.size}<extra></extra>",
           "hovertext": [
            "United States"
           ],
           "legendgroup": "United States",
           "marker": {
            "color": "#FFA15A",
            "size": {
             "bdata": "AAAAEDYpqEE=",
             "dtype": "f8"
            },
            "sizemode": "area",
            "sizeref": 399463.7766666667,
            "symbol": "circle"
           },
           "mode": "markers",
           "name": "United States",
           "orientation": "v",
           "showlegend": true,
           "type": "scatter",
           "x": {
            "bdata": "SLmfToGcbUI=",
            "dtype": "f8"
           },
           "xaxis": "x",
           "y": {
            "bdata": "AAAAvm0Q7kE=",
            "dtype": "f8"
           },
           "yaxis": "y"
          }
         ],
         "name": "1969"
        },
        {
         "data": [
          {
           "hovertemplate": "<b>%{hovertext}</b><br><br>Country Name=Brazil<br>Year=1970<br>GDP (current US$)=%{x}<br>CO2 Emissions (kt)=%{y}<br>Population, total=%{marker.size}<extra></extra>",
           "hovertext": [
            "Brazil"
           ],
           "legendgroup": "Brazil",
           "marker": {
            "color": "#636efa",
            "size": {
             "bdata": "AAAAjES9lkE=",
             "dtype": "f8"
            },
            "sizemode": "area",
            "sizeref": 399463.7766666667,
            "symbol": "circle"
           },
           "mode": "markers",
           "name": "Brazil",
           "orientation": "v",
           "showlegend": true,
           "type": "scatter",
           "x": {
            "bdata": "BWMz0dm1I0I=",
            "dtype": "f8"
           },
           "xaxis": "x",
           "y": {
            "bdata": "AAAAIBFKlkE=",
            "dtype": "f8"
           },
           "yaxis": "y"
          },
          {
           "hovertemplate": "<b>%{hovertext}</b><br><br>Country Name=China<br>Year=1970<br>GDP (current US$)=%{x}<br>CO2 Emissions (kt)=%{y}<br>Population, total=%{marker.size}<extra></extra>",
           "hovertext": [
            "China"
           ],
           "legendgroup": "China",
           "marker": {
            "color": "#EF553B",
            "size": {
             "bdata": "AAAAfD9jyEE=",
             "dtype": "f8"
            },
            "sizemode": "area",
            "sizeref": 399463.7766666667,
            "symbol": "circle"
           },
           "mode": "markers",
           "name": "China",
           "orientation": "v",
           "showlegend": true,
           "type": "scatter",
           "x": {
            "bdata": "rqiLEoyPNUI=",
            "dtype": "f8"
           },
           "xaxis": "x",
           "y": {
            "bdata": "AAAAgDAUyEE=",
            "dtype": "f8"
           },
           "yaxis": "y"
          },
          {
           "hovertemplate": "<b>%{hovertext}</b><br><br>Country Name=Germany<br>Year=1970<br>GDP (current US$)=%{x}<br>CO2 Emissions (kt)=%{y}<br>Population, total=%{marker.size}<extra></extra>",
           "hovertext": [
            "Germany"
           ],
           "legendgroup": "Germany",
           "marker": {
            "color": "#00cc96",
            "size": {
             "bdata": "AAAAJBOjkkE=",
             "dtype": "f8"
            },
            "sizemode": "area",
            "sizeref": 399463.7766666667,
            "symbol": "circle"
           },
           "mode": "markers",
           "name": "Germany",
           "orientation": "v",
           "showlegend": true,
           "type": "scatter",
           "x": {
            "bdata": "Soy93A04SUI=",
            "dtype": "f8"
           },
           "xaxis": "x",
           "y": {
            "bdata": "AAAA4u2TzkE=",
            "dtype": "f8"
           },
           "yaxis": "y"
          },
          {
           "hovertemplate": "<b>%{hovertext}</b><br><br>Country Name=India<br>Year=1970<br>GDP (current US$)=%{x}<br>CO2 Emissions (kt)=%{y}<br>Population, total=%{marker.size}<extra></extra>",
           "hovertext": [
            "India"
           ],
           "legendgroup": "India",
           "marker": {
            "color": "#ab63fa",
            "size": {
             "bdata": "AAAAJp1EwEE=",
             "dtype": "f8"
            },
            "sizemode": "area",
            "sizeref": 399463.7766666667,
            "symbol": "circle"
           },
           "mode": "markers",
           "name": "India",
           "orientation": "v",
           "showlegend": true,
           "type": "scatter",
           "x": {
            "bdata": "WlXdAFcRLUI=",
            "dtype": "f8"
           },
           "xaxis": "x",
           "y": {
            "bdata": "AAAAILyppUE=",
            "dtype": "f8"
           },
           "yaxis": "y"
          },
          {
           "hovertemplate": "<b>%{hovertext}</b><br><br>Country Name=United States<br>Year=1970<br>GDP (current US$)=%{x}<br>CO2 Emissions (kt)=%{y}<br>Population, total=%{marker.size}<extra></extra>",
           "hovertext": [
            "United States"
           ],
           "legendgroup": "United States",
           "marker": {
            "color": "#FFA15A",
            "size": {
             "bdata": "AAAAwLBxqEE=",
             "dtype": "f8"
            },
            "sizemode": "area",
            "sizeref": 399463.7766666667,
            "symbol": "circle"
           },
           "mode": "markers",
           "name": "United States",
           "orientation": "v",
           "showlegend": true,
           "type": "scatter",
           "x": {
            "bdata": "AAB4Ars8b0I=",
            "dtype": "f8"
           },
           "xaxis": "x",
           "y": {
            "bdata": "AAAAp6Uq8EE=",
            "dtype": "f8"
           },
           "yaxis": "y"
          }
         ],
         "name": "1970"
        },
        {
         "data": [
          {
           "hovertemplate": "<b>%{hovertext}</b><br><br>Country Name=Brazil<br>Year=1971<br>GDP (current US$)=%{x}<br>CO2 Emissions (kt)=%{y}<br>Population, total=%{marker.size}<extra></extra>",
           "hovertext": [
            "Brazil"
           ],
           "legendgroup": "Brazil",
           "marker": {
            "color": "#636efa",
            "size": {
             "bdata": "AAAAJIhNl0E=",
             "dtype": "f8"
            },
            "sizemode": "area",
            "sizeref": 399463.7766666667,
            "symbol": "circle"
           },
           "mode": "markers",
           "name": "Brazil",
           "orientation": "v",
           "showlegend": true,
           "type": "scatter",
           "x": {
            "bdata": "W5Pr4bzBJkI=",
            "dtype": "f8"
           },
           "xaxis": "x",
           "y": {
            "bdata": "AAAAaChmmEE=",
            "dtype": "f8"
           },
           "yaxis": "y"
          },
          {
           "hovertemplate": "<b>%{hovertext}</b><br><br>Country Name=China<br>Year=1971<br>GDP (current US$)=%{x}<br>CO2 Emissions (kt)=%{y}<br>Population, total=%{marker.size}<extra></extra>",
           "hovertext": [
            "China"
           ],
           "legendgroup": "China",
           "marker": {
            "color": "#EF553B",
            "size": {
             "bdata": "AAAANB8RyUE=",
             "dtype": "f8"
            },
            "sizemode": "area",
            "sizeref": 399463.7766666667,
            "symbol": "circle"
           },
           "mode": "markers",
           "name": "China",
           "orientation": "v",
           "showlegend": true,
           "type": "scatter",
           "x": {
            "bdata": "Ff1+NZQ8N0I=",
            "dtype": "f8"
           },
           "xaxis": "x",
           "y": {
            "bdata": "AAAAMrgYy0E=",
            "dtype": "f8"
           },
           "yaxis": "y"
          },
          {
           "hovertemplate": "<b>%{hovertext}</b><br><br>Country Name=Germany<br>Year=1971<br>GDP (current US$)=%{x}<br>CO2 Emissions (kt)=%{y}<br>Population, total=%{marker.size}<extra></extra>",
           "hovertext": [
            "Germany"
           ],
           "legendgroup": "Germany",
           "marker": {
            "color": "#00cc96",
            "size": {
             "bdata": "AAAAKNarkkE=",
             "dtype": "f8"
            },
            "sizemode": "area",
            "sizeref": 399463.7766666667,
            "symbol": "circle"
           },
           "mode": "markers",
           "name": "Germany",
           "orientation": "v",
           "showlegend": true,
           "type": "scatter",
           "x": {
            "bdata": "eVkeR241TUI=",
            "dtype": "f8"
           },
           "xaxis": "x",
           "y": {
            "bdata": "AAAAIH3pzkE=",
            "dtype": "f8"
           },
           "yaxis": "y"
          },
          {
           "hovertemplate": "<b>%{hovertext}</b><br><br>Country Name=India<br>Year=1971<br>GDP (current US$)=%{x}<br>CO2 Emissions (kt)=%{y}<br>Population, total=%{marker.size}<extra></extra>",
           "hovertext": [
            "India"
           ],
           "legendgroup": "India",
           "marker": {
            "color": "#ab63fa",
            "size": {
             "bdata": "AACAAfChwEE=",
             "dtype": "f8"
            },
            "sizemode": "area",
            "sizeref": 399463.7766666667,
            "symbol": "circle"
           },
           "mode": "markers",
           "name": "India",
           "orientation": "v",
           "showlegend": true,
           "type": "scatter",
           "x": {
            "bdata": "f6p/vulcL0I=",
            "dtype": "f8"
           },
           "xaxis": "x",
           "y": {
            "bdata": "AAAAQETipkE=",
            "dtype": "f8"
           },
           "yaxis": "y"
          },
          {
           "hovertemplate": "<b>%{hovertext}</b><br><br>Country Name=United States<br>Year=1971<br>GDP (current US$)=%{x}<br>CO2 Emissions (kt)=%{y}<br>Population, total=%{marker.size}<extra></extra>",
           "hovertext": [
            "United States"
           ],
           "legendgroup": "United States",
           "marker": {
            "color": "#FFA15A",
            "size": {
             "bdata": "AAAAkE/BqEE=",
             "dtype": "f8"
            },
            "sizemode": "area",
            "sizeref": 399463.7766666667,
            "symbol": "circle"
           },
           "mode": "markers",
           "name": "United States",
           "orientation": "v",
           "showlegend": true,
           "type": "scatter",
           "x": {
            "bdata": "AAAIh2fzcEI=",
            "dtype": "f8"
           },
           "xaxis": "x",
           "y": {
            "bdata": "AACAWjtD8EE=",
            "dtype": "f8"
           },
           "yaxis": "y"
          }
         ],
         "name": "1971"
        },
        {
         "data": [
          {
           "hovertemplate": "<b>%{hovertext}</b><br><br>Country Name=Brazil<br>Year=1972<br>GDP (current US$)=%{x}<br>CO2 Emissions (kt)=%{y}<br>Population, total=%{marker.size}<extra></extra>",
           "hovertext": [
            "Brazil"
           ],
           "legendgroup": "Brazil",
           "marker": {
            "color": "#636efa",
            "size": {
             "bdata": "AAAAtHngl0E=",
             "dtype": "f8"
            },
            "sizemode": "area",
            "sizeref": 399463.7766666667,
            "symbol": "circle"
           },
           "mode": "markers",
           "name": "Brazil",
           "orientation": "v",
           "showlegend": true,
           "type": "scatter",
           "x": {
            "bdata": "PL0NW/o1K0I=",
            "dtype": "f8"
           },
           "xaxis": "x",
           "y": {
            "bdata": "AAAAICgvm0E=",
            "dtype": "f8"
           },
           "yaxis": "y"
          },
          {
           "hovertemplate": "<b>%{hovertext}</b><br><br>Country Name=China<br>Year=1972<br>GDP (current US$)=%{x}<br>CO2 Emissions (kt)=%{y}<br>Population, total=%{marker.size}<extra></extra>",
           "hovertext": [
            "China"
           ],
           "legendgroup": "China",
           "marker": {
            "color": "#EF553B",
            "size": {
             "bdata": "AAAAWMSwyUE=",
             "dtype": "f8"
            },
            "sizemode": "area",
            "sizeref": 399463.7766666667,
            "symbol": "circle"
           },
           "mode": "markers",
           "name": "China",
           "orientation": "v",
           "showlegend": true,
           "type": "scatter",
           "x": {
            "bdata": "z1d0K2l4OkI=",
            "dtype": "f8"
           },
           "xaxis": "x",
           "y": {
            "bdata": "AAAA4S3ezEE=",
            "dtype": "f8"
           },
           "yaxis": "y"
          },
          {
           "hovertemplate": "<b>%{hovertext}</b><br><br>Country Name=Germany<br>Year=1972<br>GDP (current US$)=%{x}<br>CO2 Emissions (kt)=%{y}<br>Population, total=%{marker.size}<extra></extra>",
           "hovertext": [
            "Germany"
           ],
           "legendgroup": "Germany",
           "marker": {
            "color": "#00cc96",
            "size": {
             "bdata": "AAAAEMPCkkE=",
             "dtype": "f8"
            },
            "sizemode": "area",
            "sizeref": 399463.7766666667,
            "symbol": "circle"
           },
           "mode": "markers",
           "name": "Germany",
           "orientation": "v",
           "showlegend": true,
           "type": "scatter",
           "x": {
            "bdata": "59tWMsKDUUI=",
            "dtype": "f8"
           },
           "xaxis": "x",
           "y": {
            "bdata": "AAAAgN4Jz0E=",
            "dtype": "f8"
           },
           "yaxis": "y"
          },
          {
           "hovertemplate": "<b>%{hovertext}</b><br><br>Country Name=India<br>Year=1972<br>GDP (current US$)=%{x}<br>CO2 Emissions (kt)=%{y}<br>Population, total=%{marker.size}<extra></extra>",
           "hovertext": [
            "India"
           ],
           "legendgroup": "India",
           "marker": {
            "color": "#ab63fa",
            "size": {
             "bdata": "AAAA724AwUE=",
             "dtype": "f8"
            },
            "sizemode": "area",
            "sizeref": 399463.7766666667,
            "symbol": "circle"
           },
           "mode": "markers",
           "name": "India",
           "orientation": "v",
           "showlegend": true,
           "type": "scatter",
           "x": {
            "bdata": "pfz6yqCjMEI=",
            "dtype": "f8"
           },
           "xaxis": "x",
           "y": {
            "bdata": "AAAAmCo0qEE=",
            "dtype": "f8"
           },
           "yaxis": "y"
          },
          {
           "hovertemplate": "<b>%{hovertext}</b><br><br>Country Name=United States<br>Year=1972<br>GDP (current US$)=%{x}<br>CO2 Emissions (kt)=%{y}<br>Population, total=%{marker.size}<extra></extra>",
           "hovertext": [
            "United States"
           ],
           "legendgroup": "United States",
           "marker": {
            "color": "#FFA15A",
            "size": {
             "bdata": "AAAAgIQFqUE=",
             "dtype": "f8"
            },
            "sizemode": "area",
            "sizeref": 399463.7766666667,
            "symbol": "circle"
           },
           "mode": "markers",
           "name": "United States",
           "orientation": "v",
           "showlegend": true,
           "type": "scatter",
           "x": {
            "bdata": "AADYWg6dckI=",
            "dtype": "f8"
           },
           "xaxis": "x",
           "y": {
            "bdata": "AACAvSoJ8UE=",
            "dtype": "f8"
           },
           "yaxis": "y"
          }
         ],
         "name": "1972"
        },
        {
         "data": [
          {
           "hovertemplate": "<b>%{hovertext}</b><br><br>Country Name=Brazil<br>Year=1973<br>GDP (current US$)=%{x}<br>CO2 Emissions (kt)=%{y}<br>Population, total=%{marker.size}<extra></extra>",
           "hovertext": [
            "Brazil"
           ],
           "legendgroup": "Brazil",
           "marker": {
            "color": "#636efa",
            "size": {
             "bdata": "AAAAQER2mEE=",
             "dtype": "f8"
            },
            "sizemode": "area",
            "sizeref": 399463.7766666667,
            "symbol": "circle"
           },
           "mode": "markers",
           "name": "Brazil",
           "orientation": "v",
           "showlegend": true,
           "type": "scatter",
           "x": {
            "bdata": "iv+W53x2M0I=",
            "dtype": "f8"
           },
           "xaxis": "x",
           "y": {
            "bdata": "AAAAoFl8n0E=",
            "dtype": "f8"
           },
           "yaxis": "y"
          },
          {
           "hovertemplate": "<b>%{hovertext}</b><br><br>Country Name=China<br>Year=1973<br>GDP (current US$)=%{x}<br>CO2 Emissions (kt)=%{y}<br>Population, total=%{marker.size}<extra></extra>",
           "hovertext": [
            "China"
           ],
           "legendgroup": "China",
           "marker": {
            "color": "#EF553B",
            "size": {
             "bdata": "AAAAEKtIykE=",
             "dtype": "f8"
            },
            "sizemode": "area",
            "sizeref": 399463.7766666667,
            "symbol": "circle"
           },
           "mode": "markers",
           "name": "China",
           "orientation": "v",
           "showlegend": true,
           "type": "scatter",
           "x": {
            "bdata": "MQjNgeggQEI=",
            "dtype": "f8"
           },
           "xaxis": "x",
           "y": {
            "bdata": "AAAAfKkMzkE=",
            "dtype": "f8"
           },
           "yaxis": "y"
          },
          {
           "hovertemplate": "<b>%{hovertext}</b><br><br>Country Name=Germany<br>Year=1973<br>GDP (current US$)=%{x}<br>CO2 Emissions (kt)=%{y}<br>Population, total=%{marker.size}<extra></extra>",
           "hovertext": [
            "Germany"
           ],
           "legendgroup": "Germany",
           "marker": {
            "color": "#00cc96",
            "size": {
             "bdata": "AAAAaOnRkkE=",
             "dtype": "f8"
            },
            "sizemode": "area",
            "sizeref": 399463.7766666667,
            "symbol": "circle"
           },
           "mode": "markers",
           "name": "Germany",
           "orientation": "v",
           "showlegend": true,
           "type": "scatter",
           "x": {
            "bdata": "w83XB/xFV0I=",
            "dtype": "f8"
           },
           "xaxis": "x",
           "y": {
            "bdata": "AAAAaMMt0EE=",
            "dtype": "f8"
           },
           "yaxis": "y"
          },
          {
           "hovertemplate": "<b>%{hovertext}</b><br><br>Country Name=India<br>Year=1973<br>GDP (current US$)=%{x}<br>CO2 Emissions (kt)=%{y}<br>Population, total=%{marker.size}<extra></extra>",
           "hovertext": [
            "India"
           ],
           "legendgroup": "India",
           "marker": {
            "color": "#ab63fa",
            "size": {
             "bdata": "AAAAP31jwUE=",
             "dtype": "f8"
            },
            "sizemode": "area",
            "sizeref": 399463.7766666667,
            "symbol": "circle"
           },
           "mode": "markers",
           "name": "India",
           "orientation": "v",
           "showlegend": true,
           "type": "scatter",
           "x": {
            "bdata": "Io3UIkDpM0I=",
            "dtype": "f8"
           },
           "xaxis": "x",
           "y": {
            "bdata": "AAAAABPtqEE=",
            "dtype": "f8"
           },
           "yaxis": "y"
          },
          {
           "hovertemplate": "<b>%{hovertext}</b><br><br>Country Name=United States<br>Year=1973<br>GDP (current US$)=%{x}<br>CO2 Emissions (kt)=%{y}<br>Population, total=%{marker.size}<extra></extra>",
           "hovertext": [
            "United States"
           ],
           "legendgroup": "United States",
           "marker": {
            "color": "#FFA15A",
            "size": {
             "bdata": "AAAAEPNCqUE=",
             "dtype": "f8"
            },
            "sizemode": "area",
            "sizeref": 399463.7766666667,
            "symbol": "circle"
           },
           "mode": "markers",
           "name": "United States",
           "orientation": "v",
           "showlegend": true,
           "type": "scatter",
           "x": {
            "bdata": "AACAe/C9dEI=",
            "dtype": "f8"
           },
           "xaxis": "x",
           "y": {
            "bdata": "AAAA2b7T8UE=",
            "dtype": "f8"
           },
           "yaxis": "y"
          }
         ],
         "name": "1973"
        },
        {
         "data": [
          {
           "hovertemplate": "<b>%{hovertext}</b><br><br>Country Name=Brazil<br>Year=1974<br>GDP (current US$)=%{x}<br>CO2 Emissions (kt)=%{y}<br>Population, total=%{marker.size}<extra></extra>",
           "hovertext": [
            "Brazil"
           ],
           "legendgroup": "Brazil",
           "marker": {
            "color": "#636efa",
            "size": {
             "bdata": "AAAALCoOmUE=",
             "dtype": "f8"
            },
            "sizemode": "area",
            "sizeref": 399463.7766666667,
            "symbol": "circle"
           },
           "mode": "markers",
           "name": "Brazil",
           "orientation": "v",
           "showlegend": true,
           "type": "scatter",
           "x": {
            "bdata": "uomvakOQOUI=",
            "dtype": "f8"
           },
           "xaxis": "x",
           "y": {
            "bdata": "AAAAKH4MoUE=",
            "dtype": "f8"
           },
           "yaxis": "y"
          },
          {
           "hovertemplate": "<b>%{hovertext}</b><br><br>Country Name=China<br>Year=1974<br>GDP (current US$)=%{x}<br>CO2 Emissions (kt)=%{y}<br>Population, total=%{marker.size}<extra></extra>",
           "hovertext": [
            "China"
           ],
           "legendgroup": "China",
           "marker": {
            "color": "#EF553B",
            "size": {
             "bdata": "AAAAGCDVykE=",
             "dtype": "f8"
            },
            "sizemode": "area",
            "sizeref": 399463.7766666667,
            "symbol": "circle"
           },
           "mode": "markers",
           "name": "China",
           "orientation": "v",
           "showlegend": true,
           "type": "scatter",
           "x": {
            "bdata": "N4miiyrJQEI=",
            "dtype": "f8"
           },
           "xaxis": "x",
           "y": {
            "bdata": "AAAAgMejzkE=",
            "dtype": "f8"
           },
           "yaxis": "y"
          },
          {
           "hovertemplate": "<b>%{hovertext}</b><br><br>Country Name=Germany<br>Year=1974<br>GDP (current US$)=%{x}<br>CO2 Emissions (kt)=%{y}<br>Population, total=%{marker.size}<extra></extra>",
           "hovertext": [
            "Germany"
           ],
           "legendgroup": "Germany",
           "marker": {
            "color": "#00cc96",
            "size": {
             "bdata": "AAAAJMrTkkE=",
             "dtype": "f8"
            },
            "sizemode": "area",
            "sizeref": 399463.7766666667,
            "symbol": "circle"
           },
           "mode": "markers",
           "name": "Germany",
           "orientation": "v",
           "showlegend": true,
           "type": "scatter",
           "x": {
            "bdata": "JV5CndkDWkI=",
            "dtype": "f8"
           },
           "xaxis": "x",
           "y": {
            "bdata": "AAAAevarz0E=",
            "dtype": "f8"
           },
           "yaxis": "y"
          },
          {
           "hovertemplate": "<b>%{hovertext}</b><br><br>Country Name=India<br>Year=1974<br>GDP (current US$)=%{x}<br>CO2 Emissions (kt)=%{y}<br>Population, total=%{marker.size}<extra></extra>",
           "hovertext": [
            "India"
           ],
           "legendgroup": "India",
           "marker": {
            "color": "#ab63fa",
            "size": {
             "bdata": "AACAdxDLwUE=",
             "dtype": "f8"
            },
            "sizemode": "area",
            "sizeref": 399463.7766666667,
            "symbol": "circle"
           },
           "mode": "markers",
           "name": "India",
           "orientation": "v",
           "showlegend": true,
           "type": "scatter",
           "x": {
            "bdata": "E6ItXT8sN0I=",
            "dtype": "f8"
           },
           "xaxis": "x",
           "y": {
            "bdata": "AAAA+FC7qUE=",
            "dtype": "f8"
           },
           "yaxis": "y"
          },
          {
           "hovertemplate": "<b>%{hovertext}</b><br><br>Country Name=United States<br>Year=1974<br>GDP (current US$)=%{x}<br>CO2 Emissions (kt)=%{y}<br>Population, total=%{marker.size}<extra></extra>",
           "hovertext": [
            "United States"
           ],
           "legendgroup": "United States",
           "marker": {
            "color": "#FFA15A",
            "size": {
             "bdata": "AAAAYE5+qUE=",
             "dtype": "f8"
            },
            "sizemode": "area",
            "sizeref": 399463.7766666667,
            "symbol": "circle"
           },
           "mode": "markers",
           "name": "United States",
           "orientation": "v",
           "showlegend": true,
           "type": "scatter",
           "x": {
            "bdata": "AADMj3p8dkI=",
            "dtype": "f8"
           },
           "xaxis": "x",
           "y": {
            "bdata": "AACAH1Q38UE=",
            "dtype": "f8"
           },
           "yaxis": "y"
          }
         ],
         "name": "1974"
        },
        {
         "data": [
          {
           "hovertemplate": "<b>%{hovertext}</b><br><br>Country Name=Brazil<br>Year=1975<br>GDP (current US$)=%{x}<br>CO2 Emissions (kt)=%{y}<br>Population, total=%{marker.size}<extra></extra>",
           "hovertext": [
            "Brazil"
           ],
           "legendgroup": "Brazil",
           "marker": {
            "color": "#636efa",
            "size": {
             "bdata": "AAAAtJOomUE=",
             "dtype": "f8"
            },
            "sizemode": "area",
            "sizeref": 399463.7766666667,
            "symbol": "circle"
           },
           "mode": "markers",
           "name": "Brazil",
           "orientation": "v",
           "showlegend": true,
           "type": "scatter",
           "x": {
            "bdata": "ttOmyyEVPkI=",
            "dtype": "f8"
           },
           "xaxis": "x",
           "y": {
            "bdata": "AAAAaJrroUE=",
            "dtype": "f8"
           },
           "yaxis": "y"
          },
          {
           "hovertemplate": "<b>%{hovertext}</b><br><br>Country Name=China<br>Year=1975<br>GDP (current US$)=%{x}<br>CO2 Emissions (kt)=%{y}<br>Population, total=%{marker.size}<extra></extra>",
           "hovertext": [
            "China"
           ],
           "legendgroup": "China",
           "marker": {
            "color": "#EF553B",
            "size": {
             "bdata": "AAAA/IlPy0E=",
             "dtype": "f8"
            },
            "sizemode": "area",
            "sizeref": 399463.7766666667,
            "symbol": "circle"
           },
           "mode": "markers",
           "name": "China",
           "orientation": "v",
           "showlegend": true,
           "type": "scatter",
           "x": {
            "bdata": "qtERXpQGQ0I=",
            "dtype": "f8"
           },
           "xaxis": "x",
           "y": {
            "bdata": "AAAAZpuh0UE=",
            "dtype": "f8"
           },
           "yaxis": "y"
          },
          {
           "hovertemplate": "<b>%{hovertext}</b><br><br>Country Name=Germany<br>Year=1975<br>GDP (current US$)=%{x}<br>CO2 Emissions (kt)=%{y}<br>Population, total=%{marker.size}<extra></extra>",
           "hovertext": [
            "Germany"
           ],
           "legendgroup": "Germany",
           "marker": {
            "color": "#00cc96",
            "size": {
             "bdata": "AAAASNrBkkE=",
             "dtype": "f8"
            },
            "sizemode": "area",
            "sizeref": 399463.7766666667,
            "symbol": "circle"
           },
           "mode": "markers",
           "name": "Germany",
           "orientation": "v",
           "showlegend": true,
           "type": "scatter",
           "x": {
            "bdata": "uAbS/tapXEI=",
            "dtype": "f8"
           },
           "xaxis": "x",
           "y": {
            "bdata": "AAAATBDgzUE=",
            "dtype": "f8"
           },
           "yaxis": "y"
          },
          {
           "hovertemplate": "<b>%{hovertext}</b><br><br>Country Name=India<br>Year=1975<br>GDP (current US$)=%{x}<br>CO2 Emissions (kt)=%{y}<br>Population, total=%{marker.size}<extra></extra>",
           "hovertext": [
            "India"
           ],
           "legendgroup": "India",
           "marker": {
            "color": "#ab63fa",
            "size": {
             "bdata": "AACA7+s3wkE=",
             "dtype": "f8"
            },
            "sizemode": "area",
            "sizeref": 399463.7766666667,
            "symbol": "circle"
           },
           "mode": "markers",
           "name": "India",
           "orientation": "v",
           "showlegend": true,
           "type": "scatter",
           "x": {
            "bdata": "/1JRbn/tNkI=",
            "dtype": "f8"
           },
           "xaxis": "x",
           "y": {
            "bdata": "AAAAwH7rq0E=",
            "dtype": "f8"
           },
           "yaxis": "y"
          },
          {
           "hovertemplate": "<b>%{hovertext}</b><br><br>Country Name=United States<br>Year=1975<br>GDP (current US$)=%{x}<br>CO2 Emissions (kt)=%{y}<br>Population, total=%{marker.size}<extra></extra>",
           "hovertext": [
            "United States"
           ],
           "legendgroup": "United States",
           "marker": {
            "color": "#FFA15A",
            "size": {
             "bdata": "AAAAEPm+qUE=",
             "dtype": "f8"
            },
            "sizemode": "area",
            "sizeref": 399463.7766666667,
            "symbol": "circle"
           },
           "mode": "markers",
           "name": "United States",
           "orientation": "v",
           "showlegend": true,
           "type": "scatter",
           "x": {
            "bdata": "AACgq8GEeEI=",
            "dtype": "f8"
           },
           "xaxis": "x",
           "y": {
            "bdata": "AACAKxev8EE=",
            "dtype": "f8"
           },
           "yaxis": "y"
          }
         ],
         "name": "1975"
        },
        {
         "data": [
          {
           "hovertemplate": "<b>%{hovertext}</b><br><br>Country Name=Brazil<br>Year=1976<br>GDP (current US$)=%{x}<br>CO2 Emissions (kt)=%{y}<br>Population, total=%{marker.size}<extra></extra>",
           "hovertext": [
            "Brazil"
           ],
           "legendgroup": "Brazil",
           "marker": {
            "color": "#636efa",
            "size": {
             "bdata": "AAAAlONGmkE=",
             "dtype": "f8"
            },
            "sizemode": "area",
            "sizeref": 399463.7766666667,
            "symbol": "circle"
           },
           "mode": "markers",
           "name": "Brazil",
           "orientation": "v",
           "showlegend": true,
           "type": "scatter",
           "x": {
            "bdata": "fxrsV8rUQUI=",
            "dtype": "f8"
           },
           "xaxis": "x",
           "y": {
            "bdata": "AAAACDtuokE=",
            "dtype": "f8"
           },
           "yaxis": "y"
          },
          {
           "hovertemplate": "<b>%{hovertext}</b><br><br>Country Name=China<br>Year=1976<br>GDP (current US$)=%{x}<br>CO2 Emissions (kt)=%{y}<br>Population, total=%{marker.size}<extra></extra>",
           "hovertext": [
            "China"
           ],
           "legendgroup": "China",
           "marker": {
            "color": "#EF553B",
            "size": {
             "bdata": "AAAAJJC8y0E=",
             "dtype": "f8"
            },
            "sizemode": "area",
            "sizeref": 399463.7766666667,
            "symbol": "circle"
           },
           "mode": "markers",
           "name": "China",
           "orientation": "v",
           "showlegend": true,
           "type": "scatter",
           "x": {
            "bdata": "M+PNZL/rQUI=",
            "dtype": "f8"
           },
           "xaxis": "x",
           "y": {
            "bdata": "AAAA9GxG0kE=",
            "dtype": "f8"
           },
           "yaxis": "y"
          },
          {
           "hovertemplate": "<b>%{hovertext}</b><br><br>Country Name=Germany<br>Year=1976<br>GDP (current US$)=%{x}<br>CO2 Emissions (kt)=%{y}<br>Population, total=%{marker.size}<extra></extra>",
           "hovertext": [
            "Germany"
           ],
           "legendgroup": "Germany",
           "marker": {
            "color": "#00cc96",
            "size": {
             "bdata": "AAAA2E6tkkE=",
             "dtype": "f8"
            },
            "sizemode": "area",
            "sizeref": 399463.7766666667,
            "symbol": "circle"
           },
           "mode": "markers",
           "name": "Germany",
           "orientation": "v",
           "showlegend": true,
           "type": "scatter",
           "x": {
            "bdata": "yT4REFJdXkI=",
            "dtype": "f8"
           },
           "xaxis": "x",
           "y": {
            "bdata": "AAAA1DlB0EE=",
            "dtype": "f8"
           },
           "yaxis": "y"
          },
          {
           "hovertemplate": "<b>%{hovertext}</b><br><br>Country Name=India<br>Year=1976<br>GDP (current US$)=%{x}<br>CO2 Emissions (kt)=%{y}<br>Population, total=%{marker.size}<extra></extra>",
           "hovertext": [
            "India"
           ],
           "legendgroup": "India",
           "marker": {
            "color": "#ab63fa",
            "size": {
             "bdata": "AACAffKmwkE=",
             "dtype": "f8"
            },
            "sizemode": "area",
            "sizeref": 399463.7766666667,
            "symbol": "circle"
           },
           "mode": "markers",
           "name": "India",
           "orientation": "v",
           "showlegend": true,
           "type": "scatter",
           "x": {
            "bdata": "FK6LrGDqN0I=",
            "dtype": "f8"
           },
           "xaxis": "x",
           "y": {
            "bdata": "AAAAiCgtrUE=",
            "dtype": "f8"
           },
           "yaxis": "y"
          },
          {
           "hovertemplate": "<b>%{hovertext}</b><br><br>Country Name=United States<br>Year=1976<br>GDP (current US$)=%{x}<br>CO2 Emissions (kt)=%{y}<br>Population, total=%{marker.size}<extra></extra>",
           "hovertext": [
            "United States"
           ],
           "legendgroup": "United States",
           "marker": {
            "color": "#FFA15A",
            "size": {
             "bdata": "AAAAcOb9qUE=",
             "dtype": "f8"
            },
            "sizemode": "area",
            "sizeref": 399463.7766666667,
            "symbol": "circle"
           },
           "mode": "markers",
           "name": "United States",
           "orientation": "v",
           "showlegend": true,
           "type": "scatter",
           "x": {
            "bdata": "AACQ6ABDe0I=",
            "dtype": "f8"
           },
           "xaxis": "x",
           "y": {
            "bdata": "AACA4iaw8UE=",
            "dtype": "f8"
           },
           "yaxis": "y"
          }
         ],
         "name": "1976"
        },
        {
         "data": [
          {
           "hovertemplate": "<b>%{hovertext}</b><br><br>Country Name=Brazil<br>Year=1977<br>GDP (current US$)=%{x}<br>CO2 Emissions (kt)=%{y}<br>Population, total=%{marker.size}<extra></extra>",
           "hovertext": [
            "Brazil"
           ],
           "legendgroup": "Brazil",
           "marker": {
            "color": "#636efa",
            "size": {
             "bdata": "AAAAcFzpmkE=",
             "dtype": "f8"
            },
            "sizemode": "area",
            "sizeref": 399463.7766666667,
            "symbol": "circle"
           },
           "mode": "markers",
           "name": "Brazil",
           "orientation": "v",
           "showlegend": true,
           "type": "scatter",
           "x": {
            "bdata": "c/gMuXaHREI=",
            "dtype": "f8"
           },
           "xaxis": "x",
           "y": {
            "bdata": "AAAAwO9ao0E=",
            "dtype": "f8"
           },
           "yaxis": "y"
          },
          {
           "hovertemplate": "<b>%{hovertext}</b><br><br>Country Name=China<br>Year=1977<br>GDP (current US$)=%{x}<br>CO2 Emissions (kt)=%{y}<br>Population, total=%{marker.size}<extra></extra>",
           "hovertext": [
            "China"
           ],
           "legendgroup": "China",
           "marker": {
            "color": "#EF553B",
            "size": {
             "bdata": "AAAAjP0dzEE=",
             "dtype": "f8"
            },
            "sizemode": "area",
            "sizeref": 399463.7766666667,
            "symbol": "circle"
           },
           "mode": "markers",
           "name": "China",
           "orientation": "v",
           "showlegend": true,
           "type": "scatter",
           "x": {
            "bdata": "3VRLQH9dREI=",
            "dtype": "f8"
           },
           "xaxis": "x",
           "y": {
            "bdata": "AAAAX93600E=",
            "dtype": "f8"
           },
           "yaxis": "y"
          },
          {
           "hovertemplate": "<b>%{hovertext}</b><br><br>Country Name=Germany<br>Year=1977<br>GDP (current US$)=%{x}<br>CO2 Emissions (kt)=%{y}<br>Population, total=%{marker.size}<extra></extra>",
           "hovertext": [
            "Germany"
           ],
           "legendgroup": "Germany",
           "marker": {
            "color": "#00cc96",
            "size": {
             "bdata": "AAAAGH+ikkE=",
             "dtype": "f8"
            },
            "sizemode": "area",
            "sizeref": 399463.7766666667,
            "symbol": "circle"
           },
           "mode": "markers",
           "name": "Germany",
           "orientation": "v",
           "showlegend": true,
           "type": "scatter",
           "x": {
            "bdata": "x7+R0nOKYUI=",
            "dtype": "f8"
           },
           "xaxis": "x",
           "y": {
            "bdata": "AAAA+sNez0E=",
            "dtype": "f8"
           },
           "yaxis": "y"
          },
          {
           "hovertemplate": "<b>%{hovertext}</b><br><br>Country Name=India<br>Year=1977<br>GDP (current US$)=%{x}<br>CO2 Emissions (kt)=%{y}<br>Population, total=%{marker.size}<extra></extra>",
           "hovertext": [
            "India"
           ],
           "legendgroup": "India",
           "marker": {
            "color": "#ab63fa",
            "size": {
             "bdata": "AACAp+wYw0E=",
             "dtype": "f8"
            },
            "sizemode": "area",
            "sizeref": 399463.7766666667,
            "symbol": "circle"
           },
           "mode": "markers",
           "name": "India",
           "orientation": "v",
           "showlegend": true,
           "type": "scatter",
           "x": {
            "bdata": "G08hCStJPEI=",
            "dtype": "f8"
           },
           "xaxis": "x",
           "y": {
            "bdata": "AAAAhOLerkE=",
            "dtype": "f8"
           },
           "yaxis": "y"
          },
          {
           "hovertemplate": "<b>%{hovertext}</b><br><br>Country Name=United States<br>Year=1977<br>GDP (current US$)=%{x}<br>CO2 Emissions (kt)=%{y}<br>Population, total=%{marker.size}<extra></extra>",
           "hovertext": [
            "United States"
           ],
           "legendgroup": "United States",
           "marker": {
            "color": "#FFA15A",
            "size": {
             "bdata": "AAAAMClBqkE=",
             "dtype": "f8"
            },
            "sizemode": "area",
            "sizeref": 399463.7766666667,
            "symbol": "circle"
           },
           "mode": "markers",
           "name": "United States",
           "orientation": "v",
           "showlegend": true,
           "type": "scatter",
           "x": {
            "bdata": "AADI/GdLfkI=",
            "dtype": "f8"
           },
           "xaxis": "x",
           "y": {
            "bdata": "AABAQWw38kE=",
            "dtype": "f8"
           },
           "yaxis": "y"
          }
         ],
         "name": "1977"
        },
        {
         "data": [
          {
           "hovertemplate": "<b>%{hovertext}</b><br><br>Country Name=Brazil<br>Year=1978<br>GDP (current US$)=%{x}<br>CO2 Emissions (kt)=%{y}<br>Population, total=%{marker.size}<extra></extra>",
           "hovertext": [
            "Brazil"
           ],
           "legendgroup": "Brazil",
           "marker": {
            "color": "#636efa",
            "size": {
             "bdata": "AAAAuLiPm0E=",
             "dtype": "f8"
            },
            "sizemode": "area",
            "sizeref": 399463.7766666667,
            "symbol": "circle"
           },
           "mode": "markers",
           "name": "Brazil",
           "orientation": "v",
           "showlegend": true,
           "type": "scatter",
           "x": {
            "bdata": "Xsq1zsRQR0I=",
            "dtype": "f8"
           },
           "xaxis": "x",
           "y": {
            "bdata": "AAAA+C8dpUE=",
            "dtype": "f8"
           },
           "yaxis": "y"
          },
          {
           "hovertemplate": "<b>%{hovertext}</b><br><br>Country Name=China<br>Year=1978<br>GDP (current US$)=%{x}<br>CO2 Emissions (kt)=%{y}<br>Population, total=%{marker.size}<extra></extra>",
           "hovertext": [
            "China"
           ],
           "legendgroup": "China",
           "marker": {
            "color": "#EF553B",
            "size": {
             "bdata": "AAAAxPV+zEE=",
             "dtype": "f8"
            },
            "sizemode": "area",
            "sizeref": 399463.7766666667,
            "symbol": "circle"
           },
           "mode": "markers",
           "name": "China",
           "orientation": "v",
           "showlegend": true,
           "type": "scatter",
           "x": {
            "bdata": "TqLeZqloQUI=",
            "dtype": "f8"
           },
           "xaxis": "x",
           "y": {
            "bdata": "AAAA634+1kE=",
            "dtype": "f8"
           },
           "yaxis": "y"
          },
          {
           "hovertemplate": "<b>%{hovertext}</b><br><br>Country Name=Germany<br>Year=1978<br>GDP (current US$)=%{x}<br>CO2 Emissions (kt)=%{y}<br>Population, total=%{marker.size}<extra></extra>",
           "hovertext": [
            "Germany"
           ],
           "legendgroup": "Germany",
           "marker": {
            "color": "#00cc96",
            "size": {
             "bdata": "AAAAsFiekkE=",
             "dtype": "f8"
            },
            "sizemode": "area",
            "sizeref": 399463.7766666667,
            "symbol": "circle"
           },
           "mode": "markers",
           "name": "Germany",
           "orientation": "v",
           "showlegend": true,
           "type": "scatter",
           "x": {
            "bdata": "qMZx3yShZUI=",
            "dtype": "f8"
           },
           "xaxis": "x",
           "y": {
            "bdata": "AAAAVZAU0EE=",
            "dtype": "f8"
           },
           "yaxis": "y"
          },
          {
           "hovertemplate": "<b>%{hovertext}</b><br><br>Country Name=India<br>Year=1978<br>GDP (current US$)=%{x}<br>CO2 Emissions (kt)=%{y}<br>Population, total=%{marker.size}<extra></extra>",
           "hovertext": [
            "India"
           ],
           "legendgroup": "India",
           "marker": {
            "color": "#ab63fa",
            "size": {
             "bdata": "AACAMs+Kw0E=",
             "dtype": "f8"
            },
            "sizemode": "area",
            "sizeref": 399463.7766666667,
            "symbol": "circle"
           },
           "mode": "markers",
           "name": "India",
           "orientation": "v",
           "showlegend": true,
           "type": "scatter",
           "x": {
            "bdata": "uP7UItv3P0I=",
            "dtype": "f8"
           },
           "xaxis": "x",
           "y": {
            "bdata": "AAAABLBer0E=",
            "dtype": "f8"
           },
           "yaxis": "y"
          },
          {
           "hovertemplate": "<b>%{hovertext}</b><br><br>Country Name=United States<br>Year=1978<br>GDP (current US$)=%{x}<br>CO2 Emissions (kt)=%{y}<br>Population, total=%{marker.size}<extra></extra>",
           "hovertext": [
            "United States"
           ],
           "legendgroup": "United States",
           "marker": {
            "color": "#FFA15A",
            "size": {
             "bdata": "AAAAUMGIqkE=",
             "dtype": "f8"
            },
            "sizemode": "area",
            "sizeref": 399463.7766666667,
            "symbol": "circle"
           },
           "mode": "markers",
           "name": "United States",
           "orientation": "v",
           "showlegend": true,
           "type": "scatter",
           "x": {
            "bdata": "AADOyDEcgUI=",
            "dtype": "f8"
           },
           "xaxis": "x",
           "y": {
            "bdata": "AADAwMdo8kE=",
            "dtype": "f8"
           },
           "yaxis": "y"
          }
         ],
         "name": "1978"
        },
        {
         "data": [
          {
           "hovertemplate": "<b>%{hovertext}</b><br><br>Country Name=Brazil<br>Year=1979<br>GDP (current US$)=%{x}<br>CO2 Emissions (kt)=%{y}<br>Population, total=%{marker.size}<extra></extra>",
           "hovertext": [
            "Brazil"
           ],
           "legendgroup": "Brazil",
           "marker": {
            "color": "#636efa",
            "size": {
             "bdata": "AAAAVGQ5nEE=",
             "dtype": "f8"
            },
            "sizemode": "area",
            "sizeref": 399463.7766666667,
            "symbol": "circle"
           },
           "mode": "markers",
           "name": "Brazil",
           "orientation": "v",
           "showlegend": true,
           "type": "scatter",
           "x": {
            "bdata": "ahygfGTESUI=",
            "dtype": "f8"
           },
           "xaxis": "x",
           "y": {
            "bdata": "AAAAHM9ipkE=",
            "dtype": "f8"
           },
           "yaxis": "y"
          },
          {
           "hovertemplate": "<b>%{hovertext}</b><br><br>Country Name=China<br>Year=1979<br>GDP (current US$)=%{x}<br>CO2 Emissions (kt)=%{y}<br>Population, total=%{marker.size}<extra></extra>",
           "hovertext": [
            "China"
           ],
           "legendgroup": "China",
           "marker": {
            "color": "#EF553B",
            "size": {
             "bdata": "AAAA5OvgzEE=",
             "dtype": "f8"
            },
            "sizemode": "area",
            "sizeref": 399463.7766666667,
            "symbol": "circle"
           },
           "mode": "markers",
           "name": "China",
           "orientation": "v",
           "showlegend": true,
           "type": "scatter",
           "x": {
            "bdata": "gYX2/SzBREI=",
            "dtype": "f8"
           },
           "xaxis": "x",
           "y": {
            "bdata": "AAAAhO+71kE=",
            "dtype": "f8"
           },
           "yaxis": "y"
          },
          {
           "hovertemplate": "<b>%{hovertext}</b><br><br>Country Name=Germany<br>Year=1979<br>GDP (current US$)=%{x}<br>CO2 Emissions (kt)=%{y}<br>Population, total=%{marker.size}<extra></extra>",
           "hovertext": [
            "Germany"
           ],
           "legendgroup": "Germany",
           "marker": {
            "color": "#00cc96",
            "size": {
             "bdata": "AAAAOHSgkkE=",
             "dtype": "f8"
            },
            "sizemode": "area",
            "sizeref": 399463.7766666667,
            "symbol": "circle"
           },
           "mode": "markers",
           "name": "Germany",
           "orientation": "v",
           "showlegend": true,
           "type": "scatter",
           "x": {
            "bdata": "9qQLbZe+aUI=",
            "dtype": "f8"
           },
           "xaxis": "x",
           "y": {
            "bdata": "AAAAy2eo0EE=",
            "dtype": "f8"
           },
           "yaxis": "y"
          },
          {
           "hovertemplate": "<b>%{hovertext}</b><br><br>Country Name=India<br>Year=1979<br>GDP (current US$)=%{x}<br>CO2 Emissions (kt)=%{y}<br>Population, total=%{marker.size}<extra></extra>",
           "hovertext": [
            "India"
           ],
           "legendgroup": "India",
           "marker": {
            "color": "#ab63fa",
            "size": {
             "bdata": "AACAEYMAxEE=",
             "dtype": "f8"
            },
            "sizemode": "area",
            "sizeref": 399463.7766666667,
            "symbol": "circle"
           },
           "mode": "markers",
           "name": "India",
           "orientation": "v",
           "showlegend": true,
           "type": "scatter",
           "x": {
            "bdata": "wdqgl57PQUI=",
            "dtype": "f8"
           },
           "xaxis": "x",
           "y": {
            "bdata": "AAAARMV3sEE=",
            "dtype": "f8"
           },
           "yaxis": "y"
          },
          {
           "hovertemplate": "<b>%{hovertext}</b><br><br>Country Name=United States<br>Year=1979<br>GDP (current US$)=%{x}<br>CO2 Emissions (kt)=%{y}<br>Population, total=%{marker.size}<extra></extra>",
           "hovertext": [
            "United States"
           ],
           "legendgroup": "United States",
           "marker": {
            "color": "#FFA15A",
            "size": {
             "bdata": "AAAAMCLUqkE=",
             "dtype": "f8"
            },
            "sizemode": "area",
            "sizeref": 399463.7766666667,
            "symbol": "circle"
           },
           "mode": "markers",
           "name": "United States",
           "orientation": "v",
           "showlegend": true,
           "type": "scatter",
           "x": {
            "bdata": "AABaAModg0I=",
            "dtype": "f8"
           },
           "xaxis": "x",
           "y": {
            "bdata": "AACAgOmo8kE=",
            "dtype": "f8"
           },
           "yaxis": "y"
          }
         ],
         "name": "1979"
        },
        {
         "data": [
          {
           "hovertemplate": "<b>%{hovertext}</b><br><br>Country Name=Brazil<br>Year=1980<br>GDP (current US$)=%{x}<br>CO2 Emissions (kt)=%{y}<br>Population, total=%{marker.size}<extra></extra>",
           "hovertext": [
            "Brazil"
           ],
           "legendgroup": "Brazil",
           "marker": {
            "color": "#636efa",
            "size": {
             "bdata": "AAAAlOrlnEE=",
             "dtype": "f8"
            },
            "sizemode": "area",
            "sizeref": 399463.7766666667,
            "symbol": "circle"
           },
           "mode": "markers",
           "name": "Brazil",
           "orientation": "v",
           "showlegend": true,
           "type": "scatter",
           "x": {
            "bdata": "iVHyl+CiS0I=",
            "dtype": "f8"
           },
           "xaxis": "x",
           "y": {
            "bdata": "AAAAxBYypkE=",
            "dtype": "f8"
           },
           "yaxis": "y"
          },
          {
           "hovertemplate": "<b>%{hovertext}</b><br><br>Country Name=China<br>Year=1980<br>GDP (current US$)=%{x}<br>CO2 Emissions (kt)=%{y}<br>Population, total=%{marker.size}<extra></extra>",
           "hovertext": [
            "China"
           ],
           "legendgroup": "China",
           "marker": {
            "color": "#EF553B",
            "size": {
             "bdata": "AAAAnDo+zUE=",
             "dtype": "f8"
            },
            "sizemode": "area",
            "sizeref": 399463.7766666667,
            "symbol": "circle"
           },
           "mode": "markers",
           "name": "China",
           "orientation": "v",
           "showlegend": true,
           "type": "scatter",
           "x": {
            "bdata": "AIDbv7BARkI=",
            "dtype": "f8"
           },
           "xaxis": "x",
           "y": {
            "bdata": "AAAApwxF1kE=",
            "dtype": "f8"
           },
           "yaxis": "y"
          },
          {
           "hovertemplate": "<b>%{hovertext}</b><br><br>Country Name=Germany<br>Year=1980<br>GDP (current US$)=%{x}<br>CO2 Emissions (kt)=%{y}<br>Population, total=%{marker.size}<extra></extra>",
           "hovertext": [
            "Germany"
           ],
           "legendgroup": "Germany",
           "marker": {
            "color": "#00cc96",
            "size": {
             "bdata": "AAAAAFuqkkE=",
             "dtype": "f8"
            },
            "sizemode": "area",
            "sizeref": 399463.7766666667,
            "symbol": "circle"
           },
           "mode": "markers",
           "name": "Germany",
           "orientation": "v",
           "showlegend": true,
           "type": "scatter",
           "x": {
            "bdata": "nMBArCjCa0I=",
            "dtype": "f8"
           },
           "xaxis": "x",
           "y": {
            "bdata": "AAAANGtk0EE=",
            "dtype": "f8"
           },
           "yaxis": "y"
          },
          {
           "hovertemplate": "<b>%{hovertext}</b><br><br>Country Name=India<br>Year=1980<br>GDP (current US$)=%{x}<br>CO2 Emissions (kt)=%{y}<br>Population, total=%{marker.size}<extra></extra>",
           "hovertext": [
            "India"
           ],
           "legendgroup": "India",
           "marker": {
            "color": "#ab63fa",
            "size": {
             "bdata": "AACAVBh8xEE=",
             "dtype": "f8"
            },
            "sizemode": "area",
            "sizeref": 399463.7766666667,
            "symbol": "circle"
           },
           "mode": "markers",
           "name": "India",
           "orientation": "v",
           "showlegend": true,
           "type": "scatter",
           "x": {
            "bdata": "tAhzPgaxRUI=",
            "dtype": "f8"
           },
           "xaxis": "x",
           "y": {
            "bdata": "AAAAfChjsUE=",
            "dtype": "f8"
           },
           "yaxis": "y"
          },
          {
           "hovertemplate": "<b>%{hovertext}</b><br><br>Country Name=United States<br>Year=1980<br>GDP (current US$)=%{x}<br>CO2 Emissions (kt)=%{y}<br>Population, total=%{marker.size}<extra></extra>",
           "hovertext": [
            "United States"
           ],
           "legendgroup": "United States",
           "marker": {
            "color": "#FFA15A",
            "size": {
             "bdata": "AAAAUFsWq0E=",
             "dtype": "f8"
            },
            "sizemode": "area",
            "sizeref": 399463.7766666667,
            "symbol": "circle"
           },
           "mode": "markers",
           "name": "United States",
           "orientation": "v",
           "showlegend": true,
           "type": "scatter",
           "x": {
            "bdata": "AABmJibKhEI=",
            "dtype": "f8"
           },
           "xaxis": "x",
           "y": {
            "bdata": "AAAAYhrq8UE=",
            "dtype": "f8"
           },
           "yaxis": "y"
          }
         ],
         "name": "1980"
        },
        {
         "data": [
          {
           "hovertemplate": "<b>%{hovertext}</b><br><br>Country Name=Brazil<br>Year=1981<br>GDP (current US$)=%{x}<br>CO2 Emissions (kt)=%{y}<br>Population, total=%{marker.size}<extra></extra>",
           "hovertext": [
            "Brazil"
           ],
           "legendgroup": "Brazil",
           "marker": {
            "color": "#636efa",
            "size": {
             "bdata": "AAAAFDaUnUE=",
             "dtype": "f8"
            },
            "sizemode": "area",
            "sizeref": 399463.7766666667,
            "symbol": "circle"
           },
           "mode": "markers",
           "name": "Brazil",
           "orientation": "v",
           "showlegend": true,
           "type": "scatter",
           "x": {
            "bdata": "8lIukHMJTkI=",
            "dtype": "f8"
           },
           "xaxis": "x",
           "y": {
            "bdata": "AAAAHGhspEE=",
            "dtype": "f8"
           },
           "yaxis": "y"
          },
          {
           "hovertemplate": "<b>%{hovertext}</b><br><br>Country Name=China<br>Year=1981<br>GDP (current US$)=%{x}<br>CO2 Emissions (kt)=%{y}<br>Population, total=%{marker.size}<extra></extra>",
           "hovertext": [
            "China"
           ],
           "legendgroup": "China",
           "marker": {
            "color": "#EF553B",
            "size": {
             "bdata": "AAAApL2ezUE=",
             "dtype": "f8"
            },
            "sizemode": "area",
            "sizeref": 399463.7766666667,
            "symbol": "circle"
           },
           "mode": "markers",
           "name": "China",
           "orientation": "v",
           "showlegend": true,
           "type": "scatter",
           "x": {
            "bdata": "H0Uw6EXNRkI=",
            "dtype": "f8"
           },
           "xaxis": "x",
           "y": {
            "bdata": "AAAAnloA1kE=",
            "dtype": "f8"
           },
           "yaxis": "y"
          },
          {
           "hovertemplate": "<b>%{hovertext}</b><br><br>Country Name=Germany<br>Year=1981<br>GDP (current US$)=%{x}<br>CO2 Emissions (kt)=%{y}<br>Population, total=%{marker.size}<extra></extra>",
           "hovertext": [
            "Germany"
           ],
           "legendgroup": "Germany",
           "marker": {
            "color": "#00cc96",
            "size": {
             "bdata": "AAAAjKOxkkE=",
             "dtype": "f8"
            },
            "sizemode": "area",
            "sizeref": 399463.7766666667,
            "symbol": "circle"
           },
           "mode": "markers",
           "name": "Germany",
           "orientation": "v",
           "showlegend": true,
           "type": "scatter",
           "x": {
            "bdata": "ojGQCtVhZ0I=",
            "dtype": "f8"
           },
           "xaxis": "x",
           "y": {
            "bdata": "AAAAEpk/z0E=",
            "dtype": "f8"
           },
           "yaxis": "y"
          },
          {
           "hovertemplate": "<b>%{hovertext}</b><br><br>Country Name=India<br>Year=1981<br>GDP (current US$)=%{x}<br>CO2 Emissions (kt)=%{y}<br>Population, total=%{marker.size}<extra></extra>",
           "hovertext": [
            "India"
           ],
           "legendgroup": "India",
           "marker": {
            "color": "#ab63fa",
            "size": {
             "bdata": "AAAAvcb4xEE=",
             "dtype": "f8"
            },
            "sizemode": "area",
            "sizeref": 399463.7766666667,
            "symbol": "circle"
           },
           "mode": "markers",
           "name": "India",
           "orientation": "v",
           "showlegend": true,
           "type": "scatter",
           "x": {
            "bdata": "WMn+/H2GRkI=",
            "dtype": "f8"
           },
           "xaxis": "x",
           "y": {
            "bdata": "AAAApADGskE=",
            "dtype": "f8"
           },
           "yaxis": "y"
          },
          {
           "hovertemplate": "<b>%{hovertext}</b><br><br>Country Name=United States<br>Year=1981<br>GDP (current US$)=%{x}<br>CO2 Emissions (kt)=%{y}<br>Population, total=%{marker.size}<extra></extra>",
           "hovertext": [
            "United States"
           ],
           "legendgroup": "United States",
           "marker": {
            "color": "#FFA15A",
            "size": {
             "bdata": "AAAAIL9aq0E=",
             "dtype": "f8"
            },
            "sizemode": "area",
            "sizeref": 399463.7766666667,
            "symbol": "circle"
           },
           "mode": "markers",
           "name": "United States",
           "orientation": "v",
           "showlegend": true,
           "type": "scatter",
           "x": {
            "bdata": "AAASUZRVh0I=",
            "dtype": "f8"
           },
           "xaxis": "x",
           "y": {
            "bdata": "AACAXaB18UE=",
            "dtype": "f8"
           },
           "yaxis": "y"
          }
         ],
         "name": "1981"
        },
        {
         "data": [
          {
           "hovertemplate": "<b>%{hovertext}</b><br><br>Country Name=Brazil<br>Year=1982<br>GDP (current US$)=%{x}<br>CO2 Emissions (kt)=%{y}<br>Population, total=%{marker.size}<extra></extra>",
           "hovertext": [
            "Brazil"
           ],
           "legendgroup": "Brazil",
           "marker": {
            "color": "#636efa",
            "size": {
             "bdata": "AAAATMZCnkE=",
             "dtype": "f8"
            },
            "sizemode": "area",
            "sizeref": 399463.7766666667,
            "symbol": "circle"
           },
           "mode": "markers",
           "name": "Brazil",
           "orientation": "v",
           "showlegend": true,
           "type": "scatter",
           "x": {
            "bdata": "YDV0asqVT0I=",
            "dtype": "f8"
           },
           "xaxis": "x",
           "y": {
            "bdata": "AAAAaMFxpEE=",
            "dtype": "f8"
           },
           "yaxis": "y"
          },
          {
           "hovertemplate": "<b>%{hovertext}</b><br><br>Country Name=China<br>Year=1982<br>GDP (current US$)=%{x}<br>CO2 Emissions (kt)=%{y}<br>Population, total=%{marker.size}<extra></extra>",
           "hovertext": [
            "China"
           ],
           "legendgroup": "China",
           "marker": {
            "color": "#EF553B",
            "size": {
             "bdata": "AAAAeDwPzkE=",
             "dtype": "f8"
            },
            "sizemode": "area",
            "sizeref": 399463.7766666667,
            "symbol": "circle"
           },
           "mode": "markers",
           "name": "China",
           "orientation": "v",
           "showlegend": true,
           "type": "scatter",
           "x": {
            "bdata": "tmMJPCbgR0I=",
            "dtype": "f8"
           },
           "xaxis": "x",
           "y": {
            "bdata": "AAAAqqLw10E=",
            "dtype": "f8"
           },
           "yaxis": "y"
          },
          {
           "hovertemplate": "<b>%{hovertext}</b><br><br>Country Name=Germany<br>Year=1982<br>GDP (current US$)=%{x}<br>CO2 Emissions (kt)=%{y}<br>Population, total=%{marker.size}<extra></extra>",
           "hovertext": [
            "Germany"
           ],
           "legendgroup": "Germany",
           "marker": {
            "color": "#00cc96",
            "size": {
             "bdata": "AAAA2BatkkE=",
             "dtype": "f8"
            },
            "sizemode": "area",
            "sizeref": 399463.7766666667,
            "symbol": "circle"
           },
           "mode": "markers",
           "name": "Germany",
           "orientation": "v",
           "showlegend": true,
           "type": "scatter",
           "x": {
            "bdata": "amSbySSvZkI=",
            "dtype": "f8"
           },
           "xaxis": "x",
           "y": {
            "bdata": "AAAARm9FzkE=",
            "dtype": "f8"
           },
           "yaxis": "y"
          },
          {
           "hovertemplate": "<b>%{hovertext}</b><br><br>Country Name=India<br>Year=1982<br>GDP (current US$)=%{x}<br>CO2 Emissions (kt)=%{y}<br>Population, total=%{marker.size}<extra></extra>",
           "hovertext": [
            "India"
           ],
           "legendgroup": "India",
           "marker": {
            "color": "#ab63fa",
            "size": {
             "bdata": "AACAQI53xUE=",
             "dtype": "f8"
            },
            "sizemode": "area",
            "sizeref": 399463.7766666667,
            "symbol": "circle"
           },
           "mode": "markers",
           "name": "India",
           "orientation": "v",
           "showlegend": true,
           "type": "scatter",
           "x": {
            "bdata": "dXO/sMpdR0I=",
            "dtype": "f8"
           },
           "xaxis": "x",
           "y": {
            "bdata": "AAAAoOdks0E=",
            "dtype": "f8"
           },
           "yaxis": "y"
          },
          {
           "hovertemplate": "<b>%{hovertext}</b><br><br>Country Name=United States<br>Year=1982<br>GDP (current US$)=%{x}<br>CO2 Emissions (kt)=%{y}<br>Population, total=%{marker.size}<extra></extra>",
           "hovertext": [
            "United States"
           ],
           "legendgroup": "United States",
           "marker": {
            "color": "#FFA15A",
            "size": {
             "bdata": "AAAAANOdq0E=",
             "dtype": "f8"
            },
            "sizemode": "area",
            "sizeref": 399463.7766666667,
            "symbol": "circle"
           },
           "mode": "markers",
           "name": "United States",
           "orientation": "v",
           "showlegend": true,
           "type": "scatter",
           "x": {
            "bdata": "AAAq2EpUiEI=",
            "dtype": "f8"
           },
           "xaxis": "x",
           "y": {
            "bdata": "AAAAVZCR8EE=",
            "dtype": "f8"
           },
           "yaxis": "y"
          }
         ],
         "name": "1982"
        },
        {
         "data": [
          {
           "hovertemplate": "<b>%{hovertext}</b><br><br>Country Name=Brazil<br>Year=1983<br>GDP (current US$)=%{x}<br>CO2 Emissions (kt)=%{y}<br>Population, total=%{marker.size}<extra></extra>",
           "hovertext": [
            "Brazil"
           ],
           "legendgroup": "Brazil",
           "marker": {
            "color": "#636efa",
            "size": {
             "bdata": "AAAA9MHxnkE=",
             "dtype": "f8"
            },
            "sizemode": "area",
            "sizeref": 399463.7766666667,
            "symbol": "circle"
           },
           "mode": "markers",
           "name": "Brazil",
           "orientation": "v",
           "showlegend": true,
           "type": "scatter",
           "x": {
            "bdata": "K7foTzQURkI=",
            "dtype": "f8"
           },
           "xaxis": "x",
           "y": {
            "bdata": "AAAAHNzGo0E=",
            "dtype": "f8"
           },
           "yaxis": "y"
          },
          {
           "hovertemplate": "<b>%{hovertext}</b><br><br>Country Name=China<br>Year=1983<br>GDP (current US$)=%{x}<br>CO2 Emissions (kt)=%{y}<br>Population, total=%{marker.size}<extra></extra>",
           "hovertext": [
            "China"
           ],
           "legendgroup": "China",
           "marker": {
            "color": "#EF553B",
            "size": {
             "bdata": "AAAAWDx/zkE=",
             "dtype": "f8"
            },
            "sizemode": "area",
            "sizeref": 399463.7766666667,
            "symbol": "circle"
           },
           "mode": "markers",
           "name": "China",
           "orientation": "v",
           "showlegend": true,
           "type": "scatter",
           "x": {
            "bdata": "5aAINQDbSkI=",
            "dtype": "f8"
           },
           "xaxis": "x",
           "y": {
            "bdata": "AAAAmOw+2UE=",
            "dtype": "f8"
           },
           "yaxis": "y"
          },
          {
           "hovertemplate": "<b>%{hovertext}</b><br><br>Country Name=Germany<br>Year=1983<br>GDP (current US$)=%{x}<br>CO2 Emissions (kt)=%{y}<br>Population, total=%{marker.size}<extra></extra>",
           "hovertext": [
            "Germany"
           ],
           "legendgroup": "Germany",
           "marker": {
            "color": "#00cc96",
            "size": {
             "bdata": "AAAAaJKgkkE=",
             "dtype": "f8"
            },
            "sizemode": "area",
            "sizeref": 399463.7766666667,
            "symbol": "circle"
           },
           "mode": "markers",
           "name": "Germany",
           "orientation": "v",
           "showlegend": true,
           "type": "scatter",
           "x": {
            "bdata": "/twWSxWDZkI=",
            "dtype": "f8"
           },
           "xaxis": "x",
           "y": {
            "bdata": "AAAA0u4lzkE=",
            "dtype": "f8"
           },
           "yaxis": "y"
          },
          {
           "hovertemplate": "<b>%{hovertext}</b><br><br>Country Name=India<br>Year=1983<br>GDP (current US$)=%{x}<br>CO2 Emissions (kt)=%{y}<br>Population, total=%{marker.size}<extra></extra>",
           "hovertext": [
            "India"
           ],
           "legendgroup": "India",
           "marker": {
            "color": "#ab63fa",
            "size": {
             "bdata": "AACABLX5xUE=",
             "dtype": "f8"
            },
            "sizemode": "area",
            "sizeref": 399463.7766666667,
            "symbol": "circle"
           },
           "mode": "markers",
           "name": "India",
           "orientation": "v",
           "showlegend": true,
           "type": "scatter",
           "x": {
            "bdata": "OZS2BrhoSUI=",
            "dtype": "f8"
           },
           "xaxis": "x",
           "y": {
            "bdata": "AAAAwiD+tEE=",
            "dtype": "f8"
           },
           "yaxis": "y"
          },
          {
           "hovertemplate": "<b>%{hovertext}</b><br><br>Country Name=United States<br>Year=1983<br>GDP (current US$)=%{x}<br>CO2 Emissions (kt)=%{y}<br>Population, total=%{marker.size}<extra></extra>",
           "hovertext": [
            "United States"
           ],
           "legendgroup": "United States",
           "marker": {
            "color": "#FFA15A",
            "size": {
             "bdata": "AAAAAMTeq0E=",
             "dtype": "f8"
            },
            "sizemode": "area",
            "sizeref": 399463.7766666667,
            "symbol": "circle"
           },
           "mode": "markers",
           "name": "United States",
           "orientation": "v",
           "showlegend": true,
           "type": "scatter",
           "x": {
            "bdata": "AABMWuxwikI=",
            "dtype": "f8"
           },
           "xaxis": "x",
           "y": {
            "bdata": "AACAaYCA8EE=",
            "dtype": "f8"
           },
           "yaxis": "y"
          }
         ],
         "name": "1983"
        },
        {
         "data": [
          {
           "hovertemplate": "<b>%{hovertext}</b><br><br>Country Name=Brazil<br>Year=1984<br>GDP (current US$)=%{x}<br>CO2 Emissions (kt)=%{y}<br>Population, total=%{marker.size}<extra></extra>",
           "hovertext": [
            "Brazil"
           ],
           "legendgroup": "Brazil",
           "marker": {
            "color": "#636efa",
            "size": {
             "bdata": "AAAAwNqgn0E=",
             "dtype": "f8"
            },
            "sizemode": "area",
            "sizeref": 399463.7766666667,
            "symbol": "circle"
           },
           "mode": "markers",
           "name": "Brazil",
           "orientation": "v",
           "showlegend": true,
           "type": "scatter",
           "x": {
            "bdata": "PUrj9/fsRUI=",
            "dtype": "f8"
           },
           "xaxis": "x",
           "y": {
            "bdata": "AAAAyMD5o0E=",
            "dtype": "f8"
           },
           "yaxis": "y"
          },
          {
           "hovertemplate": "<b>%{hovertext}</b><br><br>Country Name=China<br>Year=1984<br>GDP (current US$)=%{x}<br>CO2 Emissions (kt)=%{y}<br>Population, total=%{marker.size}<extra></extra>",
           "hovertext": [
            "China"
           ],
           "legendgroup": "China",
           "marker": {
            "color": "#EF553B",
            "size": {
             "bdata": "AAAA1FjmzkE=",
             "dtype": "f8"
            },
            "sizemode": "area",
            "sizeref": 399463.7766666667,
            "symbol": "circle"
           },
           "mode": "markers",
           "name": "China",
           "orientation": "v",
           "showlegend": true,
           "type": "scatter",
           "x": {
            "bdata": "TpI2fQJDTkI=",
            "dtype": "f8"
           },
           "xaxis": "x",
           "y": {
            "bdata": "AAAA2HV920E=",
            "dtype": "f8"
           },
           "yaxis": "y"
          },
          {
           "hovertemplate": "<b>%{hovertext}</b><br><br>Country Name=Germany<br>Year=1984<br>GDP (current US$)=%{x}<br>CO2 Emissions (kt)=%{y}<br>Population, total=%{marker.size}<extra></extra>",
           "hovertext": [
            "Germany"
           ],
           "legendgroup": "Germany",
           "marker": {
            "color": "#00cc96",
            "size": {
             "bdata": "AAAA9B2QkkE=",
             "dtype": "f8"
            },
            "sizemode": "area",
            "sizeref": 399463.7766666667,
            "symbol": "circle"
           },
           "mode": "markers",
           "name": "Germany",
           "orientation": "v",
           "showlegend": true,
           "type": "scatter",
           "x": {
            "bdata": "EFQK2EouZUI=",
            "dtype": "f8"
           },
           "xaxis": "x",
           "y": {
            "bdata": "AAAA3AfLzkE=",
            "dtype": "f8"
           },
           "yaxis": "y"
          },
          {
           "hovertemplate": "<b>%{hovertext}</b><br><br>Country Name=India<br>Year=1984<br>GDP (current US$)=%{x}<br>CO2 Emissions (kt)=%{y}<br>Population, total=%{marker.size}<extra></extra>",
           "hovertext": [
            "India"
           ],
           "legendgroup": "India",
           "marker": {
            "color": "#ab63fa",
            "size": {
             "bdata": "AACAHD5/xkE=",
             "dtype": "f8"
            },
            "sizemode": "area",
            "sizeref": 399463.7766666667,
            "symbol": "circle"
           },
           "mode": "markers",
           "name": "India",
           "orientation": "v",
           "showlegend": true,
           "type": "scatter",
           "x": {
            "bdata": "ddO8YMqySEI=",
            "dtype": "f8"
           },
           "xaxis": "x",
           "y": {
            "bdata": "AAAApPWMtUE=",
            "dtype": "f8"
           },
           "yaxis": "y"
          },
          {
           "hovertemplate": "<b>%{hovertext}</b><br><br>Country Name=United States<br>Year=1984<br>GDP (current US$)=%{x}<br>CO2 Emissions (kt)=%{y}<br>Population, total=%{marker.size}<extra></extra>",
           "hovertext": [
            "United States"
           ],
           "legendgroup": "United States",
           "marker": {
            "color": "#FFA15A",
            "size": {
             "bdata": "AAAA0M4crEE=",
             "dtype": "f8"
            },
            "sizemode": "area",
            "sizeref": 399463.7766666667,
            "symbol": "circle"
           },
           "mode": "markers",
           "name": "United States",
           "orientation": "v",
           "showlegend": true,
           "type": "scatter",
           "x": {
            "bdata": "AACq6KNgjUI=",
            "dtype": "f8"
           },
           "xaxis": "x",
           "y": {
            "bdata": "AAAAvH5e8UE=",
            "dtype": "f8"
           },
           "yaxis": "y"
          }
         ],
         "name": "1984"
        },
        {
         "data": [
          {
           "hovertemplate": "<b>%{hovertext}</b><br><br>Country Name=Brazil<br>Year=1985<br>GDP (current US$)=%{x}<br>CO2 Emissions (kt)=%{y}<br>Population, total=%{marker.size}<extra></extra>",
           "hovertext": [
            "Brazil"
           ],
           "legendgroup": "Brazil",
           "marker": {
            "color": "#636efa",
            "size": {
             "bdata": "AAAAlpsnoEE=",
             "dtype": "f8"
            },
            "sizemode": "area",
            "sizeref": 399463.7766666667,
            "symbol": "circle"
           },
           "mode": "markers",
           "name": "Brazil",
           "orientation": "v",
           "showlegend": true,
           "type": "scatter",
           "x": {
            "bdata": "QnCPiLWMSEI=",
            "dtype": "f8"
           },
           "xaxis": "x",
           "y": {
            "bdata": "AAAAKIt4pUE=",
            "dtype": "f8"
           },
           "yaxis": "y"
          },
          {
           "hovertemplate": "<b>%{hovertext}</b><br><br>Country Name=China<br>Year=1985<br>GDP (current US$)=%{x}<br>CO2 Emissions (kt)=%{y}<br>Population, total=%{marker.size}<extra></extra>",
           "hovertext": [
            "China"
           ],
           "legendgroup": "China",
           "marker": {
            "color": "#EF553B",
            "size": {
             "bdata": "AAAAgMxSz0E=",
             "dtype": "f8"
            },
            "sizemode": "area",
            "sizeref": 399463.7766666667,
            "symbol": "circle"
           },
           "mode": "markers",
           "name": "China",
           "orientation": "v",
           "showlegend": true,
           "type": "scatter",
           "x": {
            "bdata": "yyl5IrsDUkI=",
            "dtype": "f8"
           },
           "xaxis": "x",
           "y": {
            "bdata": "AAAA7hTG3UE=",
            "dtype": "f8"
           },
           "yaxis": "y"
          },
          {
           "hovertemplate": "<b>%{hovertext}</b><br><br>Country Name=Germany<br>Year=1985<br>GDP (current US$)=%{x}<br>CO2 Emissions (kt)=%{y}<br>Population, total=%{marker.size}<extra></extra>",
           "hovertext": [
            "Germany"
           ],
           "legendgroup": "Germany",
           "marker": {
            "color": "#00cc96",
            "size": {
             "bdata": "AAAAJIKFkkE=",
             "dtype": "f8"
            },
            "sizemode": "area",
            "sizeref": 399463.7766666667,
            "symbol": "circle"
           },
           "mode": "markers",
           "name": "Germany",
           "orientation": "v",
           "showlegend": true,
           "type": "scatter",
           "x": {
            "bdata": "3agibc5lZUI=",
            "dtype": "f8"
           },
           "xaxis": "x",
           "y": {
            "bdata": "AAAAxvwdz0E=",
            "dtype": "f8"
           },
           "yaxis": "y"
          },
          {
           "hovertemplate": "<b>%{hovertext}</b><br><br>Country Name=India<br>Year=1985<br>GDP (current US$)=%{x}<br>CO2 Emissions (kt)=%{y}<br>Population, total=%{marker.size}<extra></extra>",
           "hovertext": [
            "India"
           ],
           "legendgroup": "India",
           "marker": {
            "color": "#ab63fa",
            "size": {
             "bdata": "AACAuNUGx0E=",
             "dtype": "f8"
            },
            "sizemode": "area",
            "sizeref": 399463.7766666667,
            "symbol": "circle"
           },
           "mode": "markers",
           "name": "India",
           "orientation": "v",
           "showlegend": true,
           "type": "scatter",
           "x": {
            "bdata": "ni+MYmIRS0I=",
            "dtype": "f8"
           },
           "xaxis": "x",
           "y": {
            "bdata": "AAAAJMayt0E=",
            "dtype": "f8"
           },
           "yaxis": "y"
          },
          {
           "hovertemplate": "<b>%{hovertext}</b><br><br>Country Name=United States<br>Year=1985<br>GDP (current US$)=%{x}<br>CO2 Emissions (kt)=%{y}<br>Population, total=%{marker.size}<extra></extra>",
           "hovertext": [
            "United States"
           ],
           "legendgroup": "United States",
           "marker": {
            "color": "#FFA15A",
            "size": {
             "bdata": "AAAAQN1crEE=",
             "dtype": "f8"
            },
            "sizemode": "area",
            "sizeref": 399463.7766666667,
            "symbol": "circle"
           },
           "mode": "markers",
           "name": "United States",
           "orientation": "v",
           "showlegend": true,
           "type": "scatter",
           "x": {
            "bdata": "AAB2avqRj0I=",
            "dtype": "f8"
           },
           "xaxis": "x",
           "y": {
            "bdata": "AAAAMWNV8UE=",
            "dtype": "f8"
           },
           "yaxis": "y"
          }
         ],
         "name": "1985"
        },
        {
         "data": [
          {
           "hovertemplate": "<b>%{hovertext}</b><br><br>Country Name=Brazil<br>Year=1986<br>GDP (current US$)=%{x}<br>CO2 Emissions (kt)=%{y}<br>Population, total=%{marker.size}<extra></extra>",
           "hovertext": [
            "Brazil"
           ],
           "legendgroup": "Brazil",
           "marker": {
            "color": "#636efa",
            "size": {
             "bdata": "AAAA5LB9oEE=",
             "dtype": "f8"
            },
            "sizemode": "area",
            "sizeref": 399463.7766666667,
            "symbol": "circle"
           },
           "mode": "markers",
           "name": "Brazil",
           "orientation": "v",
           "showlegend": true,
           "type": "scatter",
           "x": {
            "bdata": "g5D7nLnbTUI=",
            "dtype": "f8"
           },
           "xaxis": "x",
           "y": {
            "bdata": "AAAAAD2Dp0E=",
            "dtype": "f8"
           },
           "yaxis": "y"
          },
          {
           "hovertemplate": "<b>%{hovertext}</b><br><br>Country Name=China<br>Year=1986<br>GDP (current US$)=%{x}<br>CO2 Emissions (kt)=%{y}<br>Population, total=%{marker.size}<extra></extra>",
           "hovertext": [
            "China"
           ],
           "legendgroup": "China",
           "marker": {
            "color": "#EF553B",
            "size": {
             "bdata": "AAAAOPbKz0E=",
             "dtype": "f8"
            },
            "sizemode": "area",
            "sizeref": 399463.7766666667,
            "symbol": "circle"
           },
           "mode": "markers",
           "name": "China",
           "orientation": "v",
           "showlegend": true,
           "type": "scatter",
           "x": {
            "bdata": "vs8iGqWBUUI=",
            "dtype": "f8"
           },
           "xaxis": "x",
           "y": {
            "bdata": "AAAA5u9a30E=",
            "dtype": "f8"
           },
           "yaxis": "y"
          },
          {
           "hovertemplate": "<b>%{hovertext}</b><br><br>Country Name=Germany<br>Year=1986<br>GDP (current US$)=%{x}<br>CO2 Emissions (kt)=%{y}<br>Population, total=%{marker.size}<extra></extra>",
           "hovertext": [
            "Germany"
           ],
           "legendgroup": "Germany",
           "marker": {
            "color": "#00cc96",
            "size": {
             "bdata": "AAAA0K2HkkE=",
             "dtype": "f8"
            },
            "sizemode": "area",
            "sizeref": 399463.7766666667,
            "symbol": "circle"
           },
           "mode": "markers",
           "name": "Germany",
           "orientation": "v",
           "showlegend": true,
           "type": "scatter",
           "x": {
            "bdata": "zXxQu8yPbkI=",
            "dtype": "f8"
           },
           "xaxis": "x",
           "y": {
            "bdata": "AAAAopM3z0E=",
            "dtype": "f8"
           },
           "yaxis": "y"
          },
          {
           "hovertemplate": "<b>%{hovertext}</b><br><br>Country Name=India<br>Year=1986<br>GDP (current US$)=%{x}<br>CO2 Emissions (kt)=%{y}<br>Population, total=%{marker.size}<extra></extra>",
           "hovertext": [
            "India"
           ],
           "legendgroup": "India",
           "marker": {
            "color": "#ab63fa",
            "size": {
             "bdata": "AAAAXXyQx0E=",
             "dtype": "f8"
            },
            "sizemode": "area",
            "sizeref": 399463.7766666667,
            "symbol": "circle"
           },
           "mode": "markers",
           "name": "India",
           "orientation": "v",
           "showlegend": true,
           "type": "scatter",
           "x": {
            "bdata": "hUucYVz8TEI=",
            "dtype": "f8"
           },
           "xaxis": "x",
           "y": {
            "bdata": "AAAABPdouUE=",
            "dtype": "f8"
           },
           "yaxis": "y"
          },
          {
           "hovertemplate": "<b>%{hovertext}</b><br><br>Country Name=United States<br>Year=1986<br>GDP (current US$)=%{x}<br>CO2 Emissions (kt)=%{y}<br>Population, total=%{marker.size}<extra></extra>",
           "hovertext": [
            "United States"
           ],
           "legendgroup": "United States",
           "marker": {
            "color": "#FFA15A",
            "size": {
             "bdata": "AAAAEEegrEE=",
             "dtype": "f8"
            },
            "sizemode": "area",
            "sizeref": 399463.7766666667,
            "symbol": "circle"
           },
           "mode": "markers",
           "name": "United States",
           "orientation": "v",
           "showlegend": true,
           "type": "scatter",
           "x": {
            "bdata": "AACnHR2pkEI=",
            "dtype": "f8"
           },
           "xaxis": "x",
           "y": {
            "bdata": "AACAUalf8UE=",
            "dtype": "f8"
           },
           "yaxis": "y"
          }
         ],
         "name": "1986"
        },
        {
         "data": [
          {
           "hovertemplate": "<b>%{hovertext}</b><br><br>Country Name=Brazil<br>Year=1987<br>GDP (current US$)=%{x}<br>CO2 Emissions (kt)=%{y}<br>Population, total=%{marker.size}<extra></extra>",
           "hovertext": [
            "Brazil"
           ],
           "legendgroup": "Brazil",
           "marker": {
            "color": "#636efa",
            "size": {
             "bdata": "AAAAYC7SoEE=",
             "dtype": "f8"
            },
            "sizemode": "area",
            "sizeref": 399463.7766666667,
            "symbol": "circle"
           },
           "mode": "markers",
           "name": "Brazil",
           "orientation": "v",
           "showlegend": true,
           "type": "scatter",
           "x": {
            "bdata": "onVHJOB5UEI=",
            "dtype": "f8"
           },
           "xaxis": "x",
           "y": {
            "bdata": "AAAAgKKNqEE=",
            "dtype": "f8"
           },
           "yaxis": "y"
          },
          {
           "hovertemplate": "<b>%{hovertext}</b><br><br>Country Name=China<br>Year=1987<br>GDP (current US$)=%{x}<br>CO2 Emissions (kt)=%{y}<br>Population, total=%{marker.size}<extra></extra>",
           "hovertext": [
            "China"
           ],
           "legendgroup": "China",
           "marker": {
            "color": "#EF553B",
            "size": {
             "bdata": "AAAA7kMn0EE=",
             "dtype": "f8"
            },
            "sizemode": "area",
            "sizeref": 399463.7766666667,
            "symbol": "circle"
           },
           "mode": "markers",
           "name": "China",
           "orientation": "v",
           "showlegend": true,
           "type": "scatter",
           "x": {
            "bdata": "eUlWhTrHT0I=",
            "dtype": "f8"
           },
           "xaxis": "x",
           "y": {
            "bdata": "AACAYEvS4EE=",
            "dtype": "f8"
           },
           "yaxis": "y"
          },
          {
           "hovertemplate": "<b>%{hovertext}</b><br><br>Country Name=Germany<br>Year=1987<br>GDP (current US$)=%{x}<br>CO2 Emissions (kt)=%{y}<br>Population, total=%{marker.size}<extra></extra>",
           "hovertext": [
            "Germany"
           ],
           "legendgroup": "Germany",
           "marker": {
            "color": "#00cc96",
            "size": {
             "bdata": "AAAAwPiOkkE=",
             "dtype": "f8"
            },
            "sizemode": "area",
            "sizeref": 399463.7766666667,
            "symbol": "circle"
           },
           "mode": "markers",
           "name": "Germany",
           "orientation": "v",
           "showlegend": true,
           "type": "scatter",
           "x": {
            "bdata": "9oymFs31ckI=",
            "dtype": "f8"
           },
           "xaxis": "x",
           "y": {
            "bdata": "AAAACurEzkE=",
            "dtype": "f8"
           },
           "yaxis": "y"
          },
          {
           "hovertemplate": "<b>%{hovertext}</b><br><br>Country Name=India<br>Year=1987<br>GDP (current US$)=%{x}<br>CO2 Emissions (kt)=%{y}<br>Population, total=%{marker.size}<extra></extra>",
           "hovertext": [
            "India"
           ],
           "legendgroup": "India",
           "marker": {
            "color": "#ab63fa",
            "size": {
             "bdata": "AAAA46cbyEE=",
             "dtype": "f8"
            },
            "sizemode": "area",
            "sizeref": 399463.7766666667,
            "symbol": "circle"
           },
           "mode": "markers",
           "name": "India",
           "orientation": "v",
           "showlegend": true,
           "type": "scatter",
           "x": {
            "bdata": "Rg53puw9UEI=",
            "dtype": "f8"
           },
           "xaxis": "x",
           "y": {
            "bdata": "AAAAwPsju0E=",
            "dtype": "f8"
           },
           "yaxis": "y"
          },
          {
           "hovertemplate": "<b>%{hovertext}</b><br><br>Country Name=United States<br>Year=1987<br>GDP (current US$)=%{x}<br>CO2 Emissions (kt)=%{y}<br>Population, total=%{marker.size}<extra></extra>",
           "hovertext": [
            "United States"
           ],
           "legendgroup": "United States",
           "marker": {
            "color": "#FFA15A",
            "size": {
             "bdata": "AAAA0BLirEE=",
             "dtype": "f8"
            },
            "sizemode": "area",
            "sizeref": 399463.7766666667,
            "symbol": "circle"
           },
           "mode": "markers",
           "name": "United States",
           "orientation": "v",
           "showlegend": true,
           "type": "scatter",
           "x": {
            "bdata": "AAAndsWpkUI=",
            "dtype": "f8"
           },
           "xaxis": "x",
           "y": {
            "bdata": "AADAwXH68UE=",
            "dtype": "f8"
           },
           "yaxis": "y"
          }
         ],
         "name": "1987"
        },
        {
         "data": [
          {
           "hovertemplate": "<b>%{hovertext}</b><br><br>Country Name=Brazil<br>Year=1988<br>GDP (current US$)=%{x}<br>CO2 Emissions (kt)=%{y}<br>Population, total=%{marker.size}<extra></extra>",
           "hovertext": [
            "Brazil"
           ],
           "legendgroup": "Brazil",
           "marker": {
            "color": "#636efa",
            "size": {
             "bdata": "AAAAajsloUE=",
             "dtype": "f8"
            },
            "sizemode": "area",
            "sizeref": 399463.7766666667,
            "symbol": "circle"
           },
           "mode": "markers",
           "name": "Brazil",
           "orientation": "v",
           "showlegend": true,
           "type": "scatter",
           "x": {
            "bdata": "JxEAXMzrUUI=",
            "dtype": "f8"
           },
           "xaxis": "x",
           "y": {
            "bdata": "AAAAOFvCqEE=",
            "dtype": "f8"
           },
           "yaxis": "y"
          },
          {
           "hovertemplate": "<b>%{hovertext}</b><br><br>Country Name=China<br>Year=1988<br>GDP (current US$)=%{x}<br>CO2 Emissions (kt)=%{y}<br>Population, total=%{marker.size}<extra></extra>",
           "hovertext": [
            "China"
           ],
           "legendgroup": "China",
           "marker": {
            "color": "#EF553B",
            "size": {
             "bdata": "AAAAjGJq0EE=",
             "dtype": "f8"
            },
            "sizemode": "area",
            "sizeref": 399463.7766666667,
            "symbol": "circle"
           },
           "mode": "markers",
           "name": "China",
           "orientation": "v",
           "showlegend": true,
           "type": "scatter",
           "x": {
            "bdata": "avT5im4uUkI=",
            "dtype": "f8"
           },
           "xaxis": "x",
           "y": {
            "bdata": "AAAAXAYT4kE=",
            "dtype": "f8"
           },
           "yaxis": "y"
          },
          {
           "hovertemplate": "<b>%{hovertext}</b><br><br>Country Name=Germany<br>Year=1988<br>GDP (current US$)=%{x}<br>CO2 Emissions (kt)=%{y}<br>Population, total=%{marker.size}<extra></extra>",
           "hovertext": [
            "Germany"
           ],
           "legendgroup": "Germany",
           "marker": {
            "color": "#00cc96",
            "size": {
             "bdata": "AAAArJGhkkE=",
             "dtype": "f8"
            },
            "sizemode": "area",
            "sizeref": 399463.7766666667,
            "symbol": "circle"
           },
           "mode": "markers",
           "name": "Germany",
           "orientation": "v",
           "showlegend": true,
           "type": "scatter",
           "x": {
            "bdata": "ezhbGiB3dEI=",
            "dtype": "f8"
           },
           "xaxis": "x",
           "y": {
            "bdata": "AAAA5NSqzkE=",
            "dtype": "f8"
           },
           "yaxis": "y"
          },
          {
           "hovertemplate": "<b>%{hovertext}</b><br><br>Country Name=India<br>Year=1988<br>GDP (current US$)=%{x}<br>CO2 Emissions (kt)=%{y}<br>Population, total=%{marker.size}<extra></extra>",
           "hovertext": [
            "India"
           ],
           "legendgroup": "India",
           "marker": {
            "color": "#ab63fa",
            "size": {
             "bdata": "AAAARyCoyEE=",
             "dtype": "f8"
            },
            "sizemode": "area",
            "sizeref": 399463.7766666667,
            "symbol": "circle"
           },
           "mode": "markers",
           "name": "India",
           "orientation": "v",
           "showlegend": true,
           "type": "scatter",
           "x": {
            "bdata": "pvt7zodDUUI=",
            "dtype": "f8"
           },
           "xaxis": "x",
           "y": {
            "bdata": "AAAAgKBOvUE=",
            "dtype": "f8"
           },
           "yaxis": "y"
          },
          {
           "hovertemplate": "<b>%{hovertext}</b><br><br>Country Name=United States<br>Year=1988<br>GDP (current US$)=%{x}<br>CO2 Emissions (kt)=%{y}<br>Population, total=%{marker.size}<extra></extra>",
           "hovertext": [
            "United States"
           ],
           "legendgroup": "United States",
           "marker": {
            "color": "#FFA15A",
            "size": {
             "bdata": "AAAAcIQlrUE=",
             "dtype": "f8"
            },
            "sizemode": "area",
            "sizeref": 399463.7766666667,
            "symbol": "circle"
           },
           "mode": "markers",
           "name": "United States",
           "orientation": "v",
           "showlegend": true,
           "type": "scatter",
           "x": {
            "bdata": "AACGG9AMk0I=",
            "dtype": "f8"
           },
           "xaxis": "x",
           "y": {
            "bdata": "AABAwN/Q8kE=",
            "dtype": "f8"
           },
           "yaxis": "y"
          }
         ],
         "name": "1988"
        },
        {
         "data": [
          {
           "hovertemplate": "<b>%{hovertext}</b><br><br>Country Name=Brazil<br>Year=1989<br>GDP (current US$)=%{x}<br>CO2 Emissions (kt)=%{y}<br>Population, total=%{marker.size}<extra></extra>",
           "hovertext": [
            "Brazil"
           ],
           "legendgroup": "Brazil",
           "marker": {
            "color": "#636efa",
            "size": {
             "bdata": "AAAAeOp2oUE=",
             "dtype": "f8"
            },
            "sizemode": "area",
            "sizeref": 399463.7766666667,
            "symbol": "circle"
           },
           "mode": "markers",
           "name": "Brazil",
           "orientation": "v",
           "showlegend": true,
           "type": "scatter",
           "x": {
            "bdata": "4drv8woKWEI=",
            "dtype": "f8"
           },
           "xaxis": "x",
           "y": {
            "bdata": "AAAAKOVHqUE=",
            "dtype": "f8"
           },
           "yaxis": "y"
          },
          {
           "hovertemplate": "<b>%{hovertext}</b><br><br>Country Name=China<br>Year=1989<br>GDP (current US$)=%{x}<br>CO2 Emissions (kt)=%{y}<br>Population, total=%{marker.size}<extra></extra>",
           "hovertext": [
            "China"
           ],
           "legendgroup": "China",
           "marker": {
            "color": "#EF553B",
            "size": {
             "bdata": "AAAApE+r0EE=",
             "dtype": "f8"
            },
            "sizemode": "area",
            "sizeref": 399463.7766666667,
            "symbol": "circle"
           },
           "mode": "markers",
           "name": "China",
           "orientation": "v",
           "showlegend": true,
           "type": "scatter",
           "x": {
            "bdata": "be+b1SU+VEI=",
            "dtype": "f8"
           },
           "xaxis": "x",
           "y": {
            "bdata": "AAAAQAxb4kE=",
            "dtype": "f8"
           },
           "yaxis": "y"
          },
          {
           "hovertemplate": "<b>%{hovertext}</b><br><br>Country Name=Germany<br>Year=1989<br>GDP (current US$)=%{x}<br>CO2 Emissions (kt)=%{y}<br>Population, total=%{marker.size}<extra></extra>",
           "hovertext": [
            "Germany"
           ],
           "legendgroup": "Germany",
           "marker": {
            "color": "#00cc96",
            "size": {
             "bdata": "AAAAzJjGkkE=",
             "dtype": "f8"
            },
            "sizemode": "area",
            "sizeref": 399463.7766666667,
            "symbol": "circle"
           },
           "mode": "markers",
           "name": "Germany",
           "orientation": "v",
           "showlegend": true,
           "type": "scatter",
           "x": {
            "bdata": "M1dRXKdudEI=",
            "dtype": "f8"
           },
           "xaxis": "x",
           "y": {
            "bdata": "AAAAqHkQzkE=",
            "dtype": "f8"
           },
           "yaxis": "y"
          },
          {
           "hovertemplate": "<b>%{hovertext}</b><br><br>Country Name=India<br>Year=1989<br>GDP (current US$)=%{x}<br>CO2 Emissions (kt)=%{y}<br>Population, total=%{marker.size}<extra></extra>",
           "hovertext": [
            "India"
           ],
           "legendgroup": "India",
           "marker": {
            "color": "#ab63fa",
            "size": {
             "bdata": "AACA9MQ2yUE=",
             "dtype": "f8"
            },
            "sizemode": "area",
            "sizeref": 399463.7766666667,
            "symbol": "circle"
           },
           "mode": "markers",
           "name": "India",
           "orientation": "v",
           "showlegend": true,
           "type": "scatter",
           "x": {
            "bdata": "PSpUz147UUI=",
            "dtype": "f8"
           },
           "xaxis": "x",
           "y": {
            "bdata": "AAAALtccwEE=",
            "dtype": "f8"
           },
           "yaxis": "y"
          },
          {
           "hovertemplate": "<b>%{hovertext}</b><br><br>Country Name=United States<br>Year=1989<br>GDP (current US$)=%{x}<br>CO2 Emissions (kt)=%{y}<br>Population, total=%{marker.size}<extra></extra>",
           "hovertext": [
            "United States"
           ],
           "legendgroup": "United States",
           "marker": {
            "color": "#FFA15A",
            "size": {
             "bdata": "AAAAcFFsrUE=",
             "dtype": "f8"
            },
            "sizemode": "area",
            "sizeref": 399463.7766666667,
            "symbol": "circle"
           },
           "mode": "markers",
           "name": "United States",
           "orientation": "v",
           "showlegend": true,
           "type": "scatter",
           "x": {
            "bdata": "AADMfCGGlEI=",
            "dtype": "f8"
           },
           "xaxis": "x",
           "y": {
            "bdata": "AADAYMYe80E=",
            "dtype": "f8"
           },
           "yaxis": "y"
          }
         ],
         "name": "1989"
        },
        {
         "data": [
          {
           "hovertemplate": "<b>%{hovertext}</b><br><br>Country Name=Brazil<br>Year=1990<br>GDP (current US$)=%{x}<br>CO2 Emissions (kt)=%{y}<br>Population, total=%{marker.size}<extra></extra>",
           "hovertext": [
            "Brazil"
           ],
           "legendgroup": "Brazil",
           "marker": {
            "color": "#636efa",
            "size": {
             "bdata": "AAAAbn3HoUE=",
             "dtype": "f8"
            },
            "sizemode": "area",
            "sizeref": 399463.7766666667,
            "symbol": "circle"
           },
           "mode": "markers",
           "name": "Brazil",
           "orientation": "v",
           "showlegend": true,
           "type": "scatter",
           "x": {
            "bdata": "qDYopOAQW0I=",
            "dtype": "f8"
           },
           "xaxis": "x",
           "y": {
            "bdata": "AAAAoOkQqkE=",
            "dtype": "f8"
           },
           "yaxis": "y"
          },
          {
           "hovertemplate": "<b>%{hovertext}</b><br><br>Country Name=China<br>Year=1990<br>GDP (current US$)=%{x}<br>CO2 Emissions (kt)=%{y}<br>Population, total=%{marker.size}<extra></extra>",
           "hovertext": [
            "China"
           ],
           "legendgroup": "China",
           "marker": {
            "color": "#EF553B",
            "size": {
             "bdata": "AAAAGmPq0EE=",
             "dtype": "f8"
            },
            "sizemode": "area",
            "sizeref": 399463.7766666667,
            "symbol": "circle"
           },
           "mode": "markers",
           "name": "China",
           "orientation": "v",
           "showlegend": true,
           "type": "scatter",
           "x": {
            "bdata": "0309sTMBVUI=",
            "dtype": "f8"
           },
           "xaxis": "x",
           "y": {
            "bdata": "AAAAAnyD4kE=",
            "dtype": "f8"
           },
           "yaxis": "y"
          },
          {
           "hovertemplate": "<b>%{hovertext}</b><br><br>Country Name=Germany<br>Year=1990<br>GDP (current US$)=%{x}<br>CO2 Emissions (kt)=%{y}<br>Population, total=%{marker.size}<extra></extra>",
           "hovertext": [
            "Germany"
           ],
           "legendgroup": "Germany",
           "marker": {
            "color": "#00cc96",
            "size": {
             "bdata": "AAAAFDXwkkE=",
             "dtype": "f8"
            },
            "sizemode": "area",
            "sizeref": 399463.7766666667,
            "symbol": "circle"
           },
           "mode": "markers",
           "name": "Germany",
           "orientation": "v",
           "showlegend": true,
           "type": "scatter",
           "x": {
            "bdata": "H0HZnSvgeUI=",
            "dtype": "f8"
           },
           "xaxis": "x",
           "y": {
            "bdata": "AAAAPnRvz0E=",
            "dtype": "f8"
           },
           "yaxis": "y"
          },
          {
           "hovertemplate": "<b>%{hovertext}</b><br><br>Country Name=India<br>Year=1990<br>GDP (current US$)=%{x}<br>CO2 Emissions (kt)=%{y}<br>Population, total=%{marker.size}<extra></extra>",
           "hovertext": [
            "India"
           ],
           "legendgroup": "India",
           "marker": {
            "color": "#ab63fa",
            "size": {
             "bdata": "AACA3jbHyUE=",
             "dtype": "f8"
            },
            "sizemode": "area",
            "sizeref": 399463.7766666667,
            "symbol": "circle"
           },
           "mode": "markers",
           "name": "India",
           "orientation": "v",
           "showlegend": true,
           "type": "scatter",
           "x": {
            "bdata": "PQJ90PWuUkI=",
            "dtype": "f8"
           },
           "xaxis": "x",
           "y": {
            "bdata": "AAAAcMI5wUE=",
            "dtype": "f8"
           },
           "yaxis": "y"
          },
          {
           "hovertemplate": "<b>%{hovertext}</b><br><br>Country Name=United States<br>Year=1990<br>GDP (current US$)=%{x}<br>CO2 Emissions (kt)=%{y}<br>Population, total=%{marker.size}<extra></extra>",
           "hovertext": [
            "United States"
           ],
           "legendgroup": "United States",
           "marker": {
            "color": "#FFA15A",
            "size": {
             "bdata": "AAAAsOPBrUE=",
             "dtype": "f8"
            },
            "sizemode": "area",
            "sizeref": 399463.7766666667,
            "symbol": "circle"
           },
           "mode": "markers",
           "name": "United States",
           "orientation": "v",
           "showlegend": true,
           "type": "scatter",
           "x": {
            "bdata": "AADIUZyxlUI=",
            "dtype": "f8"
           },
           "xaxis": "x",
           "y": {
            "bdata": "AACApLkT80E=",
            "dtype": "f8"
           },
           "yaxis": "y"
          }
         ],
         "name": "1990"
        },
        {
         "data": [
          {
           "hovertemplate": "<b>%{hovertext}</b><br><br>Country Name=Brazil<br>Year=1991<br>GDP (current US$)=%{x}<br>CO2 Emissions (kt)=%{y}<br>Population, total=%{marker.size}<extra></extra>",
           "hovertext": [
            "Brazil"
           ],
           "legendgroup": "Brazil",
           "marker": {
            "color": "#636efa",
            "size": {
             "bdata": "AAAAwEEWokE=",
             "dtype": "f8"
            },
            "sizemode": "area",
            "sizeref": 399463.7766666667,
            "symbol": "circle"
           },
           "mode": "markers",
           "name": "Brazil",
           "orientation": "v",
           "showlegend": true,
           "type": "scatter",
           "x": {
            "bdata": "00Un3CfwU0I=",
            "dtype": "f8"
           },
           "xaxis": "x",
           "y": {
            "bdata": "AAAAoIxYq0E=",
            "dtype": "f8"
           },
           "yaxis": "y"
          },
          {
           "hovertemplate": "<b>%{hovertext}</b><br><br>Country Name=China<br>Year=1991<br>GDP (current US$)=%{x}<br>CO2 Emissions (kt)=%{y}<br>Population, total=%{marker.size}<extra></extra>",
           "hovertext": [
            "China"
           ],
           "legendgroup": "China",
           "marker": {
            "color": "#EF553B",
            "size": {
             "bdata": "AAAAmOAl0UE=",
             "dtype": "f8"
            },
            "sizemode": "area",
            "sizeref": 399463.7766666667,
            "symbol": "circle"
           },
           "mode": "markers",
           "name": "China",
           "orientation": "v",
           "showlegend": true,
           "type": "scatter",
           "x": {
            "bdata": "8OfwJbVQVkI=",
            "dtype": "f8"
           },
           "xaxis": "x",
           "y": {
            "bdata": "AACA3Ltq40E=",
            "dtype": "f8"
           },
           "yaxis": "y"
          },
          {
           "hovertemplate": "<b>%{hovertext}</b><br><br>Country Name=Germany<br>Year=1991<br>GDP (current US$)=%{x}<br>CO2 Emissions (kt)=%{y}<br>Population, total=%{marker.size}<extra></extra>",
           "hovertext": [
            "Germany"
           ],
           "legendgroup": "Germany",
           "marker": {
            "color": "#00cc96",
            "size": {
             "bdata": "AAAAIKkTk0E=",
             "dtype": "f8"
            },
            "sizemode": "area",
            "sizeref": 399463.7766666667,
            "symbol": "circle"
           },
           "mode": "markers",
           "name": "Germany",
           "orientation": "v",
           "showlegend": true,
           "type": "scatter",
           "x": {
            "bdata": "ccmpM99Le0I=",
            "dtype": "f8"
           },
           "xaxis": "x",
           "y": {
            "bdata": "AAAAgo5OzkE=",
            "dtype": "f8"
           },
           "yaxis": "y"
          },
          {
           "hovertemplate": "<b>%{hovertext}</b><br><br>Country Name=India<br>Year=1991<br>GDP (current US$)=%{x}<br>CO2 Emissions (kt)=%{y}<br>Population, total=%{marker.size}<extra></extra>",
           "hovertext": [
            "India"
           ],
           "legendgroup": "India",
           "marker": {
            "color": "#ab63fa",
            "size": {
             "bdata": "AAAAGNVXykE=",
             "dtype": "f8"
            },
            "sizemode": "area",
            "sizeref": 399463.7766666667,
            "symbol": "circle"
           },
           "mode": "markers",
           "name": "India",
           "orientation": "v",
           "showlegend": true,
           "type": "scatter",
           "x": {
            "bdata": "7pzbN8RxT0I=",
            "dtype": "f8"
           },
           "xaxis": "x",
           "y": {
            "bdata": "AAAAxNxWwkE=",
            "dtype": "f8"
           },
           "yaxis": "y"
          },
          {
           "hovertemplate": "<b>%{hovertext}</b><br><br>Country Name=United States<br>Year=1991<br>GDP (current US$)=%{x}<br>CO2 Emissions (kt)=%{y}<br>Population, total=%{marker.size}<extra></extra>",
           "hovertext": [
            "United States"
           ],
           "legendgroup": "United States",
           "marker": {
            "color": "#FFA15A",
            "size": {
             "bdata": "AAAAEF4orkE=",
             "dtype": "f8"
            },
            "sizemode": "area",
            "sizeref": 399463.7766666667,
            "symbol": "circle"
           },
           "mode": "markers",
           "name": "United States",
           "orientation": "v",
           "showlegend": true,
           "type": "scatter",
           "x": {
            "bdata": "AAC5XTRnlkI=",
            "dtype": "f8"
           },
           "xaxis": "x",
           "y": {
            "bdata": "AABAXWnc8kE=",
            "dtype": "f8"
           },
           "yaxis": "y"
          }
         ],
         "name": "1991"
        },
        {
         "data": [
          {
           "hovertemplate": "<b>%{hovertext}</b><br><br>Country Name=Brazil<br>Year=1992<br>GDP (current US$)=%{x}<br>CO2 Emissions (kt)=%{y}<br>Population, total=%{marker.size}<extra></extra>",
           "hovertext": [
            "Brazil"
           ],
           "legendgroup": "Brazil",
           "marker": {
            "color": "#636efa",
            "size": {
             "bdata": "AAAADhpkokE=",
             "dtype": "f8"
            },
            "sizemode": "area",
            "sizeref": 399463.7766666667,
            "symbol": "circle"
           },
           "mode": "markers",
           "name": "Brazil",
           "orientation": "v",
           "showlegend": true,
           "type": "scatter",
           "x": {
            "bdata": "2Y7+x3AaU0I=",
            "dtype": "f8"
           },
           "xaxis": "x",
           "y": {
            "bdata": "AAAA0O/Yq0E=",
            "dtype": "f8"
           },
           "yaxis": "y"
          },
          {
           "hovertemplate": "<b>%{hovertext}</b><br><br>Country Name=China<br>Year=1992<br>GDP (current US$)=%{x}<br>CO2 Emissions (kt)=%{y}<br>Population, total=%{marker.size}<extra></extra>",
           "hovertext": [
            "China"
           ],
           "legendgroup": "China",
           "marker": {
            "color": "#EF553B",
            "size": {
             "bdata": "AAAABAJc0UE=",
             "dtype": "f8"
            },
            "sizemode": "area",
            "sizeref": 399463.7766666667,
            "symbol": "circle"
           },
           "mode": "markers",
           "name": "China",
           "orientation": "v",
           "showlegend": true,
           "type": "scatter",
           "x": {
            "bdata": "yfayM4rZWEI=",
            "dtype": "f8"
           },
           "xaxis": "x",
           "y": {
            "bdata": "AAAAYpBY5EE=",
            "dtype": "f8"
           },
           "yaxis": "y"
          },
          {
           "hovertemplate": "<b>%{hovertext}</b><br><br>Country Name=Germany<br>Year=1992<br>GDP (current US$)=%{x}<br>CO2 Emissions (kt)=%{y}<br>Population, total=%{marker.size}<extra></extra>",
           "hovertext": [
            "Germany"
           ],
           "legendgroup": "Germany",
           "marker": {
            "color": "#00cc96",
            "size": {
             "bdata": "AAAAWO84k0E=",
             "dtype": "f8"
            },
            "sizemode": "area",
            "sizeref": 399463.7766666667,
            "symbol": "circle"
           },
           "mode": "markers",
           "name": "Germany",
           "orientation": "v",
           "showlegend": true,
           "type": "scatter",
           "x": {
            "bdata": "H4F3zUApf0I=",
            "dtype": "f8"
           },
           "xaxis": "x",
           "y": {
            "bdata": "AAAAKG3kzEE=",
            "dtype": "f8"
           },
           "yaxis": "y"
          },
          {
           "hovertemplate": "<b>%{hovertext}</b><br><br>Country Name=India<br>Year=1992<br>GDP (current US$)=%{x}<br>CO2 Emissions (kt)=%{y}<br>Population, total=%{marker.size}<extra></extra>",
           "hovertext": [
            "India"
           ],
           "legendgroup": "India",
           "marker": {
            "color": "#ab63fa",
            "size": {
             "bdata": "AAAABwTpykE=",
             "dtype": "f8"
            },
            "sizemode": "area",
            "sizeref": 399463.7766666667,
            "symbol": "circle"
           },
           "mode": "markers",
           "name": "India",
           "orientation": "v",
           "showlegend": true,
           "type": "scatter",
           "x": {
            "bdata": "1YChiaLGUEI=",
            "dtype": "f8"
           },
           "xaxis": "x",
           "y": {
            "bdata": "AAAAAKqIw0E=",
            "dtype": "f8"
           },
           "yaxis": "y"
          },
          {
           "hovertemplate": "<b>%{hovertext}</b><br><br>Country Name=United States<br>Year=1992<br>GDP (current US$)=%{x}<br>CO2 Emissions (kt)=%{y}<br>Population, total=%{marker.size}<extra></extra>",
           "hovertext": [
            "United States"
           ],
           "legendgroup": "United States",
           "marker": {
            "color": "#FFA15A",
            "size": {
             "bdata": "AAAAoC+UrkE=",
             "dtype": "f8"
            },
            "sizemode": "area",
            "sizeref": 399463.7766666667,
            "symbol": "circle"
           },
           "mode": "markers",
           "name": "United States",
           "orientation": "v",
           "showlegend": true,
           "type": "scatter",
           "x": {
            "bdata": "AAA/GYe4l0I=",
            "dtype": "f8"
           },
           "xaxis": "x",
           "y": {
            "bdata": "AADAIodG80E=",
            "dtype": "f8"
           },
           "yaxis": "y"
          }
         ],
         "name": "1992"
        },
        {
         "data": [
          {
           "hovertemplate": "<b>%{hovertext}</b><br><br>Country Name=Brazil<br>Year=1993<br>GDP (current US$)=%{x}<br>CO2 Emissions (kt)=%{y}<br>Population, total=%{marker.size}<extra></extra>",
           "hovertext": [
            "Brazil"
           ],
           "legendgroup": "Brazil",
           "marker": {
            "color": "#636efa",
            "size": {
             "bdata": "AAAAov2wokE=",
             "dtype": "f8"
            },
            "sizemode": "area",
            "sizeref": 399463.7766666667,
            "symbol": "circle"
           },
           "mode": "markers",
           "name": "Brazil",
           "orientation": "v",
           "showlegend": true,
           "type": "scatter",
           "x": {
            "bdata": "cT3TnfpvVUI=",
            "dtype": "f8"
           },
           "xaxis": "x",
           "y": {
            "bdata": "AAAAoKAfrUE=",
            "dtype": "f8"
           },
           "yaxis": "y"
          },
          {
           "hovertemplate": "<b>%{hovertext}</b><br><br>Country Name=China<br>Year=1993<br>GDP (current US$)=%{x}<br>CO2 Emissions (kt)=%{y}<br>Population, total=%{marker.size}<extra></extra>",
           "hovertext": [
            "China"
           ],
           "legendgroup": "China",
           "marker": {
            "color": "#EF553B",
            "size": {
             "bdata": "AAAAUGSP0UE=",
             "dtype": "f8"
            },
            "sizemode": "area",
            "sizeref": 399463.7766666667,
            "symbol": "circle"
           },
           "mode": "markers",
           "name": "China",
           "orientation": "v",
           "showlegend": true,
           "type": "scatter",
           "x": {
            "bdata": "9uAANQPjWUI=",
            "dtype": "f8"
           },
           "xaxis": "x",
           "y": {
            "bdata": "AAAAZ5vE5UE=",
            "dtype": "f8"
           },
           "yaxis": "y"
          },
          {
           "hovertemplate": "<b>%{hovertext}</b><br><br>Country Name=Germany<br>Year=1993<br>GDP (current US$)=%{x}<br>CO2 Emissions (kt)=%{y}<br>Population, total=%{marker.size}<extra></extra>",
           "hovertext": [
            "Germany"
           ],
           "legendgroup": "Germany",
           "marker": {
            "color": "#00cc96",
            "size": {
             "bdata": "AAAALGRZk0E=",
             "dtype": "f8"
            },
            "sizemode": "area",
            "sizeref": 399463.7766666667,
            "symbol": "circle"
           },
           "mode": "markers",
           "name": "Germany",
           "orientation": "v",
           "showlegend": true,
           "type": "scatter",
           "x": {
            "bdata": "mtn9PbVAfkI=",
            "dtype": "f8"
           },
           "xaxis": "x",
           "y": {
            "bdata": "AAAAloiXzEE=",
            "dtype": "f8"
           },
           "yaxis": "y"
          },
          {
           "hovertemplate": "<b>%{hovertext}</b><br><br>Country Name=India<br>Year=1993<br>GDP (current US$)=%{x}<br>CO2 Emissions (kt)=%{y}<br>Population, total=%{marker.size}<extra></extra>",
           "hovertext": [
            "India"
           ],
           "legendgroup": "India",
           "marker": {
            "color": "#ab63fa",
            "size": {
             "bdata": "AACAeTR7y0E=",
             "dtype": "f8"
            },
            "sizemode": "area",
            "sizeref": 399463.7766666667,
            "symbol": "circle"
           },
           "mode": "markers",
           "name": "India",
           "orientation": "v",
           "showlegend": true,
           "type": "scatter",
           "x": {
            "bdata": "26E1WdRBUEI=",
            "dtype": "f8"
           },
           "xaxis": "x",
           "y": {
            "bdata": "AAAAHmIvxEE=",
            "dtype": "f8"
           },
           "yaxis": "y"
          },
          {
           "hovertemplate": "<b>%{hovertext}</b><br><br>Country Name=United States<br>Year=1993<br>GDP (current US$)=%{x}<br>CO2 Emissions (kt)=%{y}<br>Population, total=%{marker.size}<extra></extra>",
           "hovertext": [
            "United States"
           ],
           "legendgroup": "United States",
           "marker": {
            "color": "#FFA15A",
            "size": {
             "bdata": "AAAAMBn8rkE=",
             "dtype": "f8"
            },
            "sizemode": "area",
            "sizeref": 399463.7766666667,
            "symbol": "circle"
           },
           "mode": "markers",
           "name": "United States",
           "orientation": "v",
           "showlegend": true,
           "type": "scatter",
           "x": {
            "bdata": "AAA35IfzmEI=",
            "dtype": "f8"
           },
           "xaxis": "x",
           "y": {
            "bdata": "AAAA/pSk80E=",
            "dtype": "f8"
           },
           "yaxis": "y"
          }
         ],
         "name": "1993"
        },
        {
         "data": [
          {
           "hovertemplate": "<b>%{hovertext}</b><br><br>Country Name=Brazil<br>Year=1994<br>GDP (current US$)=%{x}<br>CO2 Emissions (kt)=%{y}<br>Population, total=%{marker.size}<extra></extra>",
           "hovertext": [
            "Brazil"
           ],
           "legendgroup": "Brazil",
           "marker": {
            "color": "#636efa",
            "size": {
             "bdata": "AAAA3GH8okE=",
             "dtype": "f8"
            },
            "sizemode": "area",
            "sizeref": 399463.7766666667,
            "symbol": "circle"
           },
           "mode": "markers",
           "name": "Brazil",
           "orientation": "v",
           "showlegend": true,
           "type": "scatter",
           "x": {
            "bdata": "K+9neJ2UXkI=",
            "dtype": "f8"
           },
           "xaxis": "x",
           "y": {
            "bdata": "AAAAoIZHrkE=",
            "dtype": "f8"
           },
           "yaxis": "y"
          },
          {
           "hovertemplate": "<b>%{hovertext}</b><br><br>Country Name=China<br>Year=1994<br>GDP (current US$)=%{x}<br>CO2 Emissions (kt)=%{y}<br>Population, total=%{marker.size}<extra></extra>",
           "hovertext": [
            "China"
           ],
           "legendgroup": "China",
           "marker": {
            "color": "#EF553B",
            "size": {
             "bdata": "AAAAXn3C0UE=",
             "dtype": "f8"
            },
            "sizemode": "area",
            "sizeref": 399463.7766666667,
            "symbol": "circle"
           },
           "mode": "markers",
           "name": "China",
           "orientation": "v",
           "showlegend": true,
           "type": "scatter",
           "x": {
            "bdata": "aiCHhIZsYEI=",
            "dtype": "f8"
           },
           "xaxis": "x",
           "y": {
            "bdata": "AAAAj+kf50E=",
            "dtype": "f8"
           },
           "yaxis": "y"
          },
          {
           "hovertemplate": "<b>%{hovertext}</b><br><br>Country Name=Germany<br>Year=1994<br>GDP (current US$)=%{x}<br>CO2 Emissions (kt)=%{y}<br>Population, total=%{marker.size}<extra></extra>",
           "hovertext": [
            "Germany"
           ],
           "legendgroup": "Germany",
           "marker": {
            "color": "#00cc96",
            "size": {
             "bdata": "AAAAMJpqk0E=",
             "dtype": "f8"
            },
            "sizemode": "area",
            "sizeref": 399463.7766666667,
            "symbol": "circle"
           },
           "mode": "markers",
           "name": "Germany",
           "orientation": "v",
           "showlegend": true,
           "type": "scatter",
           "x": {
            "bdata": "16UyE0kegEI=",
            "dtype": "f8"
           },
           "xaxis": "x",
           "y": {
            "bdata": "AAAAgUEczEE=",
            "dtype": "f8"
           },
           "yaxis": "y"
          },
          {
           "hovertemplate": "<b>%{hovertext}</b><br><br>Country Name=India<br>Year=1994<br>GDP (current US$)=%{x}<br>CO2 Emissions (kt)=%{y}<br>Population, total=%{marker.size}<extra></extra>",
           "hovertext": [
            "India"
           ],
           "legendgroup": "India",
           "marker": {
            "color": "#ab63fa",
            "size": {
             "bdata": "AACAe4IMzEE=",
             "dtype": "f8"
            },
            "sizemode": "area",
            "sizeref": 399463.7766666667,
            "symbol": "circle"
           },
           "mode": "markers",
           "name": "India",
           "orientation": "v",
           "showlegend": true,
           "type": "scatter",
           "x": {
            "bdata": "ddtQc8YMU0I=",
            "dtype": "f8"
           },
           "xaxis": "x",
           "y": {
            "bdata": "AAAAvt9HxUE=",
            "dtype": "f8"
           },
           "yaxis": "y"
          },
          {
           "hovertemplate": "<b>%{hovertext}</b><br><br>Country Name=United States<br>Year=1994<br>GDP (current US$)=%{x}<br>CO2 Emissions (kt)=%{y}<br>Population, total=%{marker.size}<extra></extra>",
           "hovertext": [
            "United States"
           ],
           "legendgroup": "United States",
           "marker": {
            "color": "#FFA15A",
            "size": {
             "bdata": "AAAA4Pddr0E=",
             "dtype": "f8"
            },
            "sizemode": "area",
            "sizeref": 399463.7766666667,
            "symbol": "circle"
           },
           "mode": "markers",
           "name": "United States",
           "orientation": "v",
           "showlegend": true,
           "type": "scatter",
           "x": {
            "bdata": "AADkc8SCmkI=",
            "dtype": "f8"
           },
           "xaxis": "x",
           "y": {
            "bdata": "AABAgMb780E=",
            "dtype": "f8"
           },
           "yaxis": "y"
          }
         ],
         "name": "1994"
        },
        {
         "data": [
          {
           "hovertemplate": "<b>%{hovertext}</b><br><br>Country Name=Brazil<br>Year=1995<br>GDP (current US$)=%{x}<br>CO2 Emissions (kt)=%{y}<br>Population, total=%{marker.size}<extra></extra>",
           "hovertext": [
            "Brazil"
           ],
           "legendgroup": "Brazil",
           "marker": {
            "color": "#636efa",
            "size": {
             "bdata": "AAAAQsNHo0E=",
             "dtype": "f8"
            },
            "sizemode": "area",
            "sizeref": 399463.7766666667,
            "symbol": "circle"
           },
           "mode": "markers",
           "name": "Brazil",
           "orientation": "v",
           "showlegend": true,
           "type": "scatter",
           "x": {
            "bdata": "9lzNV/pjZkI=",
            "dtype": "f8"
           },
           "xaxis": "x",
           "y": {
            "bdata": "AAAAcLMDsEE=",
            "dtype": "f8"
           },
           "yaxis": "y"
          },
          {
           "hovertemplate": "<b>%{hovertext}</b><br><br>Country Name=China<br>Year=1995<br>GDP (current US$)=%{x}<br>CO2 Emissions (kt)=%{y}<br>Population, total=%{marker.size}<extra></extra>",
           "hovertext": [
            "China"
           ],
           "legendgroup": "China",
           "marker": {
            "color": "#EF553B",
            "size": {
             "bdata": "AAAANij00UE=",
             "dtype": "f8"
            },
            "sizemode": "area",
            "sizeref": 399463.7766666667,
            "symbol": "circle"
           },
           "mode": "markers",
           "name": "China",
           "orientation": "v",
           "showlegend": true,
           "type": "scatter",
           "x": {
            "bdata": "oLIhpVZgZUI=",
            "dtype": "f8"
           },
           "xaxis": "x",
           "y": {
            "bdata": "AAAAUdAL6UE=",
            "dtype": "f8"
           },
           "yaxis": "y"
          },
          {
           "hovertemplate": "<b>%{hovertext}</b><br><br>Country Name=Germany<br>Year=1995<br>GDP (current US$)=%{x}<br>CO2 Emissions (kt)=%{y}<br>Population, total=%{marker.size}<extra></extra>",
           "hovertext": [
            "Germany"
           ],
           "legendgroup": "Germany",
           "marker": {
            "color": "#00cc96",
            "size": {
             "bdata": "AAAAjDt5k0E=",
             "dtype": "f8"
            },
            "sizemode": "area",
            "sizeref": 399463.7766666667,
            "symbol": "circle"
           },
           "mode": "markers",
           "name": "Germany",
           "orientation": "v",
           "showlegend": true,
           "type": "scatter",
           "x": {
            "bdata": "ClEvEfDdgkI=",
            "dtype": "f8"
           },
           "xaxis": "x",
           "y": {
            "bdata": "AAAA0B8DzEE=",
            "dtype": "f8"
           },
           "yaxis": "y"
          },
          {
           "hovertemplate": "<b>%{hovertext}</b><br><br>Country Name=India<br>Year=1995<br>GDP (current US$)=%{x}<br>CO2 Emissions (kt)=%{y}<br>Population, total=%{marker.size}<extra></extra>",
           "hovertext": [
            "India"
           ],
           "legendgroup": "India",
           "marker": {
            "color": "#ab63fa",
            "size": {
             "bdata": "AAAA+oOezEE=",
             "dtype": "f8"
            },
            "sizemode": "area",
            "sizeref": 399463.7766666667,
            "symbol": "circle"
           },
           "mode": "markers",
           "name": "India",
           "orientation": "v",
           "showlegend": true,
           "type": "scatter",
           "x": {
            "bdata": "TN9iap74VEI=",
            "dtype": "f8"
           },
           "xaxis": "x",
           "y": {
            "bdata": "AAAAn9ypxkE=",
            "dtype": "f8"
           },
           "yaxis": "y"
          },
          {
           "hovertemplate": "<b>%{hovertext}</b><br><br>Country Name=United States<br>Year=1995<br>GDP (current US$)=%{x}<br>CO2 Emissions (kt)=%{y}<br>Population, total=%{marker.size}<extra></extra>",
           "hovertext": [
            "United States"
           ],
           "legendgroup": "United States",
           "marker": {
            "color": "#FFA15A",
            "size": {
             "bdata": "AAAA4Ci+r0E=",
             "dtype": "f8"
            },
            "sizemode": "area",
            "sizeref": 399463.7766666667,
            "symbol": "circle"
           },
           "mode": "markers",
           "name": "United States",
           "orientation": "v",
           "showlegend": true,
           "type": "scatter",
           "x": {
            "bdata": "AADtGRLLm0I=",
            "dtype": "f8"
           },
           "xaxis": "x",
           "y": {
            "bdata": "AADAPu419EE=",
            "dtype": "f8"
           },
           "yaxis": "y"
          }
         ],
         "name": "1995"
        },
        {
         "data": [
          {
           "hovertemplate": "<b>%{hovertext}</b><br><br>Country Name=Brazil<br>Year=1996<br>GDP (current US$)=%{x}<br>CO2 Emissions (kt)=%{y}<br>Population, total=%{marker.size}<extra></extra>",
           "hovertext": [
            "Brazil"
           ],
           "legendgroup": "Brazil",
           "marker": {
            "color": "#636efa",
            "size": {
             "bdata": "AAAAahCTo0E=",
             "dtype": "f8"
            },
            "sizemode": "area",
            "sizeref": 399463.7766666667,
            "symbol": "circle"
           },
           "mode": "markers",
           "name": "Brazil",
           "orientation": "v",
           "showlegend": true,
           "type": "scatter",
           "x": {
            "bdata": "vve7sSvAaEI=",
            "dtype": "f8"
           },
           "xaxis": "x",
           "y": {
            "bdata": "AAAAGIk+sUE=",
            "dtype": "f8"
           },
           "yaxis": "y"
          },
          {
           "hovertemplate": "<b>%{hovertext}</b><br><br>Country Name=China<br>Year=1996<br>GDP (current US$)=%{x}<br>CO2 Emissions (kt)=%{y}<br>Population, total=%{marker.size}<extra></extra>",
           "hovertext": [
            "China"
           ],
           "legendgroup": "China",
           "marker": {
            "color": "#EF553B",
            "size": {
             "bdata": "AAAArJUk0kE=",
             "dtype": "f8"
            },
            "sizemode": "area",
            "sizeref": 399463.7766666667,
            "symbol": "circle"
           },
           "mode": "markers",
           "name": "China",
           "orientation": "v",
           "showlegend": true,
           "type": "scatter",
           "x": {
            "bdata": "N9ETE28jaUI=",
            "dtype": "f8"
           },
           "xaxis": "x",
           "y": {
            "bdata": "AAAAI4ok6kE=",
            "dtype": "f8"
           },
           "yaxis": "y"
          },
          {
           "hovertemplate": "<b>%{hovertext}</b><br><br>Country Name=Germany<br>Year=1996<br>GDP (current US$)=%{x}<br>CO2 Emissions (kt)=%{y}<br>Population, total=%{marker.size}<extra></extra>",
           "hovertext": [
            "Germany"
           ],
           "legendgroup": "Germany",
           "marker": {
            "color": "#00cc96",
            "size": {
             "bdata": "AAAAPK+Hk0E=",
             "dtype": "f8"
            },
            "sizemode": "area",
            "sizeref": 399463.7766666667,
            "symbol": "circle"
           },
           "mode": "markers",
           "name": "Germany",
           "orientation": "v",
           "showlegend": true,
           "type": "scatter",
           "x": {
            "bdata": "ezIm19w8gkI=",
            "dtype": "f8"
           },
           "xaxis": "x",
           "y": {
            "bdata": "AAAAutqZzEE=",
            "dtype": "f8"
           },
           "yaxis": "y"
          },
          {
           "hovertemplate": "<b>%{hovertext}</b><br><br>Country Name=India<br>Year=1996<br>GDP (current US$)=%{x}<br>CO2 Emissions (kt)=%{y}<br>Population, total=%{marker.size}<extra></extra>",
           "hovertext": [
            "India"
           ],
           "legendgroup": "India",
           "marker": {
            "color": "#ab63fa",
            "size": {
             "bdata": "AAAAfVoyzUE=",
             "dtype": "f8"
            },
            "sizemode": "area",
            "sizeref": 399463.7766666667,
            "symbol": "circle"
           },
           "mode": "markers",
           "name": "India",
           "orientation": "v",
           "showlegend": true,
           "type": "scatter",
           "x": {
            "bdata": "BiHnmZ7eVkI=",
            "dtype": "f8"
           },
           "xaxis": "x",
           "y": {
            "bdata": "AAAALrqLyEE=",
            "dtype": "f8"
           },
           "yaxis": "y"
          },
          {
           "hovertemplate": "<b>%{hovertext}</b><br><br>Country Name=United States<br>Year=1996<br>GDP (current US$)=%{x}<br>CO2 Emissions (kt)=%{y}<br>Population, total=%{marker.size}<extra></extra>",
           "hovertext": [
            "United States"
           ],
           "legendgroup": "United States",
           "marker": {
            "color": "#FFA15A",
            "size": {
             "bdata": "AAAAUKAOsEE=",
             "dtype": "f8"
            },
            "sizemode": "area",
            "sizeref": 399463.7766666667,
            "symbol": "circle"
           },
           "mode": "markers",
           "name": "United States",
           "orientation": "v",
           "showlegend": true,
           "type": "scatter",
           "x": {
            "bdata": "AACyRq5enUI=",
            "dtype": "f8"
           },
           "xaxis": "x",
           "y": {
            "bdata": "AACALfXo9EE=",
            "dtype": "f8"
           },
           "yaxis": "y"
          }
         ],
         "name": "1996"
        },
        {
         "data": [
          {
           "hovertemplate": "<b>%{hovertext}</b><br><br>Country Name=Brazil<br>Year=1997<br>GDP (current US$)=%{x}<br>CO2 Emissions (kt)=%{y}<br>Population, total=%{marker.size}<extra></extra>",
           "hovertext": [
            "Brazil"
           ],
           "legendgroup": "Brazil",
           "marker": {
            "color": "#636efa",
            "size": {
             "bdata": "AAAANhzeo0E=",
             "dtype": "f8"
            },
            "sizemode": "area",
            "sizeref": 399463.7766666667,
            "symbol": "circle"
           },
           "mode": "markers",
           "name": "Brazil",
           "orientation": "v",
           "showlegend": true,
           "type": "scatter",
           "x": {
            "bdata": "yU5yGWa0aUI=",
            "dtype": "f8"
           },
           "xaxis": "x",
           "y": {
            "bdata": "AAAAiKtLskE=",
            "dtype": "f8"
           },
           "yaxis": "y"
          },
          {
           "hovertemplate": "<b>%{hovertext}</b><br><br>Country Name=China<br>Year=1997<br>GDP (current US$)=%{x}<br>CO2 Emissions (kt)=%{y}<br>Population, total=%{marker.size}<extra></extra>",
           "hovertext": [
            "China"
           ],
           "legendgroup": "China",
           "marker": {
            "color": "#EF553B",
            "size": {
             "bdata": "AAAAHl1U0kE=",
             "dtype": "f8"
            },
            "sizemode": "area",
            "sizeref": 399463.7766666667,
            "symbol": "circle"
           },
           "mode": "markers",
           "name": "China",
           "orientation": "v",
           "showlegend": true,
           "type": "scatter",
           "x": {
            "bdata": "8BNHOX78a0I=",
            "dtype": "f8"
           },
           "xaxis": "x",
           "y": {
            "bdata": "AAAAu3Yx6kE=",
            "dtype": "f8"
           },
           "yaxis": "y"
          },
          {
           "hovertemplate": "<b>%{hovertext}</b><br><br>Country Name=Germany<br>Year=1997<br>GDP (current US$)=%{x}<br>CO2 Emissions (kt)=%{y}<br>Population, total=%{marker.size}<extra></extra>",
           "hovertext": [
            "Germany"
           ],
           "legendgroup": "Germany",
           "marker": {
            "color": "#00cc96",
            "size": {
             "bdata": "AAAATAGPk0E=",
             "dtype": "f8"
            },
            "sizemode": "area",
            "sizeref": 399463.7766666667,
            "symbol": "circle"
           },
           "mode": "markers",
           "name": "Germany",
           "orientation": "v",
           "showlegend": true,
           "type": "scatter",
           "x": {
            "bdata": "jybk8NEkgEI=",
            "dtype": "f8"
           },
           "xaxis": "x",
           "y": {
            "bdata": "AAAAwtfCy0E=",
            "dtype": "f8"
           },
           "yaxis": "y"
          },
          {
           "hovertemplate": "<b>%{hovertext}</b><br><br>Country Name=India<br>Year=1997<br>GDP (current US$)=%{x}<br>CO2 Emissions (kt)=%{y}<br>Population, total=%{marker.size}<extra></extra>",
           "hovertext": [
            "India"
           ],
           "legendgroup": "India",
           "marker": {
            "color": "#ab63fa",
            "size": {
             "bdata": "AAAAIcnGzUE=",
             "dtype": "f8"
            },
            "sizemode": "area",
            "sizeref": 399463.7766666667,
            "symbol": "circle"
           },
           "mode": "markers",
           "name": "India",
           "orientation": "v",
           "showlegend": true,
           "type": "scatter",
           "x": {
            "bdata": "DjWS2+g0WEI=",
            "dtype": "f8"
           },
           "xaxis": "x",
           "y": {
            "bdata": "AAAAIBuSyUE=",
            "dtype": "f8"
           },
           "yaxis": "y"
          },
          {
           "hovertemplate": "<b>%{hovertext}</b><br><br>Country Name=United States<br>Year=1997<br>GDP (current US$)=%{x}<br>CO2 Emissions (kt)=%{y}<br>Population, total=%{marker.size}<extra></extra>",
           "hovertext": [
            "United States"
           ],
           "legendgroup": "United States",
           "marker": {
            "color": "#FFA15A",
            "size": {
             "bdata": "AAAAaGpAsEE=",
             "dtype": "f8"
            },
            "sizemode": "area",
            "sizeref": 399463.7766666667,
            "symbol": "circle"
           },
           "mode": "markers",
           "name": "United States",
           "orientation": "v",
           "showlegend": true,
           "type": "scatter",
           "x": {
            "bdata": "AACQwnc0n0I=",
            "dtype": "f8"
           },
           "xaxis": "x",
           "y": {
            "bdata": "AADAnaIw9UE=",
            "dtype": "f8"
           },
           "yaxis": "y"
          }
         ],
         "name": "1997"
        },
        {
         "data": [
          {
           "hovertemplate": "<b>%{hovertext}</b><br><br>Country Name=Brazil<br>Year=1998<br>GDP (current US$)=%{x}<br>CO2 Emissions (kt)=%{y}<br>Population, total=%{marker.size}<extra></extra>",
           "hovertext": [
            "Brazil"
           ],
           "legendgroup": "Brazil",
           "marker": {
            "color": "#636efa",
            "size": {
             "bdata": "AAAAzlcqpEE=",
             "dtype": "f8"
            },
            "sizemode": "area",
            "sizeref": 399463.7766666667,
            "symbol": "circle"
           },
           "mode": "markers",
           "name": "Brazil",
           "orientation": "v",
           "showlegend": true,
           "type": "scatter",
           "x": {
            "bdata": "7A0riSUjaUI=",
            "dtype": "f8"
           },
           "xaxis": "x",
           "y": {
            "bdata": "AAAAmIPqskE=",
            "dtype": "f8"
           },
           "yaxis": "y"
          },
          {
           "hovertemplate": "<b>%{hovertext}</b><br><br>Country Name=China<br>Year=1998<br>GDP (current US$)=%{x}<br>CO2 Emissions (kt)=%{y}<br>Population, total=%{marker.size}<extra></extra>",
           "hovertext": [
            "China"
           ],
           "legendgroup": "China",
           "marker": {
            "color": "#EF553B",
            "size": {
             "bdata": "AAAAJpuB0kE=",
             "dtype": "f8"
            },
            "sizemode": "area",
            "sizeref": 399463.7766666667,
            "symbol": "circle"
           },
           "mode": "markers",
           "name": "China",
           "orientation": "v",
           "showlegend": true,
           "type": "scatter",
           "x": {
            "bdata": "zZQsnBnzbUI=",
            "dtype": "f8"
           },
           "xaxis": "x",
           "y": {
            "bdata": "AACA/XAR6UE=",
            "dtype": "f8"
           },
           "yaxis": "y"
          },
          {
           "hovertemplate": "<b>%{hovertext}</b><br><br>Country Name=Germany<br>Year=1998<br>GDP (current US$)=%{x}<br>CO2 Emissions (kt)=%{y}<br>Population, total=%{marker.size}<extra></extra>",
           "hovertext": [
            "Germany"
           ],
           "legendgroup": "Germany",
           "marker": {
            "color": "#00cc96",
            "size": {
             "bdata": "AAAAbMOPk0E=",
             "dtype": "f8"
            },
            "sizemode": "area",
            "sizeref": 399463.7766666667,
            "symbol": "circle"
           },
           "mode": "markers",
           "name": "Germany",
           "orientation": "v",
           "showlegend": true,
           "type": "scatter",
           "x": {
            "bdata": "w68gqsdagEI=",
            "dtype": "f8"
           },
           "xaxis": "x",
           "y": {
            "bdata": "AAAAZryFy0E=",
            "dtype": "f8"
           },
           "yaxis": "y"
          },
          {
           "hovertemplate": "<b>%{hovertext}</b><br><br>Country Name=India<br>Year=1998<br>GDP (current US$)=%{x}<br>CO2 Emissions (kt)=%{y}<br>Population, total=%{marker.size}<extra></extra>",
           "hovertext": [
            "India"
           ],
           "legendgroup": "India",
           "marker": {
            "color": "#ab63fa",
            "size": {
             "bdata": "AAAAPMxbzkE=",
             "dtype": "f8"
            },
            "sizemode": "area",
            "sizeref": 399463.7766666667,
            "symbol": "circle"
           },
           "mode": "markers",
           "name": "India",
           "orientation": "v",
           "showlegend": true,
           "type": "scatter",
           "x": {
            "bdata": "OTy6t5+GWEI=",
            "dtype": "f8"
           },
           "xaxis": "x",
           "y": {
            "bdata": "AAAA35wZykE=",
            "dtype": "f8"
           },
           "yaxis": "y"
          },
          {
           "hovertemplate": "<b>%{hovertext}</b><br><br>Country Name=United States<br>Year=1998<br>GDP (current US$)=%{x}<br>CO2 Emissions (kt)=%{y}<br>Population, total=%{marker.size}<extra></extra>",
           "hovertext": [
            "United States"
           ],
           "legendgroup": "United States",
           "marker": {
            "color": "#FFA15A",
            "size": {
             "bdata": "AAAAsDJxsEE=",
             "dtype": "f8"
            },
            "sizemode": "area",
            "sizeref": 399463.7766666667,
            "symbol": "circle"
           },
           "mode": "markers",
           "name": "United States",
           "orientation": "v",
           "showlegend": true,
           "type": "scatter",
           "x": {
            "bdata": "AIDU+TN8oEI=",
            "dtype": "f8"
           },
           "xaxis": "x",
           "y": {
            "bdata": "AACAzq5b9UE=",
            "dtype": "f8"
           },
           "yaxis": "y"
          }
         ],
         "name": "1998"
        },
        {
         "data": [
          {
           "hovertemplate": "<b>%{hovertext}</b><br><br>Country Name=Brazil<br>Year=1999<br>GDP (current US$)=%{x}<br>CO2 Emissions (kt)=%{y}<br>Population, total=%{marker.size}<extra></extra>",
           "hovertext": [
            "Brazil"
           ],
           "legendgroup": "Brazil",
           "marker": {
            "color": "#636efa",
            "size": {
             "bdata": "AAAAjhV2pEE=",
             "dtype": "f8"
            },
            "sizemode": "area",
            "sizeref": 399463.7766666667,
            "symbol": "circle"
           },
           "mode": "markers",
           "name": "Brazil",
           "orientation": "v",
           "showlegend": true,
           "type": "scatter",
           "x": {
            "bdata": "/vAvZa5zYUI=",
            "dtype": "f8"
           },
           "xaxis": "x",
           "y": {
            "bdata": "AAAAwIeBs0E=",
            "dtype": "f8"
           },
           "yaxis": "y"
          },
          {
           "hovertemplate": "<b>%{hovertext}</b><br><br>Country Name=China<br>Year=1999<br>GDP (current US$)=%{x}<br>CO2 Emissions (kt)=%{y}<br>Population, total=%{marker.size}<extra></extra>",
           "hovertext": [
            "China"
           ],
           "legendgroup": "China",
           "marker": {
            "color": "#EF553B",
            "size": {
             "bdata": "AAAABs6q0kE=",
             "dtype": "f8"
            },
            "sizemode": "area",
            "sizeref": 399463.7766666667,
            "symbol": "circle"
           },
           "mode": "markers",
           "name": "China",
           "orientation": "v",
           "showlegend": true,
           "type": "scatter",
           "x": {
            "bdata": "4SqPy/bWb0I=",
            "dtype": "f8"
           },
           "xaxis": "x",
           "y": {
            "bdata": "AAAAffaA6kE=",
            "dtype": "f8"
           },
           "yaxis": "y"
          },
          {
           "hovertemplate": "<b>%{hovertext}</b><br><br>Country Name=Germany<br>Year=1999<br>GDP (current US$)=%{x}<br>CO2 Emissions (kt)=%{y}<br>Population, total=%{marker.size}<extra></extra>",
           "hovertext": [
            "Germany"
           ],
           "legendgroup": "Germany",
           "marker": {
            "color": "#00cc96",
            "size": {
             "bdata": "AAAATACTk0E=",
             "dtype": "f8"
            },
            "sizemode": "area",
            "sizeref": 399463.7766666667,
            "symbol": "circle"
           },
           "mode": "markers",
           "name": "Germany",
           "orientation": "v",
           "showlegend": true,
           "type": "scatter",
           "x": {
            "bdata": "ClclIqkbgEI=",
            "dtype": "f8"
           },
           "xaxis": "x",
           "y": {
            "bdata": "AAAAQa6vykE=",
            "dtype": "f8"
           },
           "yaxis": "y"
          },
          {
           "hovertemplate": "<b>%{hovertext}</b><br><br>Country Name=India<br>Year=1999<br>GDP (current US$)=%{x}<br>CO2 Emissions (kt)=%{y}<br>Population, total=%{marker.size}<extra></extra>",
           "hovertext": [
            "India"
           ],
           "legendgroup": "India",
           "marker": {
            "color": "#ab63fa",
            "size": {
             "bdata": "AACAzwjxzkE=",
             "dtype": "f8"
            },
            "sizemode": "area",
            "sizeref": 399463.7766666667,
            "symbol": "circle"
           },
           "mode": "markers",
           "name": "India",
           "orientation": "v",
           "showlegend": true,
           "type": "scatter",
           "x": {
            "bdata": "j/Ixave0WkI=",
            "dtype": "f8"
           },
           "xaxis": "x",
           "y": {
            "bdata": "AAAAHgqizEE=",
            "dtype": "f8"
           },
           "yaxis": "y"
          },
          {
           "hovertemplate": "<b>%{hovertext}</b><br><br>Country Name=United States<br>Year=1999<br>GDP (current US$)=%{x}<br>CO2 Emissions (kt)=%{y}<br>Population, total=%{marker.size}<extra></extra>",
           "hovertext": [
            "United States"
           ],
           "legendgroup": "United States",
           "marker": {
            "color": "#FFA15A",
            "size": {
             "bdata": "AAAAANChsEE=",
             "dtype": "f8"
            },
            "sizemode": "area",
            "sizeref": 399463.7766666667,
            "symbol": "circle"
           },
           "mode": "markers",
           "name": "United States",
           "orientation": "v",
           "showlegend": true,
           "type": "scatter",
           "x": {
            "bdata": "AADyK92EoUI=",
            "dtype": "f8"
           },
           "xaxis": "x",
           "y": {
            "bdata": "AAAAKwyf9UE=",
            "dtype": "f8"
           },
           "yaxis": "y"
          }
         ],
         "name": "1999"
        },
        {
         "data": [
          {
           "hovertemplate": "<b>%{hovertext}</b><br><br>Country Name=Brazil<br>Year=2000<br>GDP (current US$)=%{x}<br>CO2 Emissions (kt)=%{y}<br>Population, total=%{marker.size}<extra></extra>",
           "hovertext": [
            "Brazil"
           ],
           "legendgroup": "Brazil",
           "marker": {
            "color": "#636efa",
            "size": {
             "bdata": "AAAA1J2+pEE=",
             "dtype": "f8"
            },
            "sizemode": "area",
            "sizeref": 399463.7766666667,
            "symbol": "circle"
           },
           "mode": "markers",
           "name": "Brazil",
           "orientation": "v",
           "showlegend": true,
           "type": "scatter",
           "x": {
            "bdata": "3fAFSngTY0I=",
            "dtype": "f8"
           },
           "xaxis": "x",
           "y": {
            "bdata": "AAAA2MdGtEE=",
            "dtype": "f8"
           },
           "yaxis": "y"
          },
          {
           "hovertemplate": "<b>%{hovertext}</b><br><br>Country Name=China<br>Year=2000<br>GDP (current US$)=%{x}<br>CO2 Emissions (kt)=%{y}<br>Population, total=%{marker.size}<extra></extra>",
           "hovertext": [
            "China"
           ],
           "legendgroup": "China",
           "marker": {
            "color": "#EF553B",
            "size": {
             "bdata": "AAAAwpvQ0kE=",
             "dtype": "f8"
            },
            "sizemode": "area",
            "sizeref": 399463.7766666667,
            "symbol": "circle"
           },
           "mode": "markers",
           "name": "China",
           "orientation": "v",
           "showlegend": true,
           "type": "scatter",
           "x": {
            "bdata": "caGR4o+gcUI=",
            "dtype": "f8"
           },
           "xaxis": "x",
           "y": {
            "bdata": "AACA4Fgw60E=",
            "dtype": "f8"
           },
           "yaxis": "y"
          },
          {
           "hovertemplate": "<b>%{hovertext}</b><br><br>Country Name=Germany<br>Year=2000<br>GDP (current US$)=%{x}<br>CO2 Emissions (kt)=%{y}<br>Population, total=%{marker.size}<extra></extra>",
           "hovertext": [
            "Germany"
           ],
           "legendgroup": "Germany",
           "marker": {
            "color": "#00cc96",
            "size": {
             "bdata": "AAAA0MqZk0E=",
             "dtype": "f8"
            },
            "sizemode": "area",
            "sizeref": 399463.7766666667,
            "symbol": "circle"
           },
           "mode": "markers",
           "name": "Germany",
           "orientation": "v",
           "showlegend": true,
           "type": "scatter",
           "x": {
            "bdata": "mpG9+ZKffEI=",
            "dtype": "f8"
           },
           "xaxis": "x",
           "y": {
            "bdata": "AAAA/qPKykE=",
            "dtype": "f8"
           },
           "yaxis": "y"
          },
          {
           "hovertemplate": "<b>%{hovertext}</b><br><br>Country Name=India<br>Year=2000<br>GDP (current US$)=%{x}<br>CO2 Emissions (kt)=%{y}<br>Population, total=%{marker.size}<extra></extra>",
           "hovertext": [
            "India"
           ],
           "legendgroup": "India",
           "marker": {
            "color": "#ab63fa",
            "size": {
             "bdata": "AACAVk+Hz0E=",
             "dtype": "f8"
            },
            "sizemode": "area",
            "sizeref": 399463.7766666667,
            "symbol": "circle"
           },
           "mode": "markers",
           "name": "India",
           "orientation": "v",
           "showlegend": true,
           "type": "scatter",
           "x": {
            "bdata": "UJ2dHaNDW0I=",
            "dtype": "f8"
           },
           "xaxis": "x",
           "y": {
            "bdata": "AAAAzvllzUE=",
            "dtype": "f8"
           },
           "yaxis": "y"
          },
          {
           "hovertemplate": "<b>%{hovertext}</b><br><br>Country Name=United States<br>Year=2000<br>GDP (current US$)=%{x}<br>CO2 Emissions (kt)=%{y}<br>Population, total=%{marker.size}<extra></extra>",
           "hovertext": [
            "United States"
           ],
           "legendgroup": "United States",
           "marker": {
            "color": "#FFA15A",
            "size": {
             "bdata": "AAAA63TRsEE=",
             "dtype": "f8"
            },
            "sizemode": "area",
            "sizeref": 399463.7766666667,
            "symbol": "circle"
           },
           "mode": "markers",
           "name": "United States",
           "orientation": "v",
           "showlegend": true,
           "type": "scatter",
           "x": {
            "bdata": "AACEtHilokI=",
            "dtype": "f8"
           },
           "xaxis": "x",
           "y": {
            "bdata": "AAAAQ7Zj9kE=",
            "dtype": "f8"
           },
           "yaxis": "y"
          }
         ],
         "name": "2000"
        },
        {
         "data": [
          {
           "hovertemplate": "<b>%{hovertext}</b><br><br>Country Name=Brazil<br>Year=2001<br>GDP (current US$)=%{x}<br>CO2 Emissions (kt)=%{y}<br>Population, total=%{marker.size}<extra></extra>",
           "hovertext": [
            "Brazil"
           ],
           "legendgroup": "Brazil",
           "marker": {
            "color": "#636efa",
            "size": {
             "bdata": "AAAAJkkEpUE=",
             "dtype": "f8"
            },
            "sizemode": "area",
            "sizeref": 399463.7766666667,
            "symbol": "circle"
           },
           "mode": "markers",
           "name": "Brazil",
           "orientation": "v",
           "showlegend": true,
           "type": "scatter",
           "x": {
            "bdata": "ZN8tBTRMYEI=",
            "dtype": "f8"
           },
           "xaxis": "x",
           "y": {
            "bdata": "AAAA3BKitEE=",
            "dtype": "f8"
           },
           "yaxis": "y"
          },
          {
           "hovertemplate": "<b>%{hovertext}</b><br><br>Country Name=China<br>Year=2001<br>GDP (current US$)=%{x}<br>CO2 Emissions (kt)=%{y}<br>Population, total=%{marker.size}<extra></extra>",
           "hovertext": [
            "China"
           ],
           "legendgroup": "China",
           "marker": {
            "color": "#EF553B",
            "size": {
             "bdata": "AAAABLnz0kE=",
             "dtype": "f8"
            },
            "sizemode": "area",
            "sizeref": 399463.7766666667,
            "symbol": "circle"
           },
           "mode": "markers",
           "name": "China",
           "orientation": "v",
           "showlegend": true,
           "type": "scatter",
           "x": {
            "bdata": "wxElPKh9c0I=",
            "dtype": "f8"
           },
           "xaxis": "x",
           "y": {
            "bdata": "AACAYJHH60E=",
            "dtype": "f8"
           },
           "yaxis": "y"
          },
          {
           "hovertemplate": "<b>%{hovertext}</b><br><br>Country Name=Germany<br>Year=2001<br>GDP (current US$)=%{x}<br>CO2 Emissions (kt)=%{y}<br>Population, total=%{marker.size}<extra></extra>",
           "hovertext": [
            "Germany"
           ],
           "legendgroup": "Germany",
           "marker": {
            "color": "#00cc96",
            "size": {
             "bdata": "AAAAlD2ik0E=",
             "dtype": "f8"
            },
            "sizemode": "area",
            "sizeref": 399463.7766666667,
            "symbol": "circle"
           },
           "mode": "markers",
           "name": "Germany",
           "orientation": "v",
           "showlegend": true,
           "type": "scatter",
           "x": {
            "bdata": "rhuUh1edfEI=",
            "dtype": "f8"
           },
           "xaxis": "x",
           "y": {
            "bdata": "AAAACNdGy0E=",
            "dtype": "f8"
           },
           "yaxis": "y"
          },
          {
           "hovertemplate": "<b>%{hovertext}</b><br><br>Country Name=India<br>Year=2001<br>GDP (current US$)=%{x}<br>CO2 Emissions (kt)=%{y}<br>Population, total=%{marker.size}<extra></extra>",
           "hovertext": [
            "India"
           ],
           "legendgroup": "India",
           "marker": {
            "color": "#ab63fa",
            "size": {
             "bdata": "AADAU9sP0EE=",
             "dtype": "f8"
            },
            "sizemode": "area",
            "sizeref": 399463.7766666667,
            "symbol": "circle"
           },
           "mode": "markers",
           "name": "India",
           "orientation": "v",
           "showlegend": true,
           "type": "scatter",
           "x": {
            "bdata": "8grxK59BXEI=",
            "dtype": "f8"
           },
           "xaxis": "x",
           "y": {
            "bdata": "AAAAtmnRzUE=",
            "dtype": "f8"
           },
           "yaxis": "y"
          },
          {
           "hovertemplate": "<b>%{hovertext}</b><br><br>Country Name=United States<br>Year=2001<br>GDP (current US$)=%{x}<br>CO2 Emissions (kt)=%{y}<br>Population, total=%{marker.size}<extra></extra>",
           "hovertext": [
            "United States"
           ],
           "legendgroup": "United States",
           "marker": {
            "color": "#FFA15A",
            "size": {
             "bdata": "AAAA+0f8sEE=",
             "dtype": "f8"
            },
            "sizemode": "area",
            "sizeref": 399463.7766666667,
            "symbol": "circle"
           },
           "mode": "markers",
           "name": "United States",
           "orientation": "v",
           "showlegend": true,
           "type": "scatter",
           "x": {
            "bdata": "AID4PJg/o0I=",
            "dtype": "f8"
           },
           "xaxis": "x",
           "y": {
            "bdata": "AAAAPQ8C9kE=",
            "dtype": "f8"
           },
           "yaxis": "y"
          }
         ],
         "name": "2001"
        },
        {
         "data": [
          {
           "hovertemplate": "<b>%{hovertext}</b><br><br>Country Name=Brazil<br>Year=2002<br>GDP (current US$)=%{x}<br>CO2 Emissions (kt)=%{y}<br>Population, total=%{marker.size}<extra></extra>",
           "hovertext": [
            "Brazil"
           ],
           "legendgroup": "Brazil",
           "marker": {
            "color": "#636efa",
            "size": {
             "bdata": "AAAAeH5HpUE=",
             "dtype": "f8"
            },
            "sizemode": "area",
            "sizeref": 399463.7766666667,
            "symbol": "circle"
           },
           "mode": "markers",
           "name": "Brazil",
           "orientation": "v",
           "showlegend": true,
           "type": "scatter",
           "x": {
            "bdata": "w60To4qsXUI=",
            "dtype": "f8"
           },
           "xaxis": "x",
           "y": {
            "bdata": "AAAAHHm6tEE=",
            "dtype": "f8"
           },
           "yaxis": "y"
          },
          {
           "hovertemplate": "<b>%{hovertext}</b><br><br>Country Name=China<br>Year=2002<br>GDP (current US$)=%{x}<br>CO2 Emissions (kt)=%{y}<br>Population, total=%{marker.size}<extra></extra>",
           "hovertext": [
            "China"
           ],
           "legendgroup": "China",
           "marker": {
            "color": "#EF553B",
            "size": {
             "bdata": "AAAAoFYU00E=",
             "dtype": "f8"
            },
            "sizemode": "area",
            "sizeref": 399463.7766666667,
            "symbol": "circle"
           },
           "mode": "markers",
           "name": "China",
           "orientation": "v",
           "showlegend": true,
           "type": "scatter",
           "x": {
            "bdata": "M//wEEFmdUI=",
            "dtype": "f8"
           },
           "xaxis": "x",
           "y": {
            "bdata": "AAAAoPCR7kE=",
            "dtype": "f8"
           },
           "yaxis": "y"
          },
          {
           "hovertemplate": "<b>%{hovertext}</b><br><br>Country Name=Germany<br>Year=2002<br>GDP (current US$)=%{x}<br>CO2 Emissions (kt)=%{y}<br>Population, total=%{marker.size}<extra></extra>",
           "hovertext": [
            "Germany"
           ],
           "legendgroup": "Germany",
           "marker": {
            "color": "#00cc96",
            "size": {
             "bdata": "AAAAvLKqk0E=",
             "dtype": "f8"
            },
            "sizemode": "area",
            "sizeref": 399463.7766666667,
            "symbol": "circle"
           },
           "mode": "markers",
           "name": "Germany",
           "orientation": "v",
           "showlegend": true,
           "type": "scatter",
           "x": {
            "bdata": "PR7e9d2XfkI=",
            "dtype": "f8"
           },
           "xaxis": "x",
           "y": {
            "bdata": "AAAAvo/JykE=",
            "dtype": "f8"
           },
           "yaxis": "y"
          },
          {
           "hovertemplate": "<b>%{hovertext}</b><br><br>Country Name=India<br>Year=2002<br>GDP (current US$)=%{x}<br>CO2 Emissions (kt)=%{y}<br>Population, total=%{marker.size}<extra></extra>",
           "hovertext": [
            "India"
           ],
           "legendgroup": "India",
           "marker": {
            "color": "#ab63fa",
            "size": {
             "bdata": "AAAAXwNb0EE=",
             "dtype": "f8"
            },
            "sizemode": "area",
            "sizeref": 399463.7766666667,
            "symbol": "circle"
           },
           "mode": "markers",
           "name": "India",
           "orientation": "v",
           "showlegend": true,
           "type": "scatter",
           "x": {
            "bdata": "YrA37jD5XUI=",
            "dtype": "f8"
           },
           "xaxis": "x",
           "y": {
            "bdata": "AAAADJrCzkE=",
            "dtype": "f8"
           },
           "yaxis": "y"
          },
          {
           "hovertemplate": "<b>%{hovertext}</b><br><br>Country Name=United States<br>Year=2002<br>GDP (current US$)=%{x}<br>CO2 Emissions (kt)=%{y}<br>Population, total=%{marker.size}<extra></extra>",
           "hovertext": [
            "United States"
           ],
           "legendgroup": "United States",
           "marker": {
            "color": "#FFA15A",
            "size": {
             "bdata": "AAAA6c8ksUE=",
             "dtype": "f8"
            },
            "sizemode": "area",
            "sizeref": 399463.7766666667,
            "symbol": "circle"
           },
           "mode": "markers",
           "name": "United States",
           "orientation": "v",
           "showlegend": true,
           "type": "scatter",
           "x": {
            "bdata": "AAA6M0Pho0I=",
            "dtype": "f8"
           },
           "xaxis": "x",
           "y": {
            "bdata": "AAAAWtcm9kE=",
            "dtype": "f8"
           },
           "yaxis": "y"
          }
         ],
         "name": "2002"
        },
        {
         "data": [
          {
           "hovertemplate": "<b>%{hovertext}</b><br><br>Country Name=Brazil<br>Year=2003<br>GDP (current US$)=%{x}<br>CO2 Emissions (kt)=%{y}<br>Population, total=%{marker.size}<extra></extra>",
           "hovertext": [
            "Brazil"
           ],
           "legendgroup": "Brazil",
           "marker": {
            "color": "#636efa",
            "size": {
             "bdata": "AAAAwCqIpUE=",
             "dtype": "f8"
            },
            "sizemode": "area",
            "sizeref": 399463.7766666667,
            "symbol": "circle"
           },
           "mode": "markers",
           "name": "Brazil",
           "orientation": "v",
           "showlegend": true,
           "type": "scatter",
           "x": {
            "bdata": "+HseXyo/YEI=",
            "dtype": "f8"
           },
           "xaxis": "x",
           "y": {
            "bdata": "AAAAiN2KtEE=",
            "dtype": "f8"
           },
           "yaxis": "y"
          },
          {
           "hovertemplate": "<b>%{hovertext}</b><br><br>Country Name=China<br>Year=2003<br>GDP (current US$)=%{x}<br>CO2 Emissions (kt)=%{y}<br>Population, total=%{marker.size}<extra></extra>",
           "hovertext": [
            "China"
           ],
           "legendgroup": "China",
           "marker": {
            "color": "#EF553B",
            "size": {
             "bdata": "AAAAINsy00E=",
             "dtype": "f8"
            },
            "sizemode": "area",
            "sizeref": 399463.7766666667,
            "symbol": "circle"
           },
           "mode": "markers",
           "name": "China",
           "orientation": "v",
           "showlegend": true,
           "type": "scatter",
           "x": {
            "bdata": "pGym6QYpeEI=",
            "dtype": "f8"
           },
           "xaxis": "x",
           "y": {
            "bdata": "AADAvtkI8kE=",
            "dtype": "f8"
           },
           "yaxis": "y"
          },
          {
           "hovertemplate": "<b>%{hovertext}</b><br><br>Country Name=Germany<br>Year=2003<br>GDP (current US$)=%{x}<br>CO2 Emissions (kt)=%{y}<br>Population, total=%{marker.size}<extra></extra>",
           "hovertext": [
            "Germany"
           ],
           "legendgroup": "Germany",
           "marker": {
            "color": "#00cc96",
            "size": {
             "bdata": "AAAAgHytk0E=",
             "dtype": "f8"
            },
            "sizemode": "area",
            "sizeref": 399463.7766666667,
            "symbol": "circle"
           },
           "mode": "markers",
           "name": "Germany",
           "orientation": "v",
           "showlegend": true,
           "type": "scatter",
           "x": {
            "bdata": "FGhsi0ZxgkI=",
            "dtype": "f8"
           },
           "xaxis": "x",
           "y": {
            "bdata": "AAAAYoCoykE=",
            "dtype": "f8"
           },
           "yaxis": "y"
          },
          {
           "hovertemplate": "<b>%{hovertext}</b><br><br>Country Name=India<br>Year=2003<br>GDP (current US$)=%{x}<br>CO2 Emissions (kt)=%{y}<br>Population, total=%{marker.size}<extra></extra>",
           "hovertext": [
            "India"
           ],
           "legendgroup": "India",
           "marker": {
            "color": "#ab63fa",
            "size": {
             "bdata": "AACA70Ok0EE=",
             "dtype": "f8"
            },
            "sizemode": "area",
            "sizeref": 399463.7766666667,
            "symbol": "circle"
           },
           "mode": "markers",
           "name": "India",
           "orientation": "v",
           "showlegend": true,
           "type": "scatter",
           "x": {
            "bdata": "LaowE7mvYUI=",
            "dtype": "f8"
           },
           "xaxis": "x",
           "y": {
            "bdata": "AAAAwC/Sz0E=",
            "dtype": "f8"
           },
           "yaxis": "y"
          },
          {
           "hovertemplate": "<b>%{hovertext}</b><br><br>Country Name=United States<br>Year=2003<br>GDP (current US$)=%{x}<br>CO2 Emissions (kt)=%{y}<br>Population, total=%{marker.size}<extra></extra>",
           "hovertext": [
            "United States"
           ],
           "legendgroup": "United States",
           "marker": {
            "color": "#FFA15A",
            "size": {
             "bdata": "AAAAHbJKsUE=",
             "dtype": "f8"
            },
            "sizemode": "area",
            "sizeref": 399463.7766666667,
            "symbol": "circle"
           },
           "mode": "markers",
           "name": "United States",
           "orientation": "v",
           "showlegend": true,
           "type": "scatter",
           "x": {
            "bdata": "AADpQ9PWpEI=",
            "dtype": "f8"
           },
           "xaxis": "x",
           "y": {
            "bdata": "AABAobhj9kE=",
            "dtype": "f8"
           },
           "yaxis": "y"
          }
         ],
         "name": "2003"
        },
        {
         "data": [
          {
           "hovertemplate": "<b>%{hovertext}</b><br><br>Country Name=Brazil<br>Year=2004<br>GDP (current US$)=%{x}<br>CO2 Emissions (kt)=%{y}<br>Population, total=%{marker.size}<extra></extra>",
           "hovertext": [
            "Brazil"
           ],
           "legendgroup": "Brazil",
           "marker": {
            "color": "#636efa",
            "size": {
             "bdata": "AAAAjs3GpUE=",
             "dtype": "f8"
            },
            "sizemode": "area",
            "sizeref": 399463.7766666667,
            "symbol": "circle"
           },
           "mode": "markers",
           "name": "Brazil",
           "orientation": "v",
           "showlegend": true,
           "type": "scatter",
           "x": {
            "bdata": "08n0RJh6Y0I=",
            "dtype": "f8"
           },
           "xaxis": "x",
           "y": {
            "bdata": "AAAAkAuLtUE=",
            "dtype": "f8"
           },
           "yaxis": "y"
          },
          {
           "hovertemplate": "<b>%{hovertext}</b><br><br>Country Name=China<br>Year=2004<br>GDP (current US$)=%{x}<br>CO2 Emissions (kt)=%{y}<br>Population, total=%{marker.size}<extra></extra>",
           "hovertext": [
            "China"
           ],
           "legendgroup": "China",
           "marker": {
            "color": "#EF553B",
            "size": {
             "bdata": "AAAAPiJQ00E=",
             "dtype": "f8"
            },
            "sizemode": "area",
            "sizeref": 399463.7766666667,
            "symbol": "circle"
           },
           "mode": "markers",
           "name": "China",
           "orientation": "v",
           "showlegend": true,
           "type": "scatter",
           "x": {
            "bdata": "PRY1/jt0fEI=",
            "dtype": "f8"
           },
           "xaxis": "x",
           "y": {
            "bdata": "AACAVadv80E=",
            "dtype": "f8"
           },
           "yaxis": "y"
          },
          {
           "hovertemplate": "<b>%{hovertext}</b><br><br>Country Name=Germany<br>Year=2004<br>GDP (current US$)=%{x}<br>CO2 Emissions (kt)=%{y}<br>Population, total=%{marker.size}<extra></extra>",
           "hovertext": [
            "Germany"
           ],
           "legendgroup": "Germany",
           "marker": {
            "color": "#00cc96",
            "size": {
             "bdata": "AAAAkGSsk0E=",
             "dtype": "f8"
            },
            "sizemode": "area",
            "sizeref": 399463.7766666667,
            "symbol": "circle"
           },
           "mode": "markers",
           "name": "Germany",
           "orientation": "v",
           "showlegend": true,
           "type": "scatter",
           "x": {
            "bdata": "Pe5LGdvAhEI=",
            "dtype": "f8"
           },
           "xaxis": "x",
           "y": {
            "bdata": "AAAAgrIfykE=",
            "dtype": "f8"
           },
           "yaxis": "y"
          },
          {
           "hovertemplate": "<b>%{hovertext}</b><br><br>Country Name=India<br>Year=2004<br>GDP (current US$)=%{x}<br>CO2 Emissions (kt)=%{y}<br>Population, total=%{marker.size}<extra></extra>",
           "hovertext": [
            "India"
           ],
           "legendgroup": "India",
           "marker": {
            "color": "#ab63fa",
            "size": {
             "bdata": "AABAtnbt0EE=",
             "dtype": "f8"
            },
            "sizemode": "area",
            "sizeref": 399463.7766666667,
            "symbol": "circle"
           },
           "mode": "markers",
           "name": "India",
           "orientation": "v",
           "showlegend": true,
           "type": "scatter",
           "x": {
            "bdata": "zdjffJmjZEI=",
            "dtype": "f8"
           },
           "xaxis": "x",
           "y": {
            "bdata": "AAAAhDXl0EE=",
            "dtype": "f8"
           },
           "yaxis": "y"
          },
          {
           "hovertemplate": "<b>%{hovertext}</b><br><br>Country Name=United States<br>Year=2004<br>GDP (current US$)=%{x}<br>CO2 Emissions (kt)=%{y}<br>Population, total=%{marker.size}<extra></extra>",
           "hovertext": [
            "United States"
           ],
           "legendgroup": "United States",
           "marker": {
            "color": "#FFA15A",
            "size": {
             "bdata": "AAAAstpzsUE=",
             "dtype": "f8"
            },
            "sizemode": "area",
            "sizeref": 399463.7766666667,
            "symbol": "circle"
           },
           "mode": "markers",
           "name": "United States",
           "orientation": "v",
           "showlegend": true,
           "type": "scatter",
           "x": {
            "bdata": "AABmQRM5pkI=",
            "dtype": "f8"
           },
           "xaxis": "x",
           "y": {
            "bdata": "AACAaXvF9kE=",
            "dtype": "f8"
           },
           "yaxis": "y"
          }
         ],
         "name": "2004"
        },
        {
         "data": [
          {
           "hovertemplate": "<b>%{hovertext}</b><br><br>Country Name=Brazil<br>Year=2005<br>GDP (current US$)=%{x}<br>CO2 Emissions (kt)=%{y}<br>Population, total=%{marker.size}<extra></extra>",
           "hovertext": [
            "Brazil"
           ],
           "legendgroup": "Brazil",
           "marker": {
            "color": "#636efa",
            "size": {
             "bdata": "AAAAyjsEpkE=",
             "dtype": "f8"
            },
            "sizemode": "area",
            "sizeref": 399463.7766666667,
            "symbol": "circle"
           },
           "mode": "markers",
           "name": "Brazil",
           "orientation": "v",
           "showlegend": true,
           "type": "scatter",
           "x": {
            "bdata": "XKPdlTDzaUI=",
            "dtype": "f8"
           },
           "xaxis": "x",
           "y": {
            "bdata": "AAAAONy3tUE=",
            "dtype": "f8"
           },
           "yaxis": "y"
          },
          {
           "hovertemplate": "<b>%{hovertext}</b><br><br>Country Name=China<br>Year=2005<br>GDP (current US$)=%{x}<br>CO2 Emissions (kt)=%{y}<br>Population, total=%{marker.size}<extra></extra>",
           "hovertext": [
            "China"
           ],
           "legendgroup": "China",
           "marker": {
            "color": "#EF553B",
            "size": {
             "bdata": "AAAAEExt00E=",
             "dtype": "f8"
            },
            "sizemode": "area",
            "sizeref": 399463.7766666667,
            "symbol": "circle"
           },
           "mode": "markers",
           "name": "China",
           "orientation": "v",
           "showlegend": true,
           "type": "scatter",
           "x": {
            "bdata": "zb7tN++hgEI=",
            "dtype": "f8"
           },
           "xaxis": "x",
           "y": {
            "bdata": "AAAAIp3p9UE=",
            "dtype": "f8"
           },
           "yaxis": "y"
          },
          {
           "hovertemplate": "<b>%{hovertext}</b><br><br>Country Name=Germany<br>Year=2005<br>GDP (current US$)=%{x}<br>CO2 Emissions (kt)=%{y}<br>Population, total=%{marker.size}<extra></extra>",
           "hovertext": [
            "Germany"
           ],
           "legendgroup": "Germany",
           "marker": {
            "color": "#00cc96",
            "size": {
             "bdata": "AAAAuIipk0E=",
             "dtype": "f8"
            },
            "sizemode": "area",
            "sizeref": 399463.7766666667,
            "symbol": "circle"
           },
           "mode": "markers",
           "name": "Germany",
           "orientation": "v",
           "showlegend": true,
           "type": "scatter",
           "x": {
            "bdata": "9g6RYl0NhUI=",
            "dtype": "f8"
           },
           "xaxis": "x",
           "y": {
            "bdata": "AAAATGfdyUE=",
            "dtype": "f8"
           },
           "yaxis": "y"
          },
          {
           "hovertemplate": "<b>%{hovertext}</b><br><br>Country Name=India<br>Year=2005<br>GDP (current US$)=%{x}<br>CO2 Emissions (kt)=%{y}<br>Population, total=%{marker.size}<extra></extra>",
           "hovertext": [
            "India"
           ],
           "legendgroup": "India",
           "marker": {
            "color": "#ab63fa",
            "size": {
             "bdata": "AACAmL000UE=",
             "dtype": "f8"
            },
            "sizemode": "area",
            "sizeref": 399463.7766666667,
            "symbol": "circle"
           },
           "mode": "markers",
           "name": "India",
           "orientation": "v",
           "showlegend": true,
           "type": "scatter",
           "x": {
            "bdata": "Pe6G2VXgZ0I=",
            "dtype": "f8"
           },
           "xaxis": "x",
           "y": {
            "bdata": "AAAAJALN0UE=",
            "dtype": "f8"
           },
           "yaxis": "y"
          },
          {
           "hovertemplate": "<b>%{hovertext}</b><br><br>Country Name=United States<br>Year=2005<br>GDP (current US$)=%{x}<br>CO2 Emissions (kt)=%{y}<br>Population, total=%{marker.size}<extra></extra>",
           "hovertext": [
            "United States"
           ],
           "legendgroup": "United States",
           "marker": {
            "color": "#FFA15A",
            "size": {
             "bdata": "AAAAtzmdsUE=",
             "dtype": "f8"
            },
            "sizemode": "area",
            "sizeref": 399463.7766666667,
            "symbol": "circle"
           },
           "mode": "markers",
           "name": "United States",
           "orientation": "v",
           "showlegend": true,
           "type": "scatter",
           "x": {
            "bdata": "AIAiadm3p0I=",
            "dtype": "f8"
           },
           "xaxis": "x",
           "y": {
            "bdata": "AACA/RrY9kE=",
            "dtype": "f8"
           },
           "yaxis": "y"
          }
         ],
         "name": "2005"
        },
        {
         "data": [
          {
           "hovertemplate": "<b>%{hovertext}</b><br><br>Country Name=Brazil<br>Year=2006<br>GDP (current US$)=%{x}<br>CO2 Emissions (kt)=%{y}<br>Population, total=%{marker.size}<extra></extra>",
           "hovertext": [
            "Brazil"
           ],
           "legendgroup": "Brazil",
           "marker": {
            "color": "#636efa",
            "size": {
             "bdata": "AAAAZDNApkE=",
             "dtype": "f8"
            },
            "sizemode": "area",
            "sizeref": 399463.7766666667,
            "symbol": "circle"
           },
           "mode": "markers",
           "name": "Brazil",
           "orientation": "v",
           "showlegend": true,
           "type": "scatter",
           "x": {
            "bdata": "1+so/DoecEI=",
            "dtype": "f8"
           },
           "xaxis": "x",
           "y": {
            "bdata": "AAAAWIb8tUE=",
            "dtype": "f8"
           },
           "yaxis": "y"
          },
          {
           "hovertemplate": "<b>%{hovertext}</b><br><br>Country Name=China<br>Year=2006<br>GDP (current US$)=%{x}<br>CO2 Emissions (kt)=%{y}<br>Population, total=%{marker.size}<extra></extra>",
           "hovertext": [
            "China"
           ],
           "legendgroup": "China",
           "marker": {
            "color": "#EF553B",
            "size": {
             "bdata": "AAAA+CSJ00E=",
             "dtype": "f8"
            },
            "sizemode": "area",
            "sizeref": 399463.7766666667,
            "symbol": "circle"
           },
           "mode": "markers",
           "name": "China",
           "orientation": "v",
           "showlegend": true,
           "type": "scatter",
           "x": {
            "bdata": "KQCFcDgGhEI=",
            "dtype": "f8"
           },
           "xaxis": "x",
           "y": {
            "bdata": "AAAA4nkx+EE=",
            "dtype": "f8"
           },
           "yaxis": "y"
          },
          {
           "hovertemplate": "<b>%{hovertext}</b><br><br>Country Name=Germany<br>Year=2006<br>GDP (current US$)=%{x}<br>CO2 Emissions (kt)=%{y}<br>Population, total=%{marker.size}<extra></extra>",
           "hovertext": [
            "Germany"
           ],
           "legendgroup": "Germany",
           "marker": {
            "color": "#00cc96",
            "size": {
             "bdata": "AAAADNyjk0E=",
             "dtype": "f8"
            },
            "sizemode": "area",
            "sizeref": 399463.7766666667,
            "symbol": "circle"
           },
           "mode": "markers",
           "name": "Germany",
           "orientation": "v",
           "showlegend": true,
           "type": "scatter",
           "x": {
            "bdata": "pDSINTEqhkI=",
            "dtype": "f8"
           },
           "xaxis": "x",
           "y": {
            "bdata": "AAAA/vRqykE=",
            "dtype": "f8"
           },
           "yaxis": "y"
          },
          {
           "hovertemplate": "<b>%{hovertext}</b><br><br>Country Name=India<br>Year=2006<br>GDP (current US$)=%{x}<br>CO2 Emissions (kt)=%{y}<br>Population, total=%{marker.size}<extra></extra>",
           "hovertext": [
            "India"
           ],
           "legendgroup": "India",
           "marker": {
            "color": "#ab63fa",
            "size": {
             "bdata": "AACAii160UE=",
             "dtype": "f8"
            },
            "sizemode": "area",
            "sizeref": 399463.7766666667,
            "symbol": "circle"
           },
           "mode": "markers",
           "name": "India",
           "orientation": "v",
           "showlegend": true,
           "type": "scatter",
           "x": {
            "bdata": "EnfSaXtda0I=",
            "dtype": "f8"
           },
           "xaxis": "x",
           "y": {
            "bdata": "AAAA/m9C00E=",
            "dtype": "f8"
           },
           "yaxis": "y"
          },
          {
           "hovertemplate": "<b>%{hovertext}</b><br><br>Country Name=United States<br>Year=2006<br>GDP (current US$)=%{x}<br>CO2 Emissions (kt)=%{y}<br>Population, total=%{marker.size}<extra></extra>",
           "hovertext": [
            "United States"
           ],
           "legendgroup": "United States",
           "marker": {
            "color": "#FFA15A",
            "size": {
             "bdata": "AAAAiOrIsUE=",
             "dtype": "f8"
            },
            "sizemode": "area",
            "sizeref": 399463.7766666667,
            "symbol": "circle"
           },
           "mode": "markers",
           "name": "United States",
           "orientation": "v",
           "showlegend": true,
           "type": "scatter",
           "x": {
            "bdata": "AICL1WEhqUI=",
            "dtype": "f8"
           },
           "xaxis": "x",
           "y": {
            "bdata": "AAAAi0qM9kE=",
            "dtype": "f8"
           },
           "yaxis": "y"
          }
         ],
         "name": "2006"
        },
        {
         "data": [
          {
           "hovertemplate": "<b>%{hovertext}</b><br><br>Country Name=Brazil<br>Year=2007<br>GDP (current US$)=%{x}<br>CO2 Emissions (kt)=%{y}<br>Population, total=%{marker.size}<extra></extra>",
           "hovertext": [
            "Brazil"
           ],
           "legendgroup": "Brazil",
           "marker": {
            "color": "#636efa",
            "size": {
             "bdata": "AAAAACl6pkE=",
             "dtype": "f8"
            },
            "sizemode": "area",
            "sizeref": 399463.7766666667,
            "symbol": "circle"
           },
           "mode": "markers",
           "name": "Brazil",
           "orientation": "v",
           "showlegend": true,
           "type": "scatter",
           "x": {
            "bdata": "FHbsM6hUdEI=",
            "dtype": "f8"
           },
           "xaxis": "x",
           "y": {
            "bdata": "AAAAyKtHt0E=",
            "dtype": "f8"
           },
           "yaxis": "y"
          },
          {
           "hovertemplate": "<b>%{hovertext}</b><br><br>Country Name=China<br>Year=2007<br>GDP (current US$)=%{x}<br>CO2 Emissions (kt)=%{y}<br>Population, total=%{marker.size}<extra></extra>",
           "hovertext": [
            "China"
           ],
           "legendgroup": "China",
           "marker": {
            "color": "#EF553B",
            "size": {
             "bdata": "AAAAElWj00E=",
             "dtype": "f8"
            },
            "sizemode": "area",
            "sizeref": 399463.7766666667,
            "symbol": "circle"
           },
           "mode": "markers",
           "name": "China",
           "orientation": "v",
           "showlegend": true,
           "type": "scatter",
           "x": {
            "bdata": "M7NjOADViUI=",
            "dtype": "f8"
           },
           "xaxis": "x",
           "y": {
            "bdata": "AACAoAcE+kE=",
            "dtype": "f8"
           },
           "yaxis": "y"
          },
          {
           "hovertemplate": "<b>%{hovertext}</b><br><br>Country Name=Germany<br>Year=2007<br>GDP (current US$)=%{x}<br>CO2 Emissions (kt)=%{y}<br>Population, total=%{marker.size}<extra></extra>",
           "hovertext": [
            "Germany"
           ],
           "legendgroup": "Germany",
           "marker": {
            "color": "#00cc96",
            "size": {
             "bdata": "AAAAECSdk0E=",
             "dtype": "f8"
            },
            "sizemode": "area",
            "sizeref": 399463.7766666667,
            "symbol": "circle"
           },
           "mode": "markers",
           "name": "Germany",
           "orientation": "v",
           "showlegend": true,
           "type": "scatter",
           "x": {
            "bdata": "SLfMr49ZiUI=",
            "dtype": "f8"
           },
           "xaxis": "x",
           "y": {
            "bdata": "AAAAoFo3yUE=",
            "dtype": "f8"
           },
           "yaxis": "y"
          },
          {
           "hovertemplate": "<b>%{hovertext}</b><br><br>Country Name=India<br>Year=2007<br>GDP (current US$)=%{x}<br>CO2 Emissions (kt)=%{y}<br>Population, total=%{marker.size}<extra></extra>",
           "hovertext": [
            "India"
           ],
           "legendgroup": "India",
           "marker": {
            "color": "#ab63fa",
            "size": {
             "bdata": "AABAjRG+0UE=",
             "dtype": "f8"
            },
            "sizemode": "area",
            "sizeref": 399463.7766666667,
            "symbol": "circle"
           },
           "mode": "markers",
           "name": "India",
           "orientation": "v",
           "showlegend": true,
           "type": "scatter",
           "x": {
            "bdata": "XC+jSrK0cUI=",
            "dtype": "f8"
           },
           "xaxis": "x",
           "y": {
            "bdata": "AAAAJP2/1EE=",
            "dtype": "f8"
           },
           "yaxis": "y"
          },
          {
           "hovertemplate": "<b>%{hovertext}</b><br><br>Country Name=United States<br>Year=2007<br>GDP (current US$)=%{x}<br>CO2 Emissions (kt)=%{y}<br>Population, total=%{marker.size}<extra></extra>",
           "hovertext": [
            "United States"
           ],
           "legendgroup": "United States",
           "marker": {
            "color": "#FFA15A",
            "size": {
             "bdata": "AAAAZ2z0sUE=",
             "dtype": "f8"
            },
            "sizemode": "area",
            "sizeref": 399463.7766666667,
            "symbol": "circle"
           },
           "mode": "markers",
           "name": "United States",
           "orientation": "v",
           "showlegend": true,
           "type": "scatter",
           "x": {
            "bdata": "AADKbxZUqkI=",
            "dtype": "f8"
           },
           "xaxis": "x",
           "y": {
            "bdata": "AACADyTW9kE=",
            "dtype": "f8"
           },
           "yaxis": "y"
          }
         ],
         "name": "2007"
        },
        {
         "data": [
          {
           "hovertemplate": "<b>%{hovertext}</b><br><br>Country Name=Brazil<br>Year=2008<br>GDP (current US$)=%{x}<br>CO2 Emissions (kt)=%{y}<br>Population, total=%{marker.size}<extra></extra>",
           "hovertext": [
            "Brazil"
           ],
           "legendgroup": "Brazil",
           "marker": {
            "color": "#636efa",
            "size": {
             "bdata": "AAAAjIyxpkE=",
             "dtype": "f8"
            },
            "sizemode": "area",
            "sizeref": 399463.7766666667,
            "symbol": "circle"
           },
           "mode": "markers",
           "name": "Brazil",
           "orientation": "v",
           "showlegend": true,
           "type": "scatter",
           "x": {
            "bdata": "zQACcI2teEI=",
            "dtype": "f8"
           },
           "xaxis": "x",
           "y": {
            "bdata": "AAAAMFuYuEE=",
            "dtype": "f8"
           },
           "yaxis": "y"
          },
          {
           "hovertemplate": "<b>%{hovertext}</b><br><br>Country Name=China<br>Year=2008<br>GDP (current US$)=%{x}<br>CO2 Emissions (kt)=%{y}<br>Population, total=%{marker.size}<extra></extra>",
           "hovertext": [
            "China"
           ],
           "legendgroup": "China",
           "marker": {
            "color": "#EF553B",
            "size": {
             "bdata": "AAAAZii900E=",
             "dtype": "f8"
            },
            "sizemode": "area",
            "sizeref": 399463.7766666667,
            "symbol": "circle"
           },
           "mode": "markers",
           "name": "China",
           "orientation": "v",
           "showlegend": true,
           "type": "scatter",
           "x": {
            "bdata": "riaVP8+2kEI=",
            "dtype": "f8"
           },
           "xaxis": "x",
           "y": {
            "bdata": "AABAPfzx+0E=",
            "dtype": "f8"
           },
           "yaxis": "y"
          },
          {
           "hovertemplate": "<b>%{hovertext}</b><br><br>Country Name=Germany<br>Year=2008<br>GDP (current US$)=%{x}<br>CO2 Emissions (kt)=%{y}<br>Population, total=%{marker.size}<extra></extra>",
           "hovertext": [
            "Germany"
           ],
           "legendgroup": "Germany",
           "marker": {
            "color": "#00cc96",
            "size": {
             "bdata": "AAAARJqTk0E=",
             "dtype": "f8"
            },
            "sizemode": "area",
            "sizeref": 399463.7766666667,
            "symbol": "circle"
           },
           "mode": "markers",
           "name": "Germany",
           "orientation": "v",
           "showlegend": true,
           "type": "scatter",
           "x": {
            "bdata": "AET9s2q2i0I=",
            "dtype": "f8"
           },
           "xaxis": "x",
           "y": {
            "bdata": "AAAAVGWHyUE=",
            "dtype": "f8"
           },
           "yaxis": "y"
          },
          {
           "hovertemplate": "<b>%{hovertext}</b><br><br>Country Name=India<br>Year=2008<br>GDP (current US$)=%{x}<br>CO2 Emissions (kt)=%{y}<br>Population, total=%{marker.size}<extra></extra>",
           "hovertext": [
            "India"
           ],
           "legendgroup": "India",
           "marker": {
            "color": "#ab63fa",
            "size": {
             "bdata": "AAAAFeT/0UE=",
             "dtype": "f8"
            },
            "sizemode": "area",
            "sizeref": 399463.7766666667,
            "symbol": "circle"
           },
           "mode": "markers",
           "name": "India",
           "orientation": "v",
           "showlegend": true,
           "type": "scatter",
           "x": {
            "bdata": "uN6LgDtycUI=",
            "dtype": "f8"
           },
           "xaxis": "x",
           "y": {
            "bdata": "AAAAtsAx1kE=",
            "dtype": "f8"
           },
           "yaxis": "y"
          },
          {
           "hovertemplate": "<b>%{hovertext}</b><br><br>Country Name=United States<br>Year=2008<br>GDP (current US$)=%{x}<br>CO2 Emissions (kt)=%{y}<br>Population, total=%{marker.size}<extra></extra>",
           "hovertext": [
            "United States"
           ],
           "legendgroup": "United States",
           "marker": {
            "color": "#FFA15A",
            "size": {
             "bdata": "AAAADhsgskE=",
             "dtype": "f8"
            },
            "sizemode": "area",
            "sizeref": 399463.7766666667,
            "symbol": "circle"
           },
           "mode": "markers",
           "name": "United States",
           "orientation": "v",
           "showlegend": true,
           "type": "scatter",
           "x": {
            "bdata": "AAB7wcDdqkI=",
            "dtype": "f8"
           },
           "xaxis": "x",
           "y": {
            "bdata": "AACAwBgJ9kE=",
            "dtype": "f8"
           },
           "yaxis": "y"
          }
         ],
         "name": "2008"
        },
        {
         "data": [
          {
           "hovertemplate": "<b>%{hovertext}</b><br><br>Country Name=Brazil<br>Year=2009<br>GDP (current US$)=%{x}<br>CO2 Emissions (kt)=%{y}<br>Population, total=%{marker.size}<extra></extra>",
           "hovertext": [
            "Brazil"
           ],
           "legendgroup": "Brazil",
           "marker": {
            "color": "#636efa",
            "size": {
             "bdata": "AAAAntDlpkE=",
             "dtype": "f8"
            },
            "sizemode": "area",
            "sizeref": 399463.7766666667,
            "symbol": "circle"
           },
           "mode": "markers",
           "name": "Brazil",
           "orientation": "v",
           "showlegend": true,
           "type": "scatter",
           "x": {
            "bdata": "XJdpsAtCeEI=",
            "dtype": "f8"
           },
           "xaxis": "x",
           "y": {
            "bdata": "AAAAmH47t0E=",
            "dtype": "f8"
           },
           "yaxis": "y"
          },
          {
           "hovertemplate": "<b>%{hovertext}</b><br><br>Country Name=China<br>Year=2009<br>GDP (current US$)=%{x}<br>CO2 Emissions (kt)=%{y}<br>Population, total=%{marker.size}<extra></extra>",
           "hovertext": [
            "China"
           ],
           "legendgroup": "China",
           "marker": {
            "color": "#EF553B",
            "size": {
             "bdata": "AAAAmFrW00E=",
             "dtype": "f8"
            },
            "sizemode": "area",
            "sizeref": 399463.7766666667,
            "symbol": "circle"
           },
           "mode": "markers",
           "name": "China",
           "orientation": "v",
           "showlegend": true,
           "type": "scatter",
           "x": {
            "bdata": "1/To8lGPkkI=",
            "dtype": "f8"
           },
           "xaxis": "x",
           "y": {
            "bdata": "AAAAt4Rl/UE=",
            "dtype": "f8"
           },
           "yaxis": "y"
          },
          {
           "hovertemplate": "<b>%{hovertext}</b><br><br>Country Name=Germany<br>Year=2009<br>GDP (current US$)=%{x}<br>CO2 Emissions (kt)=%{y}<br>Population, total=%{marker.size}<extra></extra>",
           "hovertext": [
            "Germany"
           ],
           "legendgroup": "Germany",
           "marker": {
            "color": "#00cc96",
            "size": {
             "bdata": "AAAAjOuGk0E=",
             "dtype": "f8"
            },
            "sizemode": "area",
            "sizeref": 399463.7766666667,
            "symbol": "circle"
           },
           "mode": "markers",
           "name": "Germany",
           "orientation": "v",
           "showlegend": true,
           "type": "scatter",
           "x": {
            "bdata": "PfqjVaJRiUI=",
            "dtype": "f8"
           },
           "xaxis": "x",
           "y": {
            "bdata": "AAAAdtiKx0E=",
            "dtype": "f8"
           },
           "yaxis": "y"
          },
          {
           "hovertemplate": "<b>%{hovertext}</b><br><br>Country Name=India<br>Year=2009<br>GDP (current US$)=%{x}<br>CO2 Emissions (kt)=%{y}<br>Population, total=%{marker.size}<extra></extra>",
           "hovertext": [
            "India"
           ],
           "legendgroup": "India",
           "marker": {
            "color": "#ab63fa",
            "size": {
             "bdata": "AABAhAFD0kE=",
             "dtype": "f8"
            },
            "sizemode": "area",
            "sizeref": 399463.7766666667,
            "symbol": "circle"
           },
           "mode": "markers",
           "name": "India",
           "orientation": "v",
           "showlegend": true,
           "type": "scatter",
           "x": {
            "bdata": "Zi4mI+yGc0I=",
            "dtype": "f8"
           },
           "xaxis": "x",
           "y": {
            "bdata": "AAAA+x0G2EE=",
            "dtype": "f8"
           },
           "yaxis": "y"
          },
          {
           "hovertemplate": "<b>%{hovertext}</b><br><br>Country Name=United States<br>Year=2009<br>GDP (current US$)=%{x}<br>CO2 Emissions (kt)=%{y}<br>Population, total=%{marker.size}<extra></extra>",
           "hovertext": [
            "United States"
           ],
           "legendgroup": "United States",
           "marker": {
            "color": "#FFA15A",
            "size": {
             "bdata": "AAAASfZIskE=",
             "dtype": "f8"
            },
            "sizemode": "area",
            "sizeref": 399463.7766666667,
            "symbol": "circle"
           },
           "mode": "markers",
           "name": "United States",
           "orientation": "v",
           "showlegend": true,
           "type": "scatter",
           "x": {
            "bdata": "AIDFFOBVqkI=",
            "dtype": "f8"
           },
           "xaxis": "x",
           "y": {
            "bdata": "AADAv9Nq9EE=",
            "dtype": "f8"
           },
           "yaxis": "y"
          }
         ],
         "name": "2009"
        },
        {
         "data": [
          {
           "hovertemplate": "<b>%{hovertext}</b><br><br>Country Name=Brazil<br>Year=2010<br>GDP (current US$)=%{x}<br>CO2 Emissions (kt)=%{y}<br>Population, total=%{marker.size}<extra></extra>",
           "hovertext": [
            "Brazil"
           ],
           "legendgroup": "Brazil",
           "marker": {
            "color": "#636efa",
            "size": {
             "bdata": "AAAAUlAXp0E=",
             "dtype": "f8"
            },
            "sizemode": "area",
            "sizeref": 399463.7766666667,
            "symbol": "circle"
           },
           "mode": "markers",
           "name": "Brazil",
           "orientation": "v",
           "showlegend": true,
           "type": "scatter",
           "x": {
            "bdata": "1/HR6UcSgEI=",
            "dtype": "f8"
           },
           "xaxis": "x",
           "y": {
            "bdata": "AAAA3Pg9ukE=",
            "dtype": "f8"
           },
           "yaxis": "y"
          },
          {
           "hovertemplate": "<b>%{hovertext}</b><br><br>Country Name=China<br>Year=2010<br>GDP (current US$)=%{x}<br>CO2 Emissions (kt)=%{y}<br>Population, total=%{marker.size}<extra></extra>",
           "hovertext": [
            "China"
           ],
           "legendgroup": "China",
           "marker": {
            "color": "#EF553B",
            "size": {
             "bdata": "AAAAivDu00E=",
             "dtype": "f8"
            },
            "sizemode": "area",
            "sizeref": 399463.7766666667,
            "symbol": "circle"
           },
           "mode": "markers",
           "name": "China",
           "orientation": "v",
           "showlegend": true,
           "type": "scatter",
           "x": {
            "bdata": "9t1hmyMllkI=",
            "dtype": "f8"
           },
           "xaxis": "x",
           "y": {
            "bdata": "AAAAaJwOAEI=",
            "dtype": "f8"
           },
           "yaxis": "y"
          },
          {
           "hovertemplate": "<b>%{hovertext}</b><br><br>Country Name=Germany<br>Year=2010<br>GDP (current US$)=%{x}<br>CO2 Emissions (kt)=%{y}<br>Population, total=%{marker.size}<extra></extra>",
           "hovertext": [
            "Germany"
           ],
           "legendgroup": "Germany",
           "marker": {
            "color": "#00cc96",
            "size": {
             "bdata": "AAAAiER/k0E=",
             "dtype": "f8"
            },
            "sizemode": "area",
            "sizeref": 399463.7766666667,
            "symbol": "circle"
           },
           "mode": "markers",
           "name": "Germany",
           "orientation": "v",
           "showlegend": true,
           "type": "scatter",
           "x": {
            "bdata": "FMBy3PA7iUI=",
            "dtype": "f8"
           },
           "xaxis": "x",
           "y": {
            "bdata": "AAAAQhGjyEE=",
            "dtype": "f8"
           },
           "yaxis": "y"
          },
          {
           "hovertemplate": "<b>%{hovertext}</b><br><br>Country Name=India<br>Year=2010<br>GDP (current US$)=%{x}<br>CO2 Emissions (kt)=%{y}<br>Population, total=%{marker.size}<extra></extra>",
           "hovertext": [
            "India"
           ],
           "legendgroup": "India",
           "marker": {
            "color": "#ab63fa",
            "size": {
             "bdata": "AAAAd4GH0kE=",
             "dtype": "f8"
            },
            "sizemode": "area",
            "sizeref": 399463.7766666667,
            "symbol": "circle"
           },
           "mode": "markers",
           "name": "India",
           "orientation": "v",
           "showlegend": true,
           "type": "scatter",
           "x": {
            "bdata": "XM8vfCdieEI=",
            "dtype": "f8"
           },
           "xaxis": "x",
           "y": {
            "bdata": "AAAAnIj+2EE=",
            "dtype": "f8"
           },
           "yaxis": "y"
          },
          {
           "hovertemplate": "<b>%{hovertext}</b><br><br>Country Name=United States<br>Year=2010<br>GDP (current US$)=%{x}<br>CO2 Emissions (kt)=%{y}<br>Population, total=%{marker.size}<extra></extra>",
           "hovertext": [
            "United States"
           ],
           "legendgroup": "United States",
           "marker": {
            "color": "#FFA15A",
            "size": {
             "bdata": "AAAAJ/VvskE=",
             "dtype": "f8"
            },
            "sizemode": "area",
            "sizeref": 399463.7766666667,
            "symbol": "circle"
           },
           "mode": "markers",
           "name": "United States",
           "orientation": "v",
           "showlegend": true,
           "type": "scatter",
           "x": {
            "bdata": "AIAxJLlfq0I=",
            "dtype": "f8"
           },
           "xaxis": "x",
           "y": {
            "bdata": "AABAPpko9UE=",
            "dtype": "f8"
           },
           "yaxis": "y"
          }
         ],
         "name": "2010"
        },
        {
         "data": [
          {
           "hovertemplate": "<b>%{hovertext}</b><br><br>Country Name=Brazil<br>Year=2011<br>GDP (current US$)=%{x}<br>CO2 Emissions (kt)=%{y}<br>Population, total=%{marker.size}<extra></extra>",
           "hovertext": [
            "Brazil"
           ],
           "legendgroup": "Brazil",
           "marker": {
            "color": "#636efa",
            "size": {
             "bdata": "AAAA/J1Hp0E=",
             "dtype": "f8"
            },
            "sizemode": "area",
            "sizeref": 399463.7766666667,
            "symbol": "circle"
           },
           "mode": "markers",
           "name": "Brazil",
           "orientation": "v",
           "showlegend": true,
           "type": "scatter",
           "x": {
            "bdata": "w0vPf/gIg0I=",
            "dtype": "f8"
           },
           "xaxis": "x",
           "y": {
            "bdata": "AAAAIGmSu0E=",
            "dtype": "f8"
           },
           "yaxis": "y"
          },
          {
           "hovertemplate": "<b>%{hovertext}</b><br><br>Country Name=China<br>Year=2011<br>GDP (current US$)=%{x}<br>CO2 Emissions (kt)=%{y}<br>Population, total=%{marker.size}<extra></extra>",
           "hovertext": [
            "China"
           ],
           "legendgroup": "China",
           "marker": {
            "color": "#EF553B",
            "size": {
             "bdata": "AAAAvuYK1EE=",
             "dtype": "f8"
            },
            "sizemode": "area",
            "sizeref": 399463.7766666667,
            "symbol": "circle"
           },
           "mode": "markers",
           "name": "China",
           "orientation": "v",
           "showlegend": true,
           "type": "scatter",
           "x": {
            "bdata": "AEPwy+x4m0I=",
            "dtype": "f8"
           },
           "xaxis": "x",
           "y": {
            "bdata": "AAAAv17BAUI=",
            "dtype": "f8"
           },
           "yaxis": "y"
          },
          {
           "hovertemplate": "<b>%{hovertext}</b><br><br>Country Name=Germany<br>Year=2011<br>GDP (current US$)=%{x}<br>CO2 Emissions (kt)=%{y}<br>Population, total=%{marker.size}<extra></extra>",
           "hovertext": [
            "Germany"
           ],
           "legendgroup": "Germany",
           "marker": {
            "color": "#00cc96",
            "size": {
             "bdata": "AAAAnJgjk0E=",
             "dtype": "f8"
            },
            "sizemode": "area",
            "sizeref": 399463.7766666667,
            "symbol": "circle"
           },
           "mode": "markers",
           "name": "Germany",
           "orientation": "v",
           "showlegend": true,
           "type": "scatter",
           "x": {
            "bdata": "SAsCYkzUi0I=",
            "dtype": "f8"
           },
           "xaxis": "x",
           "y": {
            "bdata": "AAAABPT5x0E=",
            "dtype": "f8"
           },
           "yaxis": "y"
          },
          {
           "hovertemplate": "<b>%{hovertext}</b><br><br>Country Name=India<br>Year=2011<br>GDP (current US$)=%{x}<br>CO2 Emissions (kt)=%{y}<br>Population, total=%{marker.size}<extra></extra>",
           "hovertext": [
            "India"
           ],
           "legendgroup": "India",
           "marker": {
            "color": "#ab63fa",
            "size": {
             "bdata": "AACA/jDL0kE=",
             "dtype": "f8"
            },
            "sizemode": "area",
            "sizeref": 399463.7766666667,
            "symbol": "circle"
           },
           "mode": "markers",
           "name": "India",
           "orientation": "v",
           "showlegend": true,
           "type": "scatter",
           "x": {
            "bdata": "zWgotWWHekI=",
            "dtype": "f8"
           },
           "xaxis": "x",
           "y": {
            "bdata": "AAAA9NdL2kE=",
            "dtype": "f8"
           },
           "yaxis": "y"
          },
          {
           "hovertemplate": "<b>%{hovertext}</b><br><br>Country Name=United States<br>Year=2011<br>GDP (current US$)=%{x}<br>CO2 Emissions (kt)=%{y}<br>Population, total=%{marker.size}<extra></extra>",
           "hovertext": [
            "United States"
           ],
           "legendgroup": "United States",
           "marker": {
            "color": "#FFA15A",
            "size": {
             "bdata": "AAAA+WKSskE=",
             "dtype": "f8"
            },
            "sizemode": "area",
            "sizeref": 399463.7766666667,
            "symbol": "circle"
           },
           "mode": "markers",
           "name": "United States",
           "orientation": "v",
           "showlegend": true,
           "type": "scatter",
           "x": {
            "bdata": "AAAK+DBgrEI=",
            "dtype": "f8"
           },
           "xaxis": "x",
           "y": {
            "bdata": "AAAAOjCp9EE=",
            "dtype": "f8"
           },
           "yaxis": "y"
          }
         ],
         "name": "2011"
        },
        {
         "data": [
          {
           "hovertemplate": "<b>%{hovertext}</b><br><br>Country Name=Brazil<br>Year=2012<br>GDP (current US$)=%{x}<br>CO2 Emissions (kt)=%{y}<br>Population, total=%{marker.size}<extra></extra>",
           "hovertext": [
            "Brazil"
           ],
           "legendgroup": "Brazil",
           "marker": {
            "color": "#636efa",
            "size": {
             "bdata": "AAAAni54p0E=",
             "dtype": "f8"
            },
            "sizemode": "area",
            "sizeref": 399463.7766666667,
            "symbol": "circle"
           },
           "mode": "markers",
           "name": "Brazil",
           "orientation": "v",
           "showlegend": true,
           "type": "scatter",
           "x": {
            "bdata": "jxxMONjvgUI=",
            "dtype": "f8"
           },
           "xaxis": "x",
           "y": {
            "bdata": "AAAAiJezvUE=",
            "dtype": "f8"
           },
           "yaxis": "y"
          },
          {
           "hovertemplate": "<b>%{hovertext}</b><br><br>Country Name=China<br>Year=2012<br>GDP (current US$)=%{x}<br>CO2 Emissions (kt)=%{y}<br>Population, total=%{marker.size}<extra></extra>",
           "hovertext": [
            "China"
           ],
           "legendgroup": "China",
           "marker": {
            "color": "#EF553B",
            "size": {
             "bdata": "AAAALNMt1EE=",
             "dtype": "f8"
            },
            "sizemode": "area",
            "sizeref": 399463.7766666667,
            "symbol": "circle"
           },
           "mode": "markers",
           "name": "China",
           "orientation": "v",
           "showlegend": true,
           "type": "scatter",
           "x": {
            "bdata": "XMLsgzcKn0I=",
            "dtype": "f8"
           },
           "xaxis": "x",
           "y": {
            "bdata": "AAAAOyE3AkI=",
            "dtype": "f8"
           },
           "yaxis": "y"
          },
          {
           "hovertemplate": "<b>%{hovertext}</b><br><br>Country Name=Germany<br>Year=2012<br>GDP (current US$)=%{x}<br>CO2 Emissions (kt)=%{y}<br>Population, total=%{marker.size}<extra></extra>",
           "hovertext": [
            "Germany"
           ],
           "legendgroup": "Germany",
           "marker": {
            "color": "#00cc96",
            "size": {
             "bdata": "AAAAfM0sk0E=",
             "dtype": "f8"
            },
            "sizemode": "area",
            "sizeref": 399463.7766666667,
            "symbol": "circle"
           },
           "mode": "markers",
           "name": "Germany",
           "orientation": "v",
           "showlegend": true,
           "type": "scatter",
           "x": {
            "bdata": "e4o2vpotikI=",
            "dtype": "f8"
           },
           "xaxis": "x",
           "y": {
            "bdata": "AAAAAARDyEE=",
            "dtype": "f8"
           },
           "yaxis": "y"
          },
          {
           "hovertemplate": "<b>%{hovertext}</b><br><br>Country Name=India<br>Year=2012<br>GDP (current US$)=%{x}<br>CO2 Emissions (kt)=%{y}<br>Population, total=%{marker.size}<extra></extra>",
           "hovertext": [
            "India"
           ],
           "legendgroup": "India",
           "marker": {
            "color": "#ab63fa",
            "size": {
             "bdata": "AACAkcEN00E=",
             "dtype": "f8"
            },
            "sizemode": "area",
            "sizeref": 399463.7766666667,
            "symbol": "circle"
           },
           "mode": "markers",
           "name": "India",
           "orientation": "v",
           "showlegend": true,
           "type": "scatter",
           "x": {
            "bdata": "j6aYB3uYekI=",
            "dtype": "f8"
           },
           "xaxis": "x",
           "y": {
            "bdata": "AAAAHfax3EE=",
            "dtype": "f8"
           },
           "yaxis": "y"
          },
          {
           "hovertemplate": "<b>%{hovertext}</b><br><br>Country Name=United States<br>Year=2012<br>GDP (current US$)=%{x}<br>CO2 Emissions (kt)=%{y}<br>Population, total=%{marker.size}<extra></extra>",
           "hovertext": [
            "United States"
           ],
           "legendgroup": "United States",
           "marker": {
            "color": "#FFA15A",
            "size": {
             "bdata": "AAAAnmS1skE=",
             "dtype": "f8"
            },
            "sizemode": "area",
            "sizeref": 399463.7766666667,
            "symbol": "circle"
           },
           "mode": "markers",
           "name": "United States",
           "orientation": "v",
           "showlegend": true,
           "type": "scatter",
           "x": {
            "bdata": "AABRN9iQrUI=",
            "dtype": "f8"
           },
           "xaxis": "x",
           "y": {
            "bdata": "AAAAf4To80E=",
            "dtype": "f8"
           },
           "yaxis": "y"
          }
         ],
         "name": "2012"
        },
        {
         "data": [
          {
           "hovertemplate": "<b>%{hovertext}</b><br><br>Country Name=Brazil<br>Year=2013<br>GDP (current US$)=%{x}<br>CO2 Emissions (kt)=%{y}<br>Population, total=%{marker.size}<extra></extra>",
           "hovertext": [
            "Brazil"
           ],
           "legendgroup": "Brazil",
           "marker": {
            "color": "#636efa",
            "size": {
             "bdata": "AAAAthOpp0E=",
             "dtype": "f8"
            },
            "sizemode": "area",
            "sizeref": 399463.7766666667,
            "symbol": "circle"
           },
           "mode": "markers",
           "name": "Brazil",
           "orientation": "v",
           "showlegend": true,
           "type": "scatter",
           "x": {
            "bdata": "1/V7Pfz9gUI=",
            "dtype": "f8"
           },
           "xaxis": "x",
           "y": {
            "bdata": "AAAA5A28v0E=",
            "dtype": "f8"
           },
           "yaxis": "y"
          },
          {
           "hovertemplate": "<b>%{hovertext}</b><br><br>Country Name=China<br>Year=2013<br>GDP (current US$)=%{x}<br>CO2 Emissions (kt)=%{y}<br>Population, total=%{marker.size}<extra></extra>",
           "hovertext": [
            "China"
           ],
           "legendgroup": "China",
           "marker": {
            "color": "#EF553B",
            "size": {
             "bdata": "AAAAEFlQ1EE=",
             "dtype": "f8"
            },
            "sizemode": "area",
            "sizeref": 399463.7766666667,
            "symbol": "circle"
           },
           "mode": "markers",
           "name": "China",
           "orientation": "v",
           "showlegend": true,
           "type": "scatter",
           "x": {
            "bdata": "XC/ZD5looUI=",
            "dtype": "f8"
           },
           "xaxis": "x",
           "y": {
            "bdata": "AABAMYyLAkI=",
            "dtype": "f8"
           },
           "yaxis": "y"
          },
          {
           "hovertemplate": "<b>%{hovertext}</b><br><br>Country Name=Germany<br>Year=2013<br>GDP (current US$)=%{x}<br>CO2 Emissions (kt)=%{y}<br>Population, total=%{marker.size}<extra></extra>",
           "hovertext": [
            "Germany"
           ],
           "legendgroup": "Germany",
           "marker": {
            "color": "#00cc96",
            "size": {
             "bdata": "AAAAlDc6k0E=",
             "dtype": "f8"
            },
            "sizemode": "area",
            "sizeref": 399463.7766666667,
            "symbol": "circle"
           },
           "mode": "markers",
           "name": "Germany",
           "orientation": "v",
           "showlegend": true,
           "type": "scatter",
           "x": {
            "bdata": "4dKgCx21i0I=",
            "dtype": "f8"
           },
           "xaxis": "x",
           "y": {
            "bdata": "AAAAwbHJyEE=",
            "dtype": "f8"
           },
           "yaxis": "y"
          },
          {
           "hovertemplate": "<b>%{hovertext}</b><br><br>Country Name=India<br>Year=2013<br>GDP (current US$)=%{x}<br>CO2 Emissions (kt)=%{y}<br>Population, total=%{marker.size}<extra></extra>",
           "hovertext": [
            "India"
           ],
           "legendgroup": "India",
           "marker": {
            "color": "#ab63fa",
            "size": {
             "bdata": "AADAgTJP00E=",
             "dtype": "f8"
            },
            "sizemode": "area",
            "sizeref": 399463.7766666667,
            "symbol": "circle"
           },
           "mode": "markers",
           "name": "India",
           "orientation": "v",
           "showlegend": true,
           "type": "scatter",
           "x": {
            "bdata": "SFlSndMEe0I=",
            "dtype": "f8"
           },
           "xaxis": "x",
           "y": {
            "bdata": "AAAA/bG63UE=",
            "dtype": "f8"
           },
           "yaxis": "y"
          },
          {
           "hovertemplate": "<b>%{hovertext}</b><br><br>Country Name=United States<br>Year=2013<br>GDP (current US$)=%{x}<br>CO2 Emissions (kt)=%{y}<br>Population, total=%{marker.size}<extra></extra>",
           "hovertext": [
            "United States"
           ],
           "legendgroup": "United States",
           "marker": {
            "color": "#FFA15A",
            "size": {
             "bdata": "AAAAK7HWskE=",
             "dtype": "f8"
            },
            "sizemode": "area",
            "sizeref": 399463.7766666667,
            "symbol": "circle"
           },
           "mode": "markers",
           "name": "United States",
           "orientation": "v",
           "showlegend": true,
           "type": "scatter",
           "x": {
            "bdata": "AIBBOq60rkI=",
            "dtype": "f8"
           },
           "xaxis": "x",
           "y": {
            "bdata": "AADA4Uhq9EE=",
            "dtype": "f8"
           },
           "yaxis": "y"
          }
         ],
         "name": "2013"
        },
        {
         "data": [
          {
           "hovertemplate": "<b>%{hovertext}</b><br><br>Country Name=Brazil<br>Year=2014<br>GDP (current US$)=%{x}<br>CO2 Emissions (kt)=%{y}<br>Population, total=%{marker.size}<extra></extra>",
           "hovertext": [
            "Brazil"
           ],
           "legendgroup": "Brazil",
           "marker": {
            "color": "#636efa",
            "size": {
             "bdata": "AAAADh3ap0E=",
             "dtype": "f8"
            },
            "sizemode": "area",
            "sizeref": 399463.7766666667,
            "symbol": "circle"
           },
           "mode": "markers",
           "name": "Brazil",
           "orientation": "v",
           "showlegend": true,
           "type": "scatter",
           "x": {
            "bdata": "zfZK6bzegUI=",
            "dtype": "f8"
           },
           "xaxis": "x",
           "y": {
            "bdata": "AAAAZHKgwEE=",
            "dtype": "f8"
           },
           "yaxis": "y"
          },
          {
           "hovertemplate": "<b>%{hovertext}</b><br><br>Country Name=China<br>Year=2014<br>GDP (current US$)=%{x}<br>CO2 Emissions (kt)=%{y}<br>Population, total=%{marker.size}<extra></extra>",
           "hovertext": [
            "China"
           ],
           "legendgroup": "China",
           "marker": {
            "color": "#EF553B",
            "size": {
             "bdata": "AAAACDtx1EE=",
             "dtype": "f8"
            },
            "sizemode": "area",
            "sizeref": 399463.7766666667,
            "symbol": "circle"
           },
           "mode": "markers",
           "name": "China",
           "orientation": "v",
           "showlegend": true,
           "type": "scatter",
           "x": {
            "bdata": "ZsalzhcOo0I=",
            "dtype": "f8"
           },
           "xaxis": "x",
           "y": {
            "bdata": "AABAy7mbAkI=",
            "dtype": "f8"
           },
           "yaxis": "y"
          },
          {
           "hovertemplate": "<b>%{hovertext}</b><br><br>Country Name=Germany<br>Year=2014<br>GDP (current US$)=%{x}<br>CO2 Emissions (kt)=%{y}<br>Population, total=%{marker.size}<extra></extra>",
           "hovertext": [
            "Germany"
           ],
           "legendgroup": "Germany",
           "marker": {
            "color": "#00cc96",
            "size": {
             "bdata": "AAAAkMdOk0E=",
             "dtype": "f8"
            },
            "sizemode": "area",
            "sizeref": 399463.7766666667,
            "symbol": "circle"
           },
           "mode": "markers",
           "name": "Germany",
           "orientation": "v",
           "showlegend": true,
           "type": "scatter",
           "x": {
            "bdata": "Ui4XIeHajEI=",
            "dtype": "f8"
           },
           "xaxis": "x",
           "y": {
            "bdata": "AAAAX+Wex0E=",
            "dtype": "f8"
           },
           "yaxis": "y"
          },
          {
           "hovertemplate": "<b>%{hovertext}</b><br><br>Country Name=India<br>Year=2014<br>GDP (current US$)=%{x}<br>CO2 Emissions (kt)=%{y}<br>Population, total=%{marker.size}<extra></extra>",
           "hovertext": [
            "India"
           ],
           "legendgroup": "India",
           "marker": {
            "color": "#ab63fa",
            "size": {
             "bdata": "AADAsfCN00E=",
             "dtype": "f8"
            },
            "sizemode": "area",
            "sizeref": 399463.7766666667,
            "symbol": "circle"
           },
           "mode": "markers",
           "name": "India",
           "orientation": "v",
           "showlegend": true,
           "type": "scatter",
           "x": {
            "bdata": "UigTjVasfUI=",
            "dtype": "f8"
           },
           "xaxis": "x",
           "y": {
            "bdata": "AAAA/6MB4EE=",
            "dtype": "f8"
           },
           "yaxis": "y"
          },
          {
           "hovertemplate": "<b>%{hovertext}</b><br><br>Country Name=United States<br>Year=2014<br>GDP (current US$)=%{x}<br>CO2 Emissions (kt)=%{y}<br>Population, total=%{marker.size}<extra></extra>",
           "hovertext": [
            "United States"
           ],
           "legendgroup": "United States",
           "marker": {
            "color": "#FFA15A",
            "size": {
             "bdata": "AAAAmTD6skE=",
             "dtype": "f8"
            },
            "sizemode": "area",
            "sizeref": 399463.7766666667,
            "symbol": "circle"
           },
           "mode": "markers",
           "name": "United States",
           "orientation": "v",
           "showlegend": true,
           "type": "scatter",
           "x": {
            "bdata": "AICGz7YDsEI=",
            "dtype": "f8"
           },
           "xaxis": "x",
           "y": {
            "bdata": "AACAoo+Y9EE=",
            "dtype": "f8"
           },
           "yaxis": "y"
          }
         ],
         "name": "2014"
        },
        {
         "data": [
          {
           "hovertemplate": "<b>%{hovertext}</b><br><br>Country Name=Brazil<br>Year=2015<br>GDP (current US$)=%{x}<br>CO2 Emissions (kt)=%{y}<br>Population, total=%{marker.size}<extra></extra>",
           "hovertext": [
            "Brazil"
           ],
           "legendgroup": "Brazil",
           "marker": {
            "color": "#636efa",
            "size": {
             "bdata": "AAAAGKYKqEE=",
             "dtype": "f8"
            },
            "sizemode": "area",
            "sizeref": 399463.7766666667,
            "symbol": "circle"
           },
           "mode": "markers",
           "name": "Brazil",
           "orientation": "v",
           "showlegend": true,
           "type": "scatter",
           "x": {
            "bdata": "4YqTfsM5ekI=",
            "dtype": "f8"
           },
           "xaxis": "x",
           "y": {
            "bdata": "AAAAPEmNv0E=",
            "dtype": "f8"
           },
           "yaxis": "y"
          },
          {
           "hovertemplate": "<b>%{hovertext}</b><br><br>Country Name=China<br>Year=2015<br>GDP (current US$)=%{x}<br>CO2 Emissions (kt)=%{y}<br>Population, total=%{marker.size}<extra></extra>",
           "hovertext": [
            "China"
           ],
           "legendgroup": "China",
           "marker": {
            "color": "#EF553B",
            "size": {
             "bdata": "AAAAiL+P1EE=",
             "dtype": "f8"
            },
            "sizemode": "area",
            "sizeref": 399463.7766666667,
            "symbol": "circle"
           },
           "mode": "markers",
           "name": "China",
           "orientation": "v",
           "showlegend": true,
           "type": "scatter",
           "x": {
            "bdata": "ZqWSNvIepEI=",
            "dtype": "f8"
           },
           "xaxis": "x",
           "y": {
            "bdata": "AABAR0NfAkI=",
            "dtype": "f8"
           },
           "yaxis": "y"
          },
          {
           "hovertemplate": "<b>%{hovertext}</b><br><br>Country Name=Germany<br>Year=2015<br>GDP (current US$)=%{x}<br>CO2 Emissions (kt)=%{y}<br>Population, total=%{marker.size}<extra></extra>",
           "hovertext": [
            "Germany"
           ],
           "legendgroup": "Germany",
           "marker": {
            "color": "#00cc96",
            "size": {
             "bdata": "AAAATMF5k0E=",
             "dtype": "f8"
            },
            "sizemode": "area",
            "sizeref": 399463.7766666667,
            "symbol": "circle"
           },
           "mode": "markers",
           "name": "Germany",
           "orientation": "v",
           "showlegend": true,
           "type": "scatter",
           "x": {
            "bdata": "PWispuToiEI=",
            "dtype": "f8"
           },
           "xaxis": "x",
           "y": {
            "bdata": "AAAAavXdx0E=",
            "dtype": "f8"
           },
           "yaxis": "y"
          },
          {
           "hovertemplate": "<b>%{hovertext}</b><br><br>Country Name=India<br>Year=2015<br>GDP (current US$)=%{x}<br>CO2 Emissions (kt)=%{y}<br>Population, total=%{marker.size}<extra></extra>",
           "hovertext": [
            "India"
           ],
           "legendgroup": "India",
           "marker": {
            "color": "#ab63fa",
            "size": {
             "bdata": "AACA7ALK00E=",
             "dtype": "f8"
            },
            "sizemode": "area",
            "sizeref": 399463.7766666667,
            "symbol": "circle"
           },
           "mode": "markers",
           "name": "India",
           "orientation": "v",
           "showlegend": true,
           "type": "scatter",
           "x": {
            "bdata": "Cs/2MHqcfkI=",
            "dtype": "f8"
           },
           "xaxis": "x",
           "y": {
            "bdata": "AACAfW+l4EE=",
            "dtype": "f8"
           },
           "yaxis": "y"
          },
          {
           "hovertemplate": "<b>%{hovertext}</b><br><br>Country Name=United States<br>Year=2015<br>GDP (current US$)=%{x}<br>CO2 Emissions (kt)=%{y}<br>Population, total=%{marker.size}<extra></extra>",
           "hovertext": [
            "United States"
           ],
           "legendgroup": "United States",
           "marker": {
            "color": "#FFA15A",
            "size": {
             "bdata": "AAAAshYes0E=",
             "dtype": "f8"
            },
            "sizemode": "area",
            "sizeref": 399463.7766666667,
            "symbol": "circle"
           },
           "mode": "markers",
           "name": "United States",
           "orientation": "v",
           "showlegend": true,
           "type": "scatter",
           "x": {
            "bdata": "AMDQG6SjsEI=",
            "dtype": "f8"
           },
           "xaxis": "x",
           "y": {
            "bdata": "AACAemcH9EE=",
            "dtype": "f8"
           },
           "yaxis": "y"
          }
         ],
         "name": "2015"
        },
        {
         "data": [
          {
           "hovertemplate": "<b>%{hovertext}</b><br><br>Country Name=Brazil<br>Year=2016<br>GDP (current US$)=%{x}<br>CO2 Emissions (kt)=%{y}<br>Population, total=%{marker.size}<extra></extra>",
           "hovertext": [
            "Brazil"
           ],
           "legendgroup": "Brazil",
           "marker": {
            "color": "#636efa",
            "size": {
             "bdata": "AAAAhLk5qEE=",
             "dtype": "f8"
            },
            "sizemode": "area",
            "sizeref": 399463.7766666667,
            "symbol": "circle"
           },
           "mode": "markers",
           "name": "Brazil",
           "orientation": "v",
           "showlegend": true,
           "type": "scatter",
           "x": {
            "bdata": "UsgpwXohekI=",
            "dtype": "f8"
           },
           "xaxis": "x",
           "y": {
            "bdata": "AAAA4LxevUE=",
            "dtype": "f8"
           },
           "yaxis": "y"
          },
          {
           "hovertemplate": "<b>%{hovertext}</b><br><br>Country Name=China<br>Year=2016<br>GDP (current US$)=%{x}<br>CO2 Emissions (kt)=%{y}<br>Population, total=%{marker.size}<extra></extra>",
           "hovertext": [
            "China"
           ],
           "legendgroup": "China",
           "marker": {
            "color": "#EF553B",
            "size": {
             "bdata": "AAAArP+t1EE=",
             "dtype": "f8"
            },
            "sizemode": "area",
            "sizeref": 399463.7766666667,
            "symbol": "circle"
           },
           "mode": "markers",
           "name": "China",
           "orientation": "v",
           "showlegend": true,
           "type": "scatter",
           "x": {
            "bdata": "ZlleWetupEI=",
            "dtype": "f8"
           },
           "xaxis": "x",
           "y": {
            "bdata": "AACAjDkvAkI=",
            "dtype": "f8"
           },
           "yaxis": "y"
          },
          {
           "hovertemplate": "<b>%{hovertext}</b><br><br>Country Name=Germany<br>Year=2016<br>GDP (current US$)=%{x}<br>CO2 Emissions (kt)=%{y}<br>Population, total=%{marker.size}<extra></extra>",
           "hovertext": [
            "Germany"
           ],
           "legendgroup": "Germany",
           "marker": {
            "color": "#00cc96",
            "size": {
             "bdata": "AAAA9Cmik0E=",
             "dtype": "f8"
            },
            "sizemode": "area",
            "sizeref": 399463.7766666667,
            "symbol": "circle"
           },
           "mode": "markers",
           "name": "Germany",
           "orientation": "v",
           "showlegend": true,
           "type": "scatter",
           "x": {
            "bdata": "ZmSe66K9iUI=",
            "dtype": "f8"
           },
           "xaxis": "x",
           "y": {
            "bdata": "AAAAX1zIx0E=",
            "dtype": "f8"
           },
           "yaxis": "y"
          },
          {
           "hovertemplate": "<b>%{hovertext}</b><br><br>Country Name=India<br>Year=2016<br>GDP (current US$)=%{x}<br>CO2 Emissions (kt)=%{y}<br>Population, total=%{marker.size}<extra></extra>",
           "hovertext": [
            "India"
           ],
           "legendgroup": "India",
           "marker": {
            "color": "#ab63fa",
            "size": {
             "bdata": "AAAAmr0G1EE=",
             "dtype": "f8"
            },
            "sizemode": "area",
            "sizeref": 399463.7766666667,
            "symbol": "circle"
           },
           "mode": "markers",
           "name": "India",
           "orientation": "v",
           "showlegend": true,
           "type": "scatter",
           "x": {
            "bdata": "SPn0bGSygEI=",
            "dtype": "f8"
           },
           "xaxis": "x",
           "y": {
            "bdata": "AAAAWieL4UE=",
            "dtype": "f8"
           },
           "yaxis": "y"
          },
          {
           "hovertemplate": "<b>%{hovertext}</b><br><br>Country Name=United States<br>Year=2016<br>GDP (current US$)=%{x}<br>CO2 Emissions (kt)=%{y}<br>Population, total=%{marker.size}<extra></extra>",
           "hovertext": [
            "United States"
           ],
           "legendgroup": "United States",
           "marker": {
            "color": "#FFA15A",
            "size": {
             "bdata": "AAAAC69Bs0E=",
             "dtype": "f8"
            },
            "sizemode": "area",
            "sizeref": 399463.7766666667,
            "symbol": "circle"
           },
           "mode": "markers",
           "name": "United States",
           "orientation": "v",
           "showlegend": true,
           "type": "scatter",
           "x": {
            "bdata": "AEDOKFwasUI=",
            "dtype": "f8"
           },
           "xaxis": "x",
           "y": {
            "bdata": "AAAAGpaR80E=",
            "dtype": "f8"
           },
           "yaxis": "y"
          }
         ],
         "name": "2016"
        },
        {
         "data": [
          {
           "hovertemplate": "<b>%{hovertext}</b><br><br>Country Name=Brazil<br>Year=2017<br>GDP (current US$)=%{x}<br>CO2 Emissions (kt)=%{y}<br>Population, total=%{marker.size}<extra></extra>",
           "hovertext": [
            "Brazil"
           ],
           "legendgroup": "Brazil",
           "marker": {
            "color": "#636efa",
            "size": {
             "bdata": "AAAAqg1nqEE=",
             "dtype": "f8"
            },
            "sizemode": "area",
            "sizeref": 399463.7766666667,
            "symbol": "circle"
           },
           "mode": "markers",
           "name": "Brazil",
           "orientation": "v",
           "showlegend": true,
           "type": "scatter",
           "x": {
            "bdata": "H2VDPDEHfkI=",
            "dtype": "f8"
           },
           "xaxis": "x",
           "y": {
            "bdata": "AAAAPvGyvUE=",
            "dtype": "f8"
           },
           "yaxis": "y"
          },
          {
           "hovertemplate": "<b>%{hovertext}</b><br><br>Country Name=China<br>Year=2017<br>GDP (current US$)=%{x}<br>CO2 Emissions (kt)=%{y}<br>Population, total=%{marker.size}<extra></extra>",
           "hovertext": [
            "China"
           ],
           "legendgroup": "China",
           "marker": {
            "color": "#EF553B",
            "size": {
             "bdata": "AAAANiPO1EE=",
             "dtype": "f8"
            },
            "sizemode": "area",
            "sizeref": 399463.7766666667,
            "symbol": "circle"
           },
           "mode": "markers",
           "name": "China",
           "orientation": "v",
           "showlegend": true,
           "type": "scatter",
           "x": {
            "bdata": "zbkK7YRkpkI=",
            "dtype": "f8"
           },
           "xaxis": "x",
           "y": {
            "bdata": "AADAamWjAkI=",
            "dtype": "f8"
           },
           "yaxis": "y"
          },
          {
           "hovertemplate": "<b>%{hovertext}</b><br><br>Country Name=Germany<br>Year=2017<br>GDP (current US$)=%{x}<br>CO2 Emissions (kt)=%{y}<br>Population, total=%{marker.size}<extra></extra>",
           "hovertext": [
            "Germany"
           ],
           "legendgroup": "Germany",
           "marker": {
            "color": "#00cc96",
            "size": {
             "bdata": "AAAAqPu0k0E=",
             "dtype": "f8"
            },
            "sizemode": "area",
            "sizeref": 399463.7766666667,
            "symbol": "circle"
           },
           "mode": "markers",
           "name": "Germany",
           "orientation": "v",
           "showlegend": true,
           "type": "scatter",
           "x": {
            "bdata": "mkeaOE5hi0I=",
            "dtype": "f8"
           },
           "xaxis": "x",
           "y": {
            "bdata": "AAAA4vlhx0E=",
            "dtype": "f8"
           },
           "yaxis": "y"
          },
          {
           "hovertemplate": "<b>%{hovertext}</b><br><br>Country Name=India<br>Year=2017<br>GDP (current US$)=%{x}<br>CO2 Emissions (kt)=%{y}<br>Population, total=%{marker.size}<extra></extra>",
           "hovertext": [
            "India"
           ],
           "legendgroup": "India",
           "marker": {
            "color": "#ab63fa",
            "size": {
             "bdata": "AAAAbq5C1EE=",
             "dtype": "f8"
            },
            "sizemode": "area",
            "sizeref": 399463.7766666667,
            "symbol": "circle"
           },
           "mode": "markers",
           "name": "India",
           "orientation": "v",
           "showlegend": true,
           "type": "scatter",
           "x": {
            "bdata": "mhvXc8FKg0I=",
            "dtype": "f8"
           },
           "xaxis": "x",
           "y": {
            "bdata": "AAAAmmIU4kE=",
            "dtype": "f8"
           },
           "yaxis": "y"
          },
          {
           "hovertemplate": "<b>%{hovertext}</b><br><br>Country Name=United States<br>Year=2017<br>GDP (current US$)=%{x}<br>CO2 Emissions (kt)=%{y}<br>Population, total=%{marker.size}<extra></extra>",
           "hovertext": [
            "United States"
           ],
           "legendgroup": "United States",
           "marker": {
            "color": "#FFA15A",
            "size": {
             "bdata": "AAAAUPhgs0E=",
             "dtype": "f8"
            },
            "sizemode": "area",
            "sizeref": 399463.7766666667,
            "symbol": "circle"
           },
           "mode": "markers",
           "name": "United States",
           "orientation": "v",
           "showlegend": true,
           "type": "scatter",
           "x": {
            "bdata": "AIB9X0zWsUI=",
            "dtype": "f8"
           },
           "xaxis": "x",
           "y": {
            "bdata": "AAAAfbRq80E=",
            "dtype": "f8"
           },
           "yaxis": "y"
          }
         ],
         "name": "2017"
        },
        {
         "data": [
          {
           "hovertemplate": "<b>%{hovertext}</b><br><br>Country Name=Brazil<br>Year=2018<br>GDP (current US$)=%{x}<br>CO2 Emissions (kt)=%{y}<br>Population, total=%{marker.size}<extra></extra>",
           "hovertext": [
            "Brazil"
           ],
           "legendgroup": "Brazil",
           "marker": {
            "color": "#636efa",
            "size": {
             "bdata": "AAAA+uSRqEE=",
             "dtype": "f8"
            },
            "sizemode": "area",
            "sizeref": 399463.7766666667,
            "symbol": "circle"
           },
           "mode": "markers",
           "name": "Brazil",
           "orientation": "v",
           "showlegend": true,
           "type": "scatter",
           "x": {
            "bdata": "w2XznyLle0I=",
            "dtype": "f8"
           },
           "xaxis": "x",
           "y": {
            "bdata": "AAAAXHyDvEE=",
            "dtype": "f8"
           },
           "yaxis": "y"
          },
          {
           "hovertemplate": "<b>%{hovertext}</b><br><br>Country Name=China<br>Year=2018<br>GDP (current US$)=%{x}<br>CO2 Emissions (kt)=%{y}<br>Population, total=%{marker.size}<extra></extra>",
           "hovertext": [
            "China"
           ],
           "legendgroup": "China",
           "marker": {
            "color": "#EF553B",
            "size": {
             "bdata": "AAAA0Brn1EE=",
             "dtype": "f8"
            },
            "sizemode": "area",
            "sizeref": 399463.7766666667,
            "symbol": "circle"
           },
           "mode": "markers",
           "name": "China",
           "orientation": "v",
           "showlegend": true,
           "type": "scatter",
           "x": {
            "bdata": "M7EXGFJGqUI=",
            "dtype": "f8"
           },
           "xaxis": "x",
           "y": {
            "bdata": "AABAryc/A0I=",
            "dtype": "f8"
           },
           "yaxis": "y"
          },
          {
           "hovertemplate": "<b>%{hovertext}</b><br><br>Country Name=Germany<br>Year=2018<br>GDP (current US$)=%{x}<br>CO2 Emissions (kt)=%{y}<br>Population, total=%{marker.size}<extra></extra>",
           "hovertext": [
            "Germany"
           ],
           "legendgroup": "Germany",
           "marker": {
            "color": "#00cc96",
            "size": {
             "bdata": "AAAA2CrEk0E=",
             "dtype": "f8"
            },
            "sizemode": "area",
            "sizeref": 399463.7766666667,
            "symbol": "circle"
           },
           "mode": "markers",
           "name": "Germany",
           "orientation": "v",
           "showlegend": true,
           "type": "scatter",
           "x": {
            "bdata": "PbxnMXR7jUI=",
            "dtype": "f8"
           },
           "xaxis": "x",
           "y": {
            "bdata": "AAAAgrGmxkE=",
            "dtype": "f8"
           },
           "yaxis": "y"
          },
          {
           "hovertemplate": "<b>%{hovertext}</b><br><br>Country Name=India<br>Year=2018<br>GDP (current US$)=%{x}<br>CO2 Emissions (kt)=%{y}<br>Population, total=%{marker.size}<extra></extra>",
           "hovertext": [
            "India"
           ],
           "legendgroup": "India",
           "marker": {
            "color": "#ab63fa",
            "size": {
             "bdata": "AAAAfuh71EE=",
             "dtype": "f8"
            },
            "sizemode": "area",
            "sizeref": 399463.7766666667,
            "symbol": "circle"
           },
           "mode": "markers",
           "name": "India",
           "orientation": "v",
           "showlegend": true,
           "type": "scatter",
           "x": {
            "bdata": "7IUFSpmqg0I=",
            "dtype": "f8"
           },
           "xaxis": "x",
           "y": {
            "bdata": "AAAAgd1R40E=",
            "dtype": "f8"
           },
           "yaxis": "y"
          },
          {
           "hovertemplate": "<b>%{hovertext}</b><br><br>Country Name=United States<br>Year=2018<br>GDP (current US$)=%{x}<br>CO2 Emissions (kt)=%{y}<br>Population, total=%{marker.size}<extra></extra>",
           "hovertext": [
            "United States"
           ],
           "legendgroup": "United States",
           "marker": {
            "color": "#FFA15A",
            "size": {
             "bdata": "AAAAtyd7s0E=",
             "dtype": "f8"
            },
            "sizemode": "area",
            "sizeref": 399463.7766666667,
            "symbol": "circle"
           },
           "mode": "markers",
           "name": "United States",
           "orientation": "v",
           "showlegend": true,
           "type": "scatter",
           "x": {
            "bdata": "AABpTHjJskI=",
            "dtype": "f8"
           },
           "xaxis": "x",
           "y": {
            "bdata": "AACAuKoI9EE=",
            "dtype": "f8"
           },
           "yaxis": "y"
          }
         ],
         "name": "2018"
        },
        {
         "data": [
          {
           "hovertemplate": "<b>%{hovertext}</b><br><br>Country Name=Brazil<br>Year=2019<br>GDP (current US$)=%{x}<br>CO2 Emissions (kt)=%{y}<br>Population, total=%{marker.size}<extra></extra>",
           "hovertext": [
            "Brazil"
           ],
           "legendgroup": "Brazil",
           "marker": {
            "color": "#636efa",
            "size": {
             "bdata": "AAAAxgm7qEE=",
             "dtype": "f8"
            },
            "sizemode": "area",
            "sizeref": 399463.7766666667,
            "symbol": "circle"
           },
           "mode": "markers",
           "name": "Brazil",
           "orientation": "v",
           "showlegend": true,
           "type": "scatter",
           "x": {
            "bdata": "Myc42YpCe0I=",
            "dtype": "f8"
           },
           "xaxis": "x",
           "y": {
            "bdata": "AAAA6Fo3vEE=",
            "dtype": "f8"
           },
           "yaxis": "y"
          },
          {
           "hovertemplate": "<b>%{hovertext}</b><br><br>Country Name=China<br>Year=2019<br>GDP (current US$)=%{x}<br>CO2 Emissions (kt)=%{y}<br>Population, total=%{marker.size}<extra></extra>",
           "hovertext": [
            "China"
           ],
           "legendgroup": "China",
           "marker": {
            "color": "#EF553B",
            "size": {
             "bdata": "AAAA+h761EE=",
             "dtype": "f8"
            },
            "sizemode": "area",
            "sizeref": 399463.7766666667,
            "symbol": "circle"
           },
           "mode": "markers",
           "name": "China",
           "orientation": "v",
           "showlegend": true,
           "type": "scatter",
           "x": {
            "bdata": "Zj+D5qD5qUI=",
            "dtype": "f8"
           },
           "xaxis": "x",
           "y": {
            "bdata": "AAAAYNP0A0I=",
            "dtype": "f8"
           },
           "yaxis": "y"
          },
          {
           "hovertemplate": "<b>%{hovertext}</b><br><br>Country Name=Germany<br>Year=2019<br>GDP (current US$)=%{x}<br>CO2 Emissions (kt)=%{y}<br>Population, total=%{marker.size}<extra></extra>",
           "hovertext": [
            "Germany"
           ],
           "legendgroup": "Germany",
           "marker": {
            "color": "#00cc96",
            "size": {
             "bdata": "AAAAiJfPk0E=",
             "dtype": "f8"
            },
            "sizemode": "area",
            "sizeref": 399463.7766666667,
            "symbol": "circle"
           },
           "mode": "markers",
           "name": "Germany",
           "orientation": "v",
           "showlegend": true,
           "type": "scatter",
           "x": {
            "bdata": "cX3t19/KjEI=",
            "dtype": "f8"
           },
           "xaxis": "x",
           "y": {
            "bdata": "AAAARownxUE=",
            "dtype": "f8"
           },
           "yaxis": "y"
          },
          {
           "hovertemplate": "<b>%{hovertext}</b><br><br>Country Name=India<br>Year=2019<br>GDP (current US$)=%{x}<br>CO2 Emissions (kt)=%{y}<br>Population, total=%{marker.size}<extra></extra>",
           "hovertext": [
            "India"
           ],
           "legendgroup": "India",
           "marker": {
            "color": "#ab63fa",
            "size": {
             "bdata": "AAAA6rqy1EE=",
             "dtype": "f8"
            },
            "sizemode": "area",
            "sizeref": 399463.7766666667,
            "symbol": "circle"
           },
           "mode": "markers",
           "name": "India",
           "orientation": "v",
           "showlegend": true,
           "type": "scatter",
           "x": {
            "bdata": "hXHdbbqhhEI=",
            "dtype": "f8"
           },
           "xaxis": "x",
           "y": {
            "bdata": "AAAAOLB340E=",
            "dtype": "f8"
           },
           "yaxis": "y"
          },
          {
           "hovertemplate": "<b>%{hovertext}</b><br><br>Country Name=United States<br>Year=2019<br>GDP (current US$)=%{x}<br>CO2 Emissions (kt)=%{y}<br>Population, total=%{marker.size}<extra></extra>",
           "hovertext": [
            "United States"
           ],
           "legendgroup": "United States",
           "marker": {
            "color": "#FFA15A",
            "size": {
             "bdata": "AAAA4eqRs0E=",
             "dtype": "f8"
            },
            "sizemode": "area",
            "sizeref": 399463.7766666667,
            "symbol": "circle"
           },
           "mode": "markers",
           "name": "United States",
           "orientation": "v",
           "showlegend": true,
           "type": "scatter",
           "x": {
            "bdata": "AIC/+SqXs0I=",
            "dtype": "f8"
           },
           "xaxis": "x",
           "y": {
            "bdata": "AACAXl+a80E=",
            "dtype": "f8"
           },
           "yaxis": "y"
          }
         ],
         "name": "2019"
        },
        {
         "data": [
          {
           "hovertemplate": "<b>%{hovertext}</b><br><br>Country Name=Brazil<br>Year=2020<br>GDP (current US$)=%{x}<br>CO2 Emissions (kt)=%{y}<br>Population, total=%{marker.size}<extra></extra>",
           "hovertext": [
            "Brazil"
           ],
           "legendgroup": "Brazil",
           "marker": {
            "color": "#636efa",
            "size": {
             "bdata": "AAAA1NLfqEE=",
             "dtype": "f8"
            },
            "sizemode": "area",
            "sizeref": 399463.7766666667,
            "symbol": "circle"
           },
           "mode": "markers",
           "name": "Brazil",
           "orientation": "v",
           "showlegend": true,
           "type": "scatter",
           "x": {
            "bdata": "w6H9je16dUI=",
            "dtype": "f8"
           },
           "xaxis": "x",
           "y": {
            "bdata": "AAAAJFaJukE=",
            "dtype": "f8"
           },
           "yaxis": "y"
          },
          {
           "hovertemplate": "<b>%{hovertext}</b><br><br>Country Name=China<br>Year=2020<br>GDP (current US$)=%{x}<br>CO2 Emissions (kt)=%{y}<br>Population, total=%{marker.size}<extra></extra>",
           "hovertext": [
            "China"
           ],
           "legendgroup": "China",
           "marker": {
            "color": "#EF553B",
            "size": {
             "bdata": "AAAAWOsG1UE=",
             "dtype": "f8"
            },
            "sizemode": "area",
            "sizeref": 399463.7766666667,
            "symbol": "circle"
           },
           "mode": "markers",
           "name": "China",
           "orientation": "v",
           "showlegend": true,
           "type": "scatter",
           "x": {
            "bdata": "AOL3i4O3qkI=",
            "dtype": "f8"
           },
           "xaxis": "x",
           "y": {
            "bdata": "AABAWj1QBEI=",
            "dtype": "f8"
           },
           "yaxis": "y"
          },
          {
           "hovertemplate": "<b>%{hovertext}</b><br><br>Country Name=Germany<br>Year=2020<br>GDP (current US$)=%{x}<br>CO2 Emissions (kt)=%{y}<br>Population, total=%{marker.size}<extra></extra>",
           "hovertext": [
            "Germany"
           ],
           "legendgroup": "Germany",
           "marker": {
            "color": "#00cc96",
            "size": {
             "bdata": "AAAAnLzTk0E=",
             "dtype": "f8"
            },
            "sizemode": "area",
            "sizeref": 399463.7766666667,
            "symbol": "circle"
           },
           "mode": "markers",
           "name": "Germany",
           "orientation": "v",
           "showlegend": true,
           "type": "scatter",
           "x": {
            "bdata": "zVBRXxarjEI=",
            "dtype": "f8"
           },
           "xaxis": "x",
           "y": {
            "bdata": "AAAA/pFSw0E=",
            "dtype": "f8"
           },
           "yaxis": "y"
          },
          {
           "hovertemplate": "<b>%{hovertext}</b><br><br>Country Name=India<br>Year=2020<br>GDP (current US$)=%{x}<br>CO2 Emissions (kt)=%{y}<br>Population, total=%{marker.size}<extra></extra>",
           "hovertext": [
            "India"
           ],
           "legendgroup": "India",
           "marker": {
            "color": "#ab63fa",
            "size": {
             "bdata": "AADA14/m1EE=",
             "dtype": "f8"
            },
            "sizemode": "area",
            "sizeref": 399463.7766666667,
            "symbol": "circle"
           },
           "mode": "markers",
           "name": "India",
           "orientation": "v",
           "showlegend": true,
           "type": "scatter",
           "x": {
            "bdata": "KdoWoEx2g0I=",
            "dtype": "f8"
           },
           "xaxis": "x",
           "y": {
            "bdata": "AAAAcL4K4kE=",
            "dtype": "f8"
           },
           "yaxis": "y"
          },
          {
           "hovertemplate": "<b>%{hovertext}</b><br><br>Country Name=United States<br>Year=2020<br>GDP (current US$)=%{x}<br>CO2 Emissions (kt)=%{y}<br>Population, total=%{marker.size}<extra></extra>",
           "hovertext": [
            "United States"
           ],
           "legendgroup": "United States",
           "marker": {
            "color": "#FFA15A",
            "size": {
             "bdata": "AAAAFbPCs0E=",
             "dtype": "f8"
            },
            "sizemode": "area",
            "sizeref": 399463.7766666667,
            "symbol": "circle"
           },
           "mode": "markers",
           "name": "United States",
           "orientation": "v",
           "showlegend": true,
           "type": "scatter",
           "x": {
            "bdata": "AEDQ1+Nrs0I=",
            "dtype": "f8"
           },
           "xaxis": "x",
           "y": {
            "bdata": "AAAAOjiQ8UE=",
            "dtype": "f8"
           },
           "yaxis": "y"
          }
         ],
         "name": "2020"
        },
        {
         "data": [
          {
           "hovertemplate": "<b>%{hovertext}</b><br><br>Country Name=Brazil<br>Year=2021<br>GDP (current US$)=%{x}<br>CO2 Emissions (kt)=%{y}<br>Population, total=%{marker.size}<extra></extra>",
           "hovertext": [
            "Brazil"
           ],
           "legendgroup": "Brazil",
           "marker": {
            "color": "#636efa",
            "size": {
             "bdata": "AAAArPf6qEE=",
             "dtype": "f8"
            },
            "sizemode": "area",
            "sizeref": 399463.7766666667,
            "symbol": "circle"
           },
           "mode": "markers",
           "name": "Brazil",
           "orientation": "v",
           "showlegend": true,
           "type": "scatter",
           "x": {
            "bdata": "uKonhKVPeEI=",
            "dtype": "f8"
           },
           "xaxis": "x",
           "y": {
            "bdata": "AAAAXCKvvUE=",
            "dtype": "f8"
           },
           "yaxis": "y"
          },
          {
           "hovertemplate": "<b>%{hovertext}</b><br><br>Country Name=China<br>Year=2021<br>GDP (current US$)=%{x}<br>CO2 Emissions (kt)=%{y}<br>Population, total=%{marker.size}<extra></extra>",
           "hovertext": [
            "China"
           ],
           "legendgroup": "China",
           "marker": {
            "color": "#EF553B",
            "size": {
             "bdata": "AAAA0LkL1UE=",
             "dtype": "f8"
            },
            "sizemode": "area",
            "sizeref": 399463.7766666667,
            "symbol": "circle"
           },
           "mode": "markers",
           "name": "China",
           "orientation": "v",
           "showlegend": true,
           "type": "scatter",
           "x": {
            "bdata": "M3SkKCY1sEI=",
            "dtype": "f8"
           },
           "xaxis": "x",
           "y": {
            "bdata": "AABAUcpSBUI=",
            "dtype": "f8"
           },
           "yaxis": "y"
          },
          {
           "hovertemplate": "<b>%{hovertext}</b><br><br>Country Name=Germany<br>Year=2021<br>GDP (current US$)=%{x}<br>CO2 Emissions (kt)=%{y}<br>Population, total=%{marker.size}<extra></extra>",
           "hovertext": [
            "Germany"
           ],
           "legendgroup": "Germany",
           "marker": {
            "color": "#00cc96",
            "size": {
             "bdata": "AAAAuOLVk0E=",
             "dtype": "f8"
            },
            "sizemode": "area",
            "sizeref": 399463.7766666667,
            "symbol": "circle"
           },
           "mode": "markers",
           "name": "Germany",
           "orientation": "v",
           "showlegend": true,
           "type": "scatter",
           "x": {
            "bdata": "PRxky1Wjj0I=",
            "dtype": "f8"
           },
           "xaxis": "x",
           "y": {
            "bdata": "AAAA6qg6xEE=",
            "dtype": "f8"
           },
           "yaxis": "y"
          },
          {
           "hovertemplate": "<b>%{hovertext}</b><br><br>Country Name=India<br>Year=2021<br>GDP (current US$)=%{x}<br>CO2 Emissions (kt)=%{y}<br>Population, total=%{marker.size}<extra></extra>",
           "hovertext": [
            "India"
           ],
           "legendgroup": "India",
           "marker": {
            "color": "#ab63fa",
            "size": {
             "bdata": "AAAAfsIS1UE=",
             "dtype": "f8"
            },
            "sizemode": "area",
            "sizeref": 399463.7766666667,
            "symbol": "circle"
           },
           "mode": "markers",
           "name": "India",
           "orientation": "v",
           "showlegend": true,
           "type": "scatter",
           "x": {
            "bdata": "w+PAUoALh0I=",
            "dtype": "f8"
           },
           "xaxis": "x",
           "y": {
            "bdata": "AAAAXazs40E=",
            "dtype": "f8"
           },
           "yaxis": "y"
          },
          {
           "hovertemplate": "<b>%{hovertext}</b><br><br>Country Name=United States<br>Year=2021<br>GDP (current US$)=%{x}<br>CO2 Emissions (kt)=%{y}<br>Population, total=%{marker.size}<extra></extra>",
           "hovertext": [
            "United States"
           ],
           "legendgroup": "United States",
           "marker": {
            "color": "#FFA15A",
            "size": {
             "bdata": "AAAAUarKs0E=",
             "dtype": "f8"
            },
            "sizemode": "area",
            "sizeref": 399463.7766666667,
            "symbol": "circle"
           },
           "mode": "markers",
           "name": "United States",
           "orientation": "v",
           "showlegend": true,
           "type": "scatter",
           "x": {
            "bdata": "AMAKybOJtUI=",
            "dtype": "f8"
           },
           "xaxis": "x",
           "y": {
            "bdata": "AACAoBe/8kE=",
            "dtype": "f8"
           },
           "yaxis": "y"
          }
         ],
         "name": "2021"
        },
        {
         "data": [
          {
           "hovertemplate": "<b>%{hovertext}</b><br><br>Country Name=Brazil<br>Year=2022<br>GDP (current US$)=%{x}<br>CO2 Emissions (kt)=%{y}<br>Population, total=%{marker.size}<extra></extra>",
           "hovertext": [
            "Brazil"
           ],
           "legendgroup": "Brazil",
           "marker": {
            "color": "#636efa",
            "size": {
             "bdata": "AAAA3goSqUE=",
             "dtype": "f8"
            },
            "sizemode": "area",
            "sizeref": 399463.7766666667,
            "symbol": "circle"
           },
           "mode": "markers",
           "name": "Brazil",
           "orientation": "v",
           "showlegend": true,
           "type": "scatter",
           "x": {
            "bdata": "HzUsu3tnfEI=",
            "dtype": "f8"
           },
           "xaxis": "x",
           "y": {
            "bdata": "AAAARNLWvEE=",
            "dtype": "f8"
           },
           "yaxis": "y"
          },
          {
           "hovertemplate": "<b>%{hovertext}</b><br><br>Country Name=China<br>Year=2022<br>GDP (current US$)=%{x}<br>CO2 Emissions (kt)=%{y}<br>Population, total=%{marker.size}<extra></extra>",
           "hovertext": [
            "China"
           ],
           "legendgroup": "China",
           "marker": {
            "color": "#EF553B",
            "size": {
             "bdata": "AAAAJgUL1UE=",
             "dtype": "f8"
            },
            "sizemode": "area",
            "sizeref": 399463.7766666667,
            "symbol": "circle"
           },
           "mode": "markers",
           "name": "China",
           "orientation": "v",
           "showlegend": true,
           "type": "scatter",
           "x": {
            "bdata": "TTsITm1DsEI=",
            "dtype": "f8"
           },
           "xaxis": "x",
           "y": {
            "bdata": "AACAuFskBUI=",
            "dtype": "f8"
           },
           "yaxis": "y"
          },
          {
           "hovertemplate": "<b>%{hovertext}</b><br><br>Country Name=Germany<br>Year=2022<br>GDP (current US$)=%{x}<br>CO2 Emissions (kt)=%{y}<br>Population, total=%{marker.size}<extra></extra>",
           "hovertext": [
            "Germany"
           ],
           "legendgroup": "Germany",
           "marker": {
            "color": "#00cc96",
            "size": {
             "bdata": "AAAAhJ/6k0E=",
             "dtype": "f8"
            },
            "sizemode": "area",
            "sizeref": 399463.7766666667,
            "symbol": "circle"
           },
           "mode": "markers",
           "name": "Germany",
           "orientation": "v",
           "showlegend": true,
           "type": "scatter",
           "x": {
            "bdata": "H7uHdE1LjkI=",
            "dtype": "f8"
           },
           "xaxis": "x",
           "y": {
            "bdata": "AAAA3+sCxEE=",
            "dtype": "f8"
           },
           "yaxis": "y"
          },
          {
           "hovertemplate": "<b>%{hovertext}</b><br><br>Country Name=India<br>Year=2022<br>GDP (current US$)=%{x}<br>CO2 Emissions (kt)=%{y}<br>Population, total=%{marker.size}<extra></extra>",
           "hovertext": [
            "India"
           ],
           "legendgroup": "India",
           "marker": {
            "color": "#ab63fa",
            "size": {
             "bdata": "AAAA24491UE=",
             "dtype": "f8"
            },
            "sizemode": "area",
            "sizeref": 399463.7766666667,
            "symbol": "circle"
           },
           "mode": "markers",
           "name": "India",
           "orientation": "v",
           "showlegend": true,
           "type": "scatter",
           "x": {
            "bdata": "pLKDV1NmiEI=",
            "dtype": "f8"
           },
           "xaxis": "x",
           "y": {
            "bdata": "AAAAXwUY5UE=",
            "dtype": "f8"
           },
           "yaxis": "y"
          },
          {
           "hovertemplate": "<b>%{hovertext}</b><br><br>Country Name=United States<br>Year=2022<br>GDP (current US$)=%{x}<br>CO2 Emissions (kt)=%{y}<br>Population, total=%{marker.size}<extra></extra>",
           "hovertext": [
            "United States"
           ],
           "legendgroup": "United States",
           "marker": {
            "color": "#FFA15A",
            "size": {
             "bdata": "AAAAc1Hds0E=",
             "dtype": "f8"
            },
            "sizemode": "area",
            "sizeref": 399463.7766666667,
            "symbol": "circle"
           },
           "mode": "markers",
           "name": "United States",
           "orientation": "v",
           "showlegend": true,
           "type": "scatter",
           "x": {
            "bdata": "AEB1njOnt0I=",
            "dtype": "f8"
           },
           "xaxis": "x",
           "y": {
            "bdata": "AACAvZbr8kE=",
            "dtype": "f8"
           },
           "yaxis": "y"
          }
         ],
         "name": "2022"
        },
        {
         "data": [
          {
           "hovertemplate": "<b>%{hovertext}</b><br><br>Country Name=Brazil<br>Year=2023<br>GDP (current US$)=%{x}<br>CO2 Emissions (kt)=%{y}<br>Population, total=%{marker.size}<extra></extra>",
           "hovertext": [
            "Brazil"
           ],
           "legendgroup": "Brazil",
           "marker": {
            "color": "#636efa",
            "size": {
             "bdata": "AAAA8oArqUE=",
             "dtype": "f8"
            },
            "sizemode": "area",
            "sizeref": 399463.7766666667,
            "symbol": "circle"
           },
           "mode": "markers",
           "name": "Brazil",
           "orientation": "v",
           "showlegend": true,
           "type": "scatter",
           "x": {
            "bdata": "UhTIG4mhf0I=",
            "dtype": "f8"
           },
           "xaxis": "x",
           "y": {
            "bdata": "AAAAwPH+vEE=",
            "dtype": "f8"
           },
           "yaxis": "y"
          },
          {
           "hovertemplate": "<b>%{hovertext}</b><br><br>Country Name=China<br>Year=2023<br>GDP (current US$)=%{x}<br>CO2 Emissions (kt)=%{y}<br>Population, total=%{marker.size}<extra></extra>",
           "hovertext": [
            "China"
           ],
           "legendgroup": "China",
           "marker": {
            "color": "#EF553B",
            "size": {
             "bdata": "AAAAfG4F1UE=",
             "dtype": "f8"
            },
            "sizemode": "area",
            "sizeref": 399463.7766666667,
            "symbol": "circle"
           },
           "mode": "markers",
           "name": "China",
           "orientation": "v",
           "showlegend": true,
           "type": "scatter",
           "x": {
            "bdata": "AEDQuCsvsEI=",
            "dtype": "f8"
           },
           "xaxis": "x",
           "y": {
            "bdata": "AADAQo4rBkI=",
            "dtype": "f8"
           },
           "yaxis": "y"
          },
          {
           "hovertemplate": "<b>%{hovertext}</b><br><br>Country Name=Germany<br>Year=2023<br>GDP (current US$)=%{x}<br>CO2 Emissions (kt)=%{y}<br>Population, total=%{marker.size}<extra></extra>",
           "hovertext": [
            "Germany"
           ],
           "legendgroup": "Germany",
           "marker": {
            "color": "#00cc96",
            "size": {
             "bdata": "AAAAAALbk0E=",
             "dtype": "f8"
            },
            "sizemode": "area",
            "sizeref": 399463.7766666667,
            "symbol": "circle"
           },
           "mode": "markers",
           "name": "Germany",
           "orientation": "v",
           "showlegend": true,
           "type": "scatter",
           "x": {
            "bdata": "Hy7m5ON2kEI=",
            "dtype": "f8"
           },
           "xaxis": "x",
           "y": {
            "bdata": "AAAAIEbEwUE=",
            "dtype": "f8"
           },
           "yaxis": "y"
          },
          {
           "hovertemplate": "<b>%{hovertext}</b><br><br>Country Name=India<br>Year=2023<br>GDP (current US$)=%{x}<br>CO2 Emissions (kt)=%{y}<br>Population, total=%{marker.size}<extra></extra>",
           "hovertext": [
            "India"
           ],
           "legendgroup": "India",
           "marker": {
            "color": "#ab63fa",
            "size": {
             "bdata": "AAAA18xt1UE=",
             "dtype": "f8"
            },
            "sizemode": "area",
            "sizeref": 399463.7766666667,
            "symbol": "circle"
           },
           "mode": "markers",
           "name": "India",
           "orientation": "v",
           "showlegend": true,
           "type": "scatter",
           "x": {
            "bdata": "FPjHMxX1iUI=",
            "dtype": "f8"
           },
           "xaxis": "x",
           "y": {
            "bdata": "AACAouvQ5kE=",
            "dtype": "f8"
           },
           "yaxis": "y"
          },
          {
           "hovertemplate": "<b>%{hovertext}</b><br><br>Country Name=United States<br>Year=2023<br>GDP (current US$)=%{x}<br>CO2 Emissions (kt)=%{y}<br>Population, total=%{marker.size}<extra></extra>",
           "hovertext": [
            "United States"
           ],
           "legendgroup": "United States",
           "marker": {
            "color": "#FFA15A",
            "size": {
             "bdata": "AAAAT2X2s0E=",
             "dtype": "f8"
            },
            "sizemode": "area",
            "sizeref": 399463.7766666667,
            "symbol": "circle"
           },
           "mode": "markers",
           "name": "United States",
           "orientation": "v",
           "showlegend": true,
           "type": "scatter",
           "x": {
            "bdata": "AEBLAzs2uUI=",
            "dtype": "f8"
           },
           "xaxis": "x",
           "y": {
            "bdata": "AACAEd5L8kE=",
            "dtype": "f8"
           },
           "yaxis": "y"
          }
         ],
         "name": "2023"
        }
       ],
       "layout": {
        "legend": {
         "itemsizing": "constant",
         "title": {
          "text": "Country Name"
         },
         "tracegroupgap": 0
        },
        "sliders": [
         {
          "active": 0,
          "currentvalue": {
           "prefix": "Year="
          },
          "len": 0.9,
          "pad": {
           "b": 10,
           "t": 60
          },
          "steps": [
           {
            "args": [
             [
              "1960"
             ],
             {
              "frame": {
               "duration": 0,
               "redraw": false
              },
              "fromcurrent": true,
              "mode": "immediate",
              "transition": {
               "duration": 0,
               "easing": "linear"
              }
             }
            ],
            "label": "1960",
            "method": "animate"
           },
           {
            "args": [
             [
              "1961"
             ],
             {
              "frame": {
               "duration": 0,
               "redraw": false
              },
              "fromcurrent": true,
              "mode": "immediate",
              "transition": {
               "duration": 0,
               "easing": "linear"
              }
             }
            ],
            "label": "1961",
            "method": "animate"
           },
           {
            "args": [
             [
              "1962"
             ],
             {
              "frame": {
               "duration": 0,
               "redraw": false
              },
              "fromcurrent": true,
              "mode": "immediate",
              "transition": {
               "duration": 0,
               "easing": "linear"
              }
             }
            ],
            "label": "1962",
            "method": "animate"
           },
           {
            "args": [
             [
              "1963"
             ],
             {
              "frame": {
               "duration": 0,
               "redraw": false
              },
              "fromcurrent": true,
              "mode": "immediate",
              "transition": {
               "duration": 0,
               "easing": "linear"
              }
             }
            ],
            "label": "1963",
            "method": "animate"
           },
           {
            "args": [
             [
              "1964"
             ],
             {
              "frame": {
               "duration": 0,
               "redraw": false
              },
              "fromcurrent": true,
              "mode": "immediate",
              "transition": {
               "duration": 0,
               "easing": "linear"
              }
             }
            ],
            "label": "1964",
            "method": "animate"
           },
           {
            "args": [
             [
              "1965"
             ],
             {
              "frame": {
               "duration": 0,
               "redraw": false
              },
              "fromcurrent": true,
              "mode": "immediate",
              "transition": {
               "duration": 0,
               "easing": "linear"
              }
             }
            ],
            "label": "1965",
            "method": "animate"
           },
           {
            "args": [
             [
              "1966"
             ],
             {
              "frame": {
               "duration": 0,
               "redraw": false
              },
              "fromcurrent": true,
              "mode": "immediate",
              "transition": {
               "duration": 0,
               "easing": "linear"
              }
             }
            ],
            "label": "1966",
            "method": "animate"
           },
           {
            "args": [
             [
              "1967"
             ],
             {
              "frame": {
               "duration": 0,
               "redraw": false
              },
              "fromcurrent": true,
              "mode": "immediate",
              "transition": {
               "duration": 0,
               "easing": "linear"
              }
             }
            ],
            "label": "1967",
            "method": "animate"
           },
           {
            "args": [
             [
              "1968"
             ],
             {
              "frame": {
               "duration": 0,
               "redraw": false
              },
              "fromcurrent": true,
              "mode": "immediate",
              "transition": {
               "duration": 0,
               "easing": "linear"
              }
             }
            ],
            "label": "1968",
            "method": "animate"
           },
           {
            "args": [
             [
              "1969"
             ],
             {
              "frame": {
               "duration": 0,
               "redraw": false
              },
              "fromcurrent": true,
              "mode": "immediate",
              "transition": {
               "duration": 0,
               "easing": "linear"
              }
             }
            ],
            "label": "1969",
            "method": "animate"
           },
           {
            "args": [
             [
              "1970"
             ],
             {
              "frame": {
               "duration": 0,
               "redraw": false
              },
              "fromcurrent": true,
              "mode": "immediate",
              "transition": {
               "duration": 0,
               "easing": "linear"
              }
             }
            ],
            "label": "1970",
            "method": "animate"
           },
           {
            "args": [
             [
              "1971"
             ],
             {
              "frame": {
               "duration": 0,
               "redraw": false
              },
              "fromcurrent": true,
              "mode": "immediate",
              "transition": {
               "duration": 0,
               "easing": "linear"
              }
             }
            ],
            "label": "1971",
            "method": "animate"
           },
           {
            "args": [
             [
              "1972"
             ],
             {
              "frame": {
               "duration": 0,
               "redraw": false
              },
              "fromcurrent": true,
              "mode": "immediate",
              "transition": {
               "duration": 0,
               "easing": "linear"
              }
             }
            ],
            "label": "1972",
            "method": "animate"
           },
           {
            "args": [
             [
              "1973"
             ],
             {
              "frame": {
               "duration": 0,
               "redraw": false
              },
              "fromcurrent": true,
              "mode": "immediate",
              "transition": {
               "duration": 0,
               "easing": "linear"
              }
             }
            ],
            "label": "1973",
            "method": "animate"
           },
           {
            "args": [
             [
              "1974"
             ],
             {
              "frame": {
               "duration": 0,
               "redraw": false
              },
              "fromcurrent": true,
              "mode": "immediate",
              "transition": {
               "duration": 0,
               "easing": "linear"
              }
             }
            ],
            "label": "1974",
            "method": "animate"
           },
           {
            "args": [
             [
              "1975"
             ],
             {
              "frame": {
               "duration": 0,
               "redraw": false
              },
              "fromcurrent": true,
              "mode": "immediate",
              "transition": {
               "duration": 0,
               "easing": "linear"
              }
             }
            ],
            "label": "1975",
            "method": "animate"
           },
           {
            "args": [
             [
              "1976"
             ],
             {
              "frame": {
               "duration": 0,
               "redraw": false
              },
              "fromcurrent": true,
              "mode": "immediate",
              "transition": {
               "duration": 0,
               "easing": "linear"
              }
             }
            ],
            "label": "1976",
            "method": "animate"
           },
           {
            "args": [
             [
              "1977"
             ],
             {
              "frame": {
               "duration": 0,
               "redraw": false
              },
              "fromcurrent": true,
              "mode": "immediate",
              "transition": {
               "duration": 0,
               "easing": "linear"
              }
             }
            ],
            "label": "1977",
            "method": "animate"
           },
           {
            "args": [
             [
              "1978"
             ],
             {
              "frame": {
               "duration": 0,
               "redraw": false
              },
              "fromcurrent": true,
              "mode": "immediate",
              "transition": {
               "duration": 0,
               "easing": "linear"
              }
             }
            ],
            "label": "1978",
            "method": "animate"
           },
           {
            "args": [
             [
              "1979"
             ],
             {
              "frame": {
               "duration": 0,
               "redraw": false
              },
              "fromcurrent": true,
              "mode": "immediate",
              "transition": {
               "duration": 0,
               "easing": "linear"
              }
             }
            ],
            "label": "1979",
            "method": "animate"
           },
           {
            "args": [
             [
              "1980"
             ],
             {
              "frame": {
               "duration": 0,
               "redraw": false
              },
              "fromcurrent": true,
              "mode": "immediate",
              "transition": {
               "duration": 0,
               "easing": "linear"
              }
             }
            ],
            "label": "1980",
            "method": "animate"
           },
           {
            "args": [
             [
              "1981"
             ],
             {
              "frame": {
               "duration": 0,
               "redraw": false
              },
              "fromcurrent": true,
              "mode": "immediate",
              "transition": {
               "duration": 0,
               "easing": "linear"
              }
             }
            ],
            "label": "1981",
            "method": "animate"
           },
           {
            "args": [
             [
              "1982"
             ],
             {
              "frame": {
               "duration": 0,
               "redraw": false
              },
              "fromcurrent": true,
              "mode": "immediate",
              "transition": {
               "duration": 0,
               "easing": "linear"
              }
             }
            ],
            "label": "1982",
            "method": "animate"
           },
           {
            "args": [
             [
              "1983"
             ],
             {
              "frame": {
               "duration": 0,
               "redraw": false
              },
              "fromcurrent": true,
              "mode": "immediate",
              "transition": {
               "duration": 0,
               "easing": "linear"
              }
             }
            ],
            "label": "1983",
            "method": "animate"
           },
           {
            "args": [
             [
              "1984"
             ],
             {
              "frame": {
               "duration": 0,
               "redraw": false
              },
              "fromcurrent": true,
              "mode": "immediate",
              "transition": {
               "duration": 0,
               "easing": "linear"
              }
             }
            ],
            "label": "1984",
            "method": "animate"
           },
           {
            "args": [
             [
              "1985"
             ],
             {
              "frame": {
               "duration": 0,
               "redraw": false
              },
              "fromcurrent": true,
              "mode": "immediate",
              "transition": {
               "duration": 0,
               "easing": "linear"
              }
             }
            ],
            "label": "1985",
            "method": "animate"
           },
           {
            "args": [
             [
              "1986"
             ],
             {
              "frame": {
               "duration": 0,
               "redraw": false
              },
              "fromcurrent": true,
              "mode": "immediate",
              "transition": {
               "duration": 0,
               "easing": "linear"
              }
             }
            ],
            "label": "1986",
            "method": "animate"
           },
           {
            "args": [
             [
              "1987"
             ],
             {
              "frame": {
               "duration": 0,
               "redraw": false
              },
              "fromcurrent": true,
              "mode": "immediate",
              "transition": {
               "duration": 0,
               "easing": "linear"
              }
             }
            ],
            "label": "1987",
            "method": "animate"
           },
           {
            "args": [
             [
              "1988"
             ],
             {
              "frame": {
               "duration": 0,
               "redraw": false
              },
              "fromcurrent": true,
              "mode": "immediate",
              "transition": {
               "duration": 0,
               "easing": "linear"
              }
             }
            ],
            "label": "1988",
            "method": "animate"
           },
           {
            "args": [
             [
              "1989"
             ],
             {
              "frame": {
               "duration": 0,
               "redraw": false
              },
              "fromcurrent": true,
              "mode": "immediate",
              "transition": {
               "duration": 0,
               "easing": "linear"
              }
             }
            ],
            "label": "1989",
            "method": "animate"
           },
           {
            "args": [
             [
              "1990"
             ],
             {
              "frame": {
               "duration": 0,
               "redraw": false
              },
              "fromcurrent": true,
              "mode": "immediate",
              "transition": {
               "duration": 0,
               "easing": "linear"
              }
             }
            ],
            "label": "1990",
            "method": "animate"
           },
           {
            "args": [
             [
              "1991"
             ],
             {
              "frame": {
               "duration": 0,
               "redraw": false
              },
              "fromcurrent": true,
              "mode": "immediate",
              "transition": {
               "duration": 0,
               "easing": "linear"
              }
             }
            ],
            "label": "1991",
            "method": "animate"
           },
           {
            "args": [
             [
              "1992"
             ],
             {
              "frame": {
               "duration": 0,
               "redraw": false
              },
              "fromcurrent": true,
              "mode": "immediate",
              "transition": {
               "duration": 0,
               "easing": "linear"
              }
             }
            ],
            "label": "1992",
            "method": "animate"
           },
           {
            "args": [
             [
              "1993"
             ],
             {
              "frame": {
               "duration": 0,
               "redraw": false
              },
              "fromcurrent": true,
              "mode": "immediate",
              "transition": {
               "duration": 0,
               "easing": "linear"
              }
             }
            ],
            "label": "1993",
            "method": "animate"
           },
           {
            "args": [
             [
              "1994"
             ],
             {
              "frame": {
               "duration": 0,
               "redraw": false
              },
              "fromcurrent": true,
              "mode": "immediate",
              "transition": {
               "duration": 0,
               "easing": "linear"
              }
             }
            ],
            "label": "1994",
            "method": "animate"
           },
           {
            "args": [
             [
              "1995"
             ],
             {
              "frame": {
               "duration": 0,
               "redraw": false
              },
              "fromcurrent": true,
              "mode": "immediate",
              "transition": {
               "duration": 0,
               "easing": "linear"
              }
             }
            ],
            "label": "1995",
            "method": "animate"
           },
           {
            "args": [
             [
              "1996"
             ],
             {
              "frame": {
               "duration": 0,
               "redraw": false
              },
              "fromcurrent": true,
              "mode": "immediate",
              "transition": {
               "duration": 0,
               "easing": "linear"
              }
             }
            ],
            "label": "1996",
            "method": "animate"
           },
           {
            "args": [
             [
              "1997"
             ],
             {
              "frame": {
               "duration": 0,
               "redraw": false
              },
              "fromcurrent": true,
              "mode": "immediate",
              "transition": {
               "duration": 0,
               "easing": "linear"
              }
             }
            ],
            "label": "1997",
            "method": "animate"
           },
           {
            "args": [
             [
              "1998"
             ],
             {
              "frame": {
               "duration": 0,
               "redraw": false
              },
              "fromcurrent": true,
              "mode": "immediate",
              "transition": {
               "duration": 0,
               "easing": "linear"
              }
             }
            ],
            "label": "1998",
            "method": "animate"
           },
           {
            "args": [
             [
              "1999"
             ],
             {
              "frame": {
               "duration": 0,
               "redraw": false
              },
              "fromcurrent": true,
              "mode": "immediate",
              "transition": {
               "duration": 0,
               "easing": "linear"
              }
             }
            ],
            "label": "1999",
            "method": "animate"
           },
           {
            "args": [
             [
              "2000"
             ],
             {
              "frame": {
               "duration": 0,
               "redraw": false
              },
              "fromcurrent": true,
              "mode": "immediate",
              "transition": {
               "duration": 0,
               "easing": "linear"
              }
             }
            ],
            "label": "2000",
            "method": "animate"
           },
           {
            "args": [
             [
              "2001"
             ],
             {
              "frame": {
               "duration": 0,
               "redraw": false
              },
              "fromcurrent": true,
              "mode": "immediate",
              "transition": {
               "duration": 0,
               "easing": "linear"
              }
             }
            ],
            "label": "2001",
            "method": "animate"
           },
           {
            "args": [
             [
              "2002"
             ],
             {
              "frame": {
               "duration": 0,
               "redraw": false
              },
              "fromcurrent": true,
              "mode": "immediate",
              "transition": {
               "duration": 0,
               "easing": "linear"
              }
             }
            ],
            "label": "2002",
            "method": "animate"
           },
           {
            "args": [
             [
              "2003"
             ],
             {
              "frame": {
               "duration": 0,
               "redraw": false
              },
              "fromcurrent": true,
              "mode": "immediate",
              "transition": {
               "duration": 0,
               "easing": "linear"
              }
             }
            ],
            "label": "2003",
            "method": "animate"
           },
           {
            "args": [
             [
              "2004"
             ],
             {
              "frame": {
               "duration": 0,
               "redraw": false
              },
              "fromcurrent": true,
              "mode": "immediate",
              "transition": {
               "duration": 0,
               "easing": "linear"
              }
             }
            ],
            "label": "2004",
            "method": "animate"
           },
           {
            "args": [
             [
              "2005"
             ],
             {
              "frame": {
               "duration": 0,
               "redraw": false
              },
              "fromcurrent": true,
              "mode": "immediate",
              "transition": {
               "duration": 0,
               "easing": "linear"
              }
             }
            ],
            "label": "2005",
            "method": "animate"
           },
           {
            "args": [
             [
              "2006"
             ],
             {
              "frame": {
               "duration": 0,
               "redraw": false
              },
              "fromcurrent": true,
              "mode": "immediate",
              "transition": {
               "duration": 0,
               "easing": "linear"
              }
             }
            ],
            "label": "2006",
            "method": "animate"
           },
           {
            "args": [
             [
              "2007"
             ],
             {
              "frame": {
               "duration": 0,
               "redraw": false
              },
              "fromcurrent": true,
              "mode": "immediate",
              "transition": {
               "duration": 0,
               "easing": "linear"
              }
             }
            ],
            "label": "2007",
            "method": "animate"
           },
           {
            "args": [
             [
              "2008"
             ],
             {
              "frame": {
               "duration": 0,
               "redraw": false
              },
              "fromcurrent": true,
              "mode": "immediate",
              "transition": {
               "duration": 0,
               "easing": "linear"
              }
             }
            ],
            "label": "2008",
            "method": "animate"
           },
           {
            "args": [
             [
              "2009"
             ],
             {
              "frame": {
               "duration": 0,
               "redraw": false
              },
              "fromcurrent": true,
              "mode": "immediate",
              "transition": {
               "duration": 0,
               "easing": "linear"
              }
             }
            ],
            "label": "2009",
            "method": "animate"
           },
           {
            "args": [
             [
              "2010"
             ],
             {
              "frame": {
               "duration": 0,
               "redraw": false
              },
              "fromcurrent": true,
              "mode": "immediate",
              "transition": {
               "duration": 0,
               "easing": "linear"
              }
             }
            ],
            "label": "2010",
            "method": "animate"
           },
           {
            "args": [
             [
              "2011"
             ],
             {
              "frame": {
               "duration": 0,
               "redraw": false
              },
              "fromcurrent": true,
              "mode": "immediate",
              "transition": {
               "duration": 0,
               "easing": "linear"
              }
             }
            ],
            "label": "2011",
            "method": "animate"
           },
           {
            "args": [
             [
              "2012"
             ],
             {
              "frame": {
               "duration": 0,
               "redraw": false
              },
              "fromcurrent": true,
              "mode": "immediate",
              "transition": {
               "duration": 0,
               "easing": "linear"
              }
             }
            ],
            "label": "2012",
            "method": "animate"
           },
           {
            "args": [
             [
              "2013"
             ],
             {
              "frame": {
               "duration": 0,
               "redraw": false
              },
              "fromcurrent": true,
              "mode": "immediate",
              "transition": {
               "duration": 0,
               "easing": "linear"
              }
             }
            ],
            "label": "2013",
            "method": "animate"
           },
           {
            "args": [
             [
              "2014"
             ],
             {
              "frame": {
               "duration": 0,
               "redraw": false
              },
              "fromcurrent": true,
              "mode": "immediate",
              "transition": {
               "duration": 0,
               "easing": "linear"
              }
             }
            ],
            "label": "2014",
            "method": "animate"
           },
           {
            "args": [
             [
              "2015"
             ],
             {
              "frame": {
               "duration": 0,
               "redraw": false
              },
              "fromcurrent": true,
              "mode": "immediate",
              "transition": {
               "duration": 0,
               "easing": "linear"
              }
             }
            ],
            "label": "2015",
            "method": "animate"
           },
           {
            "args": [
             [
              "2016"
             ],
             {
              "frame": {
               "duration": 0,
               "redraw": false
              },
              "fromcurrent": true,
              "mode": "immediate",
              "transition": {
               "duration": 0,
               "easing": "linear"
              }
             }
            ],
            "label": "2016",
            "method": "animate"
           },
           {
            "args": [
             [
              "2017"
             ],
             {
              "frame": {
               "duration": 0,
               "redraw": false
              },
              "fromcurrent": true,
              "mode": "immediate",
              "transition": {
               "duration": 0,
               "easing": "linear"
              }
             }
            ],
            "label": "2017",
            "method": "animate"
           },
           {
            "args": [
             [
              "2018"
             ],
             {
              "frame": {
               "duration": 0,
               "redraw": false
              },
              "fromcurrent": true,
              "mode": "immediate",
              "transition": {
               "duration": 0,
               "easing": "linear"
              }
             }
            ],
            "label": "2018",
            "method": "animate"
           },
           {
            "args": [
             [
              "2019"
             ],
             {
              "frame": {
               "duration": 0,
               "redraw": false
              },
              "fromcurrent": true,
              "mode": "immediate",
              "transition": {
               "duration": 0,
               "easing": "linear"
              }
             }
            ],
            "label": "2019",
            "method": "animate"
           },
           {
            "args": [
             [
              "2020"
             ],
             {
              "frame": {
               "duration": 0,
               "redraw": false
              },
              "fromcurrent": true,
              "mode": "immediate",
              "transition": {
               "duration": 0,
               "easing": "linear"
              }
             }
            ],
            "label": "2020",
            "method": "animate"
           },
           {
            "args": [
             [
              "2021"
             ],
             {
              "frame": {
               "duration": 0,
               "redraw": false
              },
              "fromcurrent": true,
              "mode": "immediate",
              "transition": {
               "duration": 0,
               "easing": "linear"
              }
             }
            ],
            "label": "2021",
            "method": "animate"
           },
           {
            "args": [
             [
              "2022"
             ],
             {
              "frame": {
               "duration": 0,
               "redraw": false
              },
              "fromcurrent": true,
              "mode": "immediate",
              "transition": {
               "duration": 0,
               "easing": "linear"
              }
             }
            ],
            "label": "2022",
            "method": "animate"
           },
           {
            "args": [
             [
              "2023"
             ],
             {
              "frame": {
               "duration": 0,
               "redraw": false
              },
              "fromcurrent": true,
              "mode": "immediate",
              "transition": {
               "duration": 0,
               "easing": "linear"
              }
             }
            ],
            "label": "2023",
            "method": "animate"
           }
          ],
          "x": 0.1,
          "xanchor": "left",
          "y": 0,
          "yanchor": "top"
         }
        ],
        "template": {
         "data": {
          "bar": [
           {
            "error_x": {
             "color": "#2a3f5f"
            },
            "error_y": {
             "color": "#2a3f5f"
            },
            "marker": {
             "line": {
              "color": "#E5ECF6",
              "width": 0.5
             },
             "pattern": {
              "fillmode": "overlay",
              "size": 10,
              "solidity": 0.2
             }
            },
            "type": "bar"
           }
          ],
          "barpolar": [
           {
            "marker": {
             "line": {
              "color": "#E5ECF6",
              "width": 0.5
             },
             "pattern": {
              "fillmode": "overlay",
              "size": 10,
              "solidity": 0.2
             }
            },
            "type": "barpolar"
           }
          ],
          "carpet": [
           {
            "aaxis": {
             "endlinecolor": "#2a3f5f",
             "gridcolor": "white",
             "linecolor": "white",
             "minorgridcolor": "white",
             "startlinecolor": "#2a3f5f"
            },
            "baxis": {
             "endlinecolor": "#2a3f5f",
             "gridcolor": "white",
             "linecolor": "white",
             "minorgridcolor": "white",
             "startlinecolor": "#2a3f5f"
            },
            "type": "carpet"
           }
          ],
          "choropleth": [
           {
            "colorbar": {
             "outlinewidth": 0,
             "ticks": ""
            },
            "type": "choropleth"
           }
          ],
          "contour": [
           {
            "colorbar": {
             "outlinewidth": 0,
             "ticks": ""
            },
            "colorscale": [
             [
              0,
              "#0d0887"
             ],
             [
              0.1111111111111111,
              "#46039f"
             ],
             [
              0.2222222222222222,
              "#7201a8"
             ],
             [
              0.3333333333333333,
              "#9c179e"
             ],
             [
              0.4444444444444444,
              "#bd3786"
             ],
             [
              0.5555555555555556,
              "#d8576b"
             ],
             [
              0.6666666666666666,
              "#ed7953"
             ],
             [
              0.7777777777777778,
              "#fb9f3a"
             ],
             [
              0.8888888888888888,
              "#fdca26"
             ],
             [
              1,
              "#f0f921"
             ]
            ],
            "type": "contour"
           }
          ],
          "contourcarpet": [
           {
            "colorbar": {
             "outlinewidth": 0,
             "ticks": ""
            },
            "type": "contourcarpet"
           }
          ],
          "heatmap": [
           {
            "colorbar": {
             "outlinewidth": 0,
             "ticks": ""
            },
            "colorscale": [
             [
              0,
              "#0d0887"
             ],
             [
              0.1111111111111111,
              "#46039f"
             ],
             [
              0.2222222222222222,
              "#7201a8"
             ],
             [
              0.3333333333333333,
              "#9c179e"
             ],
             [
              0.4444444444444444,
              "#bd3786"
             ],
             [
              0.5555555555555556,
              "#d8576b"
             ],
             [
              0.6666666666666666,
              "#ed7953"
             ],
             [
              0.7777777777777778,
              "#fb9f3a"
             ],
             [
              0.8888888888888888,
              "#fdca26"
             ],
             [
              1,
              "#f0f921"
             ]
            ],
            "type": "heatmap"
           }
          ],
          "histogram": [
           {
            "marker": {
             "pattern": {
              "fillmode": "overlay",
              "size": 10,
              "solidity": 0.2
             }
            },
            "type": "histogram"
           }
          ],
          "histogram2d": [
           {
            "colorbar": {
             "outlinewidth": 0,
             "ticks": ""
            },
            "colorscale": [
             [
              0,
              "#0d0887"
             ],
             [
              0.1111111111111111,
              "#46039f"
             ],
             [
              0.2222222222222222,
              "#7201a8"
             ],
             [
              0.3333333333333333,
              "#9c179e"
             ],
             [
              0.4444444444444444,
              "#bd3786"
             ],
             [
              0.5555555555555556,
              "#d8576b"
             ],
             [
              0.6666666666666666,
              "#ed7953"
             ],
             [
              0.7777777777777778,
              "#fb9f3a"
             ],
             [
              0.8888888888888888,
              "#fdca26"
             ],
             [
              1,
              "#f0f921"
             ]
            ],
            "type": "histogram2d"
           }
          ],
          "histogram2dcontour": [
           {
            "colorbar": {
             "outlinewidth": 0,
             "ticks": ""
            },
            "colorscale": [
             [
              0,
              "#0d0887"
             ],
             [
              0.1111111111111111,
              "#46039f"
             ],
             [
              0.2222222222222222,
              "#7201a8"
             ],
             [
              0.3333333333333333,
              "#9c179e"
             ],
             [
              0.4444444444444444,
              "#bd3786"
             ],
             [
              0.5555555555555556,
              "#d8576b"
             ],
             [
              0.6666666666666666,
              "#ed7953"
             ],
             [
              0.7777777777777778,
              "#fb9f3a"
             ],
             [
              0.8888888888888888,
              "#fdca26"
             ],
             [
              1,
              "#f0f921"
             ]
            ],
            "type": "histogram2dcontour"
           }
          ],
          "mesh3d": [
           {
            "colorbar": {
             "outlinewidth": 0,
             "ticks": ""
            },
            "type": "mesh3d"
           }
          ],
          "parcoords": [
           {
            "line": {
             "colorbar": {
              "outlinewidth": 0,
              "ticks": ""
             }
            },
            "type": "parcoords"
           }
          ],
          "pie": [
           {
            "automargin": true,
            "type": "pie"
           }
          ],
          "scatter": [
           {
            "fillpattern": {
             "fillmode": "overlay",
             "size": 10,
             "solidity": 0.2
            },
            "type": "scatter"
           }
          ],
          "scatter3d": [
           {
            "line": {
             "colorbar": {
              "outlinewidth": 0,
              "ticks": ""
             }
            },
            "marker": {
             "colorbar": {
              "outlinewidth": 0,
              "ticks": ""
             }
            },
            "type": "scatter3d"
           }
          ],
          "scattercarpet": [
           {
            "marker": {
             "colorbar": {
              "outlinewidth": 0,
              "ticks": ""
             }
            },
            "type": "scattercarpet"
           }
          ],
          "scattergeo": [
           {
            "marker": {
             "colorbar": {
              "outlinewidth": 0,
              "ticks": ""
             }
            },
            "type": "scattergeo"
           }
          ],
          "scattergl": [
           {
            "marker": {
             "colorbar": {
              "outlinewidth": 0,
              "ticks": ""
             }
            },
            "type": "scattergl"
           }
          ],
          "scattermap": [
           {
            "marker": {
             "colorbar": {
              "outlinewidth": 0,
              "ticks": ""
             }
            },
            "type": "scattermap"
           }
          ],
          "scattermapbox": [
           {
            "marker": {
             "colorbar": {
              "outlinewidth": 0,
              "ticks": ""
             }
            },
            "type": "scattermapbox"
           }
          ],
          "scatterpolar": [
           {
            "marker": {
             "colorbar": {
              "outlinewidth": 0,
              "ticks": ""
             }
            },
            "type": "scatterpolar"
           }
          ],
          "scatterpolargl": [
           {
            "marker": {
             "colorbar": {
              "outlinewidth": 0,
              "ticks": ""
             }
            },
            "type": "scatterpolargl"
           }
          ],
          "scatterternary": [
           {
            "marker": {
             "colorbar": {
              "outlinewidth": 0,
              "ticks": ""
             }
            },
            "type": "scatterternary"
           }
          ],
          "surface": [
           {
            "colorbar": {
             "outlinewidth": 0,
             "ticks": ""
            },
            "colorscale": [
             [
              0,
              "#0d0887"
             ],
             [
              0.1111111111111111,
              "#46039f"
             ],
             [
              0.2222222222222222,
              "#7201a8"
             ],
             [
              0.3333333333333333,
              "#9c179e"
             ],
             [
              0.4444444444444444,
              "#bd3786"
             ],
             [
              0.5555555555555556,
              "#d8576b"
             ],
             [
              0.6666666666666666,
              "#ed7953"
             ],
             [
              0.7777777777777778,
              "#fb9f3a"
             ],
             [
              0.8888888888888888,
              "#fdca26"
             ],
             [
              1,
              "#f0f921"
             ]
            ],
            "type": "surface"
           }
          ],
          "table": [
           {
            "cells": {
             "fill": {
              "color": "#EBF0F8"
             },
             "line": {
              "color": "white"
             }
            },
            "header": {
             "fill": {
              "color": "#C8D4E3"
             },
             "line": {
              "color": "white"
             }
            },
            "type": "table"
           }
          ]
         },
         "layout": {
          "annotationdefaults": {
           "arrowcolor": "#2a3f5f",
           "arrowhead": 0,
           "arrowwidth": 1
          },
          "autotypenumbers": "strict",
          "coloraxis": {
           "colorbar": {
            "outlinewidth": 0,
            "ticks": ""
           }
          },
          "colorscale": {
           "diverging": [
            [
             0,
             "#8e0152"
            ],
            [
             0.1,
             "#c51b7d"
            ],
            [
             0.2,
             "#de77ae"
            ],
            [
             0.3,
             "#f1b6da"
            ],
            [
             0.4,
             "#fde0ef"
            ],
            [
             0.5,
             "#f7f7f7"
            ],
            [
             0.6,
             "#e6f5d0"
            ],
            [
             0.7,
             "#b8e186"
            ],
            [
             0.8,
             "#7fbc41"
            ],
            [
             0.9,
             "#4d9221"
            ],
            [
             1,
             "#276419"
            ]
           ],
           "sequential": [
            [
             0,
             "#0d0887"
            ],
            [
             0.1111111111111111,
             "#46039f"
            ],
            [
             0.2222222222222222,
             "#7201a8"
            ],
            [
             0.3333333333333333,
             "#9c179e"
            ],
            [
             0.4444444444444444,
             "#bd3786"
            ],
            [
             0.5555555555555556,
             "#d8576b"
            ],
            [
             0.6666666666666666,
             "#ed7953"
            ],
            [
             0.7777777777777778,
             "#fb9f3a"
            ],
            [
             0.8888888888888888,
             "#fdca26"
            ],
            [
             1,
             "#f0f921"
            ]
           ],
           "sequentialminus": [
            [
             0,
             "#0d0887"
            ],
            [
             0.1111111111111111,
             "#46039f"
            ],
            [
             0.2222222222222222,
             "#7201a8"
            ],
            [
             0.3333333333333333,
             "#9c179e"
            ],
            [
             0.4444444444444444,
             "#bd3786"
            ],
            [
             0.5555555555555556,
             "#d8576b"
            ],
            [
             0.6666666666666666,
             "#ed7953"
            ],
            [
             0.7777777777777778,
             "#fb9f3a"
            ],
            [
             0.8888888888888888,
             "#fdca26"
            ],
            [
             1,
             "#f0f921"
            ]
           ]
          },
          "colorway": [
           "#636efa",
           "#EF553B",
           "#00cc96",
           "#ab63fa",
           "#FFA15A",
           "#19d3f3",
           "#FF6692",
           "#B6E880",
           "#FF97FF",
           "#FECB52"
          ],
          "font": {
           "color": "#2a3f5f"
          },
          "geo": {
           "bgcolor": "white",
           "lakecolor": "white",
           "landcolor": "#E5ECF6",
           "showlakes": true,
           "showland": true,
           "subunitcolor": "white"
          },
          "hoverlabel": {
           "align": "left"
          },
          "hovermode": "closest",
          "mapbox": {
           "style": "light"
          },
          "paper_bgcolor": "white",
          "plot_bgcolor": "#E5ECF6",
          "polar": {
           "angularaxis": {
            "gridcolor": "white",
            "linecolor": "white",
            "ticks": ""
           },
           "bgcolor": "#E5ECF6",
           "radialaxis": {
            "gridcolor": "white",
            "linecolor": "white",
            "ticks": ""
           }
          },
          "scene": {
           "xaxis": {
            "backgroundcolor": "#E5ECF6",
            "gridcolor": "white",
            "gridwidth": 2,
            "linecolor": "white",
            "showbackground": true,
            "ticks": "",
            "zerolinecolor": "white"
           },
           "yaxis": {
            "backgroundcolor": "#E5ECF6",
            "gridcolor": "white",
            "gridwidth": 2,
            "linecolor": "white",
            "showbackground": true,
            "ticks": "",
            "zerolinecolor": "white"
           },
           "zaxis": {
            "backgroundcolor": "#E5ECF6",
            "gridcolor": "white",
            "gridwidth": 2,
            "linecolor": "white",
            "showbackground": true,
            "ticks": "",
            "zerolinecolor": "white"
           }
          },
          "shapedefaults": {
           "line": {
            "color": "#2a3f5f"
           }
          },
          "ternary": {
           "aaxis": {
            "gridcolor": "white",
            "linecolor": "white",
            "ticks": ""
           },
           "baxis": {
            "gridcolor": "white",
            "linecolor": "white",
            "ticks": ""
           },
           "bgcolor": "#E5ECF6",
           "caxis": {
            "gridcolor": "white",
            "linecolor": "white",
            "ticks": ""
           }
          },
          "title": {
           "x": 0.05
          },
          "xaxis": {
           "automargin": true,
           "gridcolor": "white",
           "linecolor": "white",
           "ticks": "",
           "title": {
            "standoff": 15
           },
           "zerolinecolor": "white",
           "zerolinewidth": 2
          },
          "yaxis": {
           "automargin": true,
           "gridcolor": "white",
           "linecolor": "white",
           "ticks": "",
           "title": {
            "standoff": 15
           },
           "zerolinecolor": "white",
           "zerolinewidth": 2
          }
         }
        },
        "title": {
         "text": "CO2 Emissions vs GDP Over Time"
        },
        "updatemenus": [
         {
          "buttons": [
           {
            "args": [
             null,
             {
              "frame": {
               "duration": 500,
               "redraw": false
              },
              "fromcurrent": true,
              "mode": "immediate",
              "transition": {
               "duration": 500,
               "easing": "linear"
              }
             }
            ],
            "label": "&#9654;",
            "method": "animate"
           },
           {
            "args": [
             [
              null
             ],
             {
              "frame": {
               "duration": 0,
               "redraw": false
              },
              "fromcurrent": true,
              "mode": "immediate",
              "transition": {
               "duration": 0,
               "easing": "linear"
              }
             }
            ],
            "label": "&#9724;",
            "method": "animate"
           }
          ],
          "direction": "left",
          "pad": {
           "r": 10,
           "t": 70
          },
          "showactive": false,
          "type": "buttons",
          "x": 0.1,
          "xanchor": "right",
          "y": 0,
          "yanchor": "top"
         }
        ],
        "xaxis": {
         "anchor": "y",
         "domain": [
          0,
          1
         ],
         "title": {
          "text": "GDP (Current US$, log scale)"
         },
         "type": "log"
        },
        "yaxis": {
         "anchor": "x",
         "domain": [
          0,
          1
         ],
         "title": {
          "text": "CO2 Emissions (kt, log scale)"
         },
         "type": "log"
        }
       }
      }
     },
     "metadata": {},
     "output_type": "display_data"
    }
   ],
   "source": [
    "# Cell 6: Advanced Visualization - CO2 Emissions vs GDP Over Time\n",
    "def create_bubble_animation(df, selected_countries=None):\n",
    "    \"\"\"Create an animated bubble chart showing CO2 emissions vs GDP over time.\"\"\"\n",
    "    # Filter data\n",
    "    if selected_countries:\n",
    "        filtered_df = df[df['Country Name'].isin(selected_countries)].dropna(\n",
    "            subset=['GDP (current US$)', 'CO2 Emissions (kt)', 'Population, total']\n",
    "        )\n",
    "    else:\n",
    "        # Use top 20 countries by population if none specified\n",
    "        top_countries = df.groupby('Country Name')['Population, total'].max().nlargest(20).index.tolist()\n",
    "        filtered_df = df[df['Country Name'].isin(top_countries)].dropna(\n",
    "            subset=['GDP (Current US$)', 'CO2 Emissions (kt)', 'Population, total']\n",
    "        )\n",
    "\n",
    "    # Create animated bubble chart\n",
    "    fig = px.scatter(\n",
    "        filtered_df,\n",
    "        x='GDP (current US$)',\n",
    "        y='CO2 Emissions (kt)',\n",
    "        size='Population, total',\n",
    "        color='Country Name',\n",
    "        hover_name='Country Name',\n",
    "        log_x=True,\n",
    "        log_y=True,\n",
    "        size_max=60,\n",
    "        animation_frame='Year',\n",
    "        title='CO2 Emissions vs GDP Over Time'\n",
    "    )\n",
    "\n",
    "    fig.update_layout(\n",
    "        xaxis_title='GDP (Current US$, log scale)',\n",
    "        yaxis_title='CO2 Emissions (kt, log scale)'\n",
    "    )\n",
    "\n",
    "    return fig\n",
    "\n",
    "# Test the animation with sample countries\n",
    "animation_fig = create_bubble_animation(df, sample_countries)\n",
    "animation_fig.show()  # Display the animation in Jupyter"
   ]
  },
  {
   "cell_type": "code",
   "execution_count": 13,
   "id": "13ffc9b92c9d4fde",
   "metadata": {
    "ExecuteTime": {
     "end_time": "2025-03-21T22:59:10.373034Z",
     "start_time": "2025-03-21T22:59:10.368706Z"
    }
   },
   "outputs": [],
   "source": [
    "# Cell 6: Dashboard Callbacks\n",
    "# These would be integrated in the final Dash app\n",
    "\n",
    "# Callback for Choropleth Map\n",
    "@app.callback(\n",
    "    Output('choropleth-map', 'figure'),\n",
    "    [Input('year-slider', 'value'),\n",
    "     Input('map-metric-dropdown', 'value')]\n",
    ")\n",
    "def update_map(selected_year, selected_metric):\n",
    "    return create_choropleth_map(df, selected_year, selected_metric, metrics)\n",
    "\n",
    "# Callback for Scatter Plot\n",
    "@app.callback(\n",
    "    Output('scatter-plot', 'figure'),\n",
    "    [Input('year-slider', 'value'),\n",
    "     Input('country-dropdown', 'value')]\n",
    ")\n",
    "def update_scatter(selected_year, selected_countries):\n",
    "    return create_scatter_plot(df, selected_year, selected_countries)\n",
    "\n",
    "# Callback for Time Series\n",
    "@app.callback(\n",
    "    Output('time-series', 'figure'),\n",
    "    [Input('country-dropdown', 'value'),\n",
    "     Input('map-metric-dropdown', 'value')]\n",
    ")\n",
    "def update_time_series(selected_countries, selected_metric):\n",
    "    return create_time_series(df, selected_countries, selected_metric, metrics)\n",
    "\n",
    "# Callback for Bar Chart\n",
    "@app.callback(\n",
    "    Output('bar-chart', 'figure'),\n",
    "    [Input('year-slider', 'value'),\n",
    "     Input('country-dropdown', 'value'),\n",
    "     Input('map-metric-dropdown', 'value')]\n",
    ")\n",
    "def update_bar_chart(selected_year, selected_countries, selected_metric):\n",
    "    return create_bar_chart(df, selected_year, selected_countries, selected_metric, metrics)"
   ]
  },
  {
   "cell_type": "code",
   "execution_count": 19,
   "id": "ab52d5650201018",
   "metadata": {
    "ExecuteTime": {
     "end_time": "2025-03-21T23:04:28.487614Z",
     "start_time": "2025-03-21T23:04:28.018566Z"
    }
   },
   "outputs": [
    {
     "name": "stderr",
     "output_type": "stream",
     "text": [
      "c:\\Users\\zacha\\DataspellProjects\\Credit_Card_Fraud_Detection\\venv\\Lib\\site-packages\\dash\\dash.py:582: UserWarning:\n",
      "\n",
      "JupyterDash is deprecated, use Dash instead.\n",
      "See https://dash.plotly.com/dash-in-jupyter for more details.\n",
      "\n"
     ]
    },
    {
     "data": {
      "text/html": [
       "\n",
       "        <iframe\n",
       "            width=\"100%\"\n",
       "            height=\"650\"\n",
       "            src=\"http://127.0.0.1:8050/\"\n",
       "            frameborder=\"0\"\n",
       "            allowfullscreen\n",
       "            \n",
       "        ></iframe>\n",
       "        "
      ],
      "text/plain": [
       "<IPython.lib.display.IFrame at 0x21af2499700>"
      ]
     },
     "metadata": {},
     "output_type": "display_data"
    }
   ],
   "source": [
    "# Run the Dashboard (for when you're ready to integrate everything)\n",
    "# Define the complete layout here\n",
    "# Create and run the dashboard using JupyterDash\n",
    "# This cell should only be run once\n",
    "from jupyter_dash import JupyterDash\n",
    "# Initialize a JupyterDash app\n",
    "app = JupyterDash(__name__, external_stylesheets=[dbc.themes.BOOTSTRAP])\n",
    "\n",
    "# Define the layout\n",
    "app.layout = dbc.Container([\n",
    "    # Header\n",
    "    dbc.Row([\n",
    "        dbc.Col([\n",
    "            html.H1(\"Climate Change, Economic Development, and CO2 Emissions Dashboard\"),\n",
    "            html.P(\"Explore relationships between GDP, population, CO2 emissions, and temperature anomalies\")\n",
    "        ])\n",
    "    ]),\n",
    "\n",
    "    # Controls\n",
    "    dbc.Row([\n",
    "        dbc.Col([\n",
    "            html.Label(\"Select Year:\"),\n",
    "            dcc.Slider(\n",
    "                id='year-slider',\n",
    "                min=min(years),\n",
    "                max=max(years),\n",
    "                value=sample_year,  # Use our sample year as default\n",
    "                marks={year: str(year) for year in range(min(years), max(years)+1, 15)},\n",
    "                step=10\n",
    "            )\n",
    "        ])\n",
    "    ]),\n",
    "\n",
    "    dbc.Row([\n",
    "        dbc.Col([\n",
    "            html.Label(\"Select Countries:\"),\n",
    "            dcc.Dropdown(\n",
    "                id='country-dropdown',\n",
    "                options=[{'label': country, 'value': country} for country in countries],\n",
    "                value=sample_countries,  # Default selection\n",
    "                multi=True\n",
    "            )\n",
    "        ], width=6),\n",
    "\n",
    "        dbc.Col([\n",
    "            html.Label(\"Select Metric:\"),\n",
    "            dcc.Dropdown(\n",
    "                id='map-metric-dropdown',\n",
    "                options=[{'label': label, 'value': key} for key, label in metrics.items()],\n",
    "                value=sample_metric  # Default value\n",
    "            )\n",
    "        ], width=6)\n",
    "    ]),\n",
    "\n",
    "    # Visualizations\n",
    "    dbc.Row([\n",
    "        dbc.Col([\n",
    "            html.H4(\"Global Distribution\"),\n",
    "            dcc.Graph(id='choropleth-map')\n",
    "        ], width=12)\n",
    "    ]),\n",
    "\n",
    "    dbc.Row([\n",
    "        dbc.Col([\n",
    "            html.H4(\"Relationship Analysis\"),\n",
    "            dcc.Graph(id='scatter-plot')\n",
    "        ], width=6),\n",
    "\n",
    "        dbc.Col([\n",
    "            html.H4(\"Historical Trends\"),\n",
    "            dcc.Graph(id='time-series')\n",
    "        ], width=6)\n",
    "    ]),\n",
    "\n",
    "    dbc.Row([\n",
    "        dbc.Col([\n",
    "            html.H4(\"Comparison by Country\"),\n",
    "            dcc.Graph(id='bar-chart')\n",
    "        ], width=12)\n",
    "    ])\n",
    "], fluid=True)\n",
    "\n",
    "# Define callbacks\n",
    "@app.callback(\n",
    "    Output('choropleth-map', 'figure'),\n",
    "    [Input('year-slider', 'value'),\n",
    "     Input('map-metric-dropdown', 'value')]\n",
    ")\n",
    "def update_map(selected_year, selected_metric):\n",
    "    return create_choropleth_map(df, selected_year, selected_metric, metrics)\n",
    "\n",
    "@app.callback(\n",
    "    Output('scatter-plot', 'figure'),\n",
    "    [Input('year-slider', 'value'),\n",
    "     Input('country-dropdown', 'value')]\n",
    ")\n",
    "def update_scatter(selected_year, selected_countries):\n",
    "    return create_scatter_plot(df, selected_year, selected_countries)\n",
    "\n",
    "@app.callback(\n",
    "    Output('time-series', 'figure'),\n",
    "    [Input('country-dropdown', 'value'),\n",
    "     Input('map-metric-dropdown', 'value')]\n",
    ")\n",
    "def update_time_series(selected_countries, selected_metric):\n",
    "    return create_time_series(df, selected_countries, selected_metric, metrics)\n",
    "\n",
    "@app.callback(\n",
    "    Output('bar-chart', 'figure'),\n",
    "    [Input('year-slider', 'value'),\n",
    "     Input('country-dropdown', 'value'),\n",
    "     Input('map-metric-dropdown', 'value')]\n",
    ")\n",
    "def update_bar_chart(selected_year, selected_countries, selected_metric):\n",
    "    return create_bar_chart(df, selected_year, selected_countries, selected_metric, metrics)\n",
    "\n",
    "# Run the app in JupyterDash mode\n",
    "app.run(mode='inline')  # Use 'inline', 'external', or 'jupyterlab' modes"
   ]
  }
 ],
 "metadata": {
  "kernelspec": {
   "display_name": "venv",
   "language": "python",
   "name": "python3"
  },
  "language_info": {
   "codemirror_mode": {
    "name": "ipython",
    "version": 3
   },
   "file_extension": ".py",
   "mimetype": "text/x-python",
   "name": "python",
   "nbconvert_exporter": "python",
   "pygments_lexer": "ipython3",
   "version": "3.12.3"
  }
 },
 "nbformat": 4,
 "nbformat_minor": 5
}
